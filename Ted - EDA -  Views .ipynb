{
 "cells": [
  {
   "cell_type": "code",
   "execution_count": 465,
   "metadata": {},
   "outputs": [],
   "source": [
    "import pandas as pd\n",
    "import numpy as np\n",
    "import datetime\n",
    "import seaborn as sns\n",
    "import matplotlib.pyplot as plt\n",
    "from sklearn.model_selection import train_test_split"
   ]
  },
  {
   "cell_type": "code",
   "execution_count": 630,
   "metadata": {},
   "outputs": [],
   "source": [
    "ted_main = pd.read_csv(r'D:\\Machine Learning\\Datasets\\ted-talks\\ted_main.csv')\n",
    "transcripts = pd.read_csv(r'D:\\Machine Learning\\Datasets\\ted-talks\\transcripts.csv')"
   ]
  },
  {
   "cell_type": "markdown",
   "metadata": {},
   "source": [
    "<p><b>Ted_main:</b></p>\n",
    "<ul>\n",
    "  <li> <b> comments </b> - The number of first level comments made on the talk </li>\n",
    "  <li> <b> description </b>  - A blurb of what the talk is about </li>\n",
    "  <li> <b> uration </b> -  The duration of the talk in seconds </li>\n",
    "  <li> <b> event </b> -  The TED/TEDx event where the talk took place </li>\n",
    "  <li> <b> film_date </b> -  The Unix timestamp of the filming </li>\n",
    "  <li> <b> languages </b> -  The number of languages in which the talk is available </li>\n",
    "  <li> <b> main_speaker </b> -  The first named speaker of the talk </li>\n",
    "  <li> <b> name </b> - The official name of the TED Talk. Includes the title and the speaker. </li>\n",
    "  <li> <b> num_speaker </b> - The number of speakers in the talk <br>\n",
    "  <li> <b> published_date </b> - The Unix timestamp for the publication of the talk on TED.com </li>\n",
    "  <li> <b> ratings </b> -  A stringified dictionary of the various ratings given to the talk (inspiring, fascinating, jaw dropping, etc.) </li>\n",
    "  <li> <b> related_talks </b>  A list of dictionaries of recommended talks to watch next </li>\n",
    "  <li> <b> speaker_occupation </b> - The occupation of the main speaker </li>\n",
    "  <li> <b> tags </b> - The themes associated with the talk </li>\n",
    "  <li> <b> title </b> - The title of the talk </li>\n",
    "  <li> <b> url </b> - The URL of the talk </li>\n",
    "  <li> <b> views </b> - The number of views on the talk </li>\n",
    "</ul>"
   ]
  },
  {
   "cell_type": "markdown",
   "metadata": {},
   "source": [
    "<p><b>transcripts:</b></p>\n",
    "<ul>\n",
    "  <li><b> transcript </b> - The official English transcript of the talk</li>\n",
    "  <li><b> url </b> - The URL of the talk <br></li>\n",
    "</ul>"
   ]
  },
  {
   "cell_type": "code",
   "execution_count": 631,
   "metadata": {},
   "outputs": [
    {
     "data": {
      "text/plain": [
       "(2550, 17)"
      ]
     },
     "execution_count": 631,
     "metadata": {},
     "output_type": "execute_result"
    }
   ],
   "source": [
    "ted_main.shape"
   ]
  },
  {
   "cell_type": "code",
   "execution_count": 632,
   "metadata": {},
   "outputs": [
    {
     "data": {
      "text/plain": [
       "(2467, 2)"
      ]
     },
     "execution_count": 632,
     "metadata": {},
     "output_type": "execute_result"
    }
   ],
   "source": [
    "transcripts.shape"
   ]
  },
  {
   "cell_type": "code",
   "execution_count": 633,
   "metadata": {
    "scrolled": false
   },
   "outputs": [
    {
     "data": {
      "text/html": [
       "<div>\n",
       "<style scoped>\n",
       "    .dataframe tbody tr th:only-of-type {\n",
       "        vertical-align: middle;\n",
       "    }\n",
       "\n",
       "    .dataframe tbody tr th {\n",
       "        vertical-align: top;\n",
       "    }\n",
       "\n",
       "    .dataframe thead th {\n",
       "        text-align: right;\n",
       "    }\n",
       "</style>\n",
       "<table border=\"1\" class=\"dataframe\">\n",
       "  <thead>\n",
       "    <tr style=\"text-align: right;\">\n",
       "      <th></th>\n",
       "      <th>comments</th>\n",
       "      <th>description</th>\n",
       "      <th>duration</th>\n",
       "      <th>event</th>\n",
       "      <th>film_date</th>\n",
       "      <th>languages</th>\n",
       "      <th>main_speaker</th>\n",
       "      <th>name</th>\n",
       "      <th>num_speaker</th>\n",
       "      <th>published_date</th>\n",
       "      <th>ratings</th>\n",
       "      <th>related_talks</th>\n",
       "      <th>speaker_occupation</th>\n",
       "      <th>tags</th>\n",
       "      <th>title</th>\n",
       "      <th>url</th>\n",
       "      <th>views</th>\n",
       "    </tr>\n",
       "  </thead>\n",
       "  <tbody>\n",
       "    <tr>\n",
       "      <th>0</th>\n",
       "      <td>4553</td>\n",
       "      <td>Sir Ken Robinson makes an entertaining and pro...</td>\n",
       "      <td>1164</td>\n",
       "      <td>TED2006</td>\n",
       "      <td>1140825600</td>\n",
       "      <td>60</td>\n",
       "      <td>Ken Robinson</td>\n",
       "      <td>Ken Robinson: Do schools kill creativity?</td>\n",
       "      <td>1</td>\n",
       "      <td>1151367060</td>\n",
       "      <td>[{'id': 7, 'name': 'Funny', 'count': 19645}, {...</td>\n",
       "      <td>[{'id': 865, 'hero': 'https://pe.tedcdn.com/im...</td>\n",
       "      <td>Author/educator</td>\n",
       "      <td>['children', 'creativity', 'culture', 'dance',...</td>\n",
       "      <td>Do schools kill creativity?</td>\n",
       "      <td>https://www.ted.com/talks/ken_robinson_says_sc...</td>\n",
       "      <td>47227110</td>\n",
       "    </tr>\n",
       "    <tr>\n",
       "      <th>1</th>\n",
       "      <td>265</td>\n",
       "      <td>With the same humor and humanity he exuded in ...</td>\n",
       "      <td>977</td>\n",
       "      <td>TED2006</td>\n",
       "      <td>1140825600</td>\n",
       "      <td>43</td>\n",
       "      <td>Al Gore</td>\n",
       "      <td>Al Gore: Averting the climate crisis</td>\n",
       "      <td>1</td>\n",
       "      <td>1151367060</td>\n",
       "      <td>[{'id': 7, 'name': 'Funny', 'count': 544}, {'i...</td>\n",
       "      <td>[{'id': 243, 'hero': 'https://pe.tedcdn.com/im...</td>\n",
       "      <td>Climate advocate</td>\n",
       "      <td>['alternative energy', 'cars', 'climate change...</td>\n",
       "      <td>Averting the climate crisis</td>\n",
       "      <td>https://www.ted.com/talks/al_gore_on_averting_...</td>\n",
       "      <td>3200520</td>\n",
       "    </tr>\n",
       "    <tr>\n",
       "      <th>2</th>\n",
       "      <td>124</td>\n",
       "      <td>New York Times columnist David Pogue takes aim...</td>\n",
       "      <td>1286</td>\n",
       "      <td>TED2006</td>\n",
       "      <td>1140739200</td>\n",
       "      <td>26</td>\n",
       "      <td>David Pogue</td>\n",
       "      <td>David Pogue: Simplicity sells</td>\n",
       "      <td>1</td>\n",
       "      <td>1151367060</td>\n",
       "      <td>[{'id': 7, 'name': 'Funny', 'count': 964}, {'i...</td>\n",
       "      <td>[{'id': 1725, 'hero': 'https://pe.tedcdn.com/i...</td>\n",
       "      <td>Technology columnist</td>\n",
       "      <td>['computers', 'entertainment', 'interface desi...</td>\n",
       "      <td>Simplicity sells</td>\n",
       "      <td>https://www.ted.com/talks/david_pogue_says_sim...</td>\n",
       "      <td>1636292</td>\n",
       "    </tr>\n",
       "    <tr>\n",
       "      <th>3</th>\n",
       "      <td>200</td>\n",
       "      <td>In an emotionally charged talk, MacArthur-winn...</td>\n",
       "      <td>1116</td>\n",
       "      <td>TED2006</td>\n",
       "      <td>1140912000</td>\n",
       "      <td>35</td>\n",
       "      <td>Majora Carter</td>\n",
       "      <td>Majora Carter: Greening the ghetto</td>\n",
       "      <td>1</td>\n",
       "      <td>1151367060</td>\n",
       "      <td>[{'id': 3, 'name': 'Courageous', 'count': 760}...</td>\n",
       "      <td>[{'id': 1041, 'hero': 'https://pe.tedcdn.com/i...</td>\n",
       "      <td>Activist for environmental justice</td>\n",
       "      <td>['MacArthur grant', 'activism', 'business', 'c...</td>\n",
       "      <td>Greening the ghetto</td>\n",
       "      <td>https://www.ted.com/talks/majora_carter_s_tale...</td>\n",
       "      <td>1697550</td>\n",
       "    </tr>\n",
       "    <tr>\n",
       "      <th>4</th>\n",
       "      <td>593</td>\n",
       "      <td>You've never seen data presented like this. Wi...</td>\n",
       "      <td>1190</td>\n",
       "      <td>TED2006</td>\n",
       "      <td>1140566400</td>\n",
       "      <td>48</td>\n",
       "      <td>Hans Rosling</td>\n",
       "      <td>Hans Rosling: The best stats you've ever seen</td>\n",
       "      <td>1</td>\n",
       "      <td>1151440680</td>\n",
       "      <td>[{'id': 9, 'name': 'Ingenious', 'count': 3202}...</td>\n",
       "      <td>[{'id': 2056, 'hero': 'https://pe.tedcdn.com/i...</td>\n",
       "      <td>Global health expert; data visionary</td>\n",
       "      <td>['Africa', 'Asia', 'Google', 'demo', 'economic...</td>\n",
       "      <td>The best stats you've ever seen</td>\n",
       "      <td>https://www.ted.com/talks/hans_rosling_shows_t...</td>\n",
       "      <td>12005869</td>\n",
       "    </tr>\n",
       "  </tbody>\n",
       "</table>\n",
       "</div>"
      ],
      "text/plain": [
       "   comments                                        description  duration  \\\n",
       "0      4553  Sir Ken Robinson makes an entertaining and pro...      1164   \n",
       "1       265  With the same humor and humanity he exuded in ...       977   \n",
       "2       124  New York Times columnist David Pogue takes aim...      1286   \n",
       "3       200  In an emotionally charged talk, MacArthur-winn...      1116   \n",
       "4       593  You've never seen data presented like this. Wi...      1190   \n",
       "\n",
       "     event   film_date  languages   main_speaker  \\\n",
       "0  TED2006  1140825600         60   Ken Robinson   \n",
       "1  TED2006  1140825600         43        Al Gore   \n",
       "2  TED2006  1140739200         26    David Pogue   \n",
       "3  TED2006  1140912000         35  Majora Carter   \n",
       "4  TED2006  1140566400         48   Hans Rosling   \n",
       "\n",
       "                                            name  num_speaker  published_date  \\\n",
       "0      Ken Robinson: Do schools kill creativity?            1      1151367060   \n",
       "1           Al Gore: Averting the climate crisis            1      1151367060   \n",
       "2                  David Pogue: Simplicity sells            1      1151367060   \n",
       "3             Majora Carter: Greening the ghetto            1      1151367060   \n",
       "4  Hans Rosling: The best stats you've ever seen            1      1151440680   \n",
       "\n",
       "                                             ratings  \\\n",
       "0  [{'id': 7, 'name': 'Funny', 'count': 19645}, {...   \n",
       "1  [{'id': 7, 'name': 'Funny', 'count': 544}, {'i...   \n",
       "2  [{'id': 7, 'name': 'Funny', 'count': 964}, {'i...   \n",
       "3  [{'id': 3, 'name': 'Courageous', 'count': 760}...   \n",
       "4  [{'id': 9, 'name': 'Ingenious', 'count': 3202}...   \n",
       "\n",
       "                                       related_talks  \\\n",
       "0  [{'id': 865, 'hero': 'https://pe.tedcdn.com/im...   \n",
       "1  [{'id': 243, 'hero': 'https://pe.tedcdn.com/im...   \n",
       "2  [{'id': 1725, 'hero': 'https://pe.tedcdn.com/i...   \n",
       "3  [{'id': 1041, 'hero': 'https://pe.tedcdn.com/i...   \n",
       "4  [{'id': 2056, 'hero': 'https://pe.tedcdn.com/i...   \n",
       "\n",
       "                     speaker_occupation  \\\n",
       "0                       Author/educator   \n",
       "1                      Climate advocate   \n",
       "2                  Technology columnist   \n",
       "3    Activist for environmental justice   \n",
       "4  Global health expert; data visionary   \n",
       "\n",
       "                                                tags  \\\n",
       "0  ['children', 'creativity', 'culture', 'dance',...   \n",
       "1  ['alternative energy', 'cars', 'climate change...   \n",
       "2  ['computers', 'entertainment', 'interface desi...   \n",
       "3  ['MacArthur grant', 'activism', 'business', 'c...   \n",
       "4  ['Africa', 'Asia', 'Google', 'demo', 'economic...   \n",
       "\n",
       "                             title  \\\n",
       "0      Do schools kill creativity?   \n",
       "1      Averting the climate crisis   \n",
       "2                 Simplicity sells   \n",
       "3              Greening the ghetto   \n",
       "4  The best stats you've ever seen   \n",
       "\n",
       "                                                 url     views  \n",
       "0  https://www.ted.com/talks/ken_robinson_says_sc...  47227110  \n",
       "1  https://www.ted.com/talks/al_gore_on_averting_...   3200520  \n",
       "2  https://www.ted.com/talks/david_pogue_says_sim...   1636292  \n",
       "3  https://www.ted.com/talks/majora_carter_s_tale...   1697550  \n",
       "4  https://www.ted.com/talks/hans_rosling_shows_t...  12005869  "
      ]
     },
     "execution_count": 633,
     "metadata": {},
     "output_type": "execute_result"
    }
   ],
   "source": [
    "ted_main.head()"
   ]
  },
  {
   "cell_type": "code",
   "execution_count": 468,
   "metadata": {},
   "outputs": [
    {
     "data": {
      "text/html": [
       "<div>\n",
       "<style scoped>\n",
       "    .dataframe tbody tr th:only-of-type {\n",
       "        vertical-align: middle;\n",
       "    }\n",
       "\n",
       "    .dataframe tbody tr th {\n",
       "        vertical-align: top;\n",
       "    }\n",
       "\n",
       "    .dataframe thead th {\n",
       "        text-align: right;\n",
       "    }\n",
       "</style>\n",
       "<table border=\"1\" class=\"dataframe\">\n",
       "  <thead>\n",
       "    <tr style=\"text-align: right;\">\n",
       "      <th></th>\n",
       "      <th>comments</th>\n",
       "      <th>description</th>\n",
       "      <th>duration</th>\n",
       "      <th>event</th>\n",
       "      <th>film_date</th>\n",
       "      <th>languages</th>\n",
       "      <th>main_speaker</th>\n",
       "      <th>name</th>\n",
       "      <th>num_speaker</th>\n",
       "      <th>published_date</th>\n",
       "      <th>ratings</th>\n",
       "      <th>related_talks</th>\n",
       "      <th>speaker_occupation</th>\n",
       "      <th>tags</th>\n",
       "      <th>title</th>\n",
       "      <th>url</th>\n",
       "      <th>views</th>\n",
       "    </tr>\n",
       "  </thead>\n",
       "  <tbody>\n",
       "    <tr>\n",
       "      <th>0</th>\n",
       "      <td>4553</td>\n",
       "      <td>Sir Ken Robinson makes an entertaining and pro...</td>\n",
       "      <td>1164</td>\n",
       "      <td>TED2006</td>\n",
       "      <td>1140825600</td>\n",
       "      <td>60</td>\n",
       "      <td>Ken Robinson</td>\n",
       "      <td>Ken Robinson: Do schools kill creativity?</td>\n",
       "      <td>1</td>\n",
       "      <td>1151367060</td>\n",
       "      <td>[{'id': 7, 'name': 'Funny', 'count': 19645}, {...</td>\n",
       "      <td>[{'id': 865, 'hero': 'https://pe.tedcdn.com/im...</td>\n",
       "      <td>Author/educator</td>\n",
       "      <td>['children', 'creativity', 'culture', 'dance',...</td>\n",
       "      <td>Do schools kill creativity?</td>\n",
       "      <td>https://www.ted.com/talks/ken_robinson_says_sc...</td>\n",
       "      <td>47227110</td>\n",
       "    </tr>\n",
       "    <tr>\n",
       "      <th>1346</th>\n",
       "      <td>2290</td>\n",
       "      <td>Body language affects how others see us, but i...</td>\n",
       "      <td>1262</td>\n",
       "      <td>TEDGlobal 2012</td>\n",
       "      <td>1340668800</td>\n",
       "      <td>51</td>\n",
       "      <td>Amy Cuddy</td>\n",
       "      <td>Amy Cuddy: Your body language may shape who yo...</td>\n",
       "      <td>1</td>\n",
       "      <td>1349103608</td>\n",
       "      <td>[{'id': 23, 'name': 'Jaw-dropping', 'count': 3...</td>\n",
       "      <td>[{'id': 605, 'hero': 'https://pe.tedcdn.com/im...</td>\n",
       "      <td>Social psychologist</td>\n",
       "      <td>['body language', 'brain', 'business', 'psycho...</td>\n",
       "      <td>Your body language may shape who you are</td>\n",
       "      <td>https://www.ted.com/talks/amy_cuddy_your_body_...</td>\n",
       "      <td>43155405</td>\n",
       "    </tr>\n",
       "    <tr>\n",
       "      <th>677</th>\n",
       "      <td>1930</td>\n",
       "      <td>Simon Sinek has a simple but powerful model fo...</td>\n",
       "      <td>1084</td>\n",
       "      <td>TEDxPuget Sound</td>\n",
       "      <td>1253145600</td>\n",
       "      <td>45</td>\n",
       "      <td>Simon Sinek</td>\n",
       "      <td>Simon Sinek: How great leaders inspire action</td>\n",
       "      <td>1</td>\n",
       "      <td>1272965460</td>\n",
       "      <td>[{'id': 21, 'name': 'Unconvincing', 'count': 9...</td>\n",
       "      <td>[{'id': 814, 'hero': 'https://pe.tedcdn.com/im...</td>\n",
       "      <td>Leadership expert</td>\n",
       "      <td>['TEDx', 'business', 'entrepreneur', 'leadersh...</td>\n",
       "      <td>How great leaders inspire action</td>\n",
       "      <td>https://www.ted.com/talks/simon_sinek_how_grea...</td>\n",
       "      <td>34309432</td>\n",
       "    </tr>\n",
       "    <tr>\n",
       "      <th>837</th>\n",
       "      <td>1927</td>\n",
       "      <td>Brené Brown studies human connection -- our ab...</td>\n",
       "      <td>1219</td>\n",
       "      <td>TEDxHouston</td>\n",
       "      <td>1275782400</td>\n",
       "      <td>52</td>\n",
       "      <td>Brené Brown</td>\n",
       "      <td>Brené Brown: The power of vulnerability</td>\n",
       "      <td>1</td>\n",
       "      <td>1293115500</td>\n",
       "      <td>[{'id': 10, 'name': 'Inspiring', 'count': 2144...</td>\n",
       "      <td>[{'id': 1391, 'hero': 'https://pe.tedcdn.com/i...</td>\n",
       "      <td>Vulnerability researcher</td>\n",
       "      <td>['TEDx', 'communication', 'culture', 'depressi...</td>\n",
       "      <td>The power of vulnerability</td>\n",
       "      <td>https://www.ted.com/talks/brene_brown_on_vulne...</td>\n",
       "      <td>31168150</td>\n",
       "    </tr>\n",
       "    <tr>\n",
       "      <th>452</th>\n",
       "      <td>354</td>\n",
       "      <td>\"Bonk\" author Mary Roach delves into obscure s...</td>\n",
       "      <td>1003</td>\n",
       "      <td>TED2009</td>\n",
       "      <td>1233878400</td>\n",
       "      <td>37</td>\n",
       "      <td>Mary Roach</td>\n",
       "      <td>Mary Roach: 10 things you didn't know about or...</td>\n",
       "      <td>1</td>\n",
       "      <td>1242781200</td>\n",
       "      <td>[{'id': 23, 'name': 'Jaw-dropping', 'count': 3...</td>\n",
       "      <td>[{'id': 16, 'hero': 'https://pe.tedcdn.com/ima...</td>\n",
       "      <td>Writer</td>\n",
       "      <td>['books', 'culture', 'history', 'humor', 'scie...</td>\n",
       "      <td>10 things you didn't know about orgasm</td>\n",
       "      <td>https://www.ted.com/talks/mary_roach_10_things...</td>\n",
       "      <td>22270883</td>\n",
       "    </tr>\n",
       "    <tr>\n",
       "      <th>1776</th>\n",
       "      <td>297</td>\n",
       "      <td>Have you ever felt like you're talking, but no...</td>\n",
       "      <td>598</td>\n",
       "      <td>TEDGlobal 2013</td>\n",
       "      <td>1370822400</td>\n",
       "      <td>45</td>\n",
       "      <td>Julian Treasure</td>\n",
       "      <td>Julian Treasure: How to speak so that people w...</td>\n",
       "      <td>1</td>\n",
       "      <td>1403879897</td>\n",
       "      <td>[{'id': 24, 'name': 'Persuasive', 'count': 267...</td>\n",
       "      <td>[{'id': 1200, 'hero': 'https://pe.tedcdn.com/i...</td>\n",
       "      <td>Sound consultant</td>\n",
       "      <td>['culture', 'sound', 'speech']</td>\n",
       "      <td>How to speak so that people want to listen</td>\n",
       "      <td>https://www.ted.com/talks/julian_treasure_how_...</td>\n",
       "      <td>21594632</td>\n",
       "    </tr>\n",
       "    <tr>\n",
       "      <th>201</th>\n",
       "      <td>2877</td>\n",
       "      <td>Jill Bolte Taylor got a research opportunity f...</td>\n",
       "      <td>1099</td>\n",
       "      <td>TED2008</td>\n",
       "      <td>1204070400</td>\n",
       "      <td>49</td>\n",
       "      <td>Jill Bolte Taylor</td>\n",
       "      <td>Jill Bolte Taylor: My stroke of insight</td>\n",
       "      <td>1</td>\n",
       "      <td>1205284200</td>\n",
       "      <td>[{'id': 22, 'name': 'Fascinating', 'count': 14...</td>\n",
       "      <td>[{'id': 184, 'hero': 'https://pe.tedcdn.com/im...</td>\n",
       "      <td>Neuroanatomist</td>\n",
       "      <td>['biology', 'brain', 'consciousness', 'global ...</td>\n",
       "      <td>My stroke of insight</td>\n",
       "      <td>https://www.ted.com/talks/jill_bolte_taylor_s_...</td>\n",
       "      <td>21190883</td>\n",
       "    </tr>\n",
       "    <tr>\n",
       "      <th>5</th>\n",
       "      <td>672</td>\n",
       "      <td>Tony Robbins discusses the \"invisible forces\" ...</td>\n",
       "      <td>1305</td>\n",
       "      <td>TED2006</td>\n",
       "      <td>1138838400</td>\n",
       "      <td>36</td>\n",
       "      <td>Tony Robbins</td>\n",
       "      <td>Tony Robbins: Why we do what we do</td>\n",
       "      <td>1</td>\n",
       "      <td>1151440680</td>\n",
       "      <td>[{'id': 7, 'name': 'Funny', 'count': 1102}, {'...</td>\n",
       "      <td>[{'id': 229, 'hero': 'https://pe.tedcdn.com/im...</td>\n",
       "      <td>Life coach; expert in leadership psychology</td>\n",
       "      <td>['business', 'culture', 'entertainment', 'goal...</td>\n",
       "      <td>Why we do what we do</td>\n",
       "      <td>https://www.ted.com/talks/tony_robbins_asks_wh...</td>\n",
       "      <td>20685401</td>\n",
       "    </tr>\n",
       "    <tr>\n",
       "      <th>2114</th>\n",
       "      <td>150</td>\n",
       "      <td>Suspicious emails: unclaimed insurance bonds, ...</td>\n",
       "      <td>588</td>\n",
       "      <td>TEDGlobal&gt;Geneva</td>\n",
       "      <td>1449532800</td>\n",
       "      <td>43</td>\n",
       "      <td>James Veitch</td>\n",
       "      <td>James Veitch: This is what happens when you re...</td>\n",
       "      <td>1</td>\n",
       "      <td>1452269020</td>\n",
       "      <td>[{'id': 7, 'name': 'Funny', 'count': 7731}, {'...</td>\n",
       "      <td>[{'id': 2236, 'hero': 'https://pe.tedcdn.com/i...</td>\n",
       "      <td>Comedian and writer</td>\n",
       "      <td>['comedy', 'communication', 'curiosity', 'humo...</td>\n",
       "      <td>This is what happens when you reply to spam email</td>\n",
       "      <td>https://www.ted.com/talks/james_veitch_this_is...</td>\n",
       "      <td>20475972</td>\n",
       "    </tr>\n",
       "    <tr>\n",
       "      <th>1416</th>\n",
       "      <td>846</td>\n",
       "      <td>Cameron Russell admits she won “a genetic lott...</td>\n",
       "      <td>577</td>\n",
       "      <td>TEDxMidAtlantic</td>\n",
       "      <td>1351296000</td>\n",
       "      <td>43</td>\n",
       "      <td>Cameron Russell</td>\n",
       "      <td>Cameron Russell: Looks aren't everything. Beli...</td>\n",
       "      <td>1</td>\n",
       "      <td>1358352354</td>\n",
       "      <td>[{'id': 11, 'name': 'Longwinded', 'count': 92}...</td>\n",
       "      <td>[{'id': 1438, 'hero': 'https://pe.tedcdn.com/i...</td>\n",
       "      <td>Model</td>\n",
       "      <td>['TEDx', 'beauty', 'culture', 'fashion', 'phot...</td>\n",
       "      <td>Looks aren't everything. Believe me, I'm a model.</td>\n",
       "      <td>https://www.ted.com/talks/cameron_russell_look...</td>\n",
       "      <td>19787465</td>\n",
       "    </tr>\n",
       "    <tr>\n",
       "      <th>500</th>\n",
       "      <td>1094</td>\n",
       "      <td>Career analyst Dan Pink examines the puzzle of...</td>\n",
       "      <td>1116</td>\n",
       "      <td>TEDGlobal 2009</td>\n",
       "      <td>1248393600</td>\n",
       "      <td>44</td>\n",
       "      <td>Dan Pink</td>\n",
       "      <td>Dan Pink: The puzzle of motivation</td>\n",
       "      <td>1</td>\n",
       "      <td>1251075600</td>\n",
       "      <td>[{'id': 22, 'name': 'Fascinating', 'count': 38...</td>\n",
       "      <td>[{'id': 548, 'hero': 'https://pe.tedcdn.com/im...</td>\n",
       "      <td>Career analyst</td>\n",
       "      <td>['brain', 'business', 'creativity', 'motivatio...</td>\n",
       "      <td>The puzzle of motivation</td>\n",
       "      <td>https://www.ted.com/talks/dan_pink_on_motivati...</td>\n",
       "      <td>18830983</td>\n",
       "    </tr>\n",
       "    <tr>\n",
       "      <th>1163</th>\n",
       "      <td>1155</td>\n",
       "      <td>In a culture where being social and outgoing a...</td>\n",
       "      <td>1144</td>\n",
       "      <td>TED2012</td>\n",
       "      <td>1330387200</td>\n",
       "      <td>44</td>\n",
       "      <td>Susan Cain</td>\n",
       "      <td>Susan Cain: The power of introverts</td>\n",
       "      <td>1</td>\n",
       "      <td>1330720092</td>\n",
       "      <td>[{'id': 24, 'name': 'Persuasive', 'count': 336...</td>\n",
       "      <td>[{'id': 1042, 'hero': 'https://pe.tedcdn.com/i...</td>\n",
       "      <td>Quiet revolutionary</td>\n",
       "      <td>['business', 'culture', 'introvert', 'psycholo...</td>\n",
       "      <td>The power of introverts</td>\n",
       "      <td>https://www.ted.com/talks/susan_cain_the_power...</td>\n",
       "      <td>17629275</td>\n",
       "    </tr>\n",
       "    <tr>\n",
       "      <th>1036</th>\n",
       "      <td>561</td>\n",
       "      <td>On any given day we're lied to from 10 to 200 ...</td>\n",
       "      <td>1130</td>\n",
       "      <td>TEDGlobal 2011</td>\n",
       "      <td>1310515200</td>\n",
       "      <td>39</td>\n",
       "      <td>Pamela Meyer</td>\n",
       "      <td>Pamela Meyer: How to spot a liar</td>\n",
       "      <td>1</td>\n",
       "      <td>1318516493</td>\n",
       "      <td>[{'id': 24, 'name': 'Persuasive', 'count': 131...</td>\n",
       "      <td>[{'id': 16, 'hero': 'https://pe.tedcdn.com/ima...</td>\n",
       "      <td>Lie detector</td>\n",
       "      <td>['culture', 'psychology', 'science', 'society']</td>\n",
       "      <td>How to spot a liar</td>\n",
       "      <td>https://www.ted.com/talks/pamela_meyer_how_to_...</td>\n",
       "      <td>16861578</td>\n",
       "    </tr>\n",
       "    <tr>\n",
       "      <th>2109</th>\n",
       "      <td>527</td>\n",
       "      <td>What keeps us happy and healthy as we go throu...</td>\n",
       "      <td>766</td>\n",
       "      <td>TEDxBeaconStreet</td>\n",
       "      <td>1447459200</td>\n",
       "      <td>43</td>\n",
       "      <td>Robert Waldinger</td>\n",
       "      <td>Robert Waldinger: What makes a good life? Less...</td>\n",
       "      <td>1</td>\n",
       "      <td>1450889841</td>\n",
       "      <td>[{'id': 10, 'name': 'Inspiring', 'count': 8590...</td>\n",
       "      <td>[{'id': 1669, 'hero': 'https://pe.tedcdn.com/i...</td>\n",
       "      <td>Psychiatrist, psychoanalyst and Zen priest</td>\n",
       "      <td>['TEDx', 'aging', 'data', 'friendship', 'happi...</td>\n",
       "      <td>What makes a good life? Lessons from the longe...</td>\n",
       "      <td>https://www.ted.com/talks/robert_waldinger_wha...</td>\n",
       "      <td>16601927</td>\n",
       "    </tr>\n",
       "    <tr>\n",
       "      <th>1129</th>\n",
       "      <td>754</td>\n",
       "      <td>We believe we should work hard in order to be ...</td>\n",
       "      <td>740</td>\n",
       "      <td>TEDxBloomington</td>\n",
       "      <td>1305072000</td>\n",
       "      <td>46</td>\n",
       "      <td>Shawn Achor</td>\n",
       "      <td>Shawn Achor: The happy secret to better work</td>\n",
       "      <td>1</td>\n",
       "      <td>1328112578</td>\n",
       "      <td>[{'id': 10, 'name': 'Inspiring', 'count': 1121...</td>\n",
       "      <td>[{'id': 366, 'hero': 'https://pe.tedcdn.com/im...</td>\n",
       "      <td>Psychologist</td>\n",
       "      <td>['TEDx', 'brain', 'business', 'cognitive scien...</td>\n",
       "      <td>The happy secret to better work</td>\n",
       "      <td>https://www.ted.com/talks/shawn_achor_the_happ...</td>\n",
       "      <td>16209727</td>\n",
       "    </tr>\n",
       "    <tr>\n",
       "      <th>553</th>\n",
       "      <td>1329</td>\n",
       "      <td>At TEDIndia, Pranav Mistry demos several tools...</td>\n",
       "      <td>830</td>\n",
       "      <td>TEDIndia 2009</td>\n",
       "      <td>1257379200</td>\n",
       "      <td>42</td>\n",
       "      <td>Pranav Mistry</td>\n",
       "      <td>Pranav Mistry: The thrilling potential of Sixt...</td>\n",
       "      <td>1</td>\n",
       "      <td>1258333200</td>\n",
       "      <td>[{'id': 23, 'name': 'Jaw-dropping', 'count': 8...</td>\n",
       "      <td>[{'id': 481, 'hero': 'https://pe.tedcdn.com/im...</td>\n",
       "      <td>Director of research, Samsung Research America</td>\n",
       "      <td>['demo', 'design', 'open-source', 'technology']</td>\n",
       "      <td>The thrilling potential of SixthSense technology</td>\n",
       "      <td>https://www.ted.com/talks/pranav_mistry_the_th...</td>\n",
       "      <td>16097077</td>\n",
       "    </tr>\n",
       "    <tr>\n",
       "      <th>596</th>\n",
       "      <td>296</td>\n",
       "      <td>In this highly personal talk from TEDMED, magi...</td>\n",
       "      <td>1219</td>\n",
       "      <td>TEDMED 2009</td>\n",
       "      <td>1256601600</td>\n",
       "      <td>34</td>\n",
       "      <td>David Blaine</td>\n",
       "      <td>David Blaine: How I held my breath for 17 minutes</td>\n",
       "      <td>1</td>\n",
       "      <td>1263889320</td>\n",
       "      <td>[{'id': 22, 'name': 'Fascinating', 'count': 91...</td>\n",
       "      <td>[{'id': 310, 'hero': 'https://pe.tedcdn.com/im...</td>\n",
       "      <td>Illusionist, endurance artist</td>\n",
       "      <td>['biology', 'magic', 'medicine', 'performance']</td>\n",
       "      <td>How I held my breath for 17 minutes</td>\n",
       "      <td>https://www.ted.com/talks/david_blaine_how_i_h...</td>\n",
       "      <td>15601385</td>\n",
       "    </tr>\n",
       "    <tr>\n",
       "      <th>1579</th>\n",
       "      <td>285</td>\n",
       "      <td>Hailed as the greatest pickpocket in the world...</td>\n",
       "      <td>527</td>\n",
       "      <td>TEDGlobal 2013</td>\n",
       "      <td>1370995200</td>\n",
       "      <td>37</td>\n",
       "      <td>Apollo Robbins</td>\n",
       "      <td>Apollo Robbins: The art of misdirection</td>\n",
       "      <td>1</td>\n",
       "      <td>1379084559</td>\n",
       "      <td>[{'id': 24, 'name': 'Persuasive', 'count': 418...</td>\n",
       "      <td>[{'id': 1496, 'hero': 'https://pe.tedcdn.com/i...</td>\n",
       "      <td>Gentleman thief</td>\n",
       "      <td>['crime', 'entertainment']</td>\n",
       "      <td>The art of misdirection</td>\n",
       "      <td>https://www.ted.com/talks/apollo_robbins_the_a...</td>\n",
       "      <td>15283242</td>\n",
       "    </tr>\n",
       "    <tr>\n",
       "      <th>2161</th>\n",
       "      <td>310</td>\n",
       "      <td>Tim Urban knows that procrastination doesn't m...</td>\n",
       "      <td>843</td>\n",
       "      <td>TED2016</td>\n",
       "      <td>1455580800</td>\n",
       "      <td>40</td>\n",
       "      <td>Tim Urban</td>\n",
       "      <td>Tim Urban: Inside the mind of a master procras...</td>\n",
       "      <td>1</td>\n",
       "      <td>1458067019</td>\n",
       "      <td>[{'id': 3, 'name': 'Courageous', 'count': 1026...</td>\n",
       "      <td>[{'id': 1993, 'hero': 'https://pe.tedcdn.com/i...</td>\n",
       "      <td>Blogger</td>\n",
       "      <td>['Internet', 'brain', 'choice', 'comedy', 'dec...</td>\n",
       "      <td>Inside the mind of a master procrastinator</td>\n",
       "      <td>https://www.ted.com/talks/tim_urban_inside_the...</td>\n",
       "      <td>14745406</td>\n",
       "    </tr>\n",
       "    <tr>\n",
       "      <th>29</th>\n",
       "      <td>970</td>\n",
       "      <td>Dan Gilbert, author of \"Stumbling on Happiness...</td>\n",
       "      <td>1276</td>\n",
       "      <td>TED2004</td>\n",
       "      <td>1075680000</td>\n",
       "      <td>43</td>\n",
       "      <td>Dan Gilbert</td>\n",
       "      <td>Dan Gilbert: The surprising science of happiness</td>\n",
       "      <td>1</td>\n",
       "      <td>1159229460</td>\n",
       "      <td>[{'id': 7, 'name': 'Funny', 'count': 1728}, {'...</td>\n",
       "      <td>[{'id': 944, 'hero': 'https://pe.tedcdn.com/im...</td>\n",
       "      <td>Psychologist; happiness expert</td>\n",
       "      <td>['TED Brain Trust', 'brain', 'choice', 'cultur...</td>\n",
       "      <td>The surprising science of happiness</td>\n",
       "      <td>https://www.ted.com/talks/dan_gilbert_asks_why...</td>\n",
       "      <td>14689301</td>\n",
       "    </tr>\n",
       "  </tbody>\n",
       "</table>\n",
       "</div>"
      ],
      "text/plain": [
       "      comments                                        description  duration  \\\n",
       "0         4553  Sir Ken Robinson makes an entertaining and pro...      1164   \n",
       "1346      2290  Body language affects how others see us, but i...      1262   \n",
       "677       1930  Simon Sinek has a simple but powerful model fo...      1084   \n",
       "837       1927  Brené Brown studies human connection -- our ab...      1219   \n",
       "452        354  \"Bonk\" author Mary Roach delves into obscure s...      1003   \n",
       "1776       297  Have you ever felt like you're talking, but no...       598   \n",
       "201       2877  Jill Bolte Taylor got a research opportunity f...      1099   \n",
       "5          672  Tony Robbins discusses the \"invisible forces\" ...      1305   \n",
       "2114       150  Suspicious emails: unclaimed insurance bonds, ...       588   \n",
       "1416       846  Cameron Russell admits she won “a genetic lott...       577   \n",
       "500       1094  Career analyst Dan Pink examines the puzzle of...      1116   \n",
       "1163      1155  In a culture where being social and outgoing a...      1144   \n",
       "1036       561  On any given day we're lied to from 10 to 200 ...      1130   \n",
       "2109       527  What keeps us happy and healthy as we go throu...       766   \n",
       "1129       754  We believe we should work hard in order to be ...       740   \n",
       "553       1329  At TEDIndia, Pranav Mistry demos several tools...       830   \n",
       "596        296  In this highly personal talk from TEDMED, magi...      1219   \n",
       "1579       285  Hailed as the greatest pickpocket in the world...       527   \n",
       "2161       310  Tim Urban knows that procrastination doesn't m...       843   \n",
       "29         970  Dan Gilbert, author of \"Stumbling on Happiness...      1276   \n",
       "\n",
       "                 event   film_date  languages       main_speaker  \\\n",
       "0              TED2006  1140825600         60       Ken Robinson   \n",
       "1346    TEDGlobal 2012  1340668800         51          Amy Cuddy   \n",
       "677   TEDxPuget Sound   1253145600         45        Simon Sinek   \n",
       "837        TEDxHouston  1275782400         52        Brené Brown   \n",
       "452            TED2009  1233878400         37         Mary Roach   \n",
       "1776    TEDGlobal 2013  1370822400         45    Julian Treasure   \n",
       "201            TED2008  1204070400         49  Jill Bolte Taylor   \n",
       "5              TED2006  1138838400         36       Tony Robbins   \n",
       "2114  TEDGlobal>Geneva  1449532800         43       James Veitch   \n",
       "1416   TEDxMidAtlantic  1351296000         43    Cameron Russell   \n",
       "500     TEDGlobal 2009  1248393600         44           Dan Pink   \n",
       "1163           TED2012  1330387200         44         Susan Cain   \n",
       "1036    TEDGlobal 2011  1310515200         39       Pamela Meyer   \n",
       "2109  TEDxBeaconStreet  1447459200         43   Robert Waldinger   \n",
       "1129   TEDxBloomington  1305072000         46        Shawn Achor   \n",
       "553      TEDIndia 2009  1257379200         42      Pranav Mistry   \n",
       "596        TEDMED 2009  1256601600         34       David Blaine   \n",
       "1579    TEDGlobal 2013  1370995200         37     Apollo Robbins   \n",
       "2161           TED2016  1455580800         40          Tim Urban   \n",
       "29             TED2004  1075680000         43        Dan Gilbert   \n",
       "\n",
       "                                                   name  num_speaker  \\\n",
       "0             Ken Robinson: Do schools kill creativity?            1   \n",
       "1346  Amy Cuddy: Your body language may shape who yo...            1   \n",
       "677       Simon Sinek: How great leaders inspire action            1   \n",
       "837             Brené Brown: The power of vulnerability            1   \n",
       "452   Mary Roach: 10 things you didn't know about or...            1   \n",
       "1776  Julian Treasure: How to speak so that people w...            1   \n",
       "201             Jill Bolte Taylor: My stroke of insight            1   \n",
       "5                    Tony Robbins: Why we do what we do            1   \n",
       "2114  James Veitch: This is what happens when you re...            1   \n",
       "1416  Cameron Russell: Looks aren't everything. Beli...            1   \n",
       "500                  Dan Pink: The puzzle of motivation            1   \n",
       "1163                Susan Cain: The power of introverts            1   \n",
       "1036                   Pamela Meyer: How to spot a liar            1   \n",
       "2109  Robert Waldinger: What makes a good life? Less...            1   \n",
       "1129       Shawn Achor: The happy secret to better work            1   \n",
       "553   Pranav Mistry: The thrilling potential of Sixt...            1   \n",
       "596   David Blaine: How I held my breath for 17 minutes            1   \n",
       "1579            Apollo Robbins: The art of misdirection            1   \n",
       "2161  Tim Urban: Inside the mind of a master procras...            1   \n",
       "29     Dan Gilbert: The surprising science of happiness            1   \n",
       "\n",
       "      published_date                                            ratings  \\\n",
       "0         1151367060  [{'id': 7, 'name': 'Funny', 'count': 19645}, {...   \n",
       "1346      1349103608  [{'id': 23, 'name': 'Jaw-dropping', 'count': 3...   \n",
       "677       1272965460  [{'id': 21, 'name': 'Unconvincing', 'count': 9...   \n",
       "837       1293115500  [{'id': 10, 'name': 'Inspiring', 'count': 2144...   \n",
       "452       1242781200  [{'id': 23, 'name': 'Jaw-dropping', 'count': 3...   \n",
       "1776      1403879897  [{'id': 24, 'name': 'Persuasive', 'count': 267...   \n",
       "201       1205284200  [{'id': 22, 'name': 'Fascinating', 'count': 14...   \n",
       "5         1151440680  [{'id': 7, 'name': 'Funny', 'count': 1102}, {'...   \n",
       "2114      1452269020  [{'id': 7, 'name': 'Funny', 'count': 7731}, {'...   \n",
       "1416      1358352354  [{'id': 11, 'name': 'Longwinded', 'count': 92}...   \n",
       "500       1251075600  [{'id': 22, 'name': 'Fascinating', 'count': 38...   \n",
       "1163      1330720092  [{'id': 24, 'name': 'Persuasive', 'count': 336...   \n",
       "1036      1318516493  [{'id': 24, 'name': 'Persuasive', 'count': 131...   \n",
       "2109      1450889841  [{'id': 10, 'name': 'Inspiring', 'count': 8590...   \n",
       "1129      1328112578  [{'id': 10, 'name': 'Inspiring', 'count': 1121...   \n",
       "553       1258333200  [{'id': 23, 'name': 'Jaw-dropping', 'count': 8...   \n",
       "596       1263889320  [{'id': 22, 'name': 'Fascinating', 'count': 91...   \n",
       "1579      1379084559  [{'id': 24, 'name': 'Persuasive', 'count': 418...   \n",
       "2161      1458067019  [{'id': 3, 'name': 'Courageous', 'count': 1026...   \n",
       "29        1159229460  [{'id': 7, 'name': 'Funny', 'count': 1728}, {'...   \n",
       "\n",
       "                                          related_talks  \\\n",
       "0     [{'id': 865, 'hero': 'https://pe.tedcdn.com/im...   \n",
       "1346  [{'id': 605, 'hero': 'https://pe.tedcdn.com/im...   \n",
       "677   [{'id': 814, 'hero': 'https://pe.tedcdn.com/im...   \n",
       "837   [{'id': 1391, 'hero': 'https://pe.tedcdn.com/i...   \n",
       "452   [{'id': 16, 'hero': 'https://pe.tedcdn.com/ima...   \n",
       "1776  [{'id': 1200, 'hero': 'https://pe.tedcdn.com/i...   \n",
       "201   [{'id': 184, 'hero': 'https://pe.tedcdn.com/im...   \n",
       "5     [{'id': 229, 'hero': 'https://pe.tedcdn.com/im...   \n",
       "2114  [{'id': 2236, 'hero': 'https://pe.tedcdn.com/i...   \n",
       "1416  [{'id': 1438, 'hero': 'https://pe.tedcdn.com/i...   \n",
       "500   [{'id': 548, 'hero': 'https://pe.tedcdn.com/im...   \n",
       "1163  [{'id': 1042, 'hero': 'https://pe.tedcdn.com/i...   \n",
       "1036  [{'id': 16, 'hero': 'https://pe.tedcdn.com/ima...   \n",
       "2109  [{'id': 1669, 'hero': 'https://pe.tedcdn.com/i...   \n",
       "1129  [{'id': 366, 'hero': 'https://pe.tedcdn.com/im...   \n",
       "553   [{'id': 481, 'hero': 'https://pe.tedcdn.com/im...   \n",
       "596   [{'id': 310, 'hero': 'https://pe.tedcdn.com/im...   \n",
       "1579  [{'id': 1496, 'hero': 'https://pe.tedcdn.com/i...   \n",
       "2161  [{'id': 1993, 'hero': 'https://pe.tedcdn.com/i...   \n",
       "29    [{'id': 944, 'hero': 'https://pe.tedcdn.com/im...   \n",
       "\n",
       "                                  speaker_occupation  \\\n",
       "0                                    Author/educator   \n",
       "1346                             Social psychologist   \n",
       "677                                Leadership expert   \n",
       "837                         Vulnerability researcher   \n",
       "452                                           Writer   \n",
       "1776                                Sound consultant   \n",
       "201                                   Neuroanatomist   \n",
       "5        Life coach; expert in leadership psychology   \n",
       "2114                             Comedian and writer   \n",
       "1416                                           Model   \n",
       "500                                   Career analyst   \n",
       "1163                             Quiet revolutionary   \n",
       "1036                                    Lie detector   \n",
       "2109      Psychiatrist, psychoanalyst and Zen priest   \n",
       "1129                                    Psychologist   \n",
       "553   Director of research, Samsung Research America   \n",
       "596                    Illusionist, endurance artist   \n",
       "1579                                 Gentleman thief   \n",
       "2161                                         Blogger   \n",
       "29                    Psychologist; happiness expert   \n",
       "\n",
       "                                                   tags  \\\n",
       "0     ['children', 'creativity', 'culture', 'dance',...   \n",
       "1346  ['body language', 'brain', 'business', 'psycho...   \n",
       "677   ['TEDx', 'business', 'entrepreneur', 'leadersh...   \n",
       "837   ['TEDx', 'communication', 'culture', 'depressi...   \n",
       "452   ['books', 'culture', 'history', 'humor', 'scie...   \n",
       "1776                     ['culture', 'sound', 'speech']   \n",
       "201   ['biology', 'brain', 'consciousness', 'global ...   \n",
       "5     ['business', 'culture', 'entertainment', 'goal...   \n",
       "2114  ['comedy', 'communication', 'curiosity', 'humo...   \n",
       "1416  ['TEDx', 'beauty', 'culture', 'fashion', 'phot...   \n",
       "500   ['brain', 'business', 'creativity', 'motivatio...   \n",
       "1163  ['business', 'culture', 'introvert', 'psycholo...   \n",
       "1036    ['culture', 'psychology', 'science', 'society']   \n",
       "2109  ['TEDx', 'aging', 'data', 'friendship', 'happi...   \n",
       "1129  ['TEDx', 'brain', 'business', 'cognitive scien...   \n",
       "553     ['demo', 'design', 'open-source', 'technology']   \n",
       "596     ['biology', 'magic', 'medicine', 'performance']   \n",
       "1579                         ['crime', 'entertainment']   \n",
       "2161  ['Internet', 'brain', 'choice', 'comedy', 'dec...   \n",
       "29    ['TED Brain Trust', 'brain', 'choice', 'cultur...   \n",
       "\n",
       "                                                  title  \\\n",
       "0                           Do schools kill creativity?   \n",
       "1346           Your body language may shape who you are   \n",
       "677                    How great leaders inspire action   \n",
       "837                          The power of vulnerability   \n",
       "452              10 things you didn't know about orgasm   \n",
       "1776         How to speak so that people want to listen   \n",
       "201                                My stroke of insight   \n",
       "5                                  Why we do what we do   \n",
       "2114  This is what happens when you reply to spam email   \n",
       "1416  Looks aren't everything. Believe me, I'm a model.   \n",
       "500                            The puzzle of motivation   \n",
       "1163                            The power of introverts   \n",
       "1036                                 How to spot a liar   \n",
       "2109  What makes a good life? Lessons from the longe...   \n",
       "1129                    The happy secret to better work   \n",
       "553    The thrilling potential of SixthSense technology   \n",
       "596                 How I held my breath for 17 minutes   \n",
       "1579                            The art of misdirection   \n",
       "2161         Inside the mind of a master procrastinator   \n",
       "29                  The surprising science of happiness   \n",
       "\n",
       "                                                    url     views  \n",
       "0     https://www.ted.com/talks/ken_robinson_says_sc...  47227110  \n",
       "1346  https://www.ted.com/talks/amy_cuddy_your_body_...  43155405  \n",
       "677   https://www.ted.com/talks/simon_sinek_how_grea...  34309432  \n",
       "837   https://www.ted.com/talks/brene_brown_on_vulne...  31168150  \n",
       "452   https://www.ted.com/talks/mary_roach_10_things...  22270883  \n",
       "1776  https://www.ted.com/talks/julian_treasure_how_...  21594632  \n",
       "201   https://www.ted.com/talks/jill_bolte_taylor_s_...  21190883  \n",
       "5     https://www.ted.com/talks/tony_robbins_asks_wh...  20685401  \n",
       "2114  https://www.ted.com/talks/james_veitch_this_is...  20475972  \n",
       "1416  https://www.ted.com/talks/cameron_russell_look...  19787465  \n",
       "500   https://www.ted.com/talks/dan_pink_on_motivati...  18830983  \n",
       "1163  https://www.ted.com/talks/susan_cain_the_power...  17629275  \n",
       "1036  https://www.ted.com/talks/pamela_meyer_how_to_...  16861578  \n",
       "2109  https://www.ted.com/talks/robert_waldinger_wha...  16601927  \n",
       "1129  https://www.ted.com/talks/shawn_achor_the_happ...  16209727  \n",
       "553   https://www.ted.com/talks/pranav_mistry_the_th...  16097077  \n",
       "596   https://www.ted.com/talks/david_blaine_how_i_h...  15601385  \n",
       "1579  https://www.ted.com/talks/apollo_robbins_the_a...  15283242  \n",
       "2161  https://www.ted.com/talks/tim_urban_inside_the...  14745406  \n",
       "29    https://www.ted.com/talks/dan_gilbert_asks_why...  14689301  "
      ]
     },
     "execution_count": 468,
     "metadata": {},
     "output_type": "execute_result"
    }
   ],
   "source": [
    "ted_main.sort_values('views', ascending=False)[:20]"
   ]
  },
  {
   "cell_type": "code",
   "execution_count": 469,
   "metadata": {},
   "outputs": [
    {
     "data": {
      "text/html": [
       "<div>\n",
       "<style scoped>\n",
       "    .dataframe tbody tr th:only-of-type {\n",
       "        vertical-align: middle;\n",
       "    }\n",
       "\n",
       "    .dataframe tbody tr th {\n",
       "        vertical-align: top;\n",
       "    }\n",
       "\n",
       "    .dataframe thead th {\n",
       "        text-align: right;\n",
       "    }\n",
       "</style>\n",
       "<table border=\"1\" class=\"dataframe\">\n",
       "  <thead>\n",
       "    <tr style=\"text-align: right;\">\n",
       "      <th></th>\n",
       "      <th>comments</th>\n",
       "      <th>duration</th>\n",
       "      <th>film_date</th>\n",
       "      <th>languages</th>\n",
       "      <th>num_speaker</th>\n",
       "      <th>published_date</th>\n",
       "      <th>views</th>\n",
       "    </tr>\n",
       "  </thead>\n",
       "  <tbody>\n",
       "    <tr>\n",
       "      <th>count</th>\n",
       "      <td>2550.000000</td>\n",
       "      <td>2550.000000</td>\n",
       "      <td>2.550000e+03</td>\n",
       "      <td>2550.000000</td>\n",
       "      <td>2550.000000</td>\n",
       "      <td>2.550000e+03</td>\n",
       "      <td>2.550000e+03</td>\n",
       "    </tr>\n",
       "    <tr>\n",
       "      <th>mean</th>\n",
       "      <td>191.562353</td>\n",
       "      <td>826.510196</td>\n",
       "      <td>1.321928e+09</td>\n",
       "      <td>27.326275</td>\n",
       "      <td>1.028235</td>\n",
       "      <td>1.343525e+09</td>\n",
       "      <td>1.698297e+06</td>\n",
       "    </tr>\n",
       "    <tr>\n",
       "      <th>std</th>\n",
       "      <td>282.315223</td>\n",
       "      <td>374.009138</td>\n",
       "      <td>1.197391e+08</td>\n",
       "      <td>9.563452</td>\n",
       "      <td>0.207705</td>\n",
       "      <td>9.464009e+07</td>\n",
       "      <td>2.498479e+06</td>\n",
       "    </tr>\n",
       "    <tr>\n",
       "      <th>min</th>\n",
       "      <td>2.000000</td>\n",
       "      <td>135.000000</td>\n",
       "      <td>7.464960e+07</td>\n",
       "      <td>0.000000</td>\n",
       "      <td>1.000000</td>\n",
       "      <td>1.151367e+09</td>\n",
       "      <td>5.044300e+04</td>\n",
       "    </tr>\n",
       "    <tr>\n",
       "      <th>25%</th>\n",
       "      <td>63.000000</td>\n",
       "      <td>577.000000</td>\n",
       "      <td>1.257466e+09</td>\n",
       "      <td>23.000000</td>\n",
       "      <td>1.000000</td>\n",
       "      <td>1.268463e+09</td>\n",
       "      <td>7.557928e+05</td>\n",
       "    </tr>\n",
       "    <tr>\n",
       "      <th>50%</th>\n",
       "      <td>118.000000</td>\n",
       "      <td>848.000000</td>\n",
       "      <td>1.333238e+09</td>\n",
       "      <td>28.000000</td>\n",
       "      <td>1.000000</td>\n",
       "      <td>1.340935e+09</td>\n",
       "      <td>1.124524e+06</td>\n",
       "    </tr>\n",
       "    <tr>\n",
       "      <th>75%</th>\n",
       "      <td>221.750000</td>\n",
       "      <td>1046.750000</td>\n",
       "      <td>1.412964e+09</td>\n",
       "      <td>33.000000</td>\n",
       "      <td>1.000000</td>\n",
       "      <td>1.423432e+09</td>\n",
       "      <td>1.700760e+06</td>\n",
       "    </tr>\n",
       "    <tr>\n",
       "      <th>max</th>\n",
       "      <td>6404.000000</td>\n",
       "      <td>5256.000000</td>\n",
       "      <td>1.503792e+09</td>\n",
       "      <td>72.000000</td>\n",
       "      <td>5.000000</td>\n",
       "      <td>1.506092e+09</td>\n",
       "      <td>4.722711e+07</td>\n",
       "    </tr>\n",
       "  </tbody>\n",
       "</table>\n",
       "</div>"
      ],
      "text/plain": [
       "          comments     duration     film_date    languages  num_speaker  \\\n",
       "count  2550.000000  2550.000000  2.550000e+03  2550.000000  2550.000000   \n",
       "mean    191.562353   826.510196  1.321928e+09    27.326275     1.028235   \n",
       "std     282.315223   374.009138  1.197391e+08     9.563452     0.207705   \n",
       "min       2.000000   135.000000  7.464960e+07     0.000000     1.000000   \n",
       "25%      63.000000   577.000000  1.257466e+09    23.000000     1.000000   \n",
       "50%     118.000000   848.000000  1.333238e+09    28.000000     1.000000   \n",
       "75%     221.750000  1046.750000  1.412964e+09    33.000000     1.000000   \n",
       "max    6404.000000  5256.000000  1.503792e+09    72.000000     5.000000   \n",
       "\n",
       "       published_date         views  \n",
       "count    2.550000e+03  2.550000e+03  \n",
       "mean     1.343525e+09  1.698297e+06  \n",
       "std      9.464009e+07  2.498479e+06  \n",
       "min      1.151367e+09  5.044300e+04  \n",
       "25%      1.268463e+09  7.557928e+05  \n",
       "50%      1.340935e+09  1.124524e+06  \n",
       "75%      1.423432e+09  1.700760e+06  \n",
       "max      1.506092e+09  4.722711e+07  "
      ]
     },
     "execution_count": 469,
     "metadata": {},
     "output_type": "execute_result"
    }
   ],
   "source": [
    "ted_main.describe()"
   ]
  },
  {
   "cell_type": "code",
   "execution_count": 470,
   "metadata": {},
   "outputs": [
    {
     "data": {
      "text/plain": [
       "comments              0\n",
       "description           0\n",
       "duration              0\n",
       "event                 0\n",
       "film_date             0\n",
       "languages             0\n",
       "main_speaker          0\n",
       "name                  0\n",
       "num_speaker           0\n",
       "published_date        0\n",
       "ratings               0\n",
       "related_talks         0\n",
       "speaker_occupation    6\n",
       "tags                  0\n",
       "title                 0\n",
       "url                   0\n",
       "views                 0\n",
       "dtype: int64"
      ]
     },
     "execution_count": 470,
     "metadata": {},
     "output_type": "execute_result"
    }
   ],
   "source": [
    "ted_main.isnull().sum()"
   ]
  },
  {
   "cell_type": "code",
   "execution_count": 471,
   "metadata": {
    "scrolled": true
   },
   "outputs": [
    {
     "data": {
      "text/html": [
       "<div>\n",
       "<style scoped>\n",
       "    .dataframe tbody tr th:only-of-type {\n",
       "        vertical-align: middle;\n",
       "    }\n",
       "\n",
       "    .dataframe tbody tr th {\n",
       "        vertical-align: top;\n",
       "    }\n",
       "\n",
       "    .dataframe thead th {\n",
       "        text-align: right;\n",
       "    }\n",
       "</style>\n",
       "<table border=\"1\" class=\"dataframe\">\n",
       "  <thead>\n",
       "    <tr style=\"text-align: right;\">\n",
       "      <th></th>\n",
       "      <th>comments</th>\n",
       "      <th>description</th>\n",
       "      <th>duration</th>\n",
       "      <th>event</th>\n",
       "      <th>film_date</th>\n",
       "      <th>languages</th>\n",
       "      <th>main_speaker</th>\n",
       "      <th>name</th>\n",
       "      <th>num_speaker</th>\n",
       "      <th>published_date</th>\n",
       "      <th>ratings</th>\n",
       "      <th>related_talks</th>\n",
       "      <th>speaker_occupation</th>\n",
       "      <th>tags</th>\n",
       "      <th>title</th>\n",
       "      <th>url</th>\n",
       "      <th>views</th>\n",
       "    </tr>\n",
       "  </thead>\n",
       "  <tbody>\n",
       "    <tr>\n",
       "      <th>1113</th>\n",
       "      <td>145</td>\n",
       "      <td>After a crisis, how can we tell if water is sa...</td>\n",
       "      <td>217</td>\n",
       "      <td>TEDGlobal 2011</td>\n",
       "      <td>1310601600</td>\n",
       "      <td>38</td>\n",
       "      <td>Sonaar Luthra</td>\n",
       "      <td>Sonaar Luthra: Meet the Water Canary</td>\n",
       "      <td>1</td>\n",
       "      <td>1326731605</td>\n",
       "      <td>[{'id': 10, 'name': 'Inspiring', 'count': 73},...</td>\n",
       "      <td>[{'id': 523, 'hero': 'https://pe.tedcdn.com/im...</td>\n",
       "      <td>NaN</td>\n",
       "      <td>['TED Fellows', 'design', 'global development'...</td>\n",
       "      <td>Meet the Water Canary</td>\n",
       "      <td>https://www.ted.com/talks/sonaar_luthra_meet_t...</td>\n",
       "      <td>353749</td>\n",
       "    </tr>\n",
       "    <tr>\n",
       "      <th>1192</th>\n",
       "      <td>122</td>\n",
       "      <td>The Pirate Party fights for transparency, anon...</td>\n",
       "      <td>1097</td>\n",
       "      <td>TEDxObserver</td>\n",
       "      <td>1331424000</td>\n",
       "      <td>10</td>\n",
       "      <td>Rick Falkvinge</td>\n",
       "      <td>Rick Falkvinge: I am a pirate</td>\n",
       "      <td>1</td>\n",
       "      <td>1333289675</td>\n",
       "      <td>[{'id': 8, 'name': 'Informative', 'count': 156...</td>\n",
       "      <td>[{'id': 1329, 'hero': 'https://pe.tedcdn.com/i...</td>\n",
       "      <td>NaN</td>\n",
       "      <td>['Internet', 'TEDx', 'global issues', 'politic...</td>\n",
       "      <td>I am a pirate</td>\n",
       "      <td>https://www.ted.com/talks/rick_falkvinge_i_am_...</td>\n",
       "      <td>181010</td>\n",
       "    </tr>\n",
       "    <tr>\n",
       "      <th>1220</th>\n",
       "      <td>257</td>\n",
       "      <td>As you surf the Web, information is being coll...</td>\n",
       "      <td>399</td>\n",
       "      <td>TED2012</td>\n",
       "      <td>1330473600</td>\n",
       "      <td>32</td>\n",
       "      <td>Gary Kovacs</td>\n",
       "      <td>Gary Kovacs: Tracking our online trackers</td>\n",
       "      <td>1</td>\n",
       "      <td>1336057219</td>\n",
       "      <td>[{'id': 23, 'name': 'Jaw-dropping', 'count': 9...</td>\n",
       "      <td>[{'id': 1370, 'hero': 'https://pe.tedcdn.com/i...</td>\n",
       "      <td>NaN</td>\n",
       "      <td>['Internet', 'advertising', 'business', 'priva...</td>\n",
       "      <td>Tracking our online trackers</td>\n",
       "      <td>https://www.ted.com/talks/gary_kovacs_tracking...</td>\n",
       "      <td>2098639</td>\n",
       "    </tr>\n",
       "    <tr>\n",
       "      <th>1656</th>\n",
       "      <td>140</td>\n",
       "      <td>In this lovely talk, TED Fellow Ryan Holladay ...</td>\n",
       "      <td>389</td>\n",
       "      <td>TED@BCG San Francisco</td>\n",
       "      <td>1383091200</td>\n",
       "      <td>33</td>\n",
       "      <td>Ryan Holladay</td>\n",
       "      <td>Ryan Holladay: To hear this music you have to ...</td>\n",
       "      <td>1</td>\n",
       "      <td>1389369735</td>\n",
       "      <td>[{'id': 1, 'name': 'Beautiful', 'count': 211},...</td>\n",
       "      <td>[{'id': 1152, 'hero': 'https://pe.tedcdn.com/i...</td>\n",
       "      <td>NaN</td>\n",
       "      <td>['TED Fellows', 'entertainment', 'music', 'tec...</td>\n",
       "      <td>To hear this music you have to be there. Liter...</td>\n",
       "      <td>https://www.ted.com/talks/ryan_holladay_to_hea...</td>\n",
       "      <td>1284510</td>\n",
       "    </tr>\n",
       "    <tr>\n",
       "      <th>1911</th>\n",
       "      <td>48</td>\n",
       "      <td>What do you do with an outdated encyclopedia i...</td>\n",
       "      <td>366</td>\n",
       "      <td>TEDYouth 2014</td>\n",
       "      <td>1415059200</td>\n",
       "      <td>34</td>\n",
       "      <td>Brian Dettmer</td>\n",
       "      <td>Brian Dettmer: Old books reborn as art</td>\n",
       "      <td>1</td>\n",
       "      <td>1423238442</td>\n",
       "      <td>[{'id': 1, 'name': 'Beautiful', 'count': 361},...</td>\n",
       "      <td>[{'id': 610, 'hero': 'https://pe.tedcdn.com/im...</td>\n",
       "      <td>NaN</td>\n",
       "      <td>['TEDYouth', 'art', 'books', 'creativity']</td>\n",
       "      <td>Old books reborn as art</td>\n",
       "      <td>https://www.ted.com/talks/brian_dettmer_old_bo...</td>\n",
       "      <td>1159937</td>\n",
       "    </tr>\n",
       "    <tr>\n",
       "      <th>1949</th>\n",
       "      <td>70</td>\n",
       "      <td>Photographer Boniface Mwangi wanted to protest...</td>\n",
       "      <td>440</td>\n",
       "      <td>TEDGlobal 2014</td>\n",
       "      <td>1413763200</td>\n",
       "      <td>33</td>\n",
       "      <td>Boniface Mwangi</td>\n",
       "      <td>Boniface Mwangi: The day I stood up alone</td>\n",
       "      <td>1</td>\n",
       "      <td>1427989423</td>\n",
       "      <td>[{'id': 3, 'name': 'Courageous', 'count': 614}...</td>\n",
       "      <td>[{'id': 1757, 'hero': 'https://pe.tedcdn.com/i...</td>\n",
       "      <td>NaN</td>\n",
       "      <td>['TED Fellows', 'activism', 'art', 'corruption...</td>\n",
       "      <td>The day I stood up alone</td>\n",
       "      <td>https://www.ted.com/talks/boniface_mwangi_boni...</td>\n",
       "      <td>1342431</td>\n",
       "    </tr>\n",
       "  </tbody>\n",
       "</table>\n",
       "</div>"
      ],
      "text/plain": [
       "      comments                                        description  duration  \\\n",
       "1113       145  After a crisis, how can we tell if water is sa...       217   \n",
       "1192       122  The Pirate Party fights for transparency, anon...      1097   \n",
       "1220       257  As you surf the Web, information is being coll...       399   \n",
       "1656       140  In this lovely talk, TED Fellow Ryan Holladay ...       389   \n",
       "1911        48  What do you do with an outdated encyclopedia i...       366   \n",
       "1949        70  Photographer Boniface Mwangi wanted to protest...       440   \n",
       "\n",
       "                      event   film_date  languages     main_speaker  \\\n",
       "1113         TEDGlobal 2011  1310601600         38    Sonaar Luthra   \n",
       "1192           TEDxObserver  1331424000         10   Rick Falkvinge   \n",
       "1220                TED2012  1330473600         32      Gary Kovacs   \n",
       "1656  TED@BCG San Francisco  1383091200         33    Ryan Holladay   \n",
       "1911          TEDYouth 2014  1415059200         34    Brian Dettmer   \n",
       "1949         TEDGlobal 2014  1413763200         33  Boniface Mwangi   \n",
       "\n",
       "                                                   name  num_speaker  \\\n",
       "1113               Sonaar Luthra: Meet the Water Canary            1   \n",
       "1192                      Rick Falkvinge: I am a pirate            1   \n",
       "1220          Gary Kovacs: Tracking our online trackers            1   \n",
       "1656  Ryan Holladay: To hear this music you have to ...            1   \n",
       "1911             Brian Dettmer: Old books reborn as art            1   \n",
       "1949          Boniface Mwangi: The day I stood up alone            1   \n",
       "\n",
       "      published_date                                            ratings  \\\n",
       "1113      1326731605  [{'id': 10, 'name': 'Inspiring', 'count': 73},...   \n",
       "1192      1333289675  [{'id': 8, 'name': 'Informative', 'count': 156...   \n",
       "1220      1336057219  [{'id': 23, 'name': 'Jaw-dropping', 'count': 9...   \n",
       "1656      1389369735  [{'id': 1, 'name': 'Beautiful', 'count': 211},...   \n",
       "1911      1423238442  [{'id': 1, 'name': 'Beautiful', 'count': 361},...   \n",
       "1949      1427989423  [{'id': 3, 'name': 'Courageous', 'count': 614}...   \n",
       "\n",
       "                                          related_talks speaker_occupation  \\\n",
       "1113  [{'id': 523, 'hero': 'https://pe.tedcdn.com/im...                NaN   \n",
       "1192  [{'id': 1329, 'hero': 'https://pe.tedcdn.com/i...                NaN   \n",
       "1220  [{'id': 1370, 'hero': 'https://pe.tedcdn.com/i...                NaN   \n",
       "1656  [{'id': 1152, 'hero': 'https://pe.tedcdn.com/i...                NaN   \n",
       "1911  [{'id': 610, 'hero': 'https://pe.tedcdn.com/im...                NaN   \n",
       "1949  [{'id': 1757, 'hero': 'https://pe.tedcdn.com/i...                NaN   \n",
       "\n",
       "                                                   tags  \\\n",
       "1113  ['TED Fellows', 'design', 'global development'...   \n",
       "1192  ['Internet', 'TEDx', 'global issues', 'politic...   \n",
       "1220  ['Internet', 'advertising', 'business', 'priva...   \n",
       "1656  ['TED Fellows', 'entertainment', 'music', 'tec...   \n",
       "1911         ['TEDYouth', 'art', 'books', 'creativity']   \n",
       "1949  ['TED Fellows', 'activism', 'art', 'corruption...   \n",
       "\n",
       "                                                  title  \\\n",
       "1113                              Meet the Water Canary   \n",
       "1192                                      I am a pirate   \n",
       "1220                       Tracking our online trackers   \n",
       "1656  To hear this music you have to be there. Liter...   \n",
       "1911                            Old books reborn as art   \n",
       "1949                           The day I stood up alone   \n",
       "\n",
       "                                                    url    views  \n",
       "1113  https://www.ted.com/talks/sonaar_luthra_meet_t...   353749  \n",
       "1192  https://www.ted.com/talks/rick_falkvinge_i_am_...   181010  \n",
       "1220  https://www.ted.com/talks/gary_kovacs_tracking...  2098639  \n",
       "1656  https://www.ted.com/talks/ryan_holladay_to_hea...  1284510  \n",
       "1911  https://www.ted.com/talks/brian_dettmer_old_bo...  1159937  \n",
       "1949  https://www.ted.com/talks/boniface_mwangi_boni...  1342431  "
      ]
     },
     "execution_count": 471,
     "metadata": {},
     "output_type": "execute_result"
    }
   ],
   "source": [
    "ted_main[ted_main.speaker_occupation.isnull()]"
   ]
  },
  {
   "cell_type": "code",
   "execution_count": 472,
   "metadata": {},
   "outputs": [
    {
     "data": {
      "text/html": [
       "<div>\n",
       "<style scoped>\n",
       "    .dataframe tbody tr th:only-of-type {\n",
       "        vertical-align: middle;\n",
       "    }\n",
       "\n",
       "    .dataframe tbody tr th {\n",
       "        vertical-align: top;\n",
       "    }\n",
       "\n",
       "    .dataframe thead th {\n",
       "        text-align: right;\n",
       "    }\n",
       "</style>\n",
       "<table border=\"1\" class=\"dataframe\">\n",
       "  <thead>\n",
       "    <tr style=\"text-align: right;\">\n",
       "      <th></th>\n",
       "      <th>comments</th>\n",
       "      <th>description</th>\n",
       "      <th>duration</th>\n",
       "      <th>event</th>\n",
       "      <th>film_date</th>\n",
       "      <th>languages</th>\n",
       "      <th>main_speaker</th>\n",
       "      <th>name</th>\n",
       "      <th>num_speaker</th>\n",
       "      <th>published_date</th>\n",
       "      <th>ratings</th>\n",
       "      <th>related_talks</th>\n",
       "      <th>speaker_occupation</th>\n",
       "      <th>tags</th>\n",
       "      <th>title</th>\n",
       "      <th>url</th>\n",
       "      <th>views</th>\n",
       "    </tr>\n",
       "  </thead>\n",
       "  <tbody>\n",
       "    <tr>\n",
       "      <th>1113</th>\n",
       "      <td>145</td>\n",
       "      <td>After a crisis, how can we tell if water is sa...</td>\n",
       "      <td>217</td>\n",
       "      <td>TEDGlobal 2011</td>\n",
       "      <td>1310601600</td>\n",
       "      <td>38</td>\n",
       "      <td>Sonaar Luthra</td>\n",
       "      <td>Sonaar Luthra: Meet the Water Canary</td>\n",
       "      <td>1</td>\n",
       "      <td>1326731605</td>\n",
       "      <td>[{'id': 10, 'name': 'Inspiring', 'count': 73},...</td>\n",
       "      <td>[{'id': 523, 'hero': 'https://pe.tedcdn.com/im...</td>\n",
       "      <td>NaN</td>\n",
       "      <td>['TED Fellows', 'design', 'global development'...</td>\n",
       "      <td>Meet the Water Canary</td>\n",
       "      <td>https://www.ted.com/talks/sonaar_luthra_meet_t...</td>\n",
       "      <td>353749</td>\n",
       "    </tr>\n",
       "    <tr>\n",
       "      <th>1192</th>\n",
       "      <td>122</td>\n",
       "      <td>The Pirate Party fights for transparency, anon...</td>\n",
       "      <td>1097</td>\n",
       "      <td>TEDxObserver</td>\n",
       "      <td>1331424000</td>\n",
       "      <td>10</td>\n",
       "      <td>Rick Falkvinge</td>\n",
       "      <td>Rick Falkvinge: I am a pirate</td>\n",
       "      <td>1</td>\n",
       "      <td>1333289675</td>\n",
       "      <td>[{'id': 8, 'name': 'Informative', 'count': 156...</td>\n",
       "      <td>[{'id': 1329, 'hero': 'https://pe.tedcdn.com/i...</td>\n",
       "      <td>NaN</td>\n",
       "      <td>['Internet', 'TEDx', 'global issues', 'politic...</td>\n",
       "      <td>I am a pirate</td>\n",
       "      <td>https://www.ted.com/talks/rick_falkvinge_i_am_...</td>\n",
       "      <td>181010</td>\n",
       "    </tr>\n",
       "    <tr>\n",
       "      <th>1220</th>\n",
       "      <td>257</td>\n",
       "      <td>As you surf the Web, information is being coll...</td>\n",
       "      <td>399</td>\n",
       "      <td>TED2012</td>\n",
       "      <td>1330473600</td>\n",
       "      <td>32</td>\n",
       "      <td>Gary Kovacs</td>\n",
       "      <td>Gary Kovacs: Tracking our online trackers</td>\n",
       "      <td>1</td>\n",
       "      <td>1336057219</td>\n",
       "      <td>[{'id': 23, 'name': 'Jaw-dropping', 'count': 9...</td>\n",
       "      <td>[{'id': 1370, 'hero': 'https://pe.tedcdn.com/i...</td>\n",
       "      <td>NaN</td>\n",
       "      <td>['Internet', 'advertising', 'business', 'priva...</td>\n",
       "      <td>Tracking our online trackers</td>\n",
       "      <td>https://www.ted.com/talks/gary_kovacs_tracking...</td>\n",
       "      <td>2098639</td>\n",
       "    </tr>\n",
       "    <tr>\n",
       "      <th>1656</th>\n",
       "      <td>140</td>\n",
       "      <td>In this lovely talk, TED Fellow Ryan Holladay ...</td>\n",
       "      <td>389</td>\n",
       "      <td>TED@BCG San Francisco</td>\n",
       "      <td>1383091200</td>\n",
       "      <td>33</td>\n",
       "      <td>Ryan Holladay</td>\n",
       "      <td>Ryan Holladay: To hear this music you have to ...</td>\n",
       "      <td>1</td>\n",
       "      <td>1389369735</td>\n",
       "      <td>[{'id': 1, 'name': 'Beautiful', 'count': 211},...</td>\n",
       "      <td>[{'id': 1152, 'hero': 'https://pe.tedcdn.com/i...</td>\n",
       "      <td>NaN</td>\n",
       "      <td>['TED Fellows', 'entertainment', 'music', 'tec...</td>\n",
       "      <td>To hear this music you have to be there. Liter...</td>\n",
       "      <td>https://www.ted.com/talks/ryan_holladay_to_hea...</td>\n",
       "      <td>1284510</td>\n",
       "    </tr>\n",
       "    <tr>\n",
       "      <th>1911</th>\n",
       "      <td>48</td>\n",
       "      <td>What do you do with an outdated encyclopedia i...</td>\n",
       "      <td>366</td>\n",
       "      <td>TEDYouth 2014</td>\n",
       "      <td>1415059200</td>\n",
       "      <td>34</td>\n",
       "      <td>Brian Dettmer</td>\n",
       "      <td>Brian Dettmer: Old books reborn as art</td>\n",
       "      <td>1</td>\n",
       "      <td>1423238442</td>\n",
       "      <td>[{'id': 1, 'name': 'Beautiful', 'count': 361},...</td>\n",
       "      <td>[{'id': 610, 'hero': 'https://pe.tedcdn.com/im...</td>\n",
       "      <td>NaN</td>\n",
       "      <td>['TEDYouth', 'art', 'books', 'creativity']</td>\n",
       "      <td>Old books reborn as art</td>\n",
       "      <td>https://www.ted.com/talks/brian_dettmer_old_bo...</td>\n",
       "      <td>1159937</td>\n",
       "    </tr>\n",
       "    <tr>\n",
       "      <th>1949</th>\n",
       "      <td>70</td>\n",
       "      <td>Photographer Boniface Mwangi wanted to protest...</td>\n",
       "      <td>440</td>\n",
       "      <td>TEDGlobal 2014</td>\n",
       "      <td>1413763200</td>\n",
       "      <td>33</td>\n",
       "      <td>Boniface Mwangi</td>\n",
       "      <td>Boniface Mwangi: The day I stood up alone</td>\n",
       "      <td>1</td>\n",
       "      <td>1427989423</td>\n",
       "      <td>[{'id': 3, 'name': 'Courageous', 'count': 614}...</td>\n",
       "      <td>[{'id': 1757, 'hero': 'https://pe.tedcdn.com/i...</td>\n",
       "      <td>NaN</td>\n",
       "      <td>['TED Fellows', 'activism', 'art', 'corruption...</td>\n",
       "      <td>The day I stood up alone</td>\n",
       "      <td>https://www.ted.com/talks/boniface_mwangi_boni...</td>\n",
       "      <td>1342431</td>\n",
       "    </tr>\n",
       "  </tbody>\n",
       "</table>\n",
       "</div>"
      ],
      "text/plain": [
       "      comments                                        description  duration  \\\n",
       "1113       145  After a crisis, how can we tell if water is sa...       217   \n",
       "1192       122  The Pirate Party fights for transparency, anon...      1097   \n",
       "1220       257  As you surf the Web, information is being coll...       399   \n",
       "1656       140  In this lovely talk, TED Fellow Ryan Holladay ...       389   \n",
       "1911        48  What do you do with an outdated encyclopedia i...       366   \n",
       "1949        70  Photographer Boniface Mwangi wanted to protest...       440   \n",
       "\n",
       "                      event   film_date  languages     main_speaker  \\\n",
       "1113         TEDGlobal 2011  1310601600         38    Sonaar Luthra   \n",
       "1192           TEDxObserver  1331424000         10   Rick Falkvinge   \n",
       "1220                TED2012  1330473600         32      Gary Kovacs   \n",
       "1656  TED@BCG San Francisco  1383091200         33    Ryan Holladay   \n",
       "1911          TEDYouth 2014  1415059200         34    Brian Dettmer   \n",
       "1949         TEDGlobal 2014  1413763200         33  Boniface Mwangi   \n",
       "\n",
       "                                                   name  num_speaker  \\\n",
       "1113               Sonaar Luthra: Meet the Water Canary            1   \n",
       "1192                      Rick Falkvinge: I am a pirate            1   \n",
       "1220          Gary Kovacs: Tracking our online trackers            1   \n",
       "1656  Ryan Holladay: To hear this music you have to ...            1   \n",
       "1911             Brian Dettmer: Old books reborn as art            1   \n",
       "1949          Boniface Mwangi: The day I stood up alone            1   \n",
       "\n",
       "      published_date                                            ratings  \\\n",
       "1113      1326731605  [{'id': 10, 'name': 'Inspiring', 'count': 73},...   \n",
       "1192      1333289675  [{'id': 8, 'name': 'Informative', 'count': 156...   \n",
       "1220      1336057219  [{'id': 23, 'name': 'Jaw-dropping', 'count': 9...   \n",
       "1656      1389369735  [{'id': 1, 'name': 'Beautiful', 'count': 211},...   \n",
       "1911      1423238442  [{'id': 1, 'name': 'Beautiful', 'count': 361},...   \n",
       "1949      1427989423  [{'id': 3, 'name': 'Courageous', 'count': 614}...   \n",
       "\n",
       "                                          related_talks speaker_occupation  \\\n",
       "1113  [{'id': 523, 'hero': 'https://pe.tedcdn.com/im...                NaN   \n",
       "1192  [{'id': 1329, 'hero': 'https://pe.tedcdn.com/i...                NaN   \n",
       "1220  [{'id': 1370, 'hero': 'https://pe.tedcdn.com/i...                NaN   \n",
       "1656  [{'id': 1152, 'hero': 'https://pe.tedcdn.com/i...                NaN   \n",
       "1911  [{'id': 610, 'hero': 'https://pe.tedcdn.com/im...                NaN   \n",
       "1949  [{'id': 1757, 'hero': 'https://pe.tedcdn.com/i...                NaN   \n",
       "\n",
       "                                                   tags  \\\n",
       "1113  ['TED Fellows', 'design', 'global development'...   \n",
       "1192  ['Internet', 'TEDx', 'global issues', 'politic...   \n",
       "1220  ['Internet', 'advertising', 'business', 'priva...   \n",
       "1656  ['TED Fellows', 'entertainment', 'music', 'tec...   \n",
       "1911         ['TEDYouth', 'art', 'books', 'creativity']   \n",
       "1949  ['TED Fellows', 'activism', 'art', 'corruption...   \n",
       "\n",
       "                                                  title  \\\n",
       "1113                              Meet the Water Canary   \n",
       "1192                                      I am a pirate   \n",
       "1220                       Tracking our online trackers   \n",
       "1656  To hear this music you have to be there. Liter...   \n",
       "1911                            Old books reborn as art   \n",
       "1949                           The day I stood up alone   \n",
       "\n",
       "                                                    url    views  \n",
       "1113  https://www.ted.com/talks/sonaar_luthra_meet_t...   353749  \n",
       "1192  https://www.ted.com/talks/rick_falkvinge_i_am_...   181010  \n",
       "1220  https://www.ted.com/talks/gary_kovacs_tracking...  2098639  \n",
       "1656  https://www.ted.com/talks/ryan_holladay_to_hea...  1284510  \n",
       "1911  https://www.ted.com/talks/brian_dettmer_old_bo...  1159937  \n",
       "1949  https://www.ted.com/talks/boniface_mwangi_boni...  1342431  "
      ]
     },
     "execution_count": 472,
     "metadata": {},
     "output_type": "execute_result"
    }
   ],
   "source": [
    "ted_main[ted_main.main_speaker.isin(ted_main[ted_main.speaker_occupation.isnull()].main_speaker.values)]"
   ]
  },
  {
   "cell_type": "code",
   "execution_count": 473,
   "metadata": {},
   "outputs": [
    {
     "data": {
      "text/plain": [
       "Writer                                          45\n",
       "Designer                                        34\n",
       "Artist                                          34\n",
       "Journalist                                      33\n",
       "Entrepreneur                                    31\n",
       "Architect                                       30\n",
       "Inventor                                        27\n",
       "Psychologist                                    26\n",
       "Photographer                                    25\n",
       "Filmmaker                                       21\n",
       "Author                                          20\n",
       "Educator                                        20\n",
       "Economist                                       20\n",
       "Neuroscientist                                  20\n",
       "Philosopher                                     16\n",
       "Roboticist                                      16\n",
       "Biologist                                       15\n",
       "Physicist                                       14\n",
       "Marine biologist                                11\n",
       "Musician                                        11\n",
       "Activist                                        10\n",
       "Technologist                                    10\n",
       "Global health expert; data visionary            10\n",
       "Oceanographer                                    9\n",
       "Poet                                             9\n",
       "Behavioral economist                             9\n",
       "Graphic designer                                 9\n",
       "Historian                                        9\n",
       "Singer/songwriter                                9\n",
       "Philanthropist                                   9\n",
       "                                                ..\n",
       "Physician and men’s health advocate              1\n",
       "Herpetologist                                    1\n",
       "Wild sex biologist                               1\n",
       "Yo-yo champion                                   1\n",
       "Historian, philosopher                           1\n",
       "Internet scientist                               1\n",
       "Micro photographer                               1\n",
       "Endocrinologist                                  1\n",
       "International relations expert                   1\n",
       "Civil rights advocate                            1\n",
       "Director, The Institute for Global Happiness     1\n",
       "Nobel peace laureate                             1\n",
       "Primate authority                                1\n",
       "Senior Editor, TIME Magazine                     1\n",
       "Author, educator, activist                       1\n",
       "Cartoonist                                       1\n",
       "Geophysicist                                     1\n",
       "Recovering politician                            1\n",
       "Clinical researcher                              1\n",
       "Writer, peace advocate                           1\n",
       "Physicist, personal fab pioneer                  1\n",
       "Nanobiotechnologist                              1\n",
       "Organizer and author                             1\n",
       "3D printer                                       1\n",
       "Energy scholar                                   1\n",
       "Stuntman                                         1\n",
       "Research scientist, Google                       1\n",
       "Crusader against aging                           1\n",
       "Interaction designer; software developer         1\n",
       "Physician, broadcaster                           1\n",
       "Name: speaker_occupation, Length: 1458, dtype: int64"
      ]
     },
     "execution_count": 473,
     "metadata": {},
     "output_type": "execute_result"
    }
   ],
   "source": [
    "ted_main.speaker_occupation.value_counts()"
   ]
  },
  {
   "cell_type": "markdown",
   "metadata": {},
   "source": [
    "We can try to use a simple google search to find out their occupation"
   ]
  },
  {
   "cell_type": "markdown",
   "metadata": {},
   "source": [
    "Sonaar Luthra -   Designer, Entrepreneur, Environmentalist, Social entrepreneur, Technologist\n",
    "Rick Falkvinge - Technologist , Entrepreneur, Politician\n",
    "Gary Kovacs - Technologist\n",
    "Ryan Holladay - Musician\n",
    "Brian Dettmer - Artist\n",
    "Boniface Mwangi - Photographer, Journalist, Politician, Activist"
   ]
  },
  {
   "cell_type": "code",
   "execution_count": 474,
   "metadata": {},
   "outputs": [],
   "source": [
    "ted_main.loc[ted_main.main_speaker == 'Sonaar Luthra', 'speaker_occupation'] = 'Designer, Entrepreneur, Environmentalist, Social entrepreneur, Technologist'\n",
    "ted_main.loc[ted_main.main_speaker == 'Rick Falkvinge', 'speaker_occupation'] = 'Technologist , Entrepreneur, Politician'\n",
    "ted_main.loc[ted_main.main_speaker == 'Gary Kovacs', 'speaker_occupation'] = 'Technologist'\n",
    "ted_main.loc[ted_main.main_speaker == 'Ryan Holladay', 'speaker_occupation'] = 'Musician'\n",
    "ted_main.loc[ted_main.main_speaker == 'Brian Dettmer', 'speaker_occupation'] = 'Artist'\n",
    "ted_main.loc[ted_main.main_speaker == 'Boniface Mwangi', 'speaker_occupation'] = 'Photographer, Journalist, Politician, Activist'"
   ]
  },
  {
   "cell_type": "code",
   "execution_count": 475,
   "metadata": {},
   "outputs": [
    {
     "data": {
      "text/plain": [
       "comments              0\n",
       "description           0\n",
       "duration              0\n",
       "event                 0\n",
       "film_date             0\n",
       "languages             0\n",
       "main_speaker          0\n",
       "name                  0\n",
       "num_speaker           0\n",
       "published_date        0\n",
       "ratings               0\n",
       "related_talks         0\n",
       "speaker_occupation    0\n",
       "tags                  0\n",
       "title                 0\n",
       "url                   0\n",
       "views                 0\n",
       "dtype: int64"
      ]
     },
     "execution_count": 475,
     "metadata": {},
     "output_type": "execute_result"
    }
   ],
   "source": [
    "ted_main.isnull().sum()"
   ]
  },
  {
   "cell_type": "code",
   "execution_count": 476,
   "metadata": {},
   "outputs": [],
   "source": [
    "ted_main['film_date_formated'] =  pd.to_datetime(ted_main['film_date'],unit='s')\n",
    "ted_main['published_date_formated'] =  pd.to_datetime(ted_main['published_date'],unit='s')"
   ]
  },
  {
   "cell_type": "markdown",
   "metadata": {},
   "source": [
    "# EDA"
   ]
  },
  {
   "cell_type": "code",
   "execution_count": 477,
   "metadata": {
    "scrolled": true
   },
   "outputs": [
    {
     "data": {
      "image/png": "[encoded data removed]",
      "text/plain": [
       "<Figure size 432x288 with 1 Axes>"
      ]
     },
     "metadata": {
      "needs_background": "light"
     },
     "output_type": "display_data"
    }
   ],
   "source": [
    "sns.distplot(ted_main['views'])\n",
    "plt.show()"
   ]
  },
  {
   "cell_type": "code",
   "execution_count": 478,
   "metadata": {},
   "outputs": [
    {
     "data": {
      "image/png": "[encoded data removed]",
      "text/plain": [
       "<Figure size 432x288 with 1 Axes>"
      ]
     },
     "metadata": {
      "needs_background": "light"
     },
     "output_type": "display_data"
    }
   ],
   "source": [
    "sns.distplot((np.log(ted_main['views'])))\n",
    "plt.show()"
   ]
  },
  {
   "cell_type": "code",
   "execution_count": 479,
   "metadata": {},
   "outputs": [],
   "source": [
    "ted_main['views_log'] = np.log(ted_main['views'])"
   ]
  },
  {
   "cell_type": "markdown",
   "metadata": {},
   "source": [
    "Taking a test set aside, before continuing further with the EDA"
   ]
  },
  {
   "cell_type": "code",
   "execution_count": 480,
   "metadata": {},
   "outputs": [
    {
     "name": "stdout",
     "output_type": "stream",
     "text": [
      "max: 17.67047865007846 min: 10.828599264916061\n"
     ]
    }
   ],
   "source": [
    "print('max:', str(max(ted_main['views_log'])), 'min:', str(min(ted_main['views_log'])))"
   ]
  },
  {
   "cell_type": "code",
   "execution_count": 481,
   "metadata": {},
   "outputs": [],
   "source": [
    "bins = list(range(12,19))\n",
    "bins.append(10)\n",
    "bins.sort()\n",
    "ted_main['views_binned'] = pd.cut(ted_main['views_log'], bins)"
   ]
  },
  {
   "cell_type": "code",
   "execution_count": 482,
   "metadata": {},
   "outputs": [
    {
     "data": {
      "text/plain": [
       "(13, 14]    1173\n",
       "(14, 15]     932\n",
       "(12, 13]     201\n",
       "(15, 16]     184\n",
       "(16, 17]      38\n",
       "(10, 12]      18\n",
       "(17, 18]       4\n",
       "Name: views_binned, dtype: int64"
      ]
     },
     "execution_count": 482,
     "metadata": {},
     "output_type": "execute_result"
    }
   ],
   "source": [
    "ted_main['views_binned'].value_counts()"
   ]
  },
  {
   "cell_type": "code",
   "execution_count": 483,
   "metadata": {
    "scrolled": true
   },
   "outputs": [
    {
     "data": {
      "text/plain": [
       "Index(['comments', 'description', 'duration', 'event', 'film_date',\n",
       "       'languages', 'main_speaker', 'name', 'num_speaker', 'published_date',\n",
       "       'ratings', 'related_talks', 'speaker_occupation', 'tags', 'title',\n",
       "       'url', 'views', 'film_date_formated', 'published_date_formated',\n",
       "       'views_log', 'views_binned'],\n",
       "      dtype='object')"
      ]
     },
     "execution_count": 483,
     "metadata": {},
     "output_type": "execute_result"
    }
   ],
   "source": [
    "ted_main.columns"
   ]
  },
  {
   "cell_type": "code",
   "execution_count": 484,
   "metadata": {},
   "outputs": [
    {
     "data": {
      "text/plain": [
       "['comments',\n",
       " 'description',\n",
       " 'duration',\n",
       " 'event',\n",
       " 'film_date',\n",
       " 'languages',\n",
       " 'main_speaker',\n",
       " 'name',\n",
       " 'num_speaker',\n",
       " 'published_date',\n",
       " 'ratings',\n",
       " 'related_talks',\n",
       " 'speaker_occupation',\n",
       " 'tags',\n",
       " 'title',\n",
       " 'url',\n",
       " 'film_date_formated',\n",
       " 'published_date_formated']"
      ]
     },
     "execution_count": 484,
     "metadata": {},
     "output_type": "execute_result"
    }
   ],
   "source": [
    "train_columns = []\n",
    "for column in ted_main.columns:\n",
    "    if not 'views' in column:\n",
    "        train_columns.append(column)\n",
    "train_columns"
   ]
  },
  {
   "cell_type": "code",
   "execution_count": 485,
   "metadata": {},
   "outputs": [
    {
     "data": {
      "text/plain": [
       "{'views', 'views_binned', 'views_log'}"
      ]
     },
     "execution_count": 485,
     "metadata": {},
     "output_type": "execute_result"
    }
   ],
   "source": [
    "set(ted_main.columns).difference(train_columns)"
   ]
  },
  {
   "cell_type": "code",
   "execution_count": 616,
   "metadata": {},
   "outputs": [],
   "source": [
    "X_train_org, X_test, y_train, y_test =  train_test_split(ted_main[train_columns],\n",
    "                                                     ted_main['views'],\n",
    "                                                     test_size=0.2,\n",
    "                                                     random_state=42,\n",
    "                                                    stratify=ted_main['views_binned'])"
   ]
  },
  {
   "cell_type": "code",
   "execution_count": 619,
   "metadata": {},
   "outputs": [],
   "source": [
    "X_train_org.to_csv(r'D:\\Machine Learning\\Datasets\\ted-talks\\X_train.csv', index=False)\n",
    "X_test.to_csv(r'D:\\Machine Learning\\Datasets\\ted-talks\\X_test.csv', index=False)\n",
    "y_train.to_csv(r'D:\\Machine Learning\\Datasets\\ted-talks\\y_train.csv', index=False)\n",
    "y_test.to_csv(r'D:\\Machine Learning\\Datasets\\ted-talks\\y_test.csv', index=False)"
   ]
  },
  {
   "cell_type": "code",
   "execution_count": 487,
   "metadata": {},
   "outputs": [],
   "source": [
    "X_train = X_train_org.copy()"
   ]
  },
  {
   "cell_type": "code",
   "execution_count": 490,
   "metadata": {},
   "outputs": [
    {
     "data": {
      "image/png": "[encoded data removed]",
      "text/plain": [
       "<Figure size 432x288 with 1 Axes>"
      ]
     },
     "metadata": {
      "needs_background": "light"
     },
     "output_type": "display_data"
    }
   ],
   "source": [
    "sns.distplot(np.log(y_train), color='blue',hist=False,  label='train set')\n",
    "sns.distplot(np.log(y_test), color='red', hist=False, label='test set')\n",
    "plt.legend()\n",
    "plt.show()"
   ]
  },
  {
   "cell_type": "code",
   "execution_count": 491,
   "metadata": {},
   "outputs": [
    {
     "data": {
      "text/plain": [
       "{'comments',\n",
       " 'description',\n",
       " 'duration',\n",
       " 'event',\n",
       " 'film_date',\n",
       " 'film_date_formated',\n",
       " 'languages',\n",
       " 'main_speaker',\n",
       " 'name',\n",
       " 'num_speaker',\n",
       " 'published_date',\n",
       " 'published_date_formated',\n",
       " 'ratings',\n",
       " 'related_talks',\n",
       " 'speaker_occupation',\n",
       " 'tags',\n",
       " 'title',\n",
       " 'url'}"
      ]
     },
     "execution_count": 491,
     "metadata": {},
     "output_type": "execute_result"
    }
   ],
   "source": [
    "set(ted_main.columns).intersection(X_train.columns)"
   ]
  },
  {
   "cell_type": "code",
   "execution_count": 492,
   "metadata": {},
   "outputs": [
    {
     "data": {
      "text/plain": [
       "{'views', 'views_binned', 'views_log'}"
      ]
     },
     "execution_count": 492,
     "metadata": {},
     "output_type": "execute_result"
    }
   ],
   "source": [
    "set(ted_main.columns).difference(X_train.columns)"
   ]
  },
  {
   "cell_type": "markdown",
   "metadata": {},
   "source": [
    "## EDA on quantitative variables "
   ]
  },
  {
   "cell_type": "code",
   "execution_count": 493,
   "metadata": {},
   "outputs": [],
   "source": [
    "y_train_log = np.log(y_train) # log of y_train has a normal distribution"
   ]
  },
  {
   "cell_type": "code",
   "execution_count": 494,
   "metadata": {},
   "outputs": [],
   "source": [
    "y_train_log.name = 'views_log'"
   ]
  },
  {
   "cell_type": "code",
   "execution_count": 495,
   "metadata": {},
   "outputs": [
    {
     "data": {
      "text/plain": [
       "comments                            int64\n",
       "description                        object\n",
       "duration                            int64\n",
       "event                              object\n",
       "film_date                           int64\n",
       "languages                           int64\n",
       "main_speaker                       object\n",
       "name                               object\n",
       "num_speaker                         int64\n",
       "published_date                      int64\n",
       "ratings                            object\n",
       "related_talks                      object\n",
       "speaker_occupation                 object\n",
       "tags                               object\n",
       "title                              object\n",
       "url                                object\n",
       "film_date_formated         datetime64[ns]\n",
       "published_date_formated    datetime64[ns]\n",
       "dtype: object"
      ]
     },
     "execution_count": 495,
     "metadata": {},
     "output_type": "execute_result"
    }
   ],
   "source": [
    "X_train.dtypes"
   ]
  },
  {
   "cell_type": "code",
   "execution_count": 496,
   "metadata": {},
   "outputs": [],
   "source": [
    "X_train_quant = X_train.select_dtypes(np.int64)"
   ]
  },
  {
   "cell_type": "code",
   "execution_count": 497,
   "metadata": {
    "scrolled": true
   },
   "outputs": [
    {
     "data": {
      "text/html": [
       "<div>\n",
       "<style scoped>\n",
       "    .dataframe tbody tr th:only-of-type {\n",
       "        vertical-align: middle;\n",
       "    }\n",
       "\n",
       "    .dataframe tbody tr th {\n",
       "        vertical-align: top;\n",
       "    }\n",
       "\n",
       "    .dataframe thead th {\n",
       "        text-align: right;\n",
       "    }\n",
       "</style>\n",
       "<table border=\"1\" class=\"dataframe\">\n",
       "  <thead>\n",
       "    <tr style=\"text-align: right;\">\n",
       "      <th></th>\n",
       "      <th>comments</th>\n",
       "      <th>duration</th>\n",
       "      <th>film_date</th>\n",
       "      <th>languages</th>\n",
       "      <th>num_speaker</th>\n",
       "      <th>published_date</th>\n",
       "      <th>views</th>\n",
       "    </tr>\n",
       "  </thead>\n",
       "  <tbody>\n",
       "    <tr>\n",
       "      <th>comments</th>\n",
       "      <td>1.000000</td>\n",
       "      <td>0.150867</td>\n",
       "      <td>-0.130541</td>\n",
       "      <td>0.303417</td>\n",
       "      <td>-0.041078</td>\n",
       "      <td>-0.181452</td>\n",
       "      <td>0.506811</td>\n",
       "    </tr>\n",
       "    <tr>\n",
       "      <th>duration</th>\n",
       "      <td>0.150867</td>\n",
       "      <td>1.000000</td>\n",
       "      <td>-0.253342</td>\n",
       "      <td>-0.286280</td>\n",
       "      <td>0.011824</td>\n",
       "      <td>-0.168212</td>\n",
       "      <td>0.052208</td>\n",
       "    </tr>\n",
       "    <tr>\n",
       "      <th>film_date</th>\n",
       "      <td>-0.130541</td>\n",
       "      <td>-0.253342</td>\n",
       "      <td>1.000000</td>\n",
       "      <td>-0.044646</td>\n",
       "      <td>0.038562</td>\n",
       "      <td>0.896656</td>\n",
       "      <td>0.010692</td>\n",
       "    </tr>\n",
       "    <tr>\n",
       "      <th>languages</th>\n",
       "      <td>0.303417</td>\n",
       "      <td>-0.286280</td>\n",
       "      <td>-0.044646</td>\n",
       "      <td>1.000000</td>\n",
       "      <td>-0.061477</td>\n",
       "      <td>-0.156970</td>\n",
       "      <td>0.374055</td>\n",
       "    </tr>\n",
       "    <tr>\n",
       "      <th>num_speaker</th>\n",
       "      <td>-0.041078</td>\n",
       "      <td>0.011824</td>\n",
       "      <td>0.038562</td>\n",
       "      <td>-0.061477</td>\n",
       "      <td>1.000000</td>\n",
       "      <td>0.048532</td>\n",
       "      <td>-0.027547</td>\n",
       "    </tr>\n",
       "    <tr>\n",
       "      <th>published_date</th>\n",
       "      <td>-0.181452</td>\n",
       "      <td>-0.168212</td>\n",
       "      <td>0.896656</td>\n",
       "      <td>-0.156970</td>\n",
       "      <td>0.048532</td>\n",
       "      <td>1.000000</td>\n",
       "      <td>-0.013190</td>\n",
       "    </tr>\n",
       "    <tr>\n",
       "      <th>views</th>\n",
       "      <td>0.506811</td>\n",
       "      <td>0.052208</td>\n",
       "      <td>0.010692</td>\n",
       "      <td>0.374055</td>\n",
       "      <td>-0.027547</td>\n",
       "      <td>-0.013190</td>\n",
       "      <td>1.000000</td>\n",
       "    </tr>\n",
       "  </tbody>\n",
       "</table>\n",
       "</div>"
      ],
      "text/plain": [
       "                comments  duration  film_date  languages  num_speaker  \\\n",
       "comments        1.000000  0.150867  -0.130541   0.303417    -0.041078   \n",
       "duration        0.150867  1.000000  -0.253342  -0.286280     0.011824   \n",
       "film_date      -0.130541 -0.253342   1.000000  -0.044646     0.038562   \n",
       "languages       0.303417 -0.286280  -0.044646   1.000000    -0.061477   \n",
       "num_speaker    -0.041078  0.011824   0.038562  -0.061477     1.000000   \n",
       "published_date -0.181452 -0.168212   0.896656  -0.156970     0.048532   \n",
       "views           0.506811  0.052208   0.010692   0.374055    -0.027547   \n",
       "\n",
       "                published_date     views  \n",
       "comments             -0.181452  0.506811  \n",
       "duration             -0.168212  0.052208  \n",
       "film_date             0.896656  0.010692  \n",
       "languages            -0.156970  0.374055  \n",
       "num_speaker           0.048532 -0.027547  \n",
       "published_date        1.000000 -0.013190  \n",
       "views                -0.013190  1.000000  "
      ]
     },
     "execution_count": 497,
     "metadata": {},
     "output_type": "execute_result"
    }
   ],
   "source": [
    "pd.concat([X_train_quant, y_train], axis=1).corr()"
   ]
  },
  {
   "cell_type": "markdown",
   "metadata": {},
   "source": [
    "### Comments"
   ]
  },
  {
   "cell_type": "code",
   "execution_count": 498,
   "metadata": {},
   "outputs": [
    {
     "data": {
      "image/png": "[encoded data removed]",
      "text/plain": [
       "<Figure size 432x288 with 1 Axes>"
      ]
     },
     "metadata": {
      "needs_background": "light"
     },
     "output_type": "display_data"
    }
   ],
   "source": [
    "sns.scatterplot(X_train_quant.comments, y_train)\n",
    "plt.show()"
   ]
  },
  {
   "cell_type": "code",
   "execution_count": 499,
   "metadata": {
    "scrolled": true
   },
   "outputs": [
    {
     "data": {
      "image/png": "[encoded data removed]",
      "text/plain": [
       "<Figure size 432x288 with 1 Axes>"
      ]
     },
     "metadata": {
      "needs_background": "light"
     },
     "output_type": "display_data"
    }
   ],
   "source": [
    "sns.distplot(X_train_quant.comments)\n",
    "plt.show()"
   ]
  },
  {
   "cell_type": "code",
   "execution_count": 500,
   "metadata": {
    "scrolled": true
   },
   "outputs": [
    {
     "data": {
      "image/png": "[encoded data removed]",
      "text/plain": [
       "<Figure size 432x288 with 1 Axes>"
      ]
     },
     "metadata": {
      "needs_background": "light"
     },
     "output_type": "display_data"
    }
   ],
   "source": [
    "sns.distplot(np.log(X_train_quant.comments))\n",
    "plt.show()"
   ]
  },
  {
   "cell_type": "code",
   "execution_count": 501,
   "metadata": {},
   "outputs": [
    {
     "name": "stderr",
     "output_type": "stream",
     "text": [
      "C:\\Users\\Simeon\\Anaconda3\\envs\\First\\lib\\site-packages\\ipykernel_launcher.py:1: SettingWithCopyWarning: \n",
      "A value is trying to be set on a copy of a slice from a DataFrame.\n",
      "Try using .loc[row_indexer,col_indexer] = value instead\n",
      "\n",
      "See the caveats in the documentation: http://pandas.pydata.org/pandas-docs/stable/indexing.html#indexing-view-versus-copy\n",
      "  \"\"\"Entry point for launching an IPython kernel.\n"
     ]
    }
   ],
   "source": [
    "X_train_quant['comments_log'] = np.log(X_train_quant.comments)"
   ]
  },
  {
   "cell_type": "code",
   "execution_count": 502,
   "metadata": {},
   "outputs": [
    {
     "data": {
      "image/png": "[encoded data removed]",
      "text/plain": [
       "<Figure size 432x288 with 1 Axes>"
      ]
     },
     "metadata": {
      "needs_background": "light"
     },
     "output_type": "display_data"
    }
   ],
   "source": [
    "sns.scatterplot(X_train_quant.comments_log, y_train_log)\n",
    "plt.show()"
   ]
  },
  {
   "cell_type": "markdown",
   "metadata": {},
   "source": [
    "### Durration"
   ]
  },
  {
   "cell_type": "code",
   "execution_count": 503,
   "metadata": {
    "scrolled": true
   },
   "outputs": [
    {
     "data": {
      "image/png": "[encoded data removed]",
      "text/plain": [
       "<Figure size 432x288 with 1 Axes>"
      ]
     },
     "metadata": {
      "needs_background": "light"
     },
     "output_type": "display_data"
    }
   ],
   "source": [
    "sns.scatterplot(X_train_quant.duration, y_train)\n",
    "plt.show()"
   ]
  },
  {
   "cell_type": "code",
   "execution_count": 504,
   "metadata": {},
   "outputs": [
    {
     "data": {
      "image/png": "[encoded data removed]",
      "text/plain": [
       "<Figure size 432x288 with 1 Axes>"
      ]
     },
     "metadata": {
      "needs_background": "light"
     },
     "output_type": "display_data"
    }
   ],
   "source": [
    "sns.distplot(X_train_quant.duration)\n",
    "plt.show()"
   ]
  },
  {
   "cell_type": "code",
   "execution_count": 505,
   "metadata": {
    "scrolled": true
   },
   "outputs": [
    {
     "data": {
      "image/png": "[encoded data removed]",
      "text/plain": [
       "<Figure size 432x288 with 1 Axes>"
      ]
     },
     "metadata": {
      "needs_background": "light"
     },
     "output_type": "display_data"
    }
   ],
   "source": [
    "sns.distplot(np.log(X_train_quant.duration))\n",
    "plt.show()"
   ]
  },
  {
   "cell_type": "code",
   "execution_count": 506,
   "metadata": {},
   "outputs": [
    {
     "name": "stderr",
     "output_type": "stream",
     "text": [
      "C:\\Users\\Simeon\\Anaconda3\\envs\\First\\lib\\site-packages\\ipykernel_launcher.py:1: SettingWithCopyWarning: \n",
      "A value is trying to be set on a copy of a slice from a DataFrame.\n",
      "Try using .loc[row_indexer,col_indexer] = value instead\n",
      "\n",
      "See the caveats in the documentation: http://pandas.pydata.org/pandas-docs/stable/indexing.html#indexing-view-versus-copy\n",
      "  \"\"\"Entry point for launching an IPython kernel.\n"
     ]
    }
   ],
   "source": [
    "X_train_quant['duration_log'] = np.log(X_train_quant.duration)"
   ]
  },
  {
   "cell_type": "code",
   "execution_count": 507,
   "metadata": {
    "scrolled": true
   },
   "outputs": [
    {
     "data": {
      "image/png": "[encoded data removed]",
      "text/plain": [
       "<Figure size 432x288 with 1 Axes>"
      ]
     },
     "metadata": {
      "needs_background": "light"
     },
     "output_type": "display_data"
    }
   ],
   "source": [
    "sns.scatterplot(X_train_quant.duration_log, y_train)\n",
    "plt.show()"
   ]
  },
  {
   "cell_type": "markdown",
   "metadata": {},
   "source": [
    "### Languages"
   ]
  },
  {
   "cell_type": "code",
   "execution_count": 508,
   "metadata": {
    "scrolled": true
   },
   "outputs": [
    {
     "data": {
      "image/png": "[encoded data removed]",
      "text/plain": [
       "<Figure size 432x288 with 1 Axes>"
      ]
     },
     "metadata": {
      "needs_background": "light"
     },
     "output_type": "display_data"
    }
   ],
   "source": [
    "sns.scatterplot(X_train_quant.languages, y_train)\n",
    "plt.show()"
   ]
  },
  {
   "cell_type": "code",
   "execution_count": 509,
   "metadata": {},
   "outputs": [
    {
     "data": {
      "image/png": "[encoded data removed]",
      "text/plain": [
       "<Figure size 432x288 with 1 Axes>"
      ]
     },
     "metadata": {
      "needs_background": "light"
     },
     "output_type": "display_data"
    }
   ],
   "source": [
    "sns.distplot(X_train_quant.languages)\n",
    "plt.show()"
   ]
  },
  {
   "cell_type": "markdown",
   "metadata": {},
   "source": [
    "### Number of speakers"
   ]
  },
  {
   "cell_type": "code",
   "execution_count": 510,
   "metadata": {},
   "outputs": [
    {
     "data": {
      "image/png": "[encoded data removed]",
      "text/plain": [
       "<Figure size 432x288 with 1 Axes>"
      ]
     },
     "metadata": {
      "needs_background": "light"
     },
     "output_type": "display_data"
    }
   ],
   "source": [
    "sns.scatterplot(X_train_quant.num_speaker, y_train)\n",
    "plt.show()"
   ]
  },
  {
   "cell_type": "code",
   "execution_count": 511,
   "metadata": {
    "scrolled": true
   },
   "outputs": [
    {
     "data": {
      "image/png": "[encoded data removed]",
      "text/plain": [
       "<Figure size 432x288 with 1 Axes>"
      ]
     },
     "metadata": {
      "needs_background": "light"
     },
     "output_type": "display_data"
    }
   ],
   "source": [
    "sns.distplot(X_train_quant.num_speaker)\n",
    "plt.show()"
   ]
  },
  {
   "cell_type": "code",
   "execution_count": 515,
   "metadata": {},
   "outputs": [
    {
     "data": {
      "image/png": "[encoded data removed]",
      "text/plain": [
       "<Figure size 432x288 with 1 Axes>"
      ]
     },
     "metadata": {
      "needs_background": "light"
     },
     "output_type": "display_data"
    }
   ],
   "source": [
    "sns.boxplot(x='num_speaker',\n",
    "            y='views_log',\n",
    "            data=pd.concat([X_train_quant.num_speaker, y_train_log], axis=1), hue='num_speaker')\n",
    "plt.show()"
   ]
  },
  {
   "cell_type": "code",
   "execution_count": 516,
   "metadata": {
    "scrolled": false
   },
   "outputs": [
    {
     "data": {
      "text/plain": [
       "1    1994\n",
       "2      38\n",
       "3       4\n",
       "4       3\n",
       "5       1\n",
       "Name: num_speaker, dtype: int64"
      ]
     },
     "execution_count": 516,
     "metadata": {},
     "output_type": "execute_result"
    }
   ],
   "source": [
    "X_train_quant.num_speaker.value_counts()"
   ]
  },
  {
   "cell_type": "code",
   "execution_count": 517,
   "metadata": {
    "scrolled": true
   },
   "outputs": [
    {
     "data": {
      "text/html": [
       "<div>\n",
       "<style scoped>\n",
       "    .dataframe tbody tr th:only-of-type {\n",
       "        vertical-align: middle;\n",
       "    }\n",
       "\n",
       "    .dataframe tbody tr th {\n",
       "        vertical-align: top;\n",
       "    }\n",
       "\n",
       "    .dataframe thead th {\n",
       "        text-align: right;\n",
       "    }\n",
       "</style>\n",
       "<table border=\"1\" class=\"dataframe\">\n",
       "  <thead>\n",
       "    <tr style=\"text-align: right;\">\n",
       "      <th></th>\n",
       "      <th>comments</th>\n",
       "      <th>duration</th>\n",
       "      <th>film_date</th>\n",
       "      <th>languages</th>\n",
       "      <th>num_speaker</th>\n",
       "      <th>published_date</th>\n",
       "      <th>comments_log</th>\n",
       "      <th>duration_log</th>\n",
       "      <th>views</th>\n",
       "      <th>views_log</th>\n",
       "    </tr>\n",
       "  </thead>\n",
       "  <tbody>\n",
       "    <tr>\n",
       "      <th>comments</th>\n",
       "      <td>1.000000</td>\n",
       "      <td>0.150867</td>\n",
       "      <td>-0.130541</td>\n",
       "      <td>0.303417</td>\n",
       "      <td>-0.041078</td>\n",
       "      <td>-0.181452</td>\n",
       "      <td>0.691023</td>\n",
       "      <td>0.144963</td>\n",
       "      <td>0.506811</td>\n",
       "      <td>0.420305</td>\n",
       "    </tr>\n",
       "    <tr>\n",
       "      <th>duration</th>\n",
       "      <td>0.150867</td>\n",
       "      <td>1.000000</td>\n",
       "      <td>-0.253342</td>\n",
       "      <td>-0.286280</td>\n",
       "      <td>0.011824</td>\n",
       "      <td>-0.168212</td>\n",
       "      <td>0.152785</td>\n",
       "      <td>0.917707</td>\n",
       "      <td>0.052208</td>\n",
       "      <td>0.027102</td>\n",
       "    </tr>\n",
       "    <tr>\n",
       "      <th>film_date</th>\n",
       "      <td>-0.130541</td>\n",
       "      <td>-0.253342</td>\n",
       "      <td>1.000000</td>\n",
       "      <td>-0.044646</td>\n",
       "      <td>0.038562</td>\n",
       "      <td>0.896656</td>\n",
       "      <td>-0.207413</td>\n",
       "      <td>-0.137200</td>\n",
       "      <td>0.010692</td>\n",
       "      <td>0.175202</td>\n",
       "    </tr>\n",
       "    <tr>\n",
       "      <th>languages</th>\n",
       "      <td>0.303417</td>\n",
       "      <td>-0.286280</td>\n",
       "      <td>-0.044646</td>\n",
       "      <td>1.000000</td>\n",
       "      <td>-0.061477</td>\n",
       "      <td>-0.156970</td>\n",
       "      <td>0.452082</td>\n",
       "      <td>-0.309364</td>\n",
       "      <td>0.374055</td>\n",
       "      <td>0.543813</td>\n",
       "    </tr>\n",
       "    <tr>\n",
       "      <th>num_speaker</th>\n",
       "      <td>-0.041078</td>\n",
       "      <td>0.011824</td>\n",
       "      <td>0.038562</td>\n",
       "      <td>-0.061477</td>\n",
       "      <td>1.000000</td>\n",
       "      <td>0.048532</td>\n",
       "      <td>-0.091565</td>\n",
       "      <td>-0.027468</td>\n",
       "      <td>-0.027547</td>\n",
       "      <td>-0.059379</td>\n",
       "    </tr>\n",
       "    <tr>\n",
       "      <th>published_date</th>\n",
       "      <td>-0.181452</td>\n",
       "      <td>-0.168212</td>\n",
       "      <td>0.896656</td>\n",
       "      <td>-0.156970</td>\n",
       "      <td>0.048532</td>\n",
       "      <td>1.000000</td>\n",
       "      <td>-0.323855</td>\n",
       "      <td>-0.088921</td>\n",
       "      <td>-0.013190</td>\n",
       "      <td>0.151580</td>\n",
       "    </tr>\n",
       "    <tr>\n",
       "      <th>comments_log</th>\n",
       "      <td>0.691023</td>\n",
       "      <td>0.152785</td>\n",
       "      <td>-0.207413</td>\n",
       "      <td>0.452082</td>\n",
       "      <td>-0.091565</td>\n",
       "      <td>-0.323855</td>\n",
       "      <td>1.000000</td>\n",
       "      <td>0.151035</td>\n",
       "      <td>0.401846</td>\n",
       "      <td>0.499042</td>\n",
       "    </tr>\n",
       "    <tr>\n",
       "      <th>duration_log</th>\n",
       "      <td>0.144963</td>\n",
       "      <td>0.917707</td>\n",
       "      <td>-0.137200</td>\n",
       "      <td>-0.309364</td>\n",
       "      <td>-0.027468</td>\n",
       "      <td>-0.088921</td>\n",
       "      <td>0.151035</td>\n",
       "      <td>1.000000</td>\n",
       "      <td>0.060806</td>\n",
       "      <td>0.060081</td>\n",
       "    </tr>\n",
       "    <tr>\n",
       "      <th>views</th>\n",
       "      <td>0.506811</td>\n",
       "      <td>0.052208</td>\n",
       "      <td>0.010692</td>\n",
       "      <td>0.374055</td>\n",
       "      <td>-0.027547</td>\n",
       "      <td>-0.013190</td>\n",
       "      <td>0.401846</td>\n",
       "      <td>0.060806</td>\n",
       "      <td>1.000000</td>\n",
       "      <td>0.727085</td>\n",
       "    </tr>\n",
       "    <tr>\n",
       "      <th>views_log</th>\n",
       "      <td>0.420305</td>\n",
       "      <td>0.027102</td>\n",
       "      <td>0.175202</td>\n",
       "      <td>0.543813</td>\n",
       "      <td>-0.059379</td>\n",
       "      <td>0.151580</td>\n",
       "      <td>0.499042</td>\n",
       "      <td>0.060081</td>\n",
       "      <td>0.727085</td>\n",
       "      <td>1.000000</td>\n",
       "    </tr>\n",
       "  </tbody>\n",
       "</table>\n",
       "</div>"
      ],
      "text/plain": [
       "                comments  duration  film_date  languages  num_speaker  \\\n",
       "comments        1.000000  0.150867  -0.130541   0.303417    -0.041078   \n",
       "duration        0.150867  1.000000  -0.253342  -0.286280     0.011824   \n",
       "film_date      -0.130541 -0.253342   1.000000  -0.044646     0.038562   \n",
       "languages       0.303417 -0.286280  -0.044646   1.000000    -0.061477   \n",
       "num_speaker    -0.041078  0.011824   0.038562  -0.061477     1.000000   \n",
       "published_date -0.181452 -0.168212   0.896656  -0.156970     0.048532   \n",
       "comments_log    0.691023  0.152785  -0.207413   0.452082    -0.091565   \n",
       "duration_log    0.144963  0.917707  -0.137200  -0.309364    -0.027468   \n",
       "views           0.506811  0.052208   0.010692   0.374055    -0.027547   \n",
       "views_log       0.420305  0.027102   0.175202   0.543813    -0.059379   \n",
       "\n",
       "                published_date  comments_log  duration_log     views  \\\n",
       "comments             -0.181452      0.691023      0.144963  0.506811   \n",
       "duration             -0.168212      0.152785      0.917707  0.052208   \n",
       "film_date             0.896656     -0.207413     -0.137200  0.010692   \n",
       "languages            -0.156970      0.452082     -0.309364  0.374055   \n",
       "num_speaker           0.048532     -0.091565     -0.027468 -0.027547   \n",
       "published_date        1.000000     -0.323855     -0.088921 -0.013190   \n",
       "comments_log         -0.323855      1.000000      0.151035  0.401846   \n",
       "duration_log         -0.088921      0.151035      1.000000  0.060806   \n",
       "views                -0.013190      0.401846      0.060806  1.000000   \n",
       "views_log             0.151580      0.499042      0.060081  0.727085   \n",
       "\n",
       "                views_log  \n",
       "comments         0.420305  \n",
       "duration         0.027102  \n",
       "film_date        0.175202  \n",
       "languages        0.543813  \n",
       "num_speaker     -0.059379  \n",
       "published_date   0.151580  \n",
       "comments_log     0.499042  \n",
       "duration_log     0.060081  \n",
       "views            0.727085  \n",
       "views_log        1.000000  "
      ]
     },
     "execution_count": 517,
     "metadata": {},
     "output_type": "execute_result"
    }
   ],
   "source": [
    "pd.concat([X_train_quant, y_train, y_train_log], axis=1).corr()"
   ]
  },
  {
   "cell_type": "markdown",
   "metadata": {},
   "source": [
    "## EDA on Qualitative variables"
   ]
  },
  {
   "cell_type": "code",
   "execution_count": 518,
   "metadata": {},
   "outputs": [],
   "source": [
    "X_train_qualit = X_train.select_dtypes(np.object)"
   ]
  },
  {
   "cell_type": "code",
   "execution_count": 519,
   "metadata": {
    "scrolled": true
   },
   "outputs": [
    {
     "data": {
      "text/html": [
       "<div>\n",
       "<style scoped>\n",
       "    .dataframe tbody tr th:only-of-type {\n",
       "        vertical-align: middle;\n",
       "    }\n",
       "\n",
       "    .dataframe tbody tr th {\n",
       "        vertical-align: top;\n",
       "    }\n",
       "\n",
       "    .dataframe thead th {\n",
       "        text-align: right;\n",
       "    }\n",
       "</style>\n",
       "<table border=\"1\" class=\"dataframe\">\n",
       "  <thead>\n",
       "    <tr style=\"text-align: right;\">\n",
       "      <th></th>\n",
       "      <th>description</th>\n",
       "      <th>event</th>\n",
       "      <th>main_speaker</th>\n",
       "      <th>name</th>\n",
       "      <th>ratings</th>\n",
       "      <th>related_talks</th>\n",
       "      <th>speaker_occupation</th>\n",
       "      <th>tags</th>\n",
       "      <th>title</th>\n",
       "      <th>url</th>\n",
       "    </tr>\n",
       "  </thead>\n",
       "  <tbody>\n",
       "    <tr>\n",
       "      <th>708</th>\n",
       "      <td>Michael Shermer says the human tendency to bel...</td>\n",
       "      <td>TED2010</td>\n",
       "      <td>Michael Shermer</td>\n",
       "      <td>Michael Shermer: The pattern behind self-decep...</td>\n",
       "      <td>[{'id': 7, 'name': 'Funny', 'count': 475}, {'i...</td>\n",
       "      <td>[{'id': 22, 'hero': 'https://pe.tedcdn.com/ima...</td>\n",
       "      <td>Skeptic</td>\n",
       "      <td>['God', 'faith', 'neuroscience', 'psychology',...</td>\n",
       "      <td>The pattern behind self-deception</td>\n",
       "      <td>https://www.ted.com/talks/michael_shermer_the_...</td>\n",
       "    </tr>\n",
       "    <tr>\n",
       "      <th>1960</th>\n",
       "      <td>Collective compassion has meant an overall dec...</td>\n",
       "      <td>TED2015</td>\n",
       "      <td>Gary Haugen</td>\n",
       "      <td>Gary Haugen: The hidden reason for poverty the...</td>\n",
       "      <td>[{'id': 1, 'name': 'Beautiful', 'count': 195},...</td>\n",
       "      <td>[{'id': 644, 'hero': 'https://pe.tedcdn.com/im...</td>\n",
       "      <td>Human rights attorney</td>\n",
       "      <td>['inequality', 'poverty', 'violence']</td>\n",
       "      <td>The hidden reason for poverty the world needs ...</td>\n",
       "      <td>https://www.ted.com/talks/gary_haugen_the_hidd...</td>\n",
       "    </tr>\n",
       "    <tr>\n",
       "      <th>1566</th>\n",
       "      <td>Gayla Benefield was just doing her job -- unti...</td>\n",
       "      <td>TEDxDanubia</td>\n",
       "      <td>Margaret Heffernan</td>\n",
       "      <td>Margaret Heffernan: The dangers of willful bli...</td>\n",
       "      <td>[{'id': 3, 'name': 'Courageous', 'count': 413}...</td>\n",
       "      <td>[{'id': 1533, 'hero': 'https://pe.tedcdn.com/i...</td>\n",
       "      <td>Management thinker</td>\n",
       "      <td>['TEDx', 'corruption', 'culture', 'global issu...</td>\n",
       "      <td>The dangers of willful blindness</td>\n",
       "      <td>https://www.ted.com/talks/margaret_heffernan_t...</td>\n",
       "    </tr>\n",
       "    <tr>\n",
       "      <th>1780</th>\n",
       "      <td>We often think of bias and prejudice as rooted...</td>\n",
       "      <td>TEDSalon NY2014</td>\n",
       "      <td>Paul Bloom</td>\n",
       "      <td>Paul Bloom: Can prejudice ever be a good thing?</td>\n",
       "      <td>[{'id': 11, 'name': 'Longwinded', 'count': 35}...</td>\n",
       "      <td>[{'id': 1198, 'hero': 'https://pe.tedcdn.com/i...</td>\n",
       "      <td>Psychologist</td>\n",
       "      <td>['behavioral economics', 'mind', 'psychology']</td>\n",
       "      <td>Can prejudice ever be a good thing?</td>\n",
       "      <td>https://www.ted.com/talks/paul_bloom_can_preju...</td>\n",
       "    </tr>\n",
       "    <tr>\n",
       "      <th>640</th>\n",
       "      <td>Blind river dolphins, reclusive lemurs, a parr...</td>\n",
       "      <td>University of California</td>\n",
       "      <td>Douglas Adams</td>\n",
       "      <td>Douglas Adams: Parrots, the universe and every...</td>\n",
       "      <td>[{'id': 22, 'name': 'Fascinating', 'count': 29...</td>\n",
       "      <td>[{'id': 635, 'hero': 'https://pe.tedcdn.com/im...</td>\n",
       "      <td>Author, satirist</td>\n",
       "      <td>['biodiversity', 'biology', 'comedy', 'humor',...</td>\n",
       "      <td>Parrots, the universe and everything</td>\n",
       "      <td>https://www.ted.com/talks/douglas_adams_parrot...</td>\n",
       "    </tr>\n",
       "  </tbody>\n",
       "</table>\n",
       "</div>"
      ],
      "text/plain": [
       "                                            description  \\\n",
       "708   Michael Shermer says the human tendency to bel...   \n",
       "1960  Collective compassion has meant an overall dec...   \n",
       "1566  Gayla Benefield was just doing her job -- unti...   \n",
       "1780  We often think of bias and prejudice as rooted...   \n",
       "640   Blind river dolphins, reclusive lemurs, a parr...   \n",
       "\n",
       "                         event        main_speaker  \\\n",
       "708                    TED2010     Michael Shermer   \n",
       "1960                   TED2015         Gary Haugen   \n",
       "1566               TEDxDanubia  Margaret Heffernan   \n",
       "1780           TEDSalon NY2014          Paul Bloom   \n",
       "640   University of California       Douglas Adams   \n",
       "\n",
       "                                                   name  \\\n",
       "708   Michael Shermer: The pattern behind self-decep...   \n",
       "1960  Gary Haugen: The hidden reason for poverty the...   \n",
       "1566  Margaret Heffernan: The dangers of willful bli...   \n",
       "1780    Paul Bloom: Can prejudice ever be a good thing?   \n",
       "640   Douglas Adams: Parrots, the universe and every...   \n",
       "\n",
       "                                                ratings  \\\n",
       "708   [{'id': 7, 'name': 'Funny', 'count': 475}, {'i...   \n",
       "1960  [{'id': 1, 'name': 'Beautiful', 'count': 195},...   \n",
       "1566  [{'id': 3, 'name': 'Courageous', 'count': 413}...   \n",
       "1780  [{'id': 11, 'name': 'Longwinded', 'count': 35}...   \n",
       "640   [{'id': 22, 'name': 'Fascinating', 'count': 29...   \n",
       "\n",
       "                                          related_talks  \\\n",
       "708   [{'id': 22, 'hero': 'https://pe.tedcdn.com/ima...   \n",
       "1960  [{'id': 644, 'hero': 'https://pe.tedcdn.com/im...   \n",
       "1566  [{'id': 1533, 'hero': 'https://pe.tedcdn.com/i...   \n",
       "1780  [{'id': 1198, 'hero': 'https://pe.tedcdn.com/i...   \n",
       "640   [{'id': 635, 'hero': 'https://pe.tedcdn.com/im...   \n",
       "\n",
       "         speaker_occupation  \\\n",
       "708                 Skeptic   \n",
       "1960  Human rights attorney   \n",
       "1566     Management thinker   \n",
       "1780           Psychologist   \n",
       "640        Author, satirist   \n",
       "\n",
       "                                                   tags  \\\n",
       "708   ['God', 'faith', 'neuroscience', 'psychology',...   \n",
       "1960              ['inequality', 'poverty', 'violence']   \n",
       "1566  ['TEDx', 'corruption', 'culture', 'global issu...   \n",
       "1780     ['behavioral economics', 'mind', 'psychology']   \n",
       "640   ['biodiversity', 'biology', 'comedy', 'humor',...   \n",
       "\n",
       "                                                  title  \\\n",
       "708                   The pattern behind self-deception   \n",
       "1960  The hidden reason for poverty the world needs ...   \n",
       "1566                   The dangers of willful blindness   \n",
       "1780                Can prejudice ever be a good thing?   \n",
       "640                Parrots, the universe and everything   \n",
       "\n",
       "                                                    url  \n",
       "708   https://www.ted.com/talks/michael_shermer_the_...  \n",
       "1960  https://www.ted.com/talks/gary_haugen_the_hidd...  \n",
       "1566  https://www.ted.com/talks/margaret_heffernan_t...  \n",
       "1780  https://www.ted.com/talks/paul_bloom_can_preju...  \n",
       "640   https://www.ted.com/talks/douglas_adams_parrot...  "
      ]
     },
     "execution_count": 519,
     "metadata": {},
     "output_type": "execute_result"
    }
   ],
   "source": [
    "X_train_qualit.head()"
   ]
  },
  {
   "cell_type": "markdown",
   "metadata": {},
   "source": [
    "###  speaker_occupation"
   ]
  },
  {
   "cell_type": "code",
   "execution_count": 624,
   "metadata": {},
   "outputs": [
    {
     "data": {
      "text/plain": [
       "1216"
      ]
     },
     "execution_count": 624,
     "metadata": {},
     "output_type": "execute_result"
    }
   ],
   "source": [
    "len(X_train_qualit.speaker_occupation.unique())"
   ]
  },
  {
   "cell_type": "code",
   "execution_count": 621,
   "metadata": {
    "scrolled": true
   },
   "outputs": [
    {
     "data": {
      "text/plain": [
       "Writer                                               33\n",
       "Architect                                            27\n",
       "Artist                                               27\n",
       "Journalist                                           25\n",
       "Designer                                             25\n",
       "Entrepreneur                                         23\n",
       "Inventor                                             22\n",
       "Psychologist                                         21\n",
       "Photographer                                         18\n",
       "Author                                               18\n",
       "Filmmaker                                            18\n",
       "Educator                                             17\n",
       "Roboticist                                           14\n",
       "Economist                                            14\n",
       "Neuroscientist                                       13\n",
       "Philosopher                                          13\n",
       "Biologist                                            12\n",
       "Musician                                             11\n",
       "Marine biologist                                     11\n",
       "Physicist                                            10\n",
       "Astronomer                                            9\n",
       "Behavioral economist                                  9\n",
       "Graphic designer                                      9\n",
       "Technologist                                          9\n",
       "Oceanographer                                         9\n",
       "Activist                                              9\n",
       "Global health expert; data visionary                  8\n",
       "Poet                                                  8\n",
       "Philanthropist                                        8\n",
       "Novelist                                              8\n",
       "                                                     ..\n",
       "Nonprofit VC                                          1\n",
       "Femto-photographer                                    1\n",
       "Author, satirist                                      1\n",
       "Border specialist                                     1\n",
       "Berkeley Bionics' CEO                                 1\n",
       "Food urbanist                                         1\n",
       "Scientist                                             1\n",
       "Cardiologist                                          1\n",
       "Cognitive scientist and design critic                 1\n",
       "Sci-fi author                                         1\n",
       "Circadian neuroscientist                              1\n",
       "Inventor, designer, death care advocate               1\n",
       "Director                                              1\n",
       "Author, speaker, reformer                             1\n",
       "Environmental engineer                                1\n",
       "Musician and graphic designer                         1\n",
       "Refugee advocate                                      1\n",
       "Public health sociologist                             1\n",
       "CEO                                                   1\n",
       "Comedian and writer                                   1\n",
       "Doctor, intensive care specialist                     1\n",
       "Drug policy expert                                    1\n",
       "Cancer Researcher                                     1\n",
       "DNA origamist                                         1\n",
       "Skater                                                1\n",
       "Micro-sculptor                                        1\n",
       "Designate Secretary-General of the United Nations     1\n",
       "College president                                     1\n",
       "CEO, presentation designer                            1\n",
       "Poet and educator                                     1\n",
       "Name: speaker_occupation, Length: 1216, dtype: int64"
      ]
     },
     "execution_count": 621,
     "metadata": {},
     "output_type": "execute_result"
    }
   ],
   "source": [
    "X_train_qualit.speaker_occupation.value_counts()"
   ]
  },
  {
   "cell_type": "code",
   "execution_count": 627,
   "metadata": {},
   "outputs": [
    {
     "data": {
      "text/plain": [
       "744"
      ]
     },
     "execution_count": 627,
     "metadata": {},
     "output_type": "execute_result"
    }
   ],
   "source": [
    "X_train_qualit.speaker_occupation.value_counts()[:100].values.sum()"
   ]
  },
  {
   "cell_type": "code",
   "execution_count": 628,
   "metadata": {},
   "outputs": [
    {
     "data": {
      "text/plain": [
       "Writer                                  33\n",
       "Architect                               27\n",
       "Artist                                  27\n",
       "Journalist                              25\n",
       "Designer                                25\n",
       "Entrepreneur                            23\n",
       "Inventor                                22\n",
       "Psychologist                            21\n",
       "Photographer                            18\n",
       "Author                                  18\n",
       "Filmmaker                               18\n",
       "Educator                                17\n",
       "Roboticist                              14\n",
       "Economist                               14\n",
       "Neuroscientist                          13\n",
       "Philosopher                             13\n",
       "Biologist                               12\n",
       "Musician                                11\n",
       "Marine biologist                        11\n",
       "Physicist                               10\n",
       "Astronomer                               9\n",
       "Behavioral economist                     9\n",
       "Graphic designer                         9\n",
       "Technologist                             9\n",
       "Oceanographer                            9\n",
       "Activist                                 9\n",
       "Global health expert; data visionary     8\n",
       "Poet                                     8\n",
       "Philanthropist                           8\n",
       "Novelist                                 8\n",
       "Engineer                                 7\n",
       "Futurist                                 7\n",
       "Historian                                7\n",
       "Singer/songwriter                        7\n",
       "Mathematician                            6\n",
       "Social entrepreneur                      6\n",
       "Reporter                                 6\n",
       "Comedian                                 6\n",
       "Photojournalist                          6\n",
       "Evolutionary biologist                   6\n",
       "Name: speaker_occupation, dtype: int64"
      ]
     },
     "execution_count": 628,
     "metadata": {},
     "output_type": "execute_result"
    }
   ],
   "source": [
    "X_train_qualit.speaker_occupation.value_counts()[:40]"
   ]
  },
  {
   "cell_type": "markdown",
   "metadata": {},
   "source": [
    "### Event"
   ]
  },
  {
   "cell_type": "code",
   "execution_count": 520,
   "metadata": {},
   "outputs": [
    {
     "data": {
      "text/plain": [
       "318"
      ]
     },
     "execution_count": 520,
     "metadata": {},
     "output_type": "execute_result"
    }
   ],
   "source": [
    "len(X_train_qualit.event.unique())"
   ]
  },
  {
   "cell_type": "code",
   "execution_count": 521,
   "metadata": {},
   "outputs": [
    {
     "data": {
      "text/plain": [
       "array(['TED2010', 'TED2015', 'TEDxDanubia', 'TEDSalon NY2014',\n",
       "       'University of California', 'TED@State Street Boston', 'TED2014',\n",
       "       'TEDIndia 2009', 'TEDGlobal 2009', 'TEDMED 2014', 'TEDxUSC',\n",
       "       'TEDGlobal 2010', 'Stanford University', 'TED2007', 'TED2006',\n",
       "       'TEDxBeaconStreet', 'TED Talks Live', 'TED2003',\n",
       "       'TEDxToronto 2010', 'TED1998', 'TEDMED 2011', 'TED2012',\n",
       "       'TEDxBoston 2012', 'TED2005', 'TEDxAtlanta', 'TED2002',\n",
       "       'TEDxGhent', 'TEDxKids@Ambleside', 'TEDYouth 2015',\n",
       "       'TEDxBoston 2011', 'TED2017', 'TED@NYC', 'TEDGlobal 2013',\n",
       "       'TEDGlobal 2012', 'TEDxLondonBusinessSchool', 'TEDWomen 2016',\n",
       "       'TEDxCERN', 'TEDSummit', 'TEDxManchester', 'TEDxAustin',\n",
       "       'Mission Blue Voyage', 'TEDGlobal 2011', 'TEDGlobal 2007',\n",
       "       'TED2009', 'TEDGlobal 2014', 'TEDxWomen 2011', 'TEDWomen 2015',\n",
       "       'TED Fellows Retreat 2013', 'TED2016', 'TEDxVienna',\n",
       "       'TEDWomen 2010', 'Justice with Michael Sandel', 'INK Conference',\n",
       "       'TED2004', 'TEDxTC', 'TED-Ed', 'TEDxGeorgetown', 'TEDCity2.0',\n",
       "       'Royal Institution', 'TEDxEast', 'TED2008', 'TEDGlobalLondon',\n",
       "       'TEDxMidAtlantic', 'TED2011', 'Taste3 2008', 'TEDxEastEnd',\n",
       "       'TED1994', 'TED2013', 'TEDxStanford', 'TEDxSBU',\n",
       "       'TEDxHousesOfParliament', 'TED@UPS', 'TEDxPSU', 'TEDxThessaloniki',\n",
       "       'Fort Worth City Council', 'TEDGlobal>Geneva', 'TEDxCambridge',\n",
       "       'TED in the Field', 'TEDMED 2015', 'TED@Unilever',\n",
       "       'TEDSalon London Spring 2012', 'TEDxYouth@Manchester',\n",
       "       'TEDSalon NY2011', 'TED@BCG Paris', 'TEDWomen 2013', 'TEDxBoulder',\n",
       "       'TEDGlobal 2005', 'TEDxRainier', 'TEDxSaltLakeCity', 'SoulPancake',\n",
       "       'Harvard University', 'TEDxDirigo', 'TED@BCG Singapore',\n",
       "       'TEDxSummit', 'TED@State Street London', 'TEDxArendal',\n",
       "       'TEDxMileHigh', 'TEDxKC', 'TEDxSydney', 'TEDxSantaCruz',\n",
       "       'TED@State', 'TEDxAmoskeagMillyard', 'TEDxBloomington', 'TEDxCHUV',\n",
       "       'TED@IBM', 'TEDxWomen 2012', 'EG 2008', 'TEDxBratislava',\n",
       "       'TEDxHelvetia', 'EG 2007', 'TEDYouth 2013', 'TEDSalon London 2010',\n",
       "       'BBC TV', 'TED Prize Wish', 'TEDxDeExtinction', 'TEDxEuston',\n",
       "       'TEDxExeter', 'TED@Cannes', 'TED@BCG San Francisco',\n",
       "       'TEDSalon Berlin 2014', 'TEDSalon NY2013', 'TEDxOslo',\n",
       "       'TEDMED 2012', 'TEDSalon London Fall 2012',\n",
       "       'TEDxClaremontColleges', 'TEDxCaltech', 'TEDxIslay',\n",
       "       'Mission Blue II', 'TEDxVictoria', 'TEDxMidwest', 'TEDxYYC',\n",
       "       'TEDxImperialCollege', 'TEDxZurich 2013', 'Princeton University',\n",
       "       'Business Innovation Factory', \"TEDxO'Porto\",\n",
       "       'Chautauqua Institution', 'TEDMED 2009', 'Full Spectrum Auditions',\n",
       "       'TEDxCMU', 'TEDxMonroeCorrectionalComplex', 'TEDxBend',\n",
       "       'TED Talks Education', 'TEDxAmsterdam', 'TEDxJaffa 2013',\n",
       "       'TEDxCreativeCoast', 'TEDxEdmonton', 'TEDActive 2014',\n",
       "       'TEDxMidAtlantic 2013', 'TEDMED 2010', 'TEDxPortofSpain',\n",
       "       \"Eric Whitacre's Virtual Choir\", 'TEDxColumbus',\n",
       "       'Toronto Youth Corps', 'TEDxNASA@SiliconValley',\n",
       "       'TEDGlobal>London', 'TEDSalon London 2009', 'TEDxDU 2010',\n",
       "       'TEDxToronto 2011', 'TEDxSiliconValley', 'TEDxBrussels',\n",
       "       'TEDMED 2013', 'TEDNYC', 'TEDxManhattan', 'TEDxSanMigueldeAllende',\n",
       "       'TEDxMet', 'TEDxUCL', 'TEDxNewYork', 'TEDxSouthBank',\n",
       "       'TEDxPlaceDesNations', 'TEDLagos Ideas Search', 'TEDxNYED',\n",
       "       'TEDxCrenshaw', 'TEDxMtHood', 'TEDxWitsUniversity',\n",
       "       'TEDxRotterdam 2010', 'RSA Animate', 'TEDxPhoenix',\n",
       "       'TEDActive 2011', 'DLD 2007', 'TEDxNASA', 'TEDxProvidence',\n",
       "       'TEDxNatick', 'TED@Bangalore', 'TEDxRiodelaPlata', 'TED Residency',\n",
       "       'TEDxChange', 'TEDxBoulder 2011', 'TEDxOrcasIsland',\n",
       "       'TED@MotorCity', 'TED Dialogues', 'TEDxMuncyStatePrison',\n",
       "       'Serious Play 2008', 'TEDxSF', 'TEDNairobi Ideas Search',\n",
       "       'TEDxNorrkoping', 'DICE Summit 2010', 'TED@Johannesburg',\n",
       "       'TEDxKyoto', 'TEDxManhattanBeach', 'TEDPrize@UN',\n",
       "       'NextGen:Charity', 'TEDxNijmegen', 'TEDxGreatPacificGarbagePatch',\n",
       "       'TEDSalon London Spring 2011', 'TED@Nairobi', 'TEDxNorthwesternU',\n",
       "       'TEDxBrighton', 'TEDSalon 2006', 'TEDxVancouver',\n",
       "       'TEDxColbyCollege', 'TEDxPenn', 'TED Fellows Retreat 2015',\n",
       "       'TEDSalon London Fall 2011', 'TEDxFulbrightDublin', 'TED1990',\n",
       "       'TEDSalon NY2012', 'TEDxZurich', 'TEDxObserver', 'TEDMED 2016',\n",
       "       'TEDxGöteborg 2010', 'AORN Congress', 'TEDxMaastricht',\n",
       "       'Gel Conference', 'Elizabeth G. Anderson School', 'TEDxDubai',\n",
       "       'TEDxTokyo', 'The Do Lectures', 'Web 2.0 Expo 2008', 'TEDxRC2',\n",
       "       'TEDxSanQuentin', 'TEDxBoston', 'TED-Ed Weekend',\n",
       "       'TEDxColumbusWomen', 'TEDxOrangeCoast', 'TED@BCG London',\n",
       "       'TED@SXSWi', 'TEDxCaFoscariU', 'TEDxKrakow',\n",
       "       'TEDxConcordiaUPortland', 'TEDxSFU', 'TEDxDelft',\n",
       "       'TEDxGatewayWomen', 'TEDxNewy', 'TEDxSussexUniversity', 'TEDxSMU',\n",
       "       'TEDxParis 2010', 'TEDxPittsburgh', 'TEDxSanJoseCA',\n",
       "       'TEDSalon NY2015', 'LIFT 2007', 'TEDxDublin',\n",
       "       'TEDSalon 2007 Hot Science', 'Arbejdsglaede Live', 'TED@New York',\n",
       "       'TEDActive 2015', 'TEDxPeachtree', 'TEDxParis 2012', 'TEDxMarin',\n",
       "       'TEDxLeuvenSalon', 'TEDxZurich 2012', 'TEDxFiDiWomen',\n",
       "       'TED Studio', 'TED@Intel', 'TEDxUdeM', 'TEDxZurich 2011',\n",
       "       'TEDxMonterey', 'TEDxSanDiego', 'TED@London', 'TEDxDU 2011',\n",
       "       'TEDxWarwick', 'TED2001', 'TEDxCanberra', 'TEDxYouth@Sydney',\n",
       "       'TEDxGoldenGatePark 2012', 'TEDxGlasgow', 'TEDxPerth',\n",
       "       'TEDYouth 2014', 'TEDxKids@Brussels', 'TEDxLinnaeusUniversity',\n",
       "       'Michael Howard Studios', 'New York State Senate', 'TEDxOilSpill',\n",
       "       'TEDYouth 2011', 'TEDxToronto', 'TEDxAmazonia',\n",
       "       'TEDxMiamiUniversity', 'World Science Festival', 'TEDxToulouse',\n",
       "       'TED Fellows 2015', 'TEDxGroningen', 'TEDxEQChCh', 'TEDxAthens',\n",
       "       'TEDxConcorde', 'TEDxFrankfurt', 'TEDGlobal 2017', 'TEDxSkoll',\n",
       "       'TED@BCG Berlin', 'TEDxMIA', 'Handheld Learning', 'TEDxHouston',\n",
       "       'TEDxMaui', 'TEDxBeirut', 'TEDxVirginiaTech', 'TEDxABQ',\n",
       "       'TEDxTeen', 'TEDxBerlin', 'TEDxUMKC',\n",
       "       'TED Senior Fellows at TEDGlobal 2010', 'Skoll World Forum 2007',\n",
       "       'TEDxBoston 2009', 'TEDxGoodenoughCollege',\n",
       "       'TEDSalon 2009 Compassion', 'TEDxJaffa 2012', 'TEDxSonomaCounty',\n",
       "       'TEDxHampshireCollege', 'TEDxGrandRapids', 'TEDxBoston 2010'],\n",
       "      dtype=object)"
      ]
     },
     "execution_count": 521,
     "metadata": {},
     "output_type": "execute_result"
    }
   ],
   "source": [
    "X_train_qualit.event.unique()"
   ]
  },
  {
   "cell_type": "code",
   "execution_count": 522,
   "metadata": {},
   "outputs": [
    {
     "data": {
      "text/plain": [
       "TED2014                   65\n",
       "TED2009                   63\n",
       "TED2015                   60\n",
       "TED2013                   60\n",
       "TED2016                   60\n",
       "TED2010                   57\n",
       "TEDGlobal 2012            56\n",
       "TEDGlobal 2011            56\n",
       "TED2011                   55\n",
       "TEDGlobal 2013            54\n",
       "TEDGlobal 2009            54\n",
       "TED2012                   52\n",
       "TED2007                   52\n",
       "TED2017                   52\n",
       "TEDGlobal 2010            44\n",
       "TEDGlobal 2014            41\n",
       "TED2008                   39\n",
       "TED2006                   33\n",
       "TED2003                   32\n",
       "TED2005                   32\n",
       "TEDWomen 2010             29\n",
       "TEDSummit                 28\n",
       "TEDIndia 2009             28\n",
       "TED2004                   27\n",
       "TEDWomen 2015             25\n",
       "TEDGlobal 2007            24\n",
       "TED2002                   24\n",
       "TEDGlobal 2005            21\n",
       "TEDWomen 2016             21\n",
       "TED Talks Live            17\n",
       "TEDNYC                    17\n",
       "TEDxMidAtlantic           16\n",
       "TEDxBeaconStreet          16\n",
       "Mission Blue Voyage       16\n",
       "EG 2007                   12\n",
       "TEDSalon NY2013           11\n",
       "TEDGlobal>London          11\n",
       "TEDxSydney                10\n",
       "TED@IBM                    9\n",
       "TEDGlobal>Geneva           9\n",
       "TEDSalon NY2014            9\n",
       "TED@BCG Paris              9\n",
       "TED-Ed                     9\n",
       "TEDCity2.0                 9\n",
       "TEDMED 2012                8\n",
       "TEDMED 2013                8\n",
       "TEDxExeter                 8\n",
       "TEDMED 2014                8\n",
       "TEDMED 2009                8\n",
       "TEDxSummit                 8\n",
       "EG 2008                    7\n",
       "TEDSalon Berlin 2014       7\n",
       "TEDxWomen 2011             7\n",
       "Serious Play 2008          7\n",
       "TED@NYC                    7\n",
       "TEDMED 2015                7\n",
       "TEDxCERN                   7\n",
       "TEDMED 2011                7\n",
       "TED Talks Education        6\n",
       "TEDxHousesOfParliament     6\n",
       "Name: event, dtype: int64"
      ]
     },
     "execution_count": 522,
     "metadata": {},
     "output_type": "execute_result"
    }
   ],
   "source": [
    "X_train_qualit.event.value_counts()[:60]"
   ]
  },
  {
   "cell_type": "code",
   "execution_count": 523,
   "metadata": {},
   "outputs": [],
   "source": [
    "top_events = X_train_qualit.event.value_counts()[:12].index.tolist()"
   ]
  },
  {
   "cell_type": "code",
   "execution_count": 526,
   "metadata": {},
   "outputs": [],
   "source": [
    "event_df = pd.concat([X_train_qualit, y_train]).groupby('event')"
   ]
  },
  {
   "cell_type": "code",
   "execution_count": 527,
   "metadata": {},
   "outputs": [
    {
     "data": {
      "image/png": "[encoded data removed]",
      "text/plain": [
       "<Figure size 1080x360 with 1 Axes>"
      ]
     },
     "metadata": {
      "needs_background": "light"
     },
     "output_type": "display_data"
    }
   ],
   "source": [
    "plt.figure(figsize=(15,5))\n",
    "sns.boxplot(x='event', y='views', data=pd.concat([X_train_qualit, y_train],axis=1)[X_train_qualit['event'].isin(top_events)])\n",
    "plt.show()"
   ]
  },
  {
   "cell_type": "code",
   "execution_count": 528,
   "metadata": {
    "scrolled": true
   },
   "outputs": [
    {
     "data": {
      "image/png": "[encoded data removed]",
      "text/plain": [
       "<Figure size 1080x360 with 1 Axes>"
      ]
     },
     "metadata": {
      "needs_background": "light"
     },
     "output_type": "display_data"
    }
   ],
   "source": [
    "plt.figure(figsize=(15,5))\n",
    "sns.boxplot(x='event', y='views_log', data=pd.concat([X_train_qualit, y_train_log],axis=1)[X_train_qualit['event'].isin(top_events)])\n",
    "plt.show()"
   ]
  },
  {
   "cell_type": "code",
   "execution_count": 529,
   "metadata": {
    "scrolled": true
   },
   "outputs": [
    {
     "data": {
      "text/plain": [
       "TEDGlobal 2017                   1\n",
       "TEDxAthens                       1\n",
       "AORN Congress                    1\n",
       "TEDxO'Porto                      1\n",
       "TEDxSonomaCounty                 1\n",
       "TEDxEuston                       1\n",
       "TED1994                          1\n",
       "TEDxVirginiaTech                 1\n",
       "TEDYouth 2011                    1\n",
       "TEDxManhattan                    1\n",
       "TEDxPenn                         1\n",
       "Toronto Youth Corps              1\n",
       "TEDxLeuvenSalon                  1\n",
       "TEDxMonroeCorrectionalComplex    1\n",
       "TEDxGoldenGatePark 2012          1\n",
       "Name: event, dtype: int64"
      ]
     },
     "execution_count": 529,
     "metadata": {},
     "output_type": "execute_result"
    }
   ],
   "source": [
    "X_train_qualit.event.value_counts()[-15:]"
   ]
  },
  {
   "cell_type": "markdown",
   "metadata": {},
   "source": [
    "### Published_date_formated "
   ]
  },
  {
   "cell_type": "code",
   "execution_count": 530,
   "metadata": {},
   "outputs": [],
   "source": [
    "days_count = X_train.film_date_formated.apply(lambda x: x.day_name()).value_counts()"
   ]
  },
  {
   "cell_type": "code",
   "execution_count": 531,
   "metadata": {},
   "outputs": [],
   "source": [
    "days_order = ['Monday', 'Tuesday', 'Wednesday', 'Thursday', 'Friday', 'Saturday', 'Sunday']"
   ]
  },
  {
   "cell_type": "code",
   "execution_count": 532,
   "metadata": {},
   "outputs": [
    {
     "data": {
      "image/png": "[encoded data removed]",
      "text/plain": [
       "<Figure size 432x288 with 1 Axes>"
      ]
     },
     "metadata": {
      "needs_background": "light"
     },
     "output_type": "display_data"
    }
   ],
   "source": [
    "d_bp = sns.barplot(days_count.index, days_count.values, order=days_order)\n",
    "d_bp.set_xticklabels(labels=days_order, rotation=30)\n",
    "d_bp.set_xlabel('Day of the week')\n",
    "d_bp.set_ylabel('Talks Count')\n",
    "d_bp.set_title(\"Talks count in a given day of the week\")\n",
    "plt.show()"
   ]
  },
  {
   "cell_type": "code",
   "execution_count": 533,
   "metadata": {},
   "outputs": [],
   "source": [
    "X_train['day_name'] = X_train.film_date_formated.apply(lambda x: x.day_name())"
   ]
  },
  {
   "cell_type": "code",
   "execution_count": 534,
   "metadata": {},
   "outputs": [
    {
     "data": {
      "image/png": "[encoded data removed]",
      "text/plain": [
       "<Figure size 1080x360 with 1 Axes>"
      ]
     },
     "metadata": {
      "needs_background": "light"
     },
     "output_type": "display_data"
    }
   ],
   "source": [
    "plt.figure(figsize=(15,5))\n",
    "sns.boxplot(x='day_name', y='views',\n",
    "            data=pd.concat([X_train, y_train],axis=1),order=days_order)\n",
    "plt.show()"
   ]
  },
  {
   "cell_type": "code",
   "execution_count": 535,
   "metadata": {
    "scrolled": true
   },
   "outputs": [
    {
     "data": {
      "image/png": "[encoded data removed]",
      "text/plain": [
       "<Figure size 1080x360 with 1 Axes>"
      ]
     },
     "metadata": {
      "needs_background": "light"
     },
     "output_type": "display_data"
    }
   ],
   "source": [
    "plt.figure(figsize=(15,5))\n",
    "sns.boxplot(x='day_name', y='views_log',\n",
    "            data=pd.concat([X_train, y_train_log],axis=1),order=days_order)\n",
    "plt.show()"
   ]
  },
  {
   "cell_type": "code",
   "execution_count": 536,
   "metadata": {},
   "outputs": [
    {
     "data": {
      "text/plain": [
       "February     476\n",
       "March        313\n",
       "June         223\n",
       "July         205\n",
       "November     179\n",
       "October      166\n",
       "April        132\n",
       "May          103\n",
       "December     103\n",
       "September     90\n",
       "January       28\n",
       "August        22\n",
       "Name: film_date_formated, dtype: int64"
      ]
     },
     "execution_count": 536,
     "metadata": {},
     "output_type": "execute_result"
    }
   ],
   "source": [
    "month_count = X_train.film_date_formated.apply(lambda x: x.month_name()).value_counts()\n",
    "month_count"
   ]
  },
  {
   "cell_type": "code",
   "execution_count": 537,
   "metadata": {},
   "outputs": [],
   "source": [
    "month_order = ['January', 'February', 'March', 'April', 'May',\n",
    "               'June', 'July', 'August', 'September', 'October', \n",
    "               'November', 'December']"
   ]
  },
  {
   "cell_type": "code",
   "execution_count": 538,
   "metadata": {
    "scrolled": true
   },
   "outputs": [
    {
     "data": {
      "image/png": "[encoded data removed]",
      "text/plain": [
       "<Figure size 720x360 with 1 Axes>"
      ]
     },
     "metadata": {
      "needs_background": "light"
     },
     "output_type": "display_data"
    }
   ],
   "source": [
    "plt.figure(figsize=(10,5))\n",
    "m_bp = sns.barplot(month_count.index, month_count.values, order=month_order)\n",
    "m_bp.set_xticklabels(labels=month_order, rotation=30)\n",
    "m_bp.set_xlabel('Month')\n",
    "m_bp.set_ylabel('Talks Count')\n",
    "m_bp.set_title(\"Talks count in a given month\")\n",
    "plt.show()"
   ]
  },
  {
   "cell_type": "code",
   "execution_count": 539,
   "metadata": {},
   "outputs": [],
   "source": [
    "X_train['month_name'] = X_train.film_date_formated.apply(lambda x: x.month_name())"
   ]
  },
  {
   "cell_type": "code",
   "execution_count": 540,
   "metadata": {
    "scrolled": true
   },
   "outputs": [
    {
     "data": {
      "image/png": "[encoded data removed]",
      "text/plain": [
       "<Figure size 1080x360 with 1 Axes>"
      ]
     },
     "metadata": {
      "needs_background": "light"
     },
     "output_type": "display_data"
    }
   ],
   "source": [
    "plt.figure(figsize=(15,5))\n",
    "sns.boxplot(x='month_name', y='views_log',\n",
    "            data=pd.concat([X_train, y_train_log],axis=1),order=month_order)\n",
    "plt.show()"
   ]
  },
  {
   "cell_type": "code",
   "execution_count": 541,
   "metadata": {
    "scrolled": true
   },
   "outputs": [
    {
     "data": {
      "text/plain": [
       "2010    223\n",
       "2013    220\n",
       "2011    211\n",
       "2012    210\n",
       "2015    191\n",
       "2016    191\n",
       "2014    188\n",
       "2009    182\n",
       "2007     93\n",
       "2017     77\n",
       "2008     64\n",
       "2005     55\n",
       "2006     37\n",
       "2003     31\n",
       "2004     28\n",
       "2002     24\n",
       "1998      6\n",
       "2001      4\n",
       "1994      1\n",
       "1991      1\n",
       "1990      1\n",
       "1983      1\n",
       "1972      1\n",
       "Name: film_date_formated, dtype: int64"
      ]
     },
     "execution_count": 541,
     "metadata": {},
     "output_type": "execute_result"
    }
   ],
   "source": [
    "year_count = X_train.film_date_formated.apply(lambda x: x.year).value_counts()\n",
    "year_count"
   ]
  },
  {
   "cell_type": "code",
   "execution_count": 542,
   "metadata": {},
   "outputs": [],
   "source": [
    "X_train['year'] = X_train.film_date_formated.apply(lambda x: x.year)"
   ]
  },
  {
   "cell_type": "code",
   "execution_count": 545,
   "metadata": {
    "scrolled": true
   },
   "outputs": [
    {
     "data": {
      "image/png": "[encoded data removed]",
      "text/plain": [
       "<Figure size 1080x360 with 1 Axes>"
      ]
     },
     "metadata": {
      "needs_background": "light"
     },
     "output_type": "display_data"
    }
   ],
   "source": [
    "plt.figure(figsize=(15,5))\n",
    "sns.boxplot(x='year', y='views_log',\n",
    "            data=pd.concat([X_train, y_train_log],axis=1)[X_train.year>=2002],\n",
    "            order=list(range(2002,2018)))\n",
    "plt.show()"
   ]
  },
  {
   "cell_type": "markdown",
   "metadata": {},
   "source": [
    "# Base model"
   ]
  },
  {
   "cell_type": "code",
   "execution_count": 602,
   "metadata": {},
   "outputs": [],
   "source": [
    "from sklearn.linear_model import LinearRegression\n",
    "from sklearn.model_selection import cross_validate\n",
    "from sklearn.model_selection import KFold\n",
    "from sklearn.metrics import r2_score\n",
    "from sklearn.preprocessing import StandardScaler"
   ]
  },
  {
   "cell_type": "code",
   "execution_count": 548,
   "metadata": {},
   "outputs": [
    {
     "data": {
      "text/html": [
       "<div>\n",
       "<style scoped>\n",
       "    .dataframe tbody tr th:only-of-type {\n",
       "        vertical-align: middle;\n",
       "    }\n",
       "\n",
       "    .dataframe tbody tr th {\n",
       "        vertical-align: top;\n",
       "    }\n",
       "\n",
       "    .dataframe thead th {\n",
       "        text-align: right;\n",
       "    }\n",
       "</style>\n",
       "<table border=\"1\" class=\"dataframe\">\n",
       "  <thead>\n",
       "    <tr style=\"text-align: right;\">\n",
       "      <th></th>\n",
       "      <th>comments</th>\n",
       "      <th>duration</th>\n",
       "      <th>film_date</th>\n",
       "      <th>languages</th>\n",
       "      <th>num_speaker</th>\n",
       "      <th>published_date</th>\n",
       "      <th>comments_log</th>\n",
       "      <th>duration_log</th>\n",
       "    </tr>\n",
       "  </thead>\n",
       "  <tbody>\n",
       "    <tr>\n",
       "      <th>708</th>\n",
       "      <td>837</td>\n",
       "      <td>1141</td>\n",
       "      <td>1265760000</td>\n",
       "      <td>34</td>\n",
       "      <td>1</td>\n",
       "      <td>1276507380</td>\n",
       "      <td>6.729824</td>\n",
       "      <td>7.039660</td>\n",
       "    </tr>\n",
       "    <tr>\n",
       "      <th>1960</th>\n",
       "      <td>305</td>\n",
       "      <td>1328</td>\n",
       "      <td>1426550400</td>\n",
       "      <td>30</td>\n",
       "      <td>1</td>\n",
       "      <td>1429542970</td>\n",
       "      <td>5.720312</td>\n",
       "      <td>7.191429</td>\n",
       "    </tr>\n",
       "    <tr>\n",
       "      <th>1566</th>\n",
       "      <td>289</td>\n",
       "      <td>878</td>\n",
       "      <td>1363910400</td>\n",
       "      <td>30</td>\n",
       "      <td>1</td>\n",
       "      <td>1376319512</td>\n",
       "      <td>5.666427</td>\n",
       "      <td>6.777647</td>\n",
       "    </tr>\n",
       "    <tr>\n",
       "      <th>1780</th>\n",
       "      <td>101</td>\n",
       "      <td>983</td>\n",
       "      <td>1389744000</td>\n",
       "      <td>26</td>\n",
       "      <td>1</td>\n",
       "      <td>1404399605</td>\n",
       "      <td>4.615121</td>\n",
       "      <td>6.890609</td>\n",
       "    </tr>\n",
       "    <tr>\n",
       "      <th>640</th>\n",
       "      <td>101</td>\n",
       "      <td>5256</td>\n",
       "      <td>989971200</td>\n",
       "      <td>0</td>\n",
       "      <td>1</td>\n",
       "      <td>1268762040</td>\n",
       "      <td>4.615121</td>\n",
       "      <td>8.567126</td>\n",
       "    </tr>\n",
       "  </tbody>\n",
       "</table>\n",
       "</div>"
      ],
      "text/plain": [
       "      comments  duration   film_date  languages  num_speaker  published_date  \\\n",
       "708        837      1141  1265760000         34            1      1276507380   \n",
       "1960       305      1328  1426550400         30            1      1429542970   \n",
       "1566       289       878  1363910400         30            1      1376319512   \n",
       "1780       101       983  1389744000         26            1      1404399605   \n",
       "640        101      5256   989971200          0            1      1268762040   \n",
       "\n",
       "      comments_log  duration_log  \n",
       "708       6.729824      7.039660  \n",
       "1960      5.720312      7.191429  \n",
       "1566      5.666427      6.777647  \n",
       "1780      4.615121      6.890609  \n",
       "640       4.615121      8.567126  "
      ]
     },
     "execution_count": 548,
     "metadata": {},
     "output_type": "execute_result"
    }
   ],
   "source": [
    "X_train_quant.head()"
   ]
  },
  {
   "cell_type": "code",
   "execution_count": 552,
   "metadata": {},
   "outputs": [],
   "source": [
    "X_base_model = X_train_quant[['comments', 'duration', 'languages', 'film_date']]"
   ]
  },
  {
   "cell_type": "code",
   "execution_count": 553,
   "metadata": {
    "scrolled": true
   },
   "outputs": [
    {
     "name": "stderr",
     "output_type": "stream",
     "text": [
      "C:\\Users\\Simeon\\Anaconda3\\envs\\First\\lib\\site-packages\\ipykernel_launcher.py:1: SettingWithCopyWarning: \n",
      "A value is trying to be set on a copy of a slice from a DataFrame.\n",
      "Try using .loc[row_indexer,col_indexer] = value instead\n",
      "\n",
      "See the caveats in the documentation: http://pandas.pydata.org/pandas-docs/stable/indexing.html#indexing-view-versus-copy\n",
      "  \"\"\"Entry point for launching an IPython kernel.\n",
      "C:\\Users\\Simeon\\Anaconda3\\envs\\First\\lib\\site-packages\\ipykernel_launcher.py:2: SettingWithCopyWarning: \n",
      "A value is trying to be set on a copy of a slice from a DataFrame.\n",
      "Try using .loc[row_indexer,col_indexer] = value instead\n",
      "\n",
      "See the caveats in the documentation: http://pandas.pydata.org/pandas-docs/stable/indexing.html#indexing-view-versus-copy\n",
      "  \n",
      "C:\\Users\\Simeon\\Anaconda3\\envs\\First\\lib\\site-packages\\ipykernel_launcher.py:3: SettingWithCopyWarning: \n",
      "A value is trying to be set on a copy of a slice from a DataFrame.\n",
      "Try using .loc[row_indexer,col_indexer] = value instead\n",
      "\n",
      "See the caveats in the documentation: http://pandas.pydata.org/pandas-docs/stable/indexing.html#indexing-view-versus-copy\n",
      "  This is separate from the ipykernel package so we can avoid doing imports until\n"
     ]
    }
   ],
   "source": [
    "X_base_model['year'] = X_train.film_date_formated.apply(lambda x: x.year)\n",
    "X_base_model['day'] = X_train.film_date_formated.apply(lambda x: x.day)\n",
    "X_base_model['month'] = X_train.film_date_formated.apply(lambda x: x.month)"
   ]
  },
  {
   "cell_type": "code",
   "execution_count": 613,
   "metadata": {},
   "outputs": [
    {
     "name": "stderr",
     "output_type": "stream",
     "text": [
      "C:\\Users\\Simeon\\Anaconda3\\envs\\First\\lib\\site-packages\\sklearn\\preprocessing\\data.py:617: DataConversionWarning: Data with input dtype int64 were all converted to float64 by StandardScaler.\n",
      "  return self.partial_fit(X, y)\n",
      "C:\\Users\\Simeon\\Anaconda3\\envs\\First\\lib\\site-packages\\sklearn\\base.py:462: DataConversionWarning: Data with input dtype int64 were all converted to float64 by StandardScaler.\n",
      "  return self.fit(X, **fit_params).transform(X)\n"
     ]
    }
   ],
   "source": [
    "cv = cross_validate(LinearRegression(),StandardScaler().fit_transform(X_base_model), y_train, cv=5)"
   ]
  },
  {
   "cell_type": "code",
   "execution_count": 614,
   "metadata": {},
   "outputs": [
    {
     "name": "stderr",
     "output_type": "stream",
     "text": [
      "C:\\Users\\Simeon\\Anaconda3\\envs\\First\\lib\\site-packages\\sklearn\\utils\\deprecation.py:125: FutureWarning: You are accessing a training score ('train_score'), which will not be available by default any more in 0.21. If you need training scores, please set return_train_score=True\n",
      "  warnings.warn(*warn_args, **warn_kwargs)\n"
     ]
    },
    {
     "data": {
      "text/plain": [
       "array([0.33121422, 0.2792188 , 0.40548523, 0.32428023, 0.33679843])"
      ]
     },
     "execution_count": 614,
     "metadata": {},
     "output_type": "execute_result"
    }
   ],
   "source": [
    "cv['train_score']"
   ]
  },
  {
   "cell_type": "code",
   "execution_count": 615,
   "metadata": {},
   "outputs": [
    {
     "data": {
      "text/plain": [
       "array([ 0.27094709,  0.44804736, -0.39187442,  0.33947453,  0.2917017 ])"
      ]
     },
     "execution_count": 615,
     "metadata": {},
     "output_type": "execute_result"
    }
   ],
   "source": [
    "cv['test_score']"
   ]
  },
  {
   "cell_type": "code",
   "execution_count": 598,
   "metadata": {},
   "outputs": [],
   "source": [
    "X_base_model_log = X_base_model.copy()\n",
    "X_base_model_log['comments'] = np.log(X_base_model_log['comments'])\n",
    "X_base_model_log['duration'] =np.log(X_base_model_log['duration'])"
   ]
  },
  {
   "cell_type": "code",
   "execution_count": 609,
   "metadata": {},
   "outputs": [],
   "source": [
    "kf = KFold(n_splits=5)\n",
    "X_base_model_log = StandardScaler().fit_transform(X_base_model_log)\n",
    "kf.get_n_splits(X_base_model_log)\n",
    "lr = LinearRegression()\n",
    "cv = []\n",
    "train = []\n",
    "for train_index, test_index in kf.split(X_base_model_log):\n",
    "    X_tr, X_val = X_base_model_log[train_index], X_base_model_log[test_index]\n",
    "    y_tr, y_val = y_train_log.iloc[train_index], y_train_log.iloc[test_index]\n",
    "    lr.fit(X_tr,y_tr)\n",
    "    cv.append(r2_score(np.exp(lr.predict(X_val)), np.exp(y_val)))\n",
    "    train.append(r2_score(np.exp(lr.predict(X_tr)), np.exp(y_tr)))"
   ]
  },
  {
   "cell_type": "code",
   "execution_count": 610,
   "metadata": {},
   "outputs": [
    {
     "data": {
      "text/plain": [
       "[-4.26881230873675,\n",
       " -5.709321254020559,\n",
       " -5.871667976970315,\n",
       " -3.0639557859998936,\n",
       " -14.098259934897307]"
      ]
     },
     "execution_count": 610,
     "metadata": {},
     "output_type": "execute_result"
    }
   ],
   "source": [
    "cv"
   ]
  },
  {
   "cell_type": "code",
   "execution_count": 611,
   "metadata": {},
   "outputs": [
    {
     "data": {
      "text/plain": [
       "[-6.366994280950625,\n",
       " -6.733748858590845,\n",
       " -7.427354727689208,\n",
       " -7.251523475783204,\n",
       " -4.703339677934468]"
      ]
     },
     "execution_count": 611,
     "metadata": {},
     "output_type": "execute_result"
    }
   ],
   "source": [
    "train"
   ]
  }
 ],
 "metadata": {
  "kernelspec": {
   "display_name": "Python 3",
   "language": "python",
   "name": "python3"
  },
  "language_info": {
   "codemirror_mode": {
    "name": "ipython",
    "version": 3
   },
   "file_extension": ".py",
   "mimetype": "text/x-python",
   "name": "python",
   "nbconvert_exporter": "python",
   "pygments_lexer": "ipython3",
   "version": "3.6.6"
  }
 },
 "nbformat": 4,
 "nbformat_minor": 2
}
