{
 "cells": [
  {
   "cell_type": "code",
   "execution_count": 322,
   "metadata": {},
   "outputs": [],
   "source": [
    "import numpy as np\n",
    "import pandas as pd\n",
    "import matplotlib.pyplot as plt\n",
    "import seaborn as sns\n",
    "import datetime\n",
    "import ast\n",
    "from sklearn.base import BaseEstimator, TransformerMixin\n",
    "from nltk import TweetTokenizer"
   ]
  },
  {
   "cell_type": "code",
   "execution_count": 17,
   "metadata": {},
   "outputs": [],
   "source": [
    "X_train = pd.read_csv(r'D:\\Machine Learning\\Datasets\\ted-talks\\X_train.csv')\n",
    "X_test = pd.read_csv(r'D:\\Machine Learning\\Datasets\\ted-talks\\X_test.csv')\n",
    "y_train = pd.read_csv(r'D:\\Machine Learning\\Datasets\\ted-talks\\y_train.csv', header=None)\n",
    "y_test = pd.read_csv(r'D:\\Machine Learning\\Datasets\\ted-talks\\y_test.csv', header=None)"
   ]
  },
  {
   "cell_type": "code",
   "execution_count": 9,
   "metadata": {},
   "outputs": [
    {
     "data": {
      "text/plain": [
       "(2040, 18)"
      ]
     },
     "execution_count": 9,
     "metadata": {},
     "output_type": "execute_result"
    }
   ],
   "source": [
    "X_train.shape"
   ]
  },
  {
   "cell_type": "code",
   "execution_count": 10,
   "metadata": {},
   "outputs": [
    {
     "data": {
      "text/plain": [
       "(510, 18)"
      ]
     },
     "execution_count": 10,
     "metadata": {},
     "output_type": "execute_result"
    }
   ],
   "source": [
    "X_test.shape"
   ]
  },
  {
   "cell_type": "code",
   "execution_count": 11,
   "metadata": {},
   "outputs": [
    {
     "data": {
      "text/plain": [
       "(2040, 1)"
      ]
     },
     "execution_count": 11,
     "metadata": {},
     "output_type": "execute_result"
    }
   ],
   "source": [
    "y_train.shape"
   ]
  },
  {
   "cell_type": "code",
   "execution_count": 12,
   "metadata": {},
   "outputs": [
    {
     "data": {
      "text/plain": [
       "(510, 1)"
      ]
     },
     "execution_count": 12,
     "metadata": {},
     "output_type": "execute_result"
    }
   ],
   "source": [
    "y_test.shape"
   ]
  },
  {
   "cell_type": "markdown",
   "metadata": {},
   "source": [
    "# Feature engineering with dates "
   ]
  },
  {
   "cell_type": "code",
   "execution_count": 24,
   "metadata": {},
   "outputs": [],
   "source": [
    "X_train['film_date_formated'] =  pd.to_datetime(X_train['film_date'],unit='s')\n",
    "X_train['published_date_formated'] =  pd.to_datetime(X_train['published_date'],unit='s')\n",
    "X_test['film_date_formated'] =  pd.to_datetime(X_test['film_date'],unit='s')\n",
    "X_test['published_date_formated'] =  pd.to_datetime(X_test['published_date'],unit='s')"
   ]
  },
  {
   "cell_type": "code",
   "execution_count": 25,
   "metadata": {
    "scrolled": true
   },
   "outputs": [
    {
     "data": {
      "text/html": [
       "<div>\n",
       "<style scoped>\n",
       "    .dataframe tbody tr th:only-of-type {\n",
       "        vertical-align: middle;\n",
       "    }\n",
       "\n",
       "    .dataframe tbody tr th {\n",
       "        vertical-align: top;\n",
       "    }\n",
       "\n",
       "    .dataframe thead th {\n",
       "        text-align: right;\n",
       "    }\n",
       "</style>\n",
       "<table border=\"1\" class=\"dataframe\">\n",
       "  <thead>\n",
       "    <tr style=\"text-align: right;\">\n",
       "      <th></th>\n",
       "      <th>comments</th>\n",
       "      <th>description</th>\n",
       "      <th>duration</th>\n",
       "      <th>event</th>\n",
       "      <th>film_date</th>\n",
       "      <th>languages</th>\n",
       "      <th>main_speaker</th>\n",
       "      <th>name</th>\n",
       "      <th>num_speaker</th>\n",
       "      <th>published_date</th>\n",
       "      <th>ratings</th>\n",
       "      <th>related_talks</th>\n",
       "      <th>speaker_occupation</th>\n",
       "      <th>tags</th>\n",
       "      <th>title</th>\n",
       "      <th>url</th>\n",
       "      <th>film_date_formated</th>\n",
       "      <th>published_date_formated</th>\n",
       "    </tr>\n",
       "  </thead>\n",
       "  <tbody>\n",
       "    <tr>\n",
       "      <th>0</th>\n",
       "      <td>837</td>\n",
       "      <td>Michael Shermer says the human tendency to bel...</td>\n",
       "      <td>1141</td>\n",
       "      <td>TED2010</td>\n",
       "      <td>1265760000</td>\n",
       "      <td>34</td>\n",
       "      <td>Michael Shermer</td>\n",
       "      <td>Michael Shermer: The pattern behind self-decep...</td>\n",
       "      <td>1</td>\n",
       "      <td>1276507380</td>\n",
       "      <td>[{'id': 7, 'name': 'Funny', 'count': 475}, {'i...</td>\n",
       "      <td>[{'id': 22, 'hero': 'https://pe.tedcdn.com/ima...</td>\n",
       "      <td>Skeptic</td>\n",
       "      <td>['God', 'faith', 'neuroscience', 'psychology',...</td>\n",
       "      <td>The pattern behind self-deception</td>\n",
       "      <td>https://www.ted.com/talks/michael_shermer_the_...</td>\n",
       "      <td>2010-02-10</td>\n",
       "      <td>2010-06-14 09:23:00</td>\n",
       "    </tr>\n",
       "    <tr>\n",
       "      <th>1</th>\n",
       "      <td>305</td>\n",
       "      <td>Collective compassion has meant an overall dec...</td>\n",
       "      <td>1328</td>\n",
       "      <td>TED2015</td>\n",
       "      <td>1426550400</td>\n",
       "      <td>30</td>\n",
       "      <td>Gary Haugen</td>\n",
       "      <td>Gary Haugen: The hidden reason for poverty the...</td>\n",
       "      <td>1</td>\n",
       "      <td>1429542970</td>\n",
       "      <td>[{'id': 1, 'name': 'Beautiful', 'count': 195},...</td>\n",
       "      <td>[{'id': 644, 'hero': 'https://pe.tedcdn.com/im...</td>\n",
       "      <td>Human rights attorney</td>\n",
       "      <td>['inequality', 'poverty', 'violence']</td>\n",
       "      <td>The hidden reason for poverty the world needs ...</td>\n",
       "      <td>https://www.ted.com/talks/gary_haugen_the_hidd...</td>\n",
       "      <td>2015-03-17</td>\n",
       "      <td>2015-04-20 15:16:10</td>\n",
       "    </tr>\n",
       "    <tr>\n",
       "      <th>2</th>\n",
       "      <td>289</td>\n",
       "      <td>Gayla Benefield was just doing her job -- unti...</td>\n",
       "      <td>878</td>\n",
       "      <td>TEDxDanubia</td>\n",
       "      <td>1363910400</td>\n",
       "      <td>30</td>\n",
       "      <td>Margaret Heffernan</td>\n",
       "      <td>Margaret Heffernan: The dangers of willful bli...</td>\n",
       "      <td>1</td>\n",
       "      <td>1376319512</td>\n",
       "      <td>[{'id': 3, 'name': 'Courageous', 'count': 413}...</td>\n",
       "      <td>[{'id': 1533, 'hero': 'https://pe.tedcdn.com/i...</td>\n",
       "      <td>Management thinker</td>\n",
       "      <td>['TEDx', 'corruption', 'culture', 'global issu...</td>\n",
       "      <td>The dangers of willful blindness</td>\n",
       "      <td>https://www.ted.com/talks/margaret_heffernan_t...</td>\n",
       "      <td>2013-03-22</td>\n",
       "      <td>2013-08-12 14:58:32</td>\n",
       "    </tr>\n",
       "    <tr>\n",
       "      <th>3</th>\n",
       "      <td>101</td>\n",
       "      <td>We often think of bias and prejudice as rooted...</td>\n",
       "      <td>983</td>\n",
       "      <td>TEDSalon NY2014</td>\n",
       "      <td>1389744000</td>\n",
       "      <td>26</td>\n",
       "      <td>Paul Bloom</td>\n",
       "      <td>Paul Bloom: Can prejudice ever be a good thing?</td>\n",
       "      <td>1</td>\n",
       "      <td>1404399605</td>\n",
       "      <td>[{'id': 11, 'name': 'Longwinded', 'count': 35}...</td>\n",
       "      <td>[{'id': 1198, 'hero': 'https://pe.tedcdn.com/i...</td>\n",
       "      <td>Psychologist</td>\n",
       "      <td>['behavioral economics', 'mind', 'psychology']</td>\n",
       "      <td>Can prejudice ever be a good thing?</td>\n",
       "      <td>https://www.ted.com/talks/paul_bloom_can_preju...</td>\n",
       "      <td>2014-01-15</td>\n",
       "      <td>2014-07-03 15:00:05</td>\n",
       "    </tr>\n",
       "    <tr>\n",
       "      <th>4</th>\n",
       "      <td>101</td>\n",
       "      <td>Blind river dolphins, reclusive lemurs, a parr...</td>\n",
       "      <td>5256</td>\n",
       "      <td>University of California</td>\n",
       "      <td>989971200</td>\n",
       "      <td>0</td>\n",
       "      <td>Douglas Adams</td>\n",
       "      <td>Douglas Adams: Parrots, the universe and every...</td>\n",
       "      <td>1</td>\n",
       "      <td>1268762040</td>\n",
       "      <td>[{'id': 22, 'name': 'Fascinating', 'count': 29...</td>\n",
       "      <td>[{'id': 635, 'hero': 'https://pe.tedcdn.com/im...</td>\n",
       "      <td>Author, satirist</td>\n",
       "      <td>['biodiversity', 'biology', 'comedy', 'humor',...</td>\n",
       "      <td>Parrots, the universe and everything</td>\n",
       "      <td>https://www.ted.com/talks/douglas_adams_parrot...</td>\n",
       "      <td>2001-05-16</td>\n",
       "      <td>2010-03-16 17:54:00</td>\n",
       "    </tr>\n",
       "  </tbody>\n",
       "</table>\n",
       "</div>"
      ],
      "text/plain": [
       "   comments                                        description  duration  \\\n",
       "0       837  Michael Shermer says the human tendency to bel...      1141   \n",
       "1       305  Collective compassion has meant an overall dec...      1328   \n",
       "2       289  Gayla Benefield was just doing her job -- unti...       878   \n",
       "3       101  We often think of bias and prejudice as rooted...       983   \n",
       "4       101  Blind river dolphins, reclusive lemurs, a parr...      5256   \n",
       "\n",
       "                      event   film_date  languages        main_speaker  \\\n",
       "0                   TED2010  1265760000         34     Michael Shermer   \n",
       "1                   TED2015  1426550400         30         Gary Haugen   \n",
       "2               TEDxDanubia  1363910400         30  Margaret Heffernan   \n",
       "3           TEDSalon NY2014  1389744000         26          Paul Bloom   \n",
       "4  University of California   989971200          0       Douglas Adams   \n",
       "\n",
       "                                                name  num_speaker  \\\n",
       "0  Michael Shermer: The pattern behind self-decep...            1   \n",
       "1  Gary Haugen: The hidden reason for poverty the...            1   \n",
       "2  Margaret Heffernan: The dangers of willful bli...            1   \n",
       "3    Paul Bloom: Can prejudice ever be a good thing?            1   \n",
       "4  Douglas Adams: Parrots, the universe and every...            1   \n",
       "\n",
       "   published_date                                            ratings  \\\n",
       "0      1276507380  [{'id': 7, 'name': 'Funny', 'count': 475}, {'i...   \n",
       "1      1429542970  [{'id': 1, 'name': 'Beautiful', 'count': 195},...   \n",
       "2      1376319512  [{'id': 3, 'name': 'Courageous', 'count': 413}...   \n",
       "3      1404399605  [{'id': 11, 'name': 'Longwinded', 'count': 35}...   \n",
       "4      1268762040  [{'id': 22, 'name': 'Fascinating', 'count': 29...   \n",
       "\n",
       "                                       related_talks     speaker_occupation  \\\n",
       "0  [{'id': 22, 'hero': 'https://pe.tedcdn.com/ima...                Skeptic   \n",
       "1  [{'id': 644, 'hero': 'https://pe.tedcdn.com/im...  Human rights attorney   \n",
       "2  [{'id': 1533, 'hero': 'https://pe.tedcdn.com/i...     Management thinker   \n",
       "3  [{'id': 1198, 'hero': 'https://pe.tedcdn.com/i...           Psychologist   \n",
       "4  [{'id': 635, 'hero': 'https://pe.tedcdn.com/im...       Author, satirist   \n",
       "\n",
       "                                                tags  \\\n",
       "0  ['God', 'faith', 'neuroscience', 'psychology',...   \n",
       "1              ['inequality', 'poverty', 'violence']   \n",
       "2  ['TEDx', 'corruption', 'culture', 'global issu...   \n",
       "3     ['behavioral economics', 'mind', 'psychology']   \n",
       "4  ['biodiversity', 'biology', 'comedy', 'humor',...   \n",
       "\n",
       "                                               title  \\\n",
       "0                  The pattern behind self-deception   \n",
       "1  The hidden reason for poverty the world needs ...   \n",
       "2                   The dangers of willful blindness   \n",
       "3                Can prejudice ever be a good thing?   \n",
       "4               Parrots, the universe and everything   \n",
       "\n",
       "                                                 url film_date_formated  \\\n",
       "0  https://www.ted.com/talks/michael_shermer_the_...         2010-02-10   \n",
       "1  https://www.ted.com/talks/gary_haugen_the_hidd...         2015-03-17   \n",
       "2  https://www.ted.com/talks/margaret_heffernan_t...         2013-03-22   \n",
       "3  https://www.ted.com/talks/paul_bloom_can_preju...         2014-01-15   \n",
       "4  https://www.ted.com/talks/douglas_adams_parrot...         2001-05-16   \n",
       "\n",
       "  published_date_formated  \n",
       "0     2010-06-14 09:23:00  \n",
       "1     2015-04-20 15:16:10  \n",
       "2     2013-08-12 14:58:32  \n",
       "3     2014-07-03 15:00:05  \n",
       "4     2010-03-16 17:54:00  "
      ]
     },
     "execution_count": 25,
     "metadata": {},
     "output_type": "execute_result"
    }
   ],
   "source": [
    "X_train.head()"
   ]
  },
  {
   "cell_type": "markdown",
   "metadata": {},
   "source": [
    "##  Publishing lag\n",
    "Days passed from the talk performance to the talk publishing"
   ]
  },
  {
   "cell_type": "code",
   "execution_count": 80,
   "metadata": {},
   "outputs": [],
   "source": [
    "publishing_lag = X_train.apply(lambda row: (row['film_date_formated'].date() \n",
    "                           - row['published_date_formated'].date()).days,\n",
    "              axis=1)"
   ]
  },
  {
   "cell_type": "code",
   "execution_count": 81,
   "metadata": {},
   "outputs": [
    {
     "data": {
      "text/plain": [
       "335"
      ]
     },
     "execution_count": 81,
     "metadata": {},
     "output_type": "execute_result"
    }
   ],
   "source": [
    "max(publishing_lag)"
   ]
  },
  {
   "cell_type": "code",
   "execution_count": 82,
   "metadata": {},
   "outputs": [
    {
     "data": {
      "text/plain": [
       "-13879"
      ]
     },
     "execution_count": 82,
     "metadata": {},
     "output_type": "execute_result"
    }
   ],
   "source": [
    "min(publishing_lag)"
   ]
  },
  {
   "cell_type": "code",
   "execution_count": 83,
   "metadata": {},
   "outputs": [
    {
     "data": {
      "text/plain": [
       "18"
      ]
     },
     "execution_count": 83,
     "metadata": {},
     "output_type": "execute_result"
    }
   ],
   "source": [
    "len(publishing_lag[publishing_lag >= 0])"
   ]
  },
  {
   "cell_type": "code",
   "execution_count": 87,
   "metadata": {},
   "outputs": [
    {
     "data": {
      "text/plain": [
       "125"
      ]
     },
     "execution_count": 87,
     "metadata": {},
     "output_type": "execute_result"
    }
   ],
   "source": [
    "len(publishing_lag[publishing_lag < -1000])"
   ]
  },
  {
   "cell_type": "code",
   "execution_count": 88,
   "metadata": {},
   "outputs": [
    {
     "data": {
      "text/plain": [
       "<matplotlib.axes._subplots.AxesSubplot at 0x23b46e4f9b0>"
      ]
     },
     "execution_count": 88,
     "metadata": {},
     "output_type": "execute_result"
    },
    {
     "data": {
      "image/png": "[encoded data removed]",
      "text/plain": [
       "<Figure size 432x288 with 1 Axes>"
      ]
     },
     "metadata": {
      "needs_background": "light"
     },
     "output_type": "display_data"
    }
   ],
   "source": [
    "sns.distplot(publishing_lag)"
   ]
  },
  {
   "cell_type": "code",
   "execution_count": 89,
   "metadata": {},
   "outputs": [],
   "source": [
    "publishing_lag = np.clip(publishing_lag.values, a_max=0, a_min=-1000)"
   ]
  },
  {
   "cell_type": "code",
   "execution_count": 94,
   "metadata": {},
   "outputs": [
    {
     "data": {
      "image/png": "[encoded data removed]",
      "text/plain": [
       "<Figure size 432x288 with 1 Axes>"
      ]
     },
     "metadata": {
      "needs_background": "light"
     },
     "output_type": "display_data"
    }
   ],
   "source": [
    "sns.distplot(publishing_lag)\n",
    "plt.show()"
   ]
  },
  {
   "cell_type": "code",
   "execution_count": 321,
   "metadata": {},
   "outputs": [
    {
     "data": {
      "text/plain": [
       "array([[1.        , 0.04704909],\n",
       "       [0.04704909, 1.        ]])"
      ]
     },
     "execution_count": 321,
     "metadata": {},
     "output_type": "execute_result"
    }
   ],
   "source": [
    "np.corrcoef(publishing_lag, y_train.values.reshape(y_train.shape[0])) "
   ]
  },
  {
   "cell_type": "code",
   "execution_count": 95,
   "metadata": {},
   "outputs": [],
   "source": [
    "def publishing_lag_calc(data, clipmax=0, clipmin=-1000):\n",
    "    publishing_lag = data.apply(lambda row: (row['film_date_formated'].date() \n",
    "                           - row['published_date_formated'].date()).days,\n",
    "              axis=1)\n",
    "    return np.clip(publishing_lag.values, a_max=clipmax, a_min=clipmin)"
   ]
  },
  {
   "cell_type": "markdown",
   "metadata": {},
   "source": [
    "## Elapsed time since 01.01.2002\n",
    "With the exception of a few outliers, 2002 seems to be the first year when a published talk was filmed"
   ]
  },
  {
   "cell_type": "code",
   "execution_count": 316,
   "metadata": {},
   "outputs": [],
   "source": [
    "elapsed_time = X_train.apply(lambda row: (datetime.date(2002, 1, 1) -\n",
    "                                            row['film_date_formated'].date()).days \n",
    "                           , axis=1)"
   ]
  },
  {
   "cell_type": "code",
   "execution_count": 319,
   "metadata": {},
   "outputs": [
    {
     "data": {
      "text/plain": [
       "array([[ 1.       , -0.0106933],\n",
       "       [-0.0106933,  1.       ]])"
      ]
     },
     "execution_count": 319,
     "metadata": {},
     "output_type": "execute_result"
    }
   ],
   "source": [
    "np.corrcoef(elapsed_time.values, y_train.values.reshape(y_train.shape[0])) "
   ]
  },
  {
   "cell_type": "code",
   "execution_count": 103,
   "metadata": {},
   "outputs": [
    {
     "data": {
      "image/png": "[encoded data removed]",
      "text/plain": [
       "<Figure size 432x288 with 1 Axes>"
      ]
     },
     "metadata": {
      "needs_background": "light"
     },
     "output_type": "display_data"
    }
   ],
   "source": [
    "sns.distplot(elapsed_time)\n",
    "plt.show()"
   ]
  },
  {
   "cell_type": "code",
   "execution_count": 315,
   "metadata": {},
   "outputs": [],
   "source": [
    "def elapsed_time_calc(data):\n",
    "    return data.apply(lambda row: (datetime.date(2002, 1, 1) -\n",
    "                                            row['film_date_formated'].date()).days \n",
    "                           , axis=1).values"
   ]
  },
  {
   "cell_type": "markdown",
   "metadata": {},
   "source": [
    "## Exctract year, month, day of the week as features"
   ]
  },
  {
   "cell_type": "code",
   "execution_count": 108,
   "metadata": {},
   "outputs": [],
   "source": [
    "def get_year(data, column='film_date_formated'):\n",
    "    return data[column].apply(lambda x: x.year).values"
   ]
  },
  {
   "cell_type": "code",
   "execution_count": 110,
   "metadata": {},
   "outputs": [
    {
     "data": {
      "text/plain": [
       "array([2010, 2015, 2013, 2014, 2001], dtype=int64)"
      ]
     },
     "execution_count": 110,
     "metadata": {},
     "output_type": "execute_result"
    }
   ],
   "source": [
    "get_year(X_train.head())"
   ]
  },
  {
   "cell_type": "code",
   "execution_count": 111,
   "metadata": {},
   "outputs": [],
   "source": [
    "def get_month(data, column='film_date_formated'):\n",
    "    return data[column].apply(lambda x: x.month_name()).values"
   ]
  },
  {
   "cell_type": "code",
   "execution_count": 112,
   "metadata": {},
   "outputs": [
    {
     "data": {
      "text/plain": [
       "array(['February', 'March', 'March', 'January', 'May'], dtype=object)"
      ]
     },
     "execution_count": 112,
     "metadata": {},
     "output_type": "execute_result"
    }
   ],
   "source": [
    "get_month(X_train.head())"
   ]
  },
  {
   "cell_type": "code",
   "execution_count": 113,
   "metadata": {},
   "outputs": [],
   "source": [
    "def get_day(data, column='film_date_formated'):\n",
    "    return data[column].apply(lambda x: x.day_name()).values"
   ]
  },
  {
   "cell_type": "code",
   "execution_count": 114,
   "metadata": {},
   "outputs": [
    {
     "data": {
      "text/plain": [
       "array(['Wednesday', 'Tuesday', 'Friday', 'Wednesday', 'Wednesday'],\n",
       "      dtype=object)"
      ]
     },
     "execution_count": 114,
     "metadata": {},
     "output_type": "execute_result"
    }
   ],
   "source": [
    "get_day(X_train.head())"
   ]
  },
  {
   "cell_type": "markdown",
   "metadata": {},
   "source": [
    "# Tags "
   ]
  },
  {
   "cell_type": "code",
   "execution_count": 115,
   "metadata": {
    "scrolled": true
   },
   "outputs": [
    {
     "data": {
      "text/plain": [
       "0    ['God', 'faith', 'neuroscience', 'psychology',...\n",
       "1                ['inequality', 'poverty', 'violence']\n",
       "2    ['TEDx', 'corruption', 'culture', 'global issu...\n",
       "3       ['behavioral economics', 'mind', 'psychology']\n",
       "4    ['biodiversity', 'biology', 'comedy', 'humor',...\n",
       "Name: tags, dtype: object"
      ]
     },
     "execution_count": 115,
     "metadata": {},
     "output_type": "execute_result"
    }
   ],
   "source": [
    "X_train.head().tags"
   ]
  },
  {
   "cell_type": "code",
   "execution_count": 149,
   "metadata": {},
   "outputs": [],
   "source": [
    "unique_tags = set()\n",
    "for tags  in X_train.tags:\n",
    "    unique_tags.update(ast.literal_eval(tags.lower()))"
   ]
  },
  {
   "cell_type": "code",
   "execution_count": 150,
   "metadata": {},
   "outputs": [
    {
     "data": {
      "text/plain": [
       "415"
      ]
     },
     "execution_count": 150,
     "metadata": {},
     "output_type": "execute_result"
    }
   ],
   "source": [
    "len(unique_tags)"
   ]
  },
  {
   "cell_type": "code",
   "execution_count": 151,
   "metadata": {
    "scrolled": true
   },
   "outputs": [
    {
     "data": {
      "text/plain": [
       "{'3d printing',\n",
       " 'activism',\n",
       " 'addiction',\n",
       " 'adventure',\n",
       " 'advertising',\n",
       " 'africa',\n",
       " 'aging',\n",
       " 'agriculture',\n",
       " 'ai',\n",
       " 'aids',\n",
       " 'aircraft',\n",
       " 'algorithm',\n",
       " 'alternative energy',\n",
       " \"alzheimer's\",\n",
       " 'ancient world',\n",
       " 'animals',\n",
       " 'animation',\n",
       " 'anthropocene',\n",
       " 'anthropology',\n",
       " 'ants',\n",
       " 'apes',\n",
       " 'archaeology',\n",
       " 'architecture',\n",
       " 'art',\n",
       " 'asia',\n",
       " 'asteroid',\n",
       " 'astrobiology',\n",
       " 'astronomy',\n",
       " 'atheism',\n",
       " 'augmented reality',\n",
       " 'autism spectrum disorder',\n",
       " 'bacteria',\n",
       " 'beauty',\n",
       " 'bees',\n",
       " 'behavioral economics',\n",
       " 'big bang',\n",
       " 'big problems',\n",
       " 'biodiversity',\n",
       " 'bioethics',\n",
       " 'biology',\n",
       " 'biomechanics',\n",
       " 'biomimicry',\n",
       " 'biosphere',\n",
       " 'biotech',\n",
       " 'birds',\n",
       " 'blindness',\n",
       " 'blockchain',\n",
       " 'body language',\n",
       " 'books',\n",
       " 'botany',\n",
       " 'brain',\n",
       " 'brand',\n",
       " 'brazil',\n",
       " 'buddhism',\n",
       " 'bullying',\n",
       " 'business',\n",
       " 'cancer',\n",
       " 'capitalism',\n",
       " 'cars',\n",
       " 'cello',\n",
       " 'charter for compassion',\n",
       " 'chemistry',\n",
       " 'children',\n",
       " 'china',\n",
       " 'choice',\n",
       " 'christianity',\n",
       " 'cities',\n",
       " 'climate change',\n",
       " 'cloud',\n",
       " 'code',\n",
       " 'cognitive science',\n",
       " 'collaboration',\n",
       " 'comedy',\n",
       " 'communication',\n",
       " 'community',\n",
       " 'compassion',\n",
       " 'complexity',\n",
       " 'composing',\n",
       " 'computers',\n",
       " 'conducting',\n",
       " 'consciousness',\n",
       " 'conservation',\n",
       " 'consumerism',\n",
       " 'corruption',\n",
       " 'cosmos',\n",
       " 'creativity',\n",
       " 'crime',\n",
       " 'criminal justice',\n",
       " 'crispr',\n",
       " 'crowdsourcing',\n",
       " 'culture',\n",
       " 'curiosity',\n",
       " 'cyborg',\n",
       " 'dance',\n",
       " 'dark matter',\n",
       " 'data',\n",
       " 'death',\n",
       " 'debate',\n",
       " 'decision-making',\n",
       " 'deextinction',\n",
       " 'demo',\n",
       " 'democracy',\n",
       " 'depression',\n",
       " 'design',\n",
       " 'dinosaurs',\n",
       " 'disability',\n",
       " 'disaster relief',\n",
       " 'discovery',\n",
       " 'disease',\n",
       " 'dna',\n",
       " 'driverless cars',\n",
       " 'drones',\n",
       " 'ebola',\n",
       " 'ecology',\n",
       " 'economics',\n",
       " 'education',\n",
       " 'egypt',\n",
       " 'empathy',\n",
       " 'energy',\n",
       " 'engineering',\n",
       " 'entertainment',\n",
       " 'entrepreneur',\n",
       " 'environment',\n",
       " 'epidemiology',\n",
       " 'europe',\n",
       " 'evil',\n",
       " 'evolution',\n",
       " 'evolutionary psychology',\n",
       " 'exoskeleton',\n",
       " 'exploration',\n",
       " 'extraterrestrial life',\n",
       " 'extreme sports',\n",
       " 'failure',\n",
       " 'faith',\n",
       " 'family',\n",
       " 'farming',\n",
       " 'fashion',\n",
       " 'fear',\n",
       " 'feminism',\n",
       " 'film',\n",
       " 'finance',\n",
       " 'fish',\n",
       " 'flight',\n",
       " 'food',\n",
       " 'foreign policy',\n",
       " 'forensics',\n",
       " 'friendship',\n",
       " 'funny',\n",
       " 'future',\n",
       " 'gaming',\n",
       " 'garden',\n",
       " 'gender',\n",
       " 'gender equality',\n",
       " 'gender spectrum',\n",
       " 'genetics',\n",
       " 'geology',\n",
       " 'glacier',\n",
       " 'global development',\n",
       " 'global issues',\n",
       " 'goal-setting',\n",
       " 'god',\n",
       " 'google',\n",
       " 'government',\n",
       " 'grammar',\n",
       " 'green',\n",
       " 'guitar',\n",
       " 'guns',\n",
       " 'hack',\n",
       " 'happiness',\n",
       " 'health',\n",
       " 'health care',\n",
       " 'hearing',\n",
       " 'heart health',\n",
       " 'history',\n",
       " 'hiv',\n",
       " 'human body',\n",
       " 'human origins',\n",
       " 'humanity',\n",
       " 'humor',\n",
       " 'identity',\n",
       " 'illness',\n",
       " 'illusion',\n",
       " 'immigration',\n",
       " 'india',\n",
       " 'industrial design',\n",
       " 'inequality',\n",
       " 'infrastructure',\n",
       " 'innovation',\n",
       " 'insects',\n",
       " 'intelligence',\n",
       " 'interface design',\n",
       " 'internet',\n",
       " 'interview',\n",
       " 'introvert',\n",
       " 'invention',\n",
       " 'investment',\n",
       " 'iran',\n",
       " 'iraq',\n",
       " 'islam',\n",
       " 'jazz',\n",
       " 'journalism',\n",
       " 'language',\n",
       " 'law',\n",
       " 'leadership',\n",
       " 'lgbt',\n",
       " 'library',\n",
       " 'life',\n",
       " 'literature',\n",
       " 'live music',\n",
       " 'love',\n",
       " 'macarthur grant',\n",
       " 'machine learning',\n",
       " 'magic',\n",
       " 'manufacturing',\n",
       " 'map',\n",
       " 'marketing',\n",
       " 'mars',\n",
       " 'materials',\n",
       " 'math',\n",
       " 'media',\n",
       " 'medical imaging',\n",
       " 'medical research',\n",
       " 'medicine',\n",
       " 'meditation',\n",
       " 'meme',\n",
       " 'memory',\n",
       " 'men',\n",
       " 'mental health',\n",
       " 'microbes',\n",
       " 'microbiology',\n",
       " 'microfinance',\n",
       " 'microsoft',\n",
       " 'middle east',\n",
       " 'military',\n",
       " 'mind',\n",
       " 'mindfulness',\n",
       " 'mining',\n",
       " 'mission blue',\n",
       " 'mobility',\n",
       " 'molecular biology',\n",
       " 'money',\n",
       " 'monkeys',\n",
       " 'moon',\n",
       " 'morality',\n",
       " 'motivation',\n",
       " 'movies',\n",
       " 'museums',\n",
       " 'music',\n",
       " 'nanoscale',\n",
       " 'narcotics',\n",
       " 'nasa',\n",
       " 'natural disaster',\n",
       " 'natural resources',\n",
       " 'nature',\n",
       " 'neuroscience',\n",
       " 'new york',\n",
       " 'news',\n",
       " 'nobel prize',\n",
       " 'nonviolence',\n",
       " 'novel',\n",
       " 'nuclear energy',\n",
       " 'nuclear weapons',\n",
       " 'obesity',\n",
       " 'oceans',\n",
       " 'oil',\n",
       " 'online video',\n",
       " 'open-source',\n",
       " 'origami',\n",
       " 'pain',\n",
       " 'painting',\n",
       " 'paleontology',\n",
       " 'pandemic',\n",
       " 'parenting',\n",
       " 'peace',\n",
       " 'performance',\n",
       " 'performance art',\n",
       " 'personal growth',\n",
       " 'personality',\n",
       " 'pharmaceuticals',\n",
       " 'philanthropy',\n",
       " 'philosophy',\n",
       " 'photography',\n",
       " 'physics',\n",
       " 'physiology',\n",
       " 'piano',\n",
       " 'planets',\n",
       " 'plants',\n",
       " 'plastic',\n",
       " 'play',\n",
       " 'poetry',\n",
       " 'policy',\n",
       " 'politics',\n",
       " 'pollution',\n",
       " 'population',\n",
       " 'potential',\n",
       " 'poverty',\n",
       " 'prediction',\n",
       " 'pregnancy',\n",
       " 'presentation',\n",
       " 'primates',\n",
       " 'prison',\n",
       " 'privacy',\n",
       " 'product design',\n",
       " 'productivity',\n",
       " 'programming',\n",
       " 'prosthetics',\n",
       " 'protests',\n",
       " 'psychology',\n",
       " 'ptsd',\n",
       " 'public health',\n",
       " 'public spaces',\n",
       " 'race',\n",
       " 'refugees',\n",
       " 'relationships',\n",
       " 'religion',\n",
       " 'resources',\n",
       " 'rivers',\n",
       " 'robots',\n",
       " 'rocket science',\n",
       " 'sanitation',\n",
       " 'science',\n",
       " 'science and art',\n",
       " 'security',\n",
       " 'self',\n",
       " 'senses',\n",
       " 'sex',\n",
       " 'sexual violence',\n",
       " 'shopping',\n",
       " 'sight',\n",
       " 'simplicity',\n",
       " 'singer',\n",
       " 'skateboarding',\n",
       " 'slavery',\n",
       " 'sleep',\n",
       " 'smell',\n",
       " 'social change',\n",
       " 'social media',\n",
       " 'society',\n",
       " 'sociology',\n",
       " 'software',\n",
       " 'solar energy',\n",
       " 'solar system',\n",
       " 'sound',\n",
       " 'south america',\n",
       " 'space',\n",
       " 'speech',\n",
       " 'spoken word',\n",
       " 'sports',\n",
       " 'state-building',\n",
       " 'statistics',\n",
       " 'storytelling',\n",
       " 'string theory',\n",
       " 'student',\n",
       " 'submarine',\n",
       " 'success',\n",
       " 'suicide',\n",
       " 'surgery',\n",
       " 'surveillance',\n",
       " 'sustainability',\n",
       " 'synthetic biology',\n",
       " 'syria',\n",
       " 'teaching',\n",
       " 'technology',\n",
       " 'ted books',\n",
       " 'ted brain trust',\n",
       " 'ted en español',\n",
       " 'ted fellows',\n",
       " 'ted prize',\n",
       " 'ted residency',\n",
       " 'ted-ed',\n",
       " 'tedmed',\n",
       " 'tednyc',\n",
       " 'tedx',\n",
       " 'tedyouth',\n",
       " 'telecom',\n",
       " 'telescopes',\n",
       " 'television',\n",
       " 'terrorism',\n",
       " 'testing',\n",
       " 'theater',\n",
       " 'time',\n",
       " 'toy',\n",
       " 'trafficking',\n",
       " 'transgender',\n",
       " 'transportation',\n",
       " 'travel',\n",
       " 'trees',\n",
       " 'trust',\n",
       " 'typography',\n",
       " 'united states',\n",
       " 'universe',\n",
       " 'urban',\n",
       " 'urban planning',\n",
       " 'vaccines',\n",
       " 'violence',\n",
       " 'violin',\n",
       " 'virtual reality',\n",
       " 'virus',\n",
       " 'visualizations',\n",
       " 'vocals',\n",
       " 'vulnerability',\n",
       " 'war',\n",
       " 'water',\n",
       " 'weather',\n",
       " 'web',\n",
       " 'wikipedia',\n",
       " 'wind energy',\n",
       " 'women',\n",
       " 'women in business',\n",
       " 'work',\n",
       " 'work-life balance',\n",
       " 'world cultures',\n",
       " 'writing',\n",
       " 'wunderkind',\n",
       " 'youth'}"
      ]
     },
     "execution_count": 151,
     "metadata": {},
     "output_type": "execute_result"
    }
   ],
   "source": [
    "unique_tags"
   ]
  },
  {
   "cell_type": "code",
   "execution_count": 155,
   "metadata": {},
   "outputs": [],
   "source": [
    "tags_map = {}\n",
    "for tags  in X_train.tags:\n",
    "    for tag in ast.literal_eval(tags.lower()):\n",
    "        tags_map[tag] = tags_map.get(tag,0) + 1"
   ]
  },
  {
   "cell_type": "code",
   "execution_count": 158,
   "metadata": {},
   "outputs": [],
   "source": [
    "from collections import OrderedDict"
   ]
  },
  {
   "cell_type": "code",
   "execution_count": 162,
   "metadata": {},
   "outputs": [
    {
     "data": {
      "text/plain": [
       "OrderedDict([('technology', 571),\n",
       "             ('science', 459),\n",
       "             ('global issues', 399),\n",
       "             ('culture', 393),\n",
       "             ('tedx', 344),\n",
       "             ('design', 323),\n",
       "             ('business', 266),\n",
       "             ('entertainment', 234),\n",
       "             ('health', 188),\n",
       "             ('innovation', 181),\n",
       "             ('society', 172),\n",
       "             ('art', 169),\n",
       "             ('social change', 161),\n",
       "             ('future', 157),\n",
       "             ('humanity', 152),\n",
       "             ('biology', 151),\n",
       "             ('creativity', 149),\n",
       "             ('communication', 149),\n",
       "             ('collaboration', 140),\n",
       "             ('medicine', 138),\n",
       "             ('environment', 137),\n",
       "             ('brain', 134),\n",
       "             ('education', 127),\n",
       "             ('history', 122),\n",
       "             ('economics', 120),\n",
       "             ('activism', 117),\n",
       "             ('ted fellows', 115),\n",
       "             ('community', 113),\n",
       "             ('music', 112),\n",
       "             ('children', 111),\n",
       "             ('invention', 110),\n",
       "             ('health care', 107),\n",
       "             ('psychology', 101),\n",
       "             ('politics', 99),\n",
       "             ('storytelling', 98),\n",
       "             ('performance', 97),\n",
       "             ('cities', 96),\n",
       "             ('engineering', 95),\n",
       "             ('women', 94),\n",
       "             ('life', 93),\n",
       "             ('nature', 92),\n",
       "             ('africa', 90),\n",
       "             ('identity', 89),\n",
       "             ('animals', 89),\n",
       "             ('war', 88),\n",
       "             ('computers', 87),\n",
       "             ('humor', 85),\n",
       "             ('exploration', 85),\n",
       "             ('personal growth', 84),\n",
       "             ('inequality', 79),\n",
       "             ('medical research', 79),\n",
       "             ('data', 79),\n",
       "             ('climate change', 76),\n",
       "             ('neuroscience', 73),\n",
       "             ('government', 73),\n",
       "             ('photography', 72),\n",
       "             ('visualizations', 71),\n",
       "             ('architecture', 68),\n",
       "             ('internet', 66),\n",
       "             ('live music', 64),\n",
       "             ('mind', 62),\n",
       "             ('happiness', 62),\n",
       "             ('disease', 62),\n",
       "             ('biotech', 62),\n",
       "             ('potential', 61),\n",
       "             ('oceans', 61),\n",
       "             ('sustainability', 59),\n",
       "             ('work', 59),\n",
       "             ('physics', 57),\n",
       "             ('evolution', 57),\n",
       "             ('global development', 57),\n",
       "             ('green', 56),\n",
       "             ('violence', 54),\n",
       "             ('biodiversity', 54),\n",
       "             ('film', 54),\n",
       "             ('motivation', 53),\n",
       "             ('mental health', 52),\n",
       "             ('space', 52),\n",
       "             ('genetics', 51),\n",
       "             ('cognitive science', 50),\n",
       "             ('entrepreneur', 50),\n",
       "             ('media', 49),\n",
       "             ('philosophy', 48),\n",
       "             ('beauty', 48),\n",
       "             ('poverty', 47),\n",
       "             ('writing', 47),\n",
       "             ('big problems', 47),\n",
       "             ('universe', 47),\n",
       "             ('food', 47),\n",
       "             ('illness', 47),\n",
       "             ('language', 45),\n",
       "             ('math', 45),\n",
       "             ('robots', 45),\n",
       "             ('comedy', 44),\n",
       "             ('religion', 43),\n",
       "             ('intelligence', 43),\n",
       "             ('peace', 43),\n",
       "             ('journalism', 43),\n",
       "             ('astronomy', 42),\n",
       "             ('energy', 42),\n",
       "             ('ecology', 41),\n",
       "             ('self', 40),\n",
       "             ('family', 40),\n",
       "             ('poetry', 40),\n",
       "             ('ted brain trust', 40),\n",
       "             ('teaching', 39),\n",
       "             ('web', 39),\n",
       "             ('demo', 39),\n",
       "             ('social media', 39),\n",
       "             ('policy', 38),\n",
       "             ('death', 38),\n",
       "             ('race', 38),\n",
       "             ('adventure', 38),\n",
       "             ('public health', 38),\n",
       "             ('dna', 37),\n",
       "             ('product design', 37),\n",
       "             ('software', 37),\n",
       "             ('crime', 37),\n",
       "             ('law', 36),\n",
       "             ('leadership', 36),\n",
       "             ('democracy', 36),\n",
       "             ('infrastructure', 35),\n",
       "             ('cancer', 35),\n",
       "             ('algorithm', 35),\n",
       "             ('ai', 35),\n",
       "             ('parenting', 34),\n",
       "             ('aging', 34),\n",
       "             ('terrorism', 34),\n",
       "             ('chemistry', 34),\n",
       "             ('goal-setting', 33),\n",
       "             ('books', 33),\n",
       "             ('decision-making', 32),\n",
       "             ('choice', 32),\n",
       "             ('security', 32),\n",
       "             ('alternative energy', 32),\n",
       "             ('pollution', 31),\n",
       "             ('transportation', 31),\n",
       "             ('youth', 31),\n",
       "             ('water', 31),\n",
       "             ('love', 30),\n",
       "             ('materials', 29),\n",
       "             ('gender equality', 29),\n",
       "             ('insects', 28),\n",
       "             ('fear', 28),\n",
       "             ('science and art', 28),\n",
       "             ('compassion', 28),\n",
       "             ('gaming', 27),\n",
       "             ('philanthropy', 26),\n",
       "             ('microbiology', 26),\n",
       "             ('agriculture', 26),\n",
       "             ('molecular biology', 26),\n",
       "             ('open-source', 26),\n",
       "             ('disability', 25),\n",
       "             ('fish', 25),\n",
       "             ('sex', 25),\n",
       "             ('industrial design', 25),\n",
       "             ('curiosity', 24),\n",
       "             ('biomechanics', 24),\n",
       "             ('sports', 24),\n",
       "             ('money', 23),\n",
       "             ('ted prize', 23),\n",
       "             ('depression', 23),\n",
       "             ('feminism', 23),\n",
       "             ('faith', 22),\n",
       "             ('united states', 22),\n",
       "             ('consciousness', 22),\n",
       "             ('investment', 22),\n",
       "             ('planets', 22),\n",
       "             ('statistics', 22),\n",
       "             ('asia', 22),\n",
       "             ('urban planning', 21),\n",
       "             ('plants', 21),\n",
       "             ('middle east', 21),\n",
       "             ('disaster relief', 21),\n",
       "             ('empathy', 21),\n",
       "             ('relationships', 21),\n",
       "             ('physiology', 21),\n",
       "             ('success', 20),\n",
       "             ('senses', 20),\n",
       "             ('memory', 19),\n",
       "             ('sociology', 19),\n",
       "             ('interface design', 19),\n",
       "             ('bacteria', 19),\n",
       "             ('dance', 19),\n",
       "             ('online video', 19),\n",
       "             ('nasa', 19),\n",
       "             ('nanoscale', 19),\n",
       "             ('code', 19),\n",
       "             ('behavioral economics', 18),\n",
       "             ('anthropology', 18),\n",
       "             ('china', 18),\n",
       "             ('mission blue', 18),\n",
       "             ('gender', 18),\n",
       "             ('surveillance', 18),\n",
       "             ('corruption', 17),\n",
       "             ('literature', 17),\n",
       "             ('tedyouth', 17),\n",
       "             ('ancient world', 17),\n",
       "             ('pharmaceuticals', 17),\n",
       "             ('consumerism', 17),\n",
       "             ('biomimicry', 17),\n",
       "             ('tednyc', 17),\n",
       "             ('women in business', 16),\n",
       "             ('personality', 16),\n",
       "             ('illusion', 16),\n",
       "             ('garden', 16),\n",
       "             ('programming', 16),\n",
       "             ('cosmos', 16),\n",
       "             ('sight', 16),\n",
       "             ('productivity', 16),\n",
       "             ('cars', 15),\n",
       "             ('world cultures', 15),\n",
       "             ('prison', 15),\n",
       "             ('performance art', 15),\n",
       "             ('time', 15),\n",
       "             ('telescopes', 15),\n",
       "             ('europe', 15),\n",
       "             ('complexity', 15),\n",
       "             ('morality', 15),\n",
       "             ('drones', 15),\n",
       "             ('sound', 15),\n",
       "             ('bioethics', 14),\n",
       "             ('guitar', 14),\n",
       "             ('aids', 14),\n",
       "             ('singer', 14),\n",
       "             ('ted books', 14),\n",
       "             ('extraterrestrial life', 14),\n",
       "             ('manufacturing', 14),\n",
       "             ('tedmed', 14),\n",
       "             ('machine learning', 14),\n",
       "             ('heart health', 14),\n",
       "             ('solar energy', 14),\n",
       "             ('god', 13),\n",
       "             ('south america', 13),\n",
       "             ('movies', 13),\n",
       "             ('lgbt', 13),\n",
       "             ('marketing', 13),\n",
       "             ('news', 13),\n",
       "             ('surgery', 13),\n",
       "             ('library', 13),\n",
       "             ('animation', 13),\n",
       "             ('microbes', 13),\n",
       "             ('military', 13),\n",
       "             ('privacy', 13),\n",
       "             ('speech', 13),\n",
       "             ('work-life balance', 13),\n",
       "             ('solar system', 13),\n",
       "             ('finance', 12),\n",
       "             ('india', 12),\n",
       "             ('theater', 12),\n",
       "             ('anthropocene', 12),\n",
       "             ('failure', 12),\n",
       "             ('flight', 12),\n",
       "             ('protests', 12),\n",
       "             ('presentation', 12),\n",
       "             ('play', 12),\n",
       "             ('public spaces', 12),\n",
       "             ('conservation', 11),\n",
       "             ('spoken word', 11),\n",
       "             ('virtual reality', 11),\n",
       "             ('ted-ed', 11),\n",
       "             ('composing', 11),\n",
       "             ('hack', 11),\n",
       "             ('immigration', 11),\n",
       "             ('interview', 11),\n",
       "             ('museums', 11),\n",
       "             ('sanitation', 11),\n",
       "             ('botany', 11),\n",
       "             ('prediction', 11),\n",
       "             ('trees', 11),\n",
       "             ('piano', 11),\n",
       "             ('blindness', 11),\n",
       "             ('synthetic biology', 11),\n",
       "             ('prosthetics', 11),\n",
       "             ('magic', 11),\n",
       "             ('body language', 11),\n",
       "             ('medical imaging', 10),\n",
       "             ('discovery', 10),\n",
       "             ('population', 10),\n",
       "             ('map', 10),\n",
       "             ('criminal justice', 10),\n",
       "             ('egypt', 10),\n",
       "             ('submarine', 10),\n",
       "             ('capitalism', 10),\n",
       "             ('obesity', 10),\n",
       "             ('mars', 10),\n",
       "             ('vaccines', 10),\n",
       "             ('dark matter', 10),\n",
       "             ('macarthur grant', 10),\n",
       "             ('string theory', 10),\n",
       "             ('simplicity', 10),\n",
       "             ('toy', 10),\n",
       "             ('virus', 10),\n",
       "             ('birds', 9),\n",
       "             ('slavery', 9),\n",
       "             ('fashion', 9),\n",
       "             ('vocals', 9),\n",
       "             ('human origins', 9),\n",
       "             ('astrobiology', 9),\n",
       "             ('natural resources', 9),\n",
       "             ('nuclear energy', 9),\n",
       "             ('paleontology', 9),\n",
       "             ('ted en español', 9),\n",
       "             ('crowdsourcing', 8),\n",
       "             ('refugees', 8),\n",
       "             ('dinosaurs', 8),\n",
       "             ('men', 8),\n",
       "             ('autism spectrum disorder', 8),\n",
       "             ('ebola', 8),\n",
       "             ('human body', 8),\n",
       "             ('friendship', 8),\n",
       "             ('trust', 8),\n",
       "             ('smell', 8),\n",
       "             ('natural disaster', 8),\n",
       "             ('brazil', 7),\n",
       "             ('islam', 7),\n",
       "             ('plastic', 7),\n",
       "             ('meditation', 7),\n",
       "             ('ptsd', 7),\n",
       "             ('travel', 7),\n",
       "             ('pregnancy', 7),\n",
       "             ('extreme sports', 7),\n",
       "             ('monkeys', 7),\n",
       "             ('foreign policy', 7),\n",
       "             ('iraq', 7),\n",
       "             ('weather', 7),\n",
       "             ('big bang', 7),\n",
       "             ('google', 7),\n",
       "             ('pain', 7),\n",
       "             ('christianity', 6),\n",
       "             ('archaeology', 6),\n",
       "             ('syria', 6),\n",
       "             ('transgender', 6),\n",
       "             ('painting', 6),\n",
       "             ('biosphere', 6),\n",
       "             ('telecom', 6),\n",
       "             ('sexual violence', 6),\n",
       "             ('student', 6),\n",
       "             ('bees', 6),\n",
       "             ('advertising', 6),\n",
       "             ('evolutionary psychology', 6),\n",
       "             ('rivers', 6),\n",
       "             ('aircraft', 6),\n",
       "             ('violin', 6),\n",
       "             ('bullying', 6),\n",
       "             ('primates', 6),\n",
       "             ('cyborg', 6),\n",
       "             ('new york', 6),\n",
       "             ('conducting', 6),\n",
       "             ('farming', 6),\n",
       "             ('nonviolence', 6),\n",
       "             ('buddhism', 5),\n",
       "             ('suicide', 5),\n",
       "             ('typography', 5),\n",
       "             ('narcotics', 5),\n",
       "             ('mindfulness', 5),\n",
       "             ('television', 5),\n",
       "             ('geology', 5),\n",
       "             ('debate', 5),\n",
       "             ('wikipedia', 5),\n",
       "             ('exoskeleton', 5),\n",
       "             ('hiv', 5),\n",
       "             ('shopping', 5),\n",
       "             ('wunderkind', 5),\n",
       "             ('iran', 5),\n",
       "             ('driverless cars', 5),\n",
       "             ('gender spectrum', 5),\n",
       "             ('atheism', 5),\n",
       "             ('addiction', 4),\n",
       "             ('ted residency', 4),\n",
       "             ('trafficking', 4),\n",
       "             ('rocket science', 4),\n",
       "             ('ants', 4),\n",
       "             ('deextinction', 4),\n",
       "             ('oil', 4),\n",
       "             ('charter for compassion', 4),\n",
       "             ('glacier', 4),\n",
       "             (\"alzheimer's\", 4),\n",
       "             ('resources', 4),\n",
       "             ('mobility', 4),\n",
       "             ('wind energy', 4),\n",
       "             ('hearing', 4),\n",
       "             ('guns', 4),\n",
       "             ('meme', 4),\n",
       "             ('vulnerability', 3),\n",
       "             ('cello', 3),\n",
       "             ('state-building', 3),\n",
       "             ('jazz', 3),\n",
       "             ('apes', 3),\n",
       "             ('3d printing', 3),\n",
       "             ('microfinance', 3),\n",
       "             ('nuclear weapons', 3),\n",
       "             ('blockchain', 3),\n",
       "             ('introvert', 3),\n",
       "             ('urban', 3),\n",
       "             ('asteroid', 3),\n",
       "             ('brand', 3),\n",
       "             ('novel', 3),\n",
       "             ('moon', 3),\n",
       "             ('crispr', 3),\n",
       "             ('sleep', 2),\n",
       "             ('origami', 2),\n",
       "             ('nobel prize', 2),\n",
       "             ('epidemiology', 2),\n",
       "             ('pandemic', 2),\n",
       "             ('microsoft', 2),\n",
       "             ('mining', 2),\n",
       "             ('evil', 2),\n",
       "             ('grammar', 2),\n",
       "             ('funny', 1),\n",
       "             ('testing', 1),\n",
       "             ('cloud', 1),\n",
       "             ('augmented reality', 1),\n",
       "             ('forensics', 1),\n",
       "             ('skateboarding', 1)])"
      ]
     },
     "execution_count": 162,
     "metadata": {},
     "output_type": "execute_result"
    }
   ],
   "source": [
    "ordered_tags_map = OrderedDict(sorted(tags_map.items(), key=lambda item: item[1], reverse=True))\n",
    "ordered_tags_map"
   ]
  },
  {
   "cell_type": "code",
   "execution_count": 181,
   "metadata": {
    "scrolled": true
   },
   "outputs": [
    {
     "data": {
      "text/plain": [
       "210"
      ]
     },
     "execution_count": 181,
     "metadata": {},
     "output_type": "execute_result"
    }
   ],
   "source": [
    "(np.array(list(ordered_tags_map.values())) > 10).sum()"
   ]
  },
  {
   "cell_type": "code",
   "execution_count": 251,
   "metadata": {},
   "outputs": [],
   "source": [
    "class TagsOHE(BaseEstimator, TransformerMixin):\n",
    "    \"\"\" //TODO\n",
    "        \n",
    "        Parameters\n",
    "        ------------\n",
    "        \n",
    "        Attributes\n",
    "        -----------\n",
    "\n",
    "    \"\"\"\n",
    "    def __init__(self, column_name='tags', freq_greater_than=10):\n",
    "        self.column_name = column_name\n",
    "        self.freq_greater_than = freq_greater_than\n",
    "    \n",
    "    def fit(self, data):\n",
    "        tags_map = {}\n",
    "        for tags  in data[self.column_name]:\n",
    "            for tag in ast.literal_eval(tags.lower()):\n",
    "                tags_map[tag] = tags_map.get(tag,0) + 1\n",
    "        tags_map = {key:val for key, val in tags_map.items() if val > self.freq_greater_than}\n",
    "        self.tags = np.array(list(tags_map.keys()))\n",
    "        return self\n",
    "        \n",
    "    def transform(self, data):\n",
    "        tags_ohe = np.zeros((data.shape[0], len(self.tags)))\n",
    "        for i, tags  in enumerate(data[self.column_name]):\n",
    "            for tag in ast.literal_eval(tags.lower()):\n",
    "                if np.any(self.tags == tag):\n",
    "                    inx = np.where(self.tags == tag)[0][0]\n",
    "                    tags_ohe[i][inx] = 1\n",
    "        return tags_ohe  "
   ]
  },
  {
   "cell_type": "code",
   "execution_count": 252,
   "metadata": {},
   "outputs": [],
   "source": [
    "tags_ohe = TagsOHE()"
   ]
  },
  {
   "cell_type": "code",
   "execution_count": 254,
   "metadata": {},
   "outputs": [
    {
     "data": {
      "text/plain": [
       "(2040, 276)"
      ]
     },
     "execution_count": 254,
     "metadata": {},
     "output_type": "execute_result"
    }
   ],
   "source": [
    "tags_ohe.fit_transform(X_train).shape"
   ]
  },
  {
   "cell_type": "code",
   "execution_count": 255,
   "metadata": {
    "scrolled": true
   },
   "outputs": [
    {
     "data": {
      "text/plain": [
       "array([[1., 1., 1., ..., 0., 0., 0.],\n",
       "       [0., 0., 0., ..., 0., 0., 0.],\n",
       "       [0., 0., 0., ..., 0., 0., 0.],\n",
       "       ...,\n",
       "       [0., 0., 0., ..., 0., 0., 0.],\n",
       "       [0., 0., 0., ..., 0., 0., 0.],\n",
       "       [0., 0., 0., ..., 0., 0., 0.]])"
      ]
     },
     "execution_count": 255,
     "metadata": {},
     "output_type": "execute_result"
    }
   ],
   "source": [
    "tags_ohe.fit_transform(X_train)"
   ]
  },
  {
   "cell_type": "code",
   "execution_count": 256,
   "metadata": {},
   "outputs": [],
   "source": [
    "class TagsEmbeddingVectorization(BaseEstimator, TransformerMixin):\n",
    "        \"\"\" //TODO\n",
    "        \n",
    "        Parameters\n",
    "        ------------\n",
    "        \n",
    "        Attributes\n",
    "        -----------\n",
    "\n",
    "        \"\"\"\n",
    "        def __init__(self, embedding_map, emb_dim, column_name='tags'):\n",
    "            self.embedding_map = embedding_map\n",
    "            self.emb_dim = emb_dim\n",
    "            self.column_name = column_name\n",
    "            \n",
    "        def fit(self):\n",
    "            return self\n",
    "            \n",
    "        def transform(self, data):\n",
    "            embedding_matrix = np.zeros((data.shape[0], self.emb_dim), dtype=np.float32)\n",
    "            for inx, tags in enumerate(data[self.column_name]):\n",
    "                for tag in ast.literal_eval(tags.lower()):\n",
    "                    if tag in self.embedding_map:\n",
    "                        embedding_matrix[inx] += self.embedding_map[tag]\n",
    "            return embedding_matrix"
   ]
  },
  {
   "cell_type": "markdown",
   "metadata": {},
   "source": [
    "# Ratings "
   ]
  },
  {
   "cell_type": "code",
   "execution_count": 258,
   "metadata": {},
   "outputs": [
    {
     "data": {
      "text/plain": [
       "0    [{'id': 7, 'name': 'Funny', 'count': 475}, {'i...\n",
       "1    [{'id': 1, 'name': 'Beautiful', 'count': 195},...\n",
       "2    [{'id': 3, 'name': 'Courageous', 'count': 413}...\n",
       "3    [{'id': 11, 'name': 'Longwinded', 'count': 35}...\n",
       "4    [{'id': 22, 'name': 'Fascinating', 'count': 29...\n",
       "Name: ratings, dtype: object"
      ]
     },
     "execution_count": 258,
     "metadata": {},
     "output_type": "execute_result"
    }
   ],
   "source": [
    "X_train.head().ratings"
   ]
  },
  {
   "cell_type": "code",
   "execution_count": 259,
   "metadata": {},
   "outputs": [
    {
     "data": {
      "text/plain": [
       "\"[{'id': 7, 'name': 'Funny', 'count': 475}, {'id': 25, 'name': 'OK', 'count': 140}, {'id': 8, 'name': 'Informative', 'count': 818}, {'id': 10, 'name': 'Inspiring', 'count': 116}, {'id': 22, 'name': 'Fascinating', 'count': 522}, {'id': 21, 'name': 'Unconvincing', 'count': 127}, {'id': 3, 'name': 'Courageous', 'count': 27}, {'id': 24, 'name': 'Persuasive', 'count': 429}, {'id': 9, 'name': 'Ingenious', 'count': 139}, {'id': 23, 'name': 'Jaw-dropping', 'count': 84}, {'id': 26, 'name': 'Obnoxious', 'count': 98}, {'id': 2, 'name': 'Confusing', 'count': 38}, {'id': 11, 'name': 'Longwinded', 'count': 60}, {'id': 1, 'name': 'Beautiful', 'count': 31}]\""
      ]
     },
     "execution_count": 259,
     "metadata": {},
     "output_type": "execute_result"
    }
   ],
   "source": [
    "X_train.ratings[0]"
   ]
  },
  {
   "cell_type": "code",
   "execution_count": 264,
   "metadata": {},
   "outputs": [
    {
     "data": {
      "text/plain": [
       "14"
      ]
     },
     "execution_count": 264,
     "metadata": {},
     "output_type": "execute_result"
    }
   ],
   "source": [
    "len(ast.literal_eval(X_train.ratings[0]))"
   ]
  },
  {
   "cell_type": "code",
   "execution_count": 260,
   "metadata": {},
   "outputs": [
    {
     "data": {
      "text/plain": [
       "\"[{'id': 1, 'name': 'Beautiful', 'count': 195}, {'id': 10, 'name': 'Inspiring', 'count': 944}, {'id': 3, 'name': 'Courageous', 'count': 460}, {'id': 24, 'name': 'Persuasive', 'count': 701}, {'id': 22, 'name': 'Fascinating', 'count': 177}, {'id': 8, 'name': 'Informative', 'count': 774}, {'id': 23, 'name': 'Jaw-dropping', 'count': 215}, {'id': 11, 'name': 'Longwinded', 'count': 25}, {'id': 9, 'name': 'Ingenious', 'count': 41}, {'id': 25, 'name': 'OK', 'count': 33}, {'id': 21, 'name': 'Unconvincing', 'count': 45}, {'id': 26, 'name': 'Obnoxious', 'count': 13}, {'id': 7, 'name': 'Funny', 'count': 7}, {'id': 2, 'name': 'Confusing', 'count': 9}]\""
      ]
     },
     "execution_count": 260,
     "metadata": {},
     "output_type": "execute_result"
    }
   ],
   "source": [
    "X_train.ratings[1]"
   ]
  },
  {
   "cell_type": "code",
   "execution_count": 269,
   "metadata": {},
   "outputs": [
    {
     "name": "stdout",
     "output_type": "stream",
     "text": [
      "Number of unique rating names: 14\n"
     ]
    }
   ],
   "source": [
    "ratings_set = set()\n",
    "for ratings in X_train.ratings:\n",
    "    if len(ast.literal_eval(ratings)) != 14:\n",
    "        print('Not all ratings have 14 items')\n",
    "    for rating in ast.literal_eval(ratings):\n",
    "        ratings_set.add(rating['name'])\n",
    "print('Number of unique rating names:', str(len(ratings_set)))"
   ]
  },
  {
   "cell_type": "code",
   "execution_count": 270,
   "metadata": {},
   "outputs": [
    {
     "data": {
      "text/plain": [
       "{'Beautiful',\n",
       " 'Confusing',\n",
       " 'Courageous',\n",
       " 'Fascinating',\n",
       " 'Funny',\n",
       " 'Informative',\n",
       " 'Ingenious',\n",
       " 'Inspiring',\n",
       " 'Jaw-dropping',\n",
       " 'Longwinded',\n",
       " 'OK',\n",
       " 'Obnoxious',\n",
       " 'Persuasive',\n",
       " 'Unconvincing'}"
      ]
     },
     "execution_count": 270,
     "metadata": {},
     "output_type": "execute_result"
    }
   ],
   "source": [
    "ratings_set"
   ]
  },
  {
   "cell_type": "code",
   "execution_count": 286,
   "metadata": {},
   "outputs": [],
   "source": [
    "class RatingsCounter(BaseEstimator, TransformerMixin):\n",
    "    \"\"\" //TODO\n",
    "        \n",
    "        Parameters\n",
    "        ------------\n",
    "        \n",
    "        Attributes\n",
    "        -----------\n",
    "\n",
    "    \"\"\"\n",
    "    def __init__(self, column_name='ratings', ratings_order=None):\n",
    "        self.column_name = column_name\n",
    "        self.ratings_order = ratings_order\n",
    "    \n",
    "    def fit(self, data):\n",
    "        if self.ratings_order is None:\n",
    "            self.ratings_order = []\n",
    "            ratings = data[self.column_name][0]\n",
    "            for rating in ast.literal_eval(ratings):\n",
    "                self.ratings_order.append(rating['name'])  \n",
    "        self.ratings_order = np.array(self.ratings_order)\n",
    "            \n",
    "        return self\n",
    "        \n",
    "    def transform(self, data):\n",
    "        ratings_matrix = np.zeros((data.shape[0], len(self.ratings_order)), dtype=np.int16)\n",
    "        for inx, ratings in enumerate(data[self.column_name]):\n",
    "            for rating in ast.literal_eval(ratings):\n",
    "                rating_inx = np.where(self.ratings_order == rating['name'])\n",
    "                ratings_matrix[inx][rating_inx] = rating['count']\n",
    "                \n",
    "        return ratings_matrix"
   ]
  },
  {
   "cell_type": "code",
   "execution_count": 287,
   "metadata": {},
   "outputs": [
    {
     "data": {
      "text/plain": [
       "array([[475, 140, 818, ...,  38,  60,  31],\n",
       "       [  7,  33, 774, ...,   9,  25, 195],\n",
       "       [  4,  32, 278, ...,   3,  19,  74],\n",
       "       ...,\n",
       "       [ 28, 154, 277, ...,  89,  57,  55],\n",
       "       [160, 216, 735, ...,  31,  69,  60],\n",
       "       [110,  93, 365, ...,  30,  22,  11]], dtype=int16)"
      ]
     },
     "execution_count": 287,
     "metadata": {},
     "output_type": "execute_result"
    }
   ],
   "source": [
    "rc = RatingsCounter()\n",
    "rc.fit_transform(X_train)"
   ]
  },
  {
   "cell_type": "code",
   "execution_count": 288,
   "metadata": {},
   "outputs": [
    {
     "data": {
      "text/plain": [
       "array([475, 140, 818, 116, 522, 127,  27, 429, 139,  84,  98,  38,  60,\n",
       "        31], dtype=int16)"
      ]
     },
     "execution_count": 288,
     "metadata": {},
     "output_type": "execute_result"
    }
   ],
   "source": [
    "rc.fit_transform(X_train)[0]"
   ]
  },
  {
   "cell_type": "code",
   "execution_count": 289,
   "metadata": {},
   "outputs": [],
   "source": [
    "X_train_ratings = rc.fit_transform(X_train)"
   ]
  },
  {
   "cell_type": "code",
   "execution_count": 302,
   "metadata": {},
   "outputs": [
    {
     "data": {
      "text/plain": [
       "(2040,)"
      ]
     },
     "execution_count": 302,
     "metadata": {},
     "output_type": "execute_result"
    }
   ],
   "source": [
    "y_train.values.reshape(2040).shape"
   ]
  },
  {
   "cell_type": "code",
   "execution_count": 304,
   "metadata": {},
   "outputs": [
    {
     "data": {
      "text/plain": [
       "<matplotlib.axes._subplots.AxesSubplot at 0x23b47992da0>"
      ]
     },
     "execution_count": 304,
     "metadata": {},
     "output_type": "execute_result"
    },
    {
     "data": {
      "image/png": "[encoded data removed]",
      "text/plain": [
       "<Figure size 432x288 with 1 Axes>"
      ]
     },
     "metadata": {
      "needs_background": "light"
     },
     "output_type": "display_data"
    }
   ],
   "source": [
    "sns.scatterplot(X_train_ratings.sum(axis=1), y_train.values.reshape(y_train.shape[0])) "
   ]
  },
  {
   "cell_type": "code",
   "execution_count": 309,
   "metadata": {},
   "outputs": [
    {
     "data": {
      "text/plain": [
       "array([[1.        , 0.86691266],\n",
       "       [0.86691266, 1.        ]])"
      ]
     },
     "execution_count": 309,
     "metadata": {},
     "output_type": "execute_result"
    }
   ],
   "source": [
    "np.corrcoef(X_train_ratings.sum(axis=1), y_train.values.reshape(y_train.shape[0])) "
   ]
  },
  {
   "cell_type": "code",
   "execution_count": 307,
   "metadata": {
    "scrolled": true
   },
   "outputs": [
    {
     "data": {
      "image/png": "[encoded data removed]",
      "text/plain": [
       "<Figure size 432x288 with 1 Axes>"
      ]
     },
     "metadata": {
      "needs_background": "light"
     },
     "output_type": "display_data"
    }
   ],
   "source": [
    "sns.distplot(X_train_ratings.sum(axis=1))\n",
    "plt.show()"
   ]
  },
  {
   "cell_type": "markdown",
   "metadata": {},
   "source": [
    "# Description, Title, Speaker Occupation"
   ]
  },
  {
   "cell_type": "code",
   "execution_count": 325,
   "metadata": {},
   "outputs": [],
   "source": [
    "class EmbeddingVectorization(BaseEstimator, TransformerMixin):\n",
    "        \"\"\" //TODO\n",
    "        \n",
    "        Parameters\n",
    "        ------------\n",
    "        \n",
    "        Attributes\n",
    "        -----------\n",
    "\n",
    "        \"\"\"\n",
    "        def __init__(self, embedding_map, emb_dim, tokenizer=TweetTokenizer()):\n",
    "            self.embedding_map = embedding_map\n",
    "            self.emb_dim = emb_dim\n",
    "            self.tokenizer = tokenizer\n",
    "            \n",
    "        def fit(self):\n",
    "            return self\n",
    "            \n",
    "        def transform(self, data, column_name):\n",
    "            embedding_matrix = np.zeros((data.shape[0], self.emb_dim), dtype=np.float32)\n",
    "            for inx, row in enumerate(data[column_name]):\n",
    "                for word in tokenizer.tokenizer(row):\n",
    "                    if word in self.embedding_map:\n",
    "                        embedding_matrix[inx] += self.embedding_map[word]\n",
    "            return embedding_matrix"
   ]
  }
 ],
 "metadata": {
  "kernelspec": {
   "display_name": "Python 3",
   "language": "python",
   "name": "python3"
  },
  "language_info": {
   "codemirror_mode": {
    "name": "ipython",
    "version": 3
   },
   "file_extension": ".py",
   "mimetype": "text/x-python",
   "name": "python",
   "nbconvert_exporter": "python",
   "pygments_lexer": "ipython3",
   "version": "3.6.6"
  }
 },
 "nbformat": 4,
 "nbformat_minor": 2
}
