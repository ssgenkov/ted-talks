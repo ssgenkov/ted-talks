{
 "cells": [
  {
   "cell_type": "code",
   "execution_count": 306,
   "metadata": {},
   "outputs": [],
   "source": [
    "import pandas as pd\n",
    "import numpy as np\n",
    "import os\n",
    "from sklearn.preprocessing import StandardScaler\n",
    "from sklearn.linear_model import LinearRegression\n",
    "from sklearn.linear_model import Ridge\n",
    "from sklearn.linear_model import ElasticNet\n",
    "from sklearn.linear_model import Lasso\n",
    "from sklearn.model_selection import cross_validate\n",
    "from sklearn.preprocessing import LabelBinarizer\n",
    "from sklearn.ensemble import RandomForestRegressor\n",
    "from sklearn.feature_selection import SelectFromModel\n",
    "from sklearn.linear_model import LassoCV\n",
    "import ast\n",
    "from sklearn.feature_selection import RFE\n",
    "from sklearn.svm import SVR\n",
    "import lightgbm as lgb"
   ]
  },
  {
   "cell_type": "code",
   "execution_count": 13,
   "metadata": {},
   "outputs": [],
   "source": [
    "def load_feats(feats_dir, folder, file_type, load_func):\n",
    "    dict_to_feed = {}\n",
    "    full_path = os.path.join(feats_dir, folder)\n",
    "    files = [f for f in os.listdir(full_path) \n",
    "             if os.path.isfile(os.path.join(full_path, f)) and f[-4:] =='.'+file_type]\n",
    "    \n",
    "    for f in files:\n",
    "        dict_to_feed[f[:-4]] = load_func(os.path.join(full_path, f))\n",
    "    return dict_to_feed"
   ]
  },
  {
   "cell_type": "code",
   "execution_count": 14,
   "metadata": {},
   "outputs": [],
   "source": [
    "def load_feats_csv(feats_dir, folder):\n",
    "    return load_feats(feats_dir, folder, 'csv', pd.read_csv)"
   ]
  },
  {
   "cell_type": "code",
   "execution_count": 15,
   "metadata": {},
   "outputs": [],
   "source": [
    "def load_feats_npy(feats_dir, folder):\n",
    "    return load_feats(feats_dir, folder, 'npy', np.load)"
   ]
  },
  {
   "cell_type": "code",
   "execution_count": 17,
   "metadata": {},
   "outputs": [],
   "source": [
    "base_dir = r'D:\\Machine Learning\\Datasets\\ted-talks\\feats'"
   ]
  },
  {
   "cell_type": "code",
   "execution_count": 301,
   "metadata": {},
   "outputs": [],
   "source": [
    "train_feats_pd = load_feats_csv(base_dir, 'train')\n",
    "test_feats_pd = load_feats_csv(base_dir, 'test')\n",
    "train_feats_np = load_feats_npy(base_dir, 'train')\n",
    "test_feats_np = load_feats_npy(base_dir, 'test')"
   ]
  },
  {
   "cell_type": "code",
   "execution_count": 302,
   "metadata": {},
   "outputs": [
    {
     "data": {
      "text/plain": [
       "['date_feats',\n",
       " 'events_ohe',\n",
       " 'lsa_ch25',\n",
       " 'lsa_ch50',\n",
       " 'lsa_w25',\n",
       " 'lsa_w50',\n",
       " 'ratings',\n",
       " 'ratings_sum',\n",
       " 'related_talks_avg_views',\n",
       " 'tags_gt10',\n",
       " 'tags_gt50']"
      ]
     },
     "execution_count": 302,
     "metadata": {},
     "output_type": "execute_result"
    }
   ],
   "source": [
    "list(train_feats_pd.keys())"
   ]
  },
  {
   "cell_type": "code",
   "execution_count": 20,
   "metadata": {},
   "outputs": [
    {
     "data": {
      "text/plain": [
       "['description_tw_emb',\n",
       " 'description_wiki_emb',\n",
       " 'speaker_occupation_tw_emb',\n",
       " 'speaker_occupation_wiki_emb',\n",
       " 'tags_tweet_emb',\n",
       " 'tags_wiki_emb',\n",
       " 'title_tw_emb',\n",
       " 'title_wiki_emb']"
      ]
     },
     "execution_count": 20,
     "metadata": {},
     "output_type": "execute_result"
    }
   ],
   "source": [
    "list(train_feats_np.keys())"
   ]
  },
  {
   "cell_type": "code",
   "execution_count": 21,
   "metadata": {},
   "outputs": [
    {
     "data": {
      "text/plain": [
       "array([[12.855329  ,  4.5100203 ,  2.7005692 , ..., -2.2964358 ,\n",
       "        -3.5763156 , -4.8642936 ],\n",
       "       [ 9.889155  ,  6.263903  , -2.4831548 , ...,  0.02368131,\n",
       "        -0.31124094, -3.4509144 ],\n",
       "       [21.641573  , 15.473295  , -2.8141096 , ..., -6.4330144 ,\n",
       "        -3.6041358 ,  3.9712694 ],\n",
       "       ...,\n",
       "       [18.981138  , 12.716001  , -2.0708969 , ...,  8.943259  ,\n",
       "        -0.08483845,  5.255693  ],\n",
       "       [12.534835  , 10.645477  , -0.9604598 , ...,  0.5883128 ,\n",
       "        -1.3418088 ,  3.6585114 ],\n",
       "       [ 9.509973  , 12.537871  , -6.684204  , ..., -1.0933027 ,\n",
       "         2.0165484 , 10.728305  ]], dtype=float32)"
      ]
     },
     "execution_count": 21,
     "metadata": {},
     "output_type": "execute_result"
    }
   ],
   "source": [
    "train_feats_np['description_wiki_emb']"
   ]
  },
  {
   "cell_type": "code",
   "execution_count": 22,
   "metadata": {},
   "outputs": [],
   "source": [
    "X_train = pd.read_csv(r'D:\\Machine Learning\\Datasets\\ted-talks\\X_train.csv')\n",
    "X_test = pd.read_csv(r'D:\\Machine Learning\\Datasets\\ted-talks\\X_test.csv')\n",
    "y_train = pd.read_csv(r'D:\\Machine Learning\\Datasets\\ted-talks\\y_train.csv', header=None)\n",
    "y_test = pd.read_csv(r'D:\\Machine Learning\\Datasets\\ted-talks\\y_test.csv', header=None)"
   ]
  },
  {
   "cell_type": "markdown",
   "metadata": {},
   "source": [
    "# Base model using comments count and rating sum "
   ]
  },
  {
   "cell_type": "code",
   "execution_count": 27,
   "metadata": {},
   "outputs": [],
   "source": [
    "x_train_base = pd.concat([X_train.comments, train_feats_pd['ratings_sum']], axis=1)"
   ]
  },
  {
   "cell_type": "code",
   "execution_count": 28,
   "metadata": {},
   "outputs": [
    {
     "name": "stderr",
     "output_type": "stream",
     "text": [
      "C:\\Users\\Simeon\\Anaconda3\\envs\\First\\lib\\site-packages\\sklearn\\preprocessing\\data.py:617: DataConversionWarning: Data with input dtype int64 were all converted to float64 by StandardScaler.\n",
      "  return self.partial_fit(X, y)\n",
      "C:\\Users\\Simeon\\Anaconda3\\envs\\First\\lib\\site-packages\\sklearn\\base.py:462: DataConversionWarning: Data with input dtype int64 were all converted to float64 by StandardScaler.\n",
      "  return self.fit(X, **fit_params).transform(X)\n"
     ]
    }
   ],
   "source": [
    "sc = StandardScaler()\n",
    "x_train_base_sd = sc.fit_transform(x_train_base)"
   ]
  },
  {
   "cell_type": "code",
   "execution_count": 32,
   "metadata": {},
   "outputs": [],
   "source": [
    "cv = cross_validate(LinearRegression(), x_train_base_sd, y_train, cv=5)"
   ]
  },
  {
   "cell_type": "code",
   "execution_count": 40,
   "metadata": {},
   "outputs": [
    {
     "name": "stdout",
     "output_type": "stream",
     "text": [
      "Train score: 0.752420 +/- 0.025718\n"
     ]
    }
   ],
   "source": [
    "print('Train score: %f +/- %f'%(cv['train_score'].mean(), cv['train_score'].std()))"
   ]
  },
  {
   "cell_type": "code",
   "execution_count": 41,
   "metadata": {},
   "outputs": [
    {
     "name": "stdout",
     "output_type": "stream",
     "text": [
      "Test score: 0.700262 +/- 0.153308\n"
     ]
    }
   ],
   "source": [
    "print('Test score: %f +/- %f'%(cv['test_score'].mean(), cv['test_score'].std()))"
   ]
  },
  {
   "cell_type": "code",
   "execution_count": 305,
   "metadata": {},
   "outputs": [
    {
     "name": "stdout",
     "output_type": "stream",
     "text": [
      "Train r2 score: 0.752827 +/- 0.026050\n",
      "Test  f2 score: 0.698179 +/- 0.155511\n"
     ]
    },
    {
     "name": "stderr",
     "output_type": "stream",
     "text": [
      "C:\\Users\\Simeon\\Anaconda3\\envs\\First\\lib\\site-packages\\sklearn\\preprocessing\\data.py:617: DataConversionWarning: Data with input dtype int64, float64 were all converted to float64 by StandardScaler.\n",
      "  return self.partial_fit(X, y)\n",
      "C:\\Users\\Simeon\\Anaconda3\\envs\\First\\lib\\site-packages\\sklearn\\base.py:462: DataConversionWarning: Data with input dtype int64, float64 were all converted to float64 by StandardScaler.\n",
      "  return self.fit(X, **fit_params).transform(X)\n",
      "C:\\Users\\Simeon\\Anaconda3\\envs\\First\\lib\\site-packages\\sklearn\\utils\\deprecation.py:125: FutureWarning: You are accessing a training score ('train_score'), which will not be available by default any more in 0.21. If you need training scores, please set return_train_score=True\n",
      "  warnings.warn(*warn_args, **warn_kwargs)\n"
     ]
    }
   ],
   "source": [
    "train_base_rl = pd.concat([x_train_base, train_feats_pd['related_talks_avg_views']], axis=1)\n",
    "train_base_rl_sd = StandardScaler().fit_transform(train_base_rl)\n",
    "cv = cross_validate(LinearRegression(), train_base_rl_sd, y_train, cv=5)\n",
    "print('Train r2 score: %f +/- %f'%(cv['train_score'].mean(), cv['train_score'].std()))\n",
    "print('Test  f2 score: %f +/- %f'%(cv['test_score'].mean(), cv['test_score'].std()))"
   ]
  },
  {
   "cell_type": "code",
   "execution_count": 64,
   "metadata": {
    "scrolled": true
   },
   "outputs": [
    {
     "name": "stdout",
     "output_type": "stream",
     "text": [
      "Train r2 score: 0.750884 +/- 0.025324\n",
      "Test  f2 score: 0.699794 +/- 0.150370\n"
     ]
    },
    {
     "name": "stderr",
     "output_type": "stream",
     "text": [
      "C:\\Users\\Simeon\\Anaconda3\\envs\\First\\lib\\site-packages\\sklearn\\utils\\deprecation.py:125: FutureWarning: You are accessing a training score ('train_score'), which will not be available by default any more in 0.21. If you need training scores, please set return_train_score=True\n",
      "  warnings.warn(*warn_args, **warn_kwargs)\n"
     ]
    }
   ],
   "source": [
    "cv = cross_validate(LinearRegression(), x_train_base['ratings_sum'].values.reshape(-1,1), y_train, cv=5)\n",
    "print('Train r2 score: %f +/- %f'%(cv['train_score'].mean(), cv['train_score'].std()))\n",
    "print('Test  f2 score: %f +/- %f'%(cv['test_score'].mean(), cv['test_score'].std()))"
   ]
  },
  {
   "cell_type": "code",
   "execution_count": 63,
   "metadata": {},
   "outputs": [
    {
     "name": "stdout",
     "output_type": "stream",
     "text": [
      "Train nmae score: -590235.197642 +/- 13929.964286\n",
      "Test  nmae score: -596622.073571 +/- 44055.548158\n"
     ]
    },
    {
     "name": "stderr",
     "output_type": "stream",
     "text": [
      "C:\\Users\\Simeon\\Anaconda3\\envs\\First\\lib\\site-packages\\sklearn\\utils\\deprecation.py:125: FutureWarning: You are accessing a training score ('train_score'), which will not be available by default any more in 0.21. If you need training scores, please set return_train_score=True\n",
      "  warnings.warn(*warn_args, **warn_kwargs)\n"
     ]
    }
   ],
   "source": [
    "cv = cross_validate(LinearRegression(), x_train_base, y_train, cv=5, scoring='neg_mean_absolute_error')\n",
    "print('Train nmae score: %f +/- %f'%(cv['train_score'].mean(), cv['train_score'].std()))\n",
    "print('Test  nmae score: %f +/- %f'%(cv['test_score'].mean(), cv['test_score'].std()))"
   ]
  },
  {
   "cell_type": "code",
   "execution_count": null,
   "metadata": {},
   "outputs": [],
   "source": [
    "rg = lightgbm.LGBMRegressor()"
   ]
  },
  {
   "cell_type": "code",
   "execution_count": null,
   "metadata": {},
   "outputs": [],
   "source": [
    "lgb_train_df = lgb.Dataset(data = x_train_base, label = y_train, feature_name = list(x_train_base))\n",
    "params = {'objective': 'regression'}\n",
    "cv_results = lgb.cv(\n",
    "        params,\n",
    "        lgb_train_df,\n",
    "        num_boost_round=100,\n",
    "        nfold=3,\n",
    "        metrics='mae',\n",
    "        early_stopping_rounds=10,\n",
    "        stratified=False\n",
    "        )"
   ]
  },
  {
   "cell_type": "code",
   "execution_count": 61,
   "metadata": {},
   "outputs": [
    {
     "name": "stdout",
     "output_type": "stream",
     "text": [
      "CV  mae score: 762191.869634 +/- 74082.586643\n"
     ]
    }
   ],
   "source": [
    "print('CV  mae score: %f +/- %f'%(np.mean(cv_results['l1-mean']), np.mean(cv_results['l1-stdv'])))"
   ]
  },
  {
   "cell_type": "markdown",
   "metadata": {},
   "source": [
    "# Experimenting with different feats "
   ]
  },
  {
   "cell_type": "markdown",
   "metadata": {},
   "source": [
    "## Add Date feats"
   ]
  },
  {
   "cell_type": "code",
   "execution_count": 75,
   "metadata": {},
   "outputs": [],
   "source": [
    "date_feats = train_feats_pd['date_feats']"
   ]
  },
  {
   "cell_type": "code",
   "execution_count": 85,
   "metadata": {},
   "outputs": [],
   "source": [
    "month_lb = LabelBinarizer()"
   ]
  },
  {
   "cell_type": "code",
   "execution_count": 93,
   "metadata": {},
   "outputs": [],
   "source": [
    "month_ohe = month_lb.fit_transform(date_feats.month)[:,:-1]"
   ]
  },
  {
   "cell_type": "code",
   "execution_count": 94,
   "metadata": {},
   "outputs": [],
   "source": [
    "day_lb = LabelBinarizer()\n",
    "day_ohe = day_lb.fit_transform(date_feats.day)[:,:-1]"
   ]
  },
  {
   "cell_type": "code",
   "execution_count": 96,
   "metadata": {},
   "outputs": [],
   "source": [
    "date_feats = pd.concat([date_feats, pd.DataFrame(day_ohe),pd.DataFrame(month_ohe)], axis=1)"
   ]
  },
  {
   "cell_type": "code",
   "execution_count": 99,
   "metadata": {},
   "outputs": [],
   "source": [
    "date_feats = date_feats.drop(['month', 'day'], axis=1)"
   ]
  },
  {
   "cell_type": "code",
   "execution_count": 110,
   "metadata": {},
   "outputs": [],
   "source": [
    "date_sd = StandardScaler()"
   ]
  },
  {
   "cell_type": "code",
   "execution_count": 111,
   "metadata": {},
   "outputs": [
    {
     "name": "stderr",
     "output_type": "stream",
     "text": [
      "C:\\Users\\Simeon\\Anaconda3\\envs\\First\\lib\\site-packages\\sklearn\\preprocessing\\data.py:617: DataConversionWarning: Data with input dtype int64 were all converted to float64 by StandardScaler.\n",
      "  return self.partial_fit(X, y)\n",
      "C:\\Users\\Simeon\\Anaconda3\\envs\\First\\lib\\site-packages\\sklearn\\base.py:462: DataConversionWarning: Data with input dtype int64 were all converted to float64 by StandardScaler.\n",
      "  return self.fit(X, **fit_params).transform(X)\n"
     ]
    }
   ],
   "source": [
    "date_quant_sd = date_sd.fit_transform(date_feats[['year','publishing_lag','elapsed_time']])"
   ]
  },
  {
   "cell_type": "code",
   "execution_count": 119,
   "metadata": {},
   "outputs": [],
   "source": [
    "date_and_base = np.concatenate([date_quant_sd, x_train_base_sd,\n",
    "                                date_feats.iloc[:,3:].values], axis=1)"
   ]
  },
  {
   "cell_type": "code",
   "execution_count": 120,
   "metadata": {},
   "outputs": [
    {
     "name": "stdout",
     "output_type": "stream",
     "text": [
      "Train r2 score: 0.766093 +/- 0.025208\n",
      "Test  f2 score: 0.708208 +/- 0.154050\n"
     ]
    },
    {
     "name": "stderr",
     "output_type": "stream",
     "text": [
      "C:\\Users\\Simeon\\Anaconda3\\envs\\First\\lib\\site-packages\\sklearn\\utils\\deprecation.py:125: FutureWarning: You are accessing a training score ('train_score'), which will not be available by default any more in 0.21. If you need training scores, please set return_train_score=True\n",
      "  warnings.warn(*warn_args, **warn_kwargs)\n"
     ]
    }
   ],
   "source": [
    "cv = cross_validate(LinearRegression(), date_and_base, y_train, cv=5)\n",
    "print('Train r2 score: %f +/- %f'%(cv['train_score'].mean(), cv['train_score'].std()))\n",
    "print('Test  f2 score: %f +/- %f'%(cv['test_score'].mean(), cv['test_score'].std()))"
   ]
  },
  {
   "cell_type": "code",
   "execution_count": 122,
   "metadata": {
    "scrolled": true
   },
   "outputs": [
    {
     "name": "stderr",
     "output_type": "stream",
     "text": [
      "C:\\Users\\Simeon\\Anaconda3\\envs\\First\\lib\\site-packages\\sklearn\\ensemble\\forest.py:248: FutureWarning: The default value of n_estimators will change from 10 in version 0.20 to 100 in 0.22.\n",
      "  \"10 in version 0.20 to 100 in 0.22.\", FutureWarning)\n",
      "C:\\Users\\Simeon\\Anaconda3\\envs\\First\\lib\\site-packages\\sklearn\\model_selection\\_validation.py:528: DataConversionWarning: A column-vector y was passed when a 1d array was expected. Please change the shape of y to (n_samples,), for example using ravel().\n",
      "  estimator.fit(X_train, y_train, **fit_params)\n",
      "C:\\Users\\Simeon\\Anaconda3\\envs\\First\\lib\\site-packages\\sklearn\\ensemble\\forest.py:248: FutureWarning: The default value of n_estimators will change from 10 in version 0.20 to 100 in 0.22.\n",
      "  \"10 in version 0.20 to 100 in 0.22.\", FutureWarning)\n",
      "C:\\Users\\Simeon\\Anaconda3\\envs\\First\\lib\\site-packages\\sklearn\\model_selection\\_validation.py:528: DataConversionWarning: A column-vector y was passed when a 1d array was expected. Please change the shape of y to (n_samples,), for example using ravel().\n",
      "  estimator.fit(X_train, y_train, **fit_params)\n",
      "C:\\Users\\Simeon\\Anaconda3\\envs\\First\\lib\\site-packages\\sklearn\\ensemble\\forest.py:248: FutureWarning: The default value of n_estimators will change from 10 in version 0.20 to 100 in 0.22.\n",
      "  \"10 in version 0.20 to 100 in 0.22.\", FutureWarning)\n",
      "C:\\Users\\Simeon\\Anaconda3\\envs\\First\\lib\\site-packages\\sklearn\\model_selection\\_validation.py:528: DataConversionWarning: A column-vector y was passed when a 1d array was expected. Please change the shape of y to (n_samples,), for example using ravel().\n",
      "  estimator.fit(X_train, y_train, **fit_params)\n"
     ]
    },
    {
     "name": "stdout",
     "output_type": "stream",
     "text": [
      "Train r2 score: 0.934495 +/- 0.020886\n",
      "Test  f2 score: 0.616150 +/- 0.134729\n"
     ]
    },
    {
     "name": "stderr",
     "output_type": "stream",
     "text": [
      "C:\\Users\\Simeon\\Anaconda3\\envs\\First\\lib\\site-packages\\sklearn\\ensemble\\forest.py:248: FutureWarning: The default value of n_estimators will change from 10 in version 0.20 to 100 in 0.22.\n",
      "  \"10 in version 0.20 to 100 in 0.22.\", FutureWarning)\n",
      "C:\\Users\\Simeon\\Anaconda3\\envs\\First\\lib\\site-packages\\sklearn\\model_selection\\_validation.py:528: DataConversionWarning: A column-vector y was passed when a 1d array was expected. Please change the shape of y to (n_samples,), for example using ravel().\n",
      "  estimator.fit(X_train, y_train, **fit_params)\n",
      "C:\\Users\\Simeon\\Anaconda3\\envs\\First\\lib\\site-packages\\sklearn\\ensemble\\forest.py:248: FutureWarning: The default value of n_estimators will change from 10 in version 0.20 to 100 in 0.22.\n",
      "  \"10 in version 0.20 to 100 in 0.22.\", FutureWarning)\n",
      "C:\\Users\\Simeon\\Anaconda3\\envs\\First\\lib\\site-packages\\sklearn\\model_selection\\_validation.py:528: DataConversionWarning: A column-vector y was passed when a 1d array was expected. Please change the shape of y to (n_samples,), for example using ravel().\n",
      "  estimator.fit(X_train, y_train, **fit_params)\n",
      "C:\\Users\\Simeon\\Anaconda3\\envs\\First\\lib\\site-packages\\sklearn\\utils\\deprecation.py:125: FutureWarning: You are accessing a training score ('train_score'), which will not be available by default any more in 0.21. If you need training scores, please set return_train_score=True\n",
      "  warnings.warn(*warn_args, **warn_kwargs)\n"
     ]
    }
   ],
   "source": [
    "cv = cross_validate(RandomForestRegressor(), date_and_base, y_train, cv=5, scoring='r2')\n",
    "print('Train r2 score: %f +/- %f'%(cv['train_score'].mean(), cv['train_score'].std()))\n",
    "print('Test  f2 score: %f +/- %f'%(cv['test_score'].mean(), cv['test_score'].std()))"
   ]
  },
  {
   "cell_type": "code",
   "execution_count": 146,
   "metadata": {},
   "outputs": [],
   "source": [
    "date_and_base_tags50 = np.concatenate([date_and_base, train_feats_pd['tags_gt50'].values], axis=1)"
   ]
  },
  {
   "cell_type": "code",
   "execution_count": 143,
   "metadata": {
    "scrolled": true
   },
   "outputs": [
    {
     "name": "stdout",
     "output_type": "stream",
     "text": [
      "Train r2 score: 0.781257 +/- 0.023662\n",
      "Test  f2 score: 0.701642 +/- 0.154441\n"
     ]
    },
    {
     "name": "stderr",
     "output_type": "stream",
     "text": [
      "C:\\Users\\Simeon\\Anaconda3\\envs\\First\\lib\\site-packages\\sklearn\\utils\\deprecation.py:125: FutureWarning: You are accessing a training score ('train_score'), which will not be available by default any more in 0.21. If you need training scores, please set return_train_score=True\n",
      "  warnings.warn(*warn_args, **warn_kwargs)\n"
     ]
    }
   ],
   "source": [
    "cv = cross_validate(LinearRegression(), date_and_base_tags10, y_train, cv=5)\n",
    "print('Train r2 score: %f +/- %f'%(cv['train_score'].mean(), cv['train_score'].std()))\n",
    "print('Test  f2 score: %f +/- %f'%(cv['test_score'].mean(), cv['test_score'].std()))"
   ]
  },
  {
   "cell_type": "code",
   "execution_count": 156,
   "metadata": {},
   "outputs": [],
   "source": [
    "date_and_base_tags50_occupation = np.concatenate([date_and_base_tags50,\n",
    "                                                  train_feats_np['speaker_occupation_wiki_emb'],\n",
    "                                                 train_feats_np['description_wiki_emb']], axis=1)"
   ]
  },
  {
   "cell_type": "code",
   "execution_count": 157,
   "metadata": {},
   "outputs": [
    {
     "name": "stdout",
     "output_type": "stream",
     "text": [
      "Train r2 score: 0.800144 +/- 0.021282\n",
      "Test  f2 score: 0.692808 +/- 0.152318\n"
     ]
    },
    {
     "name": "stderr",
     "output_type": "stream",
     "text": [
      "C:\\Users\\Simeon\\Anaconda3\\envs\\First\\lib\\site-packages\\sklearn\\utils\\deprecation.py:125: FutureWarning: You are accessing a training score ('train_score'), which will not be available by default any more in 0.21. If you need training scores, please set return_train_score=True\n",
      "  warnings.warn(*warn_args, **warn_kwargs)\n"
     ]
    }
   ],
   "source": [
    "cv = cross_validate(LinearRegression(), date_and_base_tags50_occupation, y_train, cv=5)\n",
    "print('Train r2 score: %f +/- %f'%(cv['train_score'].mean(), cv['train_score'].std()))\n",
    "print('Test  f2 score: %f +/- %f'%(cv['test_score'].mean(), cv['test_score'].std()))"
   ]
  },
  {
   "cell_type": "code",
   "execution_count": 158,
   "metadata": {},
   "outputs": [],
   "source": [
    "date_and_base_tags50_occupation_events = np.concatenate([date_and_base_tags50_occupation,\n",
    "                                                        train_feats_pd['events_ohe'].values], axis=1)"
   ]
  },
  {
   "cell_type": "code",
   "execution_count": 160,
   "metadata": {},
   "outputs": [
    {
     "name": "stdout",
     "output_type": "stream",
     "text": [
      "Train r2 score: 0.802003 +/- 0.021146\n",
      "Test  f2 score: 0.695036 +/- 0.151090\n"
     ]
    },
    {
     "name": "stderr",
     "output_type": "stream",
     "text": [
      "C:\\Users\\Simeon\\Anaconda3\\envs\\First\\lib\\site-packages\\sklearn\\utils\\deprecation.py:125: FutureWarning: You are accessing a training score ('train_score'), which will not be available by default any more in 0.21. If you need training scores, please set return_train_score=True\n",
      "  warnings.warn(*warn_args, **warn_kwargs)\n"
     ]
    }
   ],
   "source": [
    "cv = cross_validate(LinearRegression(), date_and_base_tags50_occupation_events, y_train, cv=5)\n",
    "print('Train r2 score: %f +/- %f'%(cv['train_score'].mean(), cv['train_score'].std()))\n",
    "print('Test  f2 score: %f +/- %f'%(cv['test_score'].mean(), cv['test_score'].std()))"
   ]
  },
  {
   "cell_type": "markdown",
   "metadata": {},
   "source": [
    "## Preparing to use LSA feats"
   ]
  },
  {
   "cell_type": "code",
   "execution_count": 168,
   "metadata": {},
   "outputs": [],
   "source": [
    "X_train['url'] = X_train['url'].replace(r'\\s+|\\\\n', '', regex=True)\n",
    "X_test['url'] = X_test['url'].replace(r'\\s+|\\\\n', '', regex=True)"
   ]
  },
  {
   "cell_type": "code",
   "execution_count": 206,
   "metadata": {},
   "outputs": [],
   "source": [
    "lsa_samples = X_train.url.isin(train_feats_pd['lsa_ch25'].url.values)"
   ]
  },
  {
   "cell_type": "code",
   "execution_count": 207,
   "metadata": {},
   "outputs": [
    {
     "name": "stdout",
     "output_type": "stream",
     "text": [
      "Train r2 score: 0.025310 +/- 0.002182\n",
      "Test  f2 score: -0.055998 +/- 0.037492\n"
     ]
    },
    {
     "name": "stderr",
     "output_type": "stream",
     "text": [
      "C:\\Users\\Simeon\\Anaconda3\\envs\\First\\lib\\site-packages\\sklearn\\utils\\deprecation.py:125: FutureWarning: You are accessing a training score ('train_score'), which will not be available by default any more in 0.21. If you need training scores, please set return_train_score=True\n",
      "  warnings.warn(*warn_args, **warn_kwargs)\n"
     ]
    }
   ],
   "source": [
    "cv = cross_validate(LinearRegression(), train_feats_pd['lsa_ch50'].iloc[:,:-1], y_train[lsa_samples], cv=5)\n",
    "print('Train r2 score: %f +/- %f'%(cv['train_score'].mean(), cv['train_score'].std()))\n",
    "print('Test  f2 score: %f +/- %f'%(cv['test_score'].mean(), cv['test_score'].std()))"
   ]
  },
  {
   "cell_type": "code",
   "execution_count": 210,
   "metadata": {},
   "outputs": [],
   "source": [
    "date_and_base_tags50_occupation_events_ch50 = np.concatenate([date_and_base_tags50_occupation_events[lsa_samples],\n",
    "                                                        train_feats_pd['lsa_ch50'].iloc[:,:-1].values], axis=1)"
   ]
  },
  {
   "cell_type": "code",
   "execution_count": 211,
   "metadata": {},
   "outputs": [
    {
     "name": "stdout",
     "output_type": "stream",
     "text": [
      "Train r2 score: 0.819739 +/- 0.018678\n",
      "Test  f2 score: 0.697020 +/- 0.125493\n"
     ]
    },
    {
     "name": "stderr",
     "output_type": "stream",
     "text": [
      "C:\\Users\\Simeon\\Anaconda3\\envs\\First\\lib\\site-packages\\sklearn\\utils\\deprecation.py:125: FutureWarning: You are accessing a training score ('train_score'), which will not be available by default any more in 0.21. If you need training scores, please set return_train_score=True\n",
      "  warnings.warn(*warn_args, **warn_kwargs)\n"
     ]
    }
   ],
   "source": [
    "cv = cross_validate(LinearRegression(), date_and_base_tags50_occupation_events_ch50, y_train[lsa_samples], cv=5)\n",
    "print('Train r2 score: %f +/- %f'%(cv['train_score'].mean(), cv['train_score'].std()))\n",
    "print('Test  f2 score: %f +/- %f'%(cv['test_score'].mean(), cv['test_score'].std()))"
   ]
  },
  {
   "cell_type": "code",
   "execution_count": 212,
   "metadata": {},
   "outputs": [],
   "source": [
    "date_and_base_tags50_occupation_events_ch25_w25 = np.concatenate([date_and_base_tags50_occupation_events[lsa_samples],\n",
    "                                                        train_feats_pd['lsa_ch25'].iloc[:,:-1].values,\n",
    "                                                        train_feats_pd['lsa_w25'].iloc[:,:-1].values], axis=1)"
   ]
  },
  {
   "cell_type": "code",
   "execution_count": 213,
   "metadata": {},
   "outputs": [
    {
     "name": "stdout",
     "output_type": "stream",
     "text": [
      "Train r2 score: 0.819963 +/- 0.018717\n",
      "Test  f2 score: 0.699528 +/- 0.127246\n"
     ]
    },
    {
     "name": "stderr",
     "output_type": "stream",
     "text": [
      "C:\\Users\\Simeon\\Anaconda3\\envs\\First\\lib\\site-packages\\sklearn\\utils\\deprecation.py:125: FutureWarning: You are accessing a training score ('train_score'), which will not be available by default any more in 0.21. If you need training scores, please set return_train_score=True\n",
      "  warnings.warn(*warn_args, **warn_kwargs)\n"
     ]
    }
   ],
   "source": [
    "cv = cross_validate(LinearRegression(), date_and_base_tags50_occupation_events_ch25_w25, y_train[lsa_samples], cv=5)\n",
    "print('Train r2 score: %f +/- %f'%(cv['train_score'].mean(), cv['train_score'].std()))\n",
    "print('Test  f2 score: %f +/- %f'%(cv['test_score'].mean(), cv['test_score'].std()))"
   ]
  },
  {
   "cell_type": "code",
   "execution_count": 214,
   "metadata": {},
   "outputs": [],
   "source": [
    "date_and_base_tags50_occupation_events_ch50_w50 = np.concatenate([date_and_base_tags50_occupation_events[lsa_samples],\n",
    "                                                        train_feats_pd['lsa_ch50'].iloc[:,:-1].values,\n",
    "                                                        train_feats_pd['lsa_w50'].iloc[:,:-1].values], axis=1)"
   ]
  },
  {
   "cell_type": "code",
   "execution_count": 215,
   "metadata": {
    "scrolled": true
   },
   "outputs": [
    {
     "name": "stdout",
     "output_type": "stream",
     "text": [
      "Train r2 score: 0.825482 +/- 0.018735\n",
      "Test  f2 score: 0.682960 +/- 0.137494\n"
     ]
    },
    {
     "name": "stderr",
     "output_type": "stream",
     "text": [
      "C:\\Users\\Simeon\\Anaconda3\\envs\\First\\lib\\site-packages\\sklearn\\utils\\deprecation.py:125: FutureWarning: You are accessing a training score ('train_score'), which will not be available by default any more in 0.21. If you need training scores, please set return_train_score=True\n",
      "  warnings.warn(*warn_args, **warn_kwargs)\n"
     ]
    }
   ],
   "source": [
    "cv = cross_validate(LinearRegression(), date_and_base_tags50_occupation_events_ch50_w50, y_train[lsa_samples], cv=5)\n",
    "print('Train r2 score: %f +/- %f'%(cv['train_score'].mean(), cv['train_score'].std()))\n",
    "print('Test  f2 score: %f +/- %f'%(cv['test_score'].mean(), cv['test_score'].std()))"
   ]
  },
  {
   "cell_type": "code",
   "execution_count": 227,
   "metadata": {},
   "outputs": [
    {
     "name": "stdout",
     "output_type": "stream",
     "text": [
      "Train r2 score: 0.794779 +/- 0.021903\n",
      "Test  f2 score: 0.717925 +/- 0.116946\n"
     ]
    },
    {
     "name": "stderr",
     "output_type": "stream",
     "text": [
      "C:\\Users\\Simeon\\Anaconda3\\envs\\First\\lib\\site-packages\\sklearn\\utils\\deprecation.py:125: FutureWarning: You are accessing a training score ('train_score'), which will not be available by default any more in 0.21. If you need training scores, please set return_train_score=True\n",
      "  warnings.warn(*warn_args, **warn_kwargs)\n"
     ]
    }
   ],
   "source": [
    "cv = cross_validate(Ridge(alpha=150), date_and_base_tags50_occupation_events_ch25_w25, y_train[lsa_samples], cv=5)\n",
    "print('Train r2 score: %f +/- %f'%(cv['train_score'].mean(), cv['train_score'].std()))\n",
    "print('Test  f2 score: %f +/- %f'%(cv['test_score'].mean(), cv['test_score'].std()))"
   ]
  },
  {
   "cell_type": "code",
   "execution_count": 230,
   "metadata": {},
   "outputs": [
    {
     "name": "stdout",
     "output_type": "stream",
     "text": [
      "Train r2 score: 0.802390 +/- 0.020814\n",
      "Test  f2 score: 0.722679 +/- 0.116986\n"
     ]
    },
    {
     "name": "stderr",
     "output_type": "stream",
     "text": [
      "C:\\Users\\Simeon\\Anaconda3\\envs\\First\\lib\\site-packages\\sklearn\\utils\\deprecation.py:125: FutureWarning: You are accessing a training score ('train_score'), which will not be available by default any more in 0.21. If you need training scores, please set return_train_score=True\n",
      "  warnings.warn(*warn_args, **warn_kwargs)\n"
     ]
    }
   ],
   "source": [
    "cv = cross_validate(Ridge(alpha=95), date_and_base_tags50_occupation_events_ch50_w50, y_train[lsa_samples], cv=5)\n",
    "print('Train r2 score: %f +/- %f'%(cv['train_score'].mean(), cv['train_score'].std()))\n",
    "print('Test  f2 score: %f +/- %f'%(cv['test_score'].mean(), cv['test_score'].std()))"
   ]
  },
  {
   "cell_type": "code",
   "execution_count": 250,
   "metadata": {},
   "outputs": [
    {
     "name": "stdout",
     "output_type": "stream",
     "text": [
      "Train r2 score: 0.779285 +/- 0.022140\n",
      "Test  f2 score: 0.730100 +/- 0.121008\n"
     ]
    },
    {
     "name": "stderr",
     "output_type": "stream",
     "text": [
      "C:\\Users\\Simeon\\Anaconda3\\envs\\First\\lib\\site-packages\\sklearn\\utils\\deprecation.py:125: FutureWarning: You are accessing a training score ('train_score'), which will not be available by default any more in 0.21. If you need training scores, please set return_train_score=True\n",
      "  warnings.warn(*warn_args, **warn_kwargs)\n"
     ]
    }
   ],
   "source": [
    "cv = cross_validate(Lasso(alpha=70000), date_and_base_tags50_occupation_events_ch50_w50, y_train[lsa_samples], cv=5)\n",
    "print('Train r2 score: %f +/- %f'%(cv['train_score'].mean(), cv['train_score'].std()))\n",
    "print('Test  f2 score: %f +/- %f'%(cv['test_score'].mean(), cv['test_score'].std()))"
   ]
  },
  {
   "cell_type": "code",
   "execution_count": 269,
   "metadata": {},
   "outputs": [],
   "source": [
    "lassoCV = LassoCV(cv=5)"
   ]
  },
  {
   "cell_type": "code",
   "execution_count": 274,
   "metadata": {},
   "outputs": [
    {
     "name": "stderr",
     "output_type": "stream",
     "text": [
      "C:\\Users\\Simeon\\Anaconda3\\envs\\First\\lib\\site-packages\\sklearn\\linear_model\\coordinate_descent.py:1108: DataConversionWarning: A column-vector y was passed when a 1d array was expected. Please change the shape of y to (n_samples, ), for example using ravel().\n",
      "  y = column_or_1d(y, warn=True)\n",
      "C:\\Users\\Simeon\\Anaconda3\\envs\\First\\lib\\site-packages\\sklearn\\linear_model\\coordinate_descent.py:491: ConvergenceWarning: Objective did not converge. You might want to increase the number of iterations. Fitting data with very small alpha may cause precision problems.\n",
      "  ConvergenceWarning)\n",
      "C:\\Users\\Simeon\\Anaconda3\\envs\\First\\lib\\site-packages\\sklearn\\linear_model\\coordinate_descent.py:491: ConvergenceWarning: Objective did not converge. You might want to increase the number of iterations. Fitting data with very small alpha may cause precision problems.\n",
      "  ConvergenceWarning)\n",
      "C:\\Users\\Simeon\\Anaconda3\\envs\\First\\lib\\site-packages\\sklearn\\linear_model\\coordinate_descent.py:491: ConvergenceWarning: Objective did not converge. You might want to increase the number of iterations. Fitting data with very small alpha may cause precision problems.\n",
      "  ConvergenceWarning)\n",
      "C:\\Users\\Simeon\\Anaconda3\\envs\\First\\lib\\site-packages\\sklearn\\linear_model\\coordinate_descent.py:491: ConvergenceWarning: Objective did not converge. You might want to increase the number of iterations. Fitting data with very small alpha may cause precision problems.\n",
      "  ConvergenceWarning)\n",
      "C:\\Users\\Simeon\\Anaconda3\\envs\\First\\lib\\site-packages\\sklearn\\linear_model\\coordinate_descent.py:491: ConvergenceWarning: Objective did not converge. You might want to increase the number of iterations. Fitting data with very small alpha may cause precision problems.\n",
      "  ConvergenceWarning)\n",
      "C:\\Users\\Simeon\\Anaconda3\\envs\\First\\lib\\site-packages\\sklearn\\linear_model\\coordinate_descent.py:491: ConvergenceWarning: Objective did not converge. You might want to increase the number of iterations. Fitting data with very small alpha may cause precision problems.\n",
      "  ConvergenceWarning)\n",
      "C:\\Users\\Simeon\\Anaconda3\\envs\\First\\lib\\site-packages\\sklearn\\linear_model\\coordinate_descent.py:491: ConvergenceWarning: Objective did not converge. You might want to increase the number of iterations. Fitting data with very small alpha may cause precision problems.\n",
      "  ConvergenceWarning)\n",
      "C:\\Users\\Simeon\\Anaconda3\\envs\\First\\lib\\site-packages\\sklearn\\linear_model\\coordinate_descent.py:491: ConvergenceWarning: Objective did not converge. You might want to increase the number of iterations. Fitting data with very small alpha may cause precision problems.\n",
      "  ConvergenceWarning)\n",
      "C:\\Users\\Simeon\\Anaconda3\\envs\\First\\lib\\site-packages\\sklearn\\linear_model\\coordinate_descent.py:491: ConvergenceWarning: Objective did not converge. You might want to increase the number of iterations. Fitting data with very small alpha may cause precision problems.\n",
      "  ConvergenceWarning)\n",
      "C:\\Users\\Simeon\\Anaconda3\\envs\\First\\lib\\site-packages\\sklearn\\linear_model\\coordinate_descent.py:491: ConvergenceWarning: Objective did not converge. You might want to increase the number of iterations. Fitting data with very small alpha may cause precision problems.\n",
      "  ConvergenceWarning)\n",
      "C:\\Users\\Simeon\\Anaconda3\\envs\\First\\lib\\site-packages\\sklearn\\linear_model\\coordinate_descent.py:491: ConvergenceWarning: Objective did not converge. You might want to increase the number of iterations. Fitting data with very small alpha may cause precision problems.\n",
      "  ConvergenceWarning)\n",
      "C:\\Users\\Simeon\\Anaconda3\\envs\\First\\lib\\site-packages\\sklearn\\linear_model\\coordinate_descent.py:491: ConvergenceWarning: Objective did not converge. You might want to increase the number of iterations. Fitting data with very small alpha may cause precision problems.\n",
      "  ConvergenceWarning)\n",
      "C:\\Users\\Simeon\\Anaconda3\\envs\\First\\lib\\site-packages\\sklearn\\linear_model\\coordinate_descent.py:491: ConvergenceWarning: Objective did not converge. You might want to increase the number of iterations. Fitting data with very small alpha may cause precision problems.\n",
      "  ConvergenceWarning)\n",
      "C:\\Users\\Simeon\\Anaconda3\\envs\\First\\lib\\site-packages\\sklearn\\linear_model\\coordinate_descent.py:491: ConvergenceWarning: Objective did not converge. You might want to increase the number of iterations. Fitting data with very small alpha may cause precision problems.\n",
      "  ConvergenceWarning)\n",
      "C:\\Users\\Simeon\\Anaconda3\\envs\\First\\lib\\site-packages\\sklearn\\linear_model\\coordinate_descent.py:491: ConvergenceWarning: Objective did not converge. You might want to increase the number of iterations. Fitting data with very small alpha may cause precision problems.\n",
      "  ConvergenceWarning)\n",
      "C:\\Users\\Simeon\\Anaconda3\\envs\\First\\lib\\site-packages\\sklearn\\linear_model\\coordinate_descent.py:491: ConvergenceWarning: Objective did not converge. You might want to increase the number of iterations. Fitting data with very small alpha may cause precision problems.\n",
      "  ConvergenceWarning)\n",
      "C:\\Users\\Simeon\\Anaconda3\\envs\\First\\lib\\site-packages\\sklearn\\linear_model\\coordinate_descent.py:491: ConvergenceWarning: Objective did not converge. You might want to increase the number of iterations. Fitting data with very small alpha may cause precision problems.\n",
      "  ConvergenceWarning)\n",
      "C:\\Users\\Simeon\\Anaconda3\\envs\\First\\lib\\site-packages\\sklearn\\linear_model\\coordinate_descent.py:491: ConvergenceWarning: Objective did not converge. You might want to increase the number of iterations. Fitting data with very small alpha may cause precision problems.\n",
      "  ConvergenceWarning)\n",
      "C:\\Users\\Simeon\\Anaconda3\\envs\\First\\lib\\site-packages\\sklearn\\linear_model\\coordinate_descent.py:491: ConvergenceWarning: Objective did not converge. You might want to increase the number of iterations. Fitting data with very small alpha may cause precision problems.\n",
      "  ConvergenceWarning)\n",
      "C:\\Users\\Simeon\\Anaconda3\\envs\\First\\lib\\site-packages\\sklearn\\linear_model\\coordinate_descent.py:491: ConvergenceWarning: Objective did not converge. You might want to increase the number of iterations. Fitting data with very small alpha may cause precision problems.\n",
      "  ConvergenceWarning)\n",
      "C:\\Users\\Simeon\\Anaconda3\\envs\\First\\lib\\site-packages\\sklearn\\linear_model\\coordinate_descent.py:491: ConvergenceWarning: Objective did not converge. You might want to increase the number of iterations. Fitting data with very small alpha may cause precision problems.\n",
      "  ConvergenceWarning)\n",
      "C:\\Users\\Simeon\\Anaconda3\\envs\\First\\lib\\site-packages\\sklearn\\linear_model\\coordinate_descent.py:491: ConvergenceWarning: Objective did not converge. You might want to increase the number of iterations. Fitting data with very small alpha may cause precision problems.\n",
      "  ConvergenceWarning)\n",
      "C:\\Users\\Simeon\\Anaconda3\\envs\\First\\lib\\site-packages\\sklearn\\linear_model\\coordinate_descent.py:491: ConvergenceWarning: Objective did not converge. You might want to increase the number of iterations. Fitting data with very small alpha may cause precision problems.\n",
      "  ConvergenceWarning)\n",
      "C:\\Users\\Simeon\\Anaconda3\\envs\\First\\lib\\site-packages\\sklearn\\linear_model\\coordinate_descent.py:491: ConvergenceWarning: Objective did not converge. You might want to increase the number of iterations. Fitting data with very small alpha may cause precision problems.\n",
      "  ConvergenceWarning)\n",
      "C:\\Users\\Simeon\\Anaconda3\\envs\\First\\lib\\site-packages\\sklearn\\linear_model\\coordinate_descent.py:491: ConvergenceWarning: Objective did not converge. You might want to increase the number of iterations. Fitting data with very small alpha may cause precision problems.\n",
      "  ConvergenceWarning)\n",
      "C:\\Users\\Simeon\\Anaconda3\\envs\\First\\lib\\site-packages\\sklearn\\linear_model\\coordinate_descent.py:491: ConvergenceWarning: Objective did not converge. You might want to increase the number of iterations. Fitting data with very small alpha may cause precision problems.\n",
      "  ConvergenceWarning)\n",
      "C:\\Users\\Simeon\\Anaconda3\\envs\\First\\lib\\site-packages\\sklearn\\linear_model\\coordinate_descent.py:491: ConvergenceWarning: Objective did not converge. You might want to increase the number of iterations. Fitting data with very small alpha may cause precision problems.\n",
      "  ConvergenceWarning)\n",
      "C:\\Users\\Simeon\\Anaconda3\\envs\\First\\lib\\site-packages\\sklearn\\linear_model\\coordinate_descent.py:491: ConvergenceWarning: Objective did not converge. You might want to increase the number of iterations. Fitting data with very small alpha may cause precision problems.\n",
      "  ConvergenceWarning)\n",
      "C:\\Users\\Simeon\\Anaconda3\\envs\\First\\lib\\site-packages\\sklearn\\linear_model\\coordinate_descent.py:491: ConvergenceWarning: Objective did not converge. You might want to increase the number of iterations. Fitting data with very small alpha may cause precision problems.\n",
      "  ConvergenceWarning)\n",
      "C:\\Users\\Simeon\\Anaconda3\\envs\\First\\lib\\site-packages\\sklearn\\linear_model\\coordinate_descent.py:491: ConvergenceWarning: Objective did not converge. You might want to increase the number of iterations. Fitting data with very small alpha may cause precision problems.\n",
      "  ConvergenceWarning)\n"
     ]
    },
    {
     "name": "stderr",
     "output_type": "stream",
     "text": [
      "C:\\Users\\Simeon\\Anaconda3\\envs\\First\\lib\\site-packages\\sklearn\\linear_model\\coordinate_descent.py:491: ConvergenceWarning: Objective did not converge. You might want to increase the number of iterations. Fitting data with very small alpha may cause precision problems.\n",
      "  ConvergenceWarning)\n",
      "C:\\Users\\Simeon\\Anaconda3\\envs\\First\\lib\\site-packages\\sklearn\\linear_model\\coordinate_descent.py:491: ConvergenceWarning: Objective did not converge. You might want to increase the number of iterations. Fitting data with very small alpha may cause precision problems.\n",
      "  ConvergenceWarning)\n",
      "C:\\Users\\Simeon\\Anaconda3\\envs\\First\\lib\\site-packages\\sklearn\\linear_model\\coordinate_descent.py:491: ConvergenceWarning: Objective did not converge. You might want to increase the number of iterations. Fitting data with very small alpha may cause precision problems.\n",
      "  ConvergenceWarning)\n",
      "C:\\Users\\Simeon\\Anaconda3\\envs\\First\\lib\\site-packages\\sklearn\\linear_model\\coordinate_descent.py:491: ConvergenceWarning: Objective did not converge. You might want to increase the number of iterations. Fitting data with very small alpha may cause precision problems.\n",
      "  ConvergenceWarning)\n",
      "C:\\Users\\Simeon\\Anaconda3\\envs\\First\\lib\\site-packages\\sklearn\\linear_model\\coordinate_descent.py:491: ConvergenceWarning: Objective did not converge. You might want to increase the number of iterations. Fitting data with very small alpha may cause precision problems.\n",
      "  ConvergenceWarning)\n",
      "C:\\Users\\Simeon\\Anaconda3\\envs\\First\\lib\\site-packages\\sklearn\\linear_model\\coordinate_descent.py:491: ConvergenceWarning: Objective did not converge. You might want to increase the number of iterations. Fitting data with very small alpha may cause precision problems.\n",
      "  ConvergenceWarning)\n",
      "C:\\Users\\Simeon\\Anaconda3\\envs\\First\\lib\\site-packages\\sklearn\\linear_model\\coordinate_descent.py:491: ConvergenceWarning: Objective did not converge. You might want to increase the number of iterations. Fitting data with very small alpha may cause precision problems.\n",
      "  ConvergenceWarning)\n",
      "C:\\Users\\Simeon\\Anaconda3\\envs\\First\\lib\\site-packages\\sklearn\\linear_model\\coordinate_descent.py:491: ConvergenceWarning: Objective did not converge. You might want to increase the number of iterations. Fitting data with very small alpha may cause precision problems.\n",
      "  ConvergenceWarning)\n",
      "C:\\Users\\Simeon\\Anaconda3\\envs\\First\\lib\\site-packages\\sklearn\\linear_model\\coordinate_descent.py:491: ConvergenceWarning: Objective did not converge. You might want to increase the number of iterations. Fitting data with very small alpha may cause precision problems.\n",
      "  ConvergenceWarning)\n",
      "C:\\Users\\Simeon\\Anaconda3\\envs\\First\\lib\\site-packages\\sklearn\\linear_model\\coordinate_descent.py:491: ConvergenceWarning: Objective did not converge. You might want to increase the number of iterations. Fitting data with very small alpha may cause precision problems.\n",
      "  ConvergenceWarning)\n",
      "C:\\Users\\Simeon\\Anaconda3\\envs\\First\\lib\\site-packages\\sklearn\\linear_model\\coordinate_descent.py:491: ConvergenceWarning: Objective did not converge. You might want to increase the number of iterations. Fitting data with very small alpha may cause precision problems.\n",
      "  ConvergenceWarning)\n",
      "C:\\Users\\Simeon\\Anaconda3\\envs\\First\\lib\\site-packages\\sklearn\\linear_model\\coordinate_descent.py:491: ConvergenceWarning: Objective did not converge. You might want to increase the number of iterations. Fitting data with very small alpha may cause precision problems.\n",
      "  ConvergenceWarning)\n",
      "C:\\Users\\Simeon\\Anaconda3\\envs\\First\\lib\\site-packages\\sklearn\\linear_model\\coordinate_descent.py:491: ConvergenceWarning: Objective did not converge. You might want to increase the number of iterations. Fitting data with very small alpha may cause precision problems.\n",
      "  ConvergenceWarning)\n",
      "C:\\Users\\Simeon\\Anaconda3\\envs\\First\\lib\\site-packages\\sklearn\\linear_model\\coordinate_descent.py:491: ConvergenceWarning: Objective did not converge. You might want to increase the number of iterations. Fitting data with very small alpha may cause precision problems.\n",
      "  ConvergenceWarning)\n",
      "C:\\Users\\Simeon\\Anaconda3\\envs\\First\\lib\\site-packages\\sklearn\\linear_model\\coordinate_descent.py:491: ConvergenceWarning: Objective did not converge. You might want to increase the number of iterations. Fitting data with very small alpha may cause precision problems.\n",
      "  ConvergenceWarning)\n",
      "C:\\Users\\Simeon\\Anaconda3\\envs\\First\\lib\\site-packages\\sklearn\\linear_model\\coordinate_descent.py:491: ConvergenceWarning: Objective did not converge. You might want to increase the number of iterations. Fitting data with very small alpha may cause precision problems.\n",
      "  ConvergenceWarning)\n",
      "C:\\Users\\Simeon\\Anaconda3\\envs\\First\\lib\\site-packages\\sklearn\\linear_model\\coordinate_descent.py:491: ConvergenceWarning: Objective did not converge. You might want to increase the number of iterations. Fitting data with very small alpha may cause precision problems.\n",
      "  ConvergenceWarning)\n"
     ]
    }
   ],
   "source": [
    "sfm = SelectFromModel(lassoCV, threshold=0.05)\n",
    "sfm.fit(date_and_base_tags50_occupation_events_ch50_w50, y_train[lsa_samples].values)\n",
    "n_features = sfm.transform(date_and_base_tags50_occupation_events_ch50_w50).shape[1]"
   ]
  },
  {
   "cell_type": "code",
   "execution_count": 276,
   "metadata": {},
   "outputs": [
    {
     "name": "stdout",
     "output_type": "stream",
     "text": [
      "Train r2 score: 0.781996 +/- 0.021789\n",
      "Test  f2 score: 0.731841 +/- 0.115826\n"
     ]
    },
    {
     "name": "stderr",
     "output_type": "stream",
     "text": [
      "C:\\Users\\Simeon\\Anaconda3\\envs\\First\\lib\\site-packages\\sklearn\\utils\\deprecation.py:125: FutureWarning: You are accessing a training score ('train_score'), which will not be available by default any more in 0.21. If you need training scores, please set return_train_score=True\n",
      "  warnings.warn(*warn_args, **warn_kwargs)\n"
     ]
    }
   ],
   "source": [
    "cv = cross_validate(LinearRegression(),\n",
    "                    sfm.transform(date_and_base_tags50_occupation_events_ch50_w50),\n",
    "                    y_train[lsa_samples], cv=5)\n",
    "print('Train r2 score: %f +/- %f'%(cv['train_score'].mean(), cv['train_score'].std()))\n",
    "print('Test  f2 score: %f +/- %f'%(cv['test_score'].mean(), cv['test_score'].std()))"
   ]
  },
  {
   "cell_type": "code",
   "execution_count": 257,
   "metadata": {
    "scrolled": true
   },
   "outputs": [
    {
     "data": {
      "text/plain": [
       "Lasso(alpha=70000, copy_X=True, fit_intercept=True, max_iter=1000,\n",
       "   normalize=False, positive=False, precompute=False, random_state=None,\n",
       "   selection='cyclic', tol=0.0001, warm_start=False)"
      ]
     },
     "execution_count": 257,
     "metadata": {},
     "output_type": "execute_result"
    }
   ],
   "source": [
    "lasso.fit(date_and_base_tags50_occupation_events_ch50_w50, y_train[lsa_samples])"
   ]
  },
  {
   "cell_type": "code",
   "execution_count": 288,
   "metadata": {},
   "outputs": [
    {
     "name": "stderr",
     "output_type": "stream",
     "text": [
      "C:\\Users\\Simeon\\Anaconda3\\envs\\First\\lib\\site-packages\\sklearn\\model_selection\\_validation.py:528: DataConversionWarning: A column-vector y was passed when a 1d array was expected. Please change the shape of y to (n_samples,), for example using ravel().\n",
      "  estimator.fit(X_train, y_train, **fit_params)\n",
      "C:\\Users\\Simeon\\Anaconda3\\envs\\First\\lib\\site-packages\\sklearn\\model_selection\\_validation.py:528: DataConversionWarning: A column-vector y was passed when a 1d array was expected. Please change the shape of y to (n_samples,), for example using ravel().\n",
      "  estimator.fit(X_train, y_train, **fit_params)\n",
      "C:\\Users\\Simeon\\Anaconda3\\envs\\First\\lib\\site-packages\\sklearn\\model_selection\\_validation.py:528: DataConversionWarning: A column-vector y was passed when a 1d array was expected. Please change the shape of y to (n_samples,), for example using ravel().\n",
      "  estimator.fit(X_train, y_train, **fit_params)\n",
      "C:\\Users\\Simeon\\Anaconda3\\envs\\First\\lib\\site-packages\\sklearn\\model_selection\\_validation.py:528: DataConversionWarning: A column-vector y was passed when a 1d array was expected. Please change the shape of y to (n_samples,), for example using ravel().\n",
      "  estimator.fit(X_train, y_train, **fit_params)\n",
      "C:\\Users\\Simeon\\Anaconda3\\envs\\First\\lib\\site-packages\\sklearn\\model_selection\\_validation.py:528: DataConversionWarning: A column-vector y was passed when a 1d array was expected. Please change the shape of y to (n_samples,), for example using ravel().\n",
      "  estimator.fit(X_train, y_train, **fit_params)\n"
     ]
    },
    {
     "name": "stdout",
     "output_type": "stream",
     "text": [
      "Train r2 score: 0.810501 +/- 0.012342\n",
      "Test  f2 score: 0.638242 +/- 0.081023\n"
     ]
    },
    {
     "name": "stderr",
     "output_type": "stream",
     "text": [
      "C:\\Users\\Simeon\\Anaconda3\\envs\\First\\lib\\site-packages\\sklearn\\utils\\deprecation.py:125: FutureWarning: You are accessing a training score ('train_score'), which will not be available by default any more in 0.21. If you need training scores, please set return_train_score=True\n",
      "  warnings.warn(*warn_args, **warn_kwargs)\n"
     ]
    }
   ],
   "source": [
    "cv = cross_validate(RandomForestRegressor(max_depth=3, n_estimators=1000,n_jobs=-1),\n",
    "                    sfm.transform(date_and_base_tags50_occupation_events_ch50_w50),\n",
    "                    y_train[lsa_samples], cv=5, scoring='r2')\n",
    "print('Train r2 score: %f +/- %f'%(cv['train_score'].mean(), cv['train_score'].std()))\n",
    "print('Test  f2 score: %f +/- %f'%(cv['test_score'].mean(), cv['test_score'].std()))"
   ]
  },
  {
   "cell_type": "code",
   "execution_count": 287,
   "metadata": {},
   "outputs": [
    {
     "name": "stderr",
     "output_type": "stream",
     "text": [
      "C:\\Users\\Simeon\\Anaconda3\\envs\\First\\lib\\site-packages\\sklearn\\model_selection\\_validation.py:528: DataConversionWarning: A column-vector y was passed when a 1d array was expected. Please change the shape of y to (n_samples,), for example using ravel().\n",
      "  estimator.fit(X_train, y_train, **fit_params)\n",
      "C:\\Users\\Simeon\\Anaconda3\\envs\\First\\lib\\site-packages\\sklearn\\model_selection\\_validation.py:528: DataConversionWarning: A column-vector y was passed when a 1d array was expected. Please change the shape of y to (n_samples,), for example using ravel().\n",
      "  estimator.fit(X_train, y_train, **fit_params)\n",
      "C:\\Users\\Simeon\\Anaconda3\\envs\\First\\lib\\site-packages\\sklearn\\model_selection\\_validation.py:528: DataConversionWarning: A column-vector y was passed when a 1d array was expected. Please change the shape of y to (n_samples,), for example using ravel().\n",
      "  estimator.fit(X_train, y_train, **fit_params)\n",
      "C:\\Users\\Simeon\\Anaconda3\\envs\\First\\lib\\site-packages\\sklearn\\model_selection\\_validation.py:528: DataConversionWarning: A column-vector y was passed when a 1d array was expected. Please change the shape of y to (n_samples,), for example using ravel().\n",
      "  estimator.fit(X_train, y_train, **fit_params)\n",
      "C:\\Users\\Simeon\\Anaconda3\\envs\\First\\lib\\site-packages\\sklearn\\model_selection\\_validation.py:528: DataConversionWarning: A column-vector y was passed when a 1d array was expected. Please change the shape of y to (n_samples,), for example using ravel().\n",
      "  estimator.fit(X_train, y_train, **fit_params)\n"
     ]
    },
    {
     "name": "stdout",
     "output_type": "stream",
     "text": [
      "Train r2 score: 0.752296 +/- 0.017820\n",
      "Test  f2 score: 0.622366 +/- 0.072708\n"
     ]
    },
    {
     "name": "stderr",
     "output_type": "stream",
     "text": [
      "C:\\Users\\Simeon\\Anaconda3\\envs\\First\\lib\\site-packages\\sklearn\\utils\\deprecation.py:125: FutureWarning: You are accessing a training score ('train_score'), which will not be available by default any more in 0.21. If you need training scores, please set return_train_score=True\n",
      "  warnings.warn(*warn_args, **warn_kwargs)\n"
     ]
    }
   ],
   "source": [
    "cv = cross_validate(RandomForestRegressor(max_depth=2, n_estimators=1000,n_jobs=-1),\n",
    "                    sfm.transform(date_and_base_tags50_occupation_events_ch50_w50),\n",
    "                    y_train[lsa_samples], cv=5, scoring='r2')\n",
    "print('Train r2 score: %f +/- %f'%(cv['train_score'].mean(), cv['train_score'].std()))\n",
    "print('Test  f2 score: %f +/- %f'%(cv['test_score'].mean(), cv['test_score'].std()))"
   ]
  },
  {
   "cell_type": "code",
   "execution_count": 289,
   "metadata": {},
   "outputs": [
    {
     "name": "stderr",
     "output_type": "stream",
     "text": [
      "C:\\Users\\Simeon\\Anaconda3\\envs\\First\\lib\\site-packages\\sklearn\\model_selection\\_validation.py:528: DataConversionWarning: A column-vector y was passed when a 1d array was expected. Please change the shape of y to (n_samples,), for example using ravel().\n",
      "  estimator.fit(X_train, y_train, **fit_params)\n",
      "C:\\Users\\Simeon\\Anaconda3\\envs\\First\\lib\\site-packages\\sklearn\\model_selection\\_validation.py:528: DataConversionWarning: A column-vector y was passed when a 1d array was expected. Please change the shape of y to (n_samples,), for example using ravel().\n",
      "  estimator.fit(X_train, y_train, **fit_params)\n",
      "C:\\Users\\Simeon\\Anaconda3\\envs\\First\\lib\\site-packages\\sklearn\\model_selection\\_validation.py:528: DataConversionWarning: A column-vector y was passed when a 1d array was expected. Please change the shape of y to (n_samples,), for example using ravel().\n",
      "  estimator.fit(X_train, y_train, **fit_params)\n",
      "C:\\Users\\Simeon\\Anaconda3\\envs\\First\\lib\\site-packages\\sklearn\\model_selection\\_validation.py:528: DataConversionWarning: A column-vector y was passed when a 1d array was expected. Please change the shape of y to (n_samples,), for example using ravel().\n",
      "  estimator.fit(X_train, y_train, **fit_params)\n",
      "C:\\Users\\Simeon\\Anaconda3\\envs\\First\\lib\\site-packages\\sklearn\\model_selection\\_validation.py:528: DataConversionWarning: A column-vector y was passed when a 1d array was expected. Please change the shape of y to (n_samples,), for example using ravel().\n",
      "  estimator.fit(X_train, y_train, **fit_params)\n"
     ]
    },
    {
     "name": "stdout",
     "output_type": "stream",
     "text": [
      "Train r2 score: 0.892416 +/- 0.008210\n",
      "Test  f2 score: 0.585172 +/- 0.070678\n"
     ]
    },
    {
     "name": "stderr",
     "output_type": "stream",
     "text": [
      "C:\\Users\\Simeon\\Anaconda3\\envs\\First\\lib\\site-packages\\sklearn\\utils\\deprecation.py:125: FutureWarning: You are accessing a training score ('train_score'), which will not be available by default any more in 0.21. If you need training scores, please set return_train_score=True\n",
      "  warnings.warn(*warn_args, **warn_kwargs)\n"
     ]
    }
   ],
   "source": [
    "cv = cross_validate(RandomForestRegressor(max_depth=5, n_estimators=1000, n_jobs=-1),\n",
    "                    date_and_base_tags50_occupation_events_ch50_w50,\n",
    "                    y_train[lsa_samples], cv=5, scoring='r2')\n",
    "print('Train r2 score: %f +/- %f'%(cv['train_score'].mean(), cv['train_score'].std()))\n",
    "print('Test  f2 score: %f +/- %f'%(cv['test_score'].mean(), cv['test_score'].std()))"
   ]
  },
  {
   "cell_type": "code",
   "execution_count": 290,
   "metadata": {},
   "outputs": [
    {
     "name": "stderr",
     "output_type": "stream",
     "text": [
      "C:\\Users\\Simeon\\Anaconda3\\envs\\First\\lib\\site-packages\\sklearn\\model_selection\\_validation.py:528: DataConversionWarning: A column-vector y was passed when a 1d array was expected. Please change the shape of y to (n_samples,), for example using ravel().\n",
      "  estimator.fit(X_train, y_train, **fit_params)\n",
      "C:\\Users\\Simeon\\Anaconda3\\envs\\First\\lib\\site-packages\\sklearn\\model_selection\\_validation.py:528: DataConversionWarning: A column-vector y was passed when a 1d array was expected. Please change the shape of y to (n_samples,), for example using ravel().\n",
      "  estimator.fit(X_train, y_train, **fit_params)\n",
      "C:\\Users\\Simeon\\Anaconda3\\envs\\First\\lib\\site-packages\\sklearn\\model_selection\\_validation.py:528: DataConversionWarning: A column-vector y was passed when a 1d array was expected. Please change the shape of y to (n_samples,), for example using ravel().\n",
      "  estimator.fit(X_train, y_train, **fit_params)\n",
      "C:\\Users\\Simeon\\Anaconda3\\envs\\First\\lib\\site-packages\\sklearn\\model_selection\\_validation.py:528: DataConversionWarning: A column-vector y was passed when a 1d array was expected. Please change the shape of y to (n_samples,), for example using ravel().\n",
      "  estimator.fit(X_train, y_train, **fit_params)\n",
      "C:\\Users\\Simeon\\Anaconda3\\envs\\First\\lib\\site-packages\\sklearn\\model_selection\\_validation.py:528: DataConversionWarning: A column-vector y was passed when a 1d array was expected. Please change the shape of y to (n_samples,), for example using ravel().\n",
      "  estimator.fit(X_train, y_train, **fit_params)\n"
     ]
    },
    {
     "name": "stdout",
     "output_type": "stream",
     "text": [
      "Train r2 score: 0.748497 +/- 0.016605\n",
      "Test  f2 score: 0.569811 +/- 0.059720\n"
     ]
    },
    {
     "name": "stderr",
     "output_type": "stream",
     "text": [
      "C:\\Users\\Simeon\\Anaconda3\\envs\\First\\lib\\site-packages\\sklearn\\utils\\deprecation.py:125: FutureWarning: You are accessing a training score ('train_score'), which will not be available by default any more in 0.21. If you need training scores, please set return_train_score=True\n",
      "  warnings.warn(*warn_args, **warn_kwargs)\n"
     ]
    }
   ],
   "source": [
    "cv = cross_validate(RandomForestRegressor(max_depth=2, n_estimators=1000, n_jobs=-1),\n",
    "                    date_and_base_tags50_occupation_events_ch50_w50,\n",
    "                    y_train[lsa_samples], cv=5, scoring='r2')\n",
    "print('Train r2 score: %f +/- %f'%(cv['train_score'].mean(), cv['train_score'].std()))\n",
    "print('Test  f2 score: %f +/- %f'%(cv['test_score'].mean(), cv['test_score'].std()))"
   ]
  },
  {
   "cell_type": "markdown",
   "metadata": {},
   "source": [
    "# Feats Selection"
   ]
  },
  {
   "cell_type": "markdown",
   "metadata": {},
   "source": [
    "## Feats concatenation"
   ]
  },
  {
   "cell_type": "code",
   "execution_count": 296,
   "metadata": {},
   "outputs": [
    {
     "data": {
      "text/html": [
       "<div>\n",
       "<style scoped>\n",
       "    .dataframe tbody tr th:only-of-type {\n",
       "        vertical-align: middle;\n",
       "    }\n",
       "\n",
       "    .dataframe tbody tr th {\n",
       "        vertical-align: top;\n",
       "    }\n",
       "\n",
       "    .dataframe thead th {\n",
       "        text-align: right;\n",
       "    }\n",
       "</style>\n",
       "<table border=\"1\" class=\"dataframe\">\n",
       "  <thead>\n",
       "    <tr style=\"text-align: right;\">\n",
       "      <th></th>\n",
       "      <th>comments</th>\n",
       "      <th>description</th>\n",
       "      <th>duration</th>\n",
       "      <th>event</th>\n",
       "      <th>film_date</th>\n",
       "      <th>languages</th>\n",
       "      <th>main_speaker</th>\n",
       "      <th>name</th>\n",
       "      <th>num_speaker</th>\n",
       "      <th>published_date</th>\n",
       "      <th>ratings</th>\n",
       "      <th>related_talks</th>\n",
       "      <th>speaker_occupation</th>\n",
       "      <th>tags</th>\n",
       "      <th>title</th>\n",
       "      <th>url</th>\n",
       "    </tr>\n",
       "  </thead>\n",
       "  <tbody>\n",
       "    <tr>\n",
       "      <th>0</th>\n",
       "      <td>837</td>\n",
       "      <td>Michael Shermer says the human tendency to bel...</td>\n",
       "      <td>1141</td>\n",
       "      <td>TED2010</td>\n",
       "      <td>1265760000</td>\n",
       "      <td>34</td>\n",
       "      <td>Michael Shermer</td>\n",
       "      <td>Michael Shermer: The pattern behind self-decep...</td>\n",
       "      <td>1</td>\n",
       "      <td>1276507380</td>\n",
       "      <td>[{'id': 7, 'name': 'Funny', 'count': 475}, {'i...</td>\n",
       "      <td>[{'id': 22, 'hero': 'https://pe.tedcdn.com/ima...</td>\n",
       "      <td>Skeptic</td>\n",
       "      <td>['God', 'faith', 'neuroscience', 'psychology',...</td>\n",
       "      <td>The pattern behind self-deception</td>\n",
       "      <td>https://www.ted.com/talks/michael_shermer_the_...</td>\n",
       "    </tr>\n",
       "    <tr>\n",
       "      <th>1</th>\n",
       "      <td>305</td>\n",
       "      <td>Collective compassion has meant an overall dec...</td>\n",
       "      <td>1328</td>\n",
       "      <td>TED2015</td>\n",
       "      <td>1426550400</td>\n",
       "      <td>30</td>\n",
       "      <td>Gary Haugen</td>\n",
       "      <td>Gary Haugen: The hidden reason for poverty the...</td>\n",
       "      <td>1</td>\n",
       "      <td>1429542970</td>\n",
       "      <td>[{'id': 1, 'name': 'Beautiful', 'count': 195},...</td>\n",
       "      <td>[{'id': 644, 'hero': 'https://pe.tedcdn.com/im...</td>\n",
       "      <td>Human rights attorney</td>\n",
       "      <td>['inequality', 'poverty', 'violence']</td>\n",
       "      <td>The hidden reason for poverty the world needs ...</td>\n",
       "      <td>https://www.ted.com/talks/gary_haugen_the_hidd...</td>\n",
       "    </tr>\n",
       "    <tr>\n",
       "      <th>2</th>\n",
       "      <td>289</td>\n",
       "      <td>Gayla Benefield was just doing her job -- unti...</td>\n",
       "      <td>878</td>\n",
       "      <td>TEDxDanubia</td>\n",
       "      <td>1363910400</td>\n",
       "      <td>30</td>\n",
       "      <td>Margaret Heffernan</td>\n",
       "      <td>Margaret Heffernan: The dangers of willful bli...</td>\n",
       "      <td>1</td>\n",
       "      <td>1376319512</td>\n",
       "      <td>[{'id': 3, 'name': 'Courageous', 'count': 413}...</td>\n",
       "      <td>[{'id': 1533, 'hero': 'https://pe.tedcdn.com/i...</td>\n",
       "      <td>Management thinker</td>\n",
       "      <td>['TEDx', 'corruption', 'culture', 'global issu...</td>\n",
       "      <td>The dangers of willful blindness</td>\n",
       "      <td>https://www.ted.com/talks/margaret_heffernan_t...</td>\n",
       "    </tr>\n",
       "    <tr>\n",
       "      <th>3</th>\n",
       "      <td>101</td>\n",
       "      <td>We often think of bias and prejudice as rooted...</td>\n",
       "      <td>983</td>\n",
       "      <td>TEDSalon NY2014</td>\n",
       "      <td>1389744000</td>\n",
       "      <td>26</td>\n",
       "      <td>Paul Bloom</td>\n",
       "      <td>Paul Bloom: Can prejudice ever be a good thing?</td>\n",
       "      <td>1</td>\n",
       "      <td>1404399605</td>\n",
       "      <td>[{'id': 11, 'name': 'Longwinded', 'count': 35}...</td>\n",
       "      <td>[{'id': 1198, 'hero': 'https://pe.tedcdn.com/i...</td>\n",
       "      <td>Psychologist</td>\n",
       "      <td>['behavioral economics', 'mind', 'psychology']</td>\n",
       "      <td>Can prejudice ever be a good thing?</td>\n",
       "      <td>https://www.ted.com/talks/paul_bloom_can_preju...</td>\n",
       "    </tr>\n",
       "    <tr>\n",
       "      <th>4</th>\n",
       "      <td>101</td>\n",
       "      <td>Blind river dolphins, reclusive lemurs, a parr...</td>\n",
       "      <td>5256</td>\n",
       "      <td>University of California</td>\n",
       "      <td>989971200</td>\n",
       "      <td>0</td>\n",
       "      <td>Douglas Adams</td>\n",
       "      <td>Douglas Adams: Parrots, the universe and every...</td>\n",
       "      <td>1</td>\n",
       "      <td>1268762040</td>\n",
       "      <td>[{'id': 22, 'name': 'Fascinating', 'count': 29...</td>\n",
       "      <td>[{'id': 635, 'hero': 'https://pe.tedcdn.com/im...</td>\n",
       "      <td>Author, satirist</td>\n",
       "      <td>['biodiversity', 'biology', 'comedy', 'humor',...</td>\n",
       "      <td>Parrots, the universe and everything</td>\n",
       "      <td>https://www.ted.com/talks/douglas_adams_parrot...</td>\n",
       "    </tr>\n",
       "  </tbody>\n",
       "</table>\n",
       "</div>"
      ],
      "text/plain": [
       "   comments                                        description  duration  \\\n",
       "0       837  Michael Shermer says the human tendency to bel...      1141   \n",
       "1       305  Collective compassion has meant an overall dec...      1328   \n",
       "2       289  Gayla Benefield was just doing her job -- unti...       878   \n",
       "3       101  We often think of bias and prejudice as rooted...       983   \n",
       "4       101  Blind river dolphins, reclusive lemurs, a parr...      5256   \n",
       "\n",
       "                      event   film_date  languages        main_speaker  \\\n",
       "0                   TED2010  1265760000         34     Michael Shermer   \n",
       "1                   TED2015  1426550400         30         Gary Haugen   \n",
       "2               TEDxDanubia  1363910400         30  Margaret Heffernan   \n",
       "3           TEDSalon NY2014  1389744000         26          Paul Bloom   \n",
       "4  University of California   989971200          0       Douglas Adams   \n",
       "\n",
       "                                                name  num_speaker  \\\n",
       "0  Michael Shermer: The pattern behind self-decep...            1   \n",
       "1  Gary Haugen: The hidden reason for poverty the...            1   \n",
       "2  Margaret Heffernan: The dangers of willful bli...            1   \n",
       "3    Paul Bloom: Can prejudice ever be a good thing?            1   \n",
       "4  Douglas Adams: Parrots, the universe and every...            1   \n",
       "\n",
       "   published_date                                            ratings  \\\n",
       "0      1276507380  [{'id': 7, 'name': 'Funny', 'count': 475}, {'i...   \n",
       "1      1429542970  [{'id': 1, 'name': 'Beautiful', 'count': 195},...   \n",
       "2      1376319512  [{'id': 3, 'name': 'Courageous', 'count': 413}...   \n",
       "3      1404399605  [{'id': 11, 'name': 'Longwinded', 'count': 35}...   \n",
       "4      1268762040  [{'id': 22, 'name': 'Fascinating', 'count': 29...   \n",
       "\n",
       "                                       related_talks     speaker_occupation  \\\n",
       "0  [{'id': 22, 'hero': 'https://pe.tedcdn.com/ima...                Skeptic   \n",
       "1  [{'id': 644, 'hero': 'https://pe.tedcdn.com/im...  Human rights attorney   \n",
       "2  [{'id': 1533, 'hero': 'https://pe.tedcdn.com/i...     Management thinker   \n",
       "3  [{'id': 1198, 'hero': 'https://pe.tedcdn.com/i...           Psychologist   \n",
       "4  [{'id': 635, 'hero': 'https://pe.tedcdn.com/im...       Author, satirist   \n",
       "\n",
       "                                                tags  \\\n",
       "0  ['God', 'faith', 'neuroscience', 'psychology',...   \n",
       "1              ['inequality', 'poverty', 'violence']   \n",
       "2  ['TEDx', 'corruption', 'culture', 'global issu...   \n",
       "3     ['behavioral economics', 'mind', 'psychology']   \n",
       "4  ['biodiversity', 'biology', 'comedy', 'humor',...   \n",
       "\n",
       "                                               title  \\\n",
       "0                  The pattern behind self-deception   \n",
       "1  The hidden reason for poverty the world needs ...   \n",
       "2                   The dangers of willful blindness   \n",
       "3                Can prejudice ever be a good thing?   \n",
       "4               Parrots, the universe and everything   \n",
       "\n",
       "                                                 url  \n",
       "0  https://www.ted.com/talks/michael_shermer_the_...  \n",
       "1  https://www.ted.com/talks/gary_haugen_the_hidd...  \n",
       "2  https://www.ted.com/talks/margaret_heffernan_t...  \n",
       "3  https://www.ted.com/talks/paul_bloom_can_preju...  \n",
       "4  https://www.ted.com/talks/douglas_adams_parrot...  "
      ]
     },
     "execution_count": 296,
     "metadata": {},
     "output_type": "execute_result"
    }
   ],
   "source": [
    "X_train.head()"
   ]
  },
  {
   "cell_type": "code",
   "execution_count": 303,
   "metadata": {},
   "outputs": [
    {
     "data": {
      "text/plain": [
       "['date_feats',\n",
       " 'events_ohe',\n",
       " 'lsa_ch25',\n",
       " 'lsa_ch50',\n",
       " 'lsa_w25',\n",
       " 'lsa_w50',\n",
       " 'ratings',\n",
       " 'ratings_sum',\n",
       " 'related_talks_avg_views',\n",
       " 'tags_gt10',\n",
       " 'tags_gt50']"
      ]
     },
     "execution_count": 303,
     "metadata": {},
     "output_type": "execute_result"
    }
   ],
   "source": [
    "list(train_feats_pd.keys())"
   ]
  },
  {
   "cell_type": "code",
   "execution_count": 294,
   "metadata": {
    "scrolled": true
   },
   "outputs": [
    {
     "data": {
      "text/plain": [
       "['description_tw_emb',\n",
       " 'description_wiki_emb',\n",
       " 'speaker_occupation_tw_emb',\n",
       " 'speaker_occupation_wiki_emb',\n",
       " 'tags_tweet_emb',\n",
       " 'tags_wiki_emb',\n",
       " 'title_tw_emb',\n",
       " 'title_wiki_emb']"
      ]
     },
     "execution_count": 294,
     "metadata": {},
     "output_type": "execute_result"
    }
   ],
   "source": [
    "list(train_feats_np.keys())"
   ]
  },
  {
   "cell_type": "markdown",
   "metadata": {},
   "source": [
    "### Quantitative feats"
   ]
  },
  {
   "cell_type": "code",
   "execution_count": 316,
   "metadata": {},
   "outputs": [],
   "source": [
    "X_train_quant = pd.DataFrame(X_train.comments)\n",
    "X_test_quant  = pd.DataFrame(X_test.comments)"
   ]
  },
  {
   "cell_type": "code",
   "execution_count": 317,
   "metadata": {
    "scrolled": true
   },
   "outputs": [
    {
     "data": {
      "text/html": [
       "<div>\n",
       "<style scoped>\n",
       "    .dataframe tbody tr th:only-of-type {\n",
       "        vertical-align: middle;\n",
       "    }\n",
       "\n",
       "    .dataframe tbody tr th {\n",
       "        vertical-align: top;\n",
       "    }\n",
       "\n",
       "    .dataframe thead th {\n",
       "        text-align: right;\n",
       "    }\n",
       "</style>\n",
       "<table border=\"1\" class=\"dataframe\">\n",
       "  <thead>\n",
       "    <tr style=\"text-align: right;\">\n",
       "      <th></th>\n",
       "      <th>year</th>\n",
       "      <th>month</th>\n",
       "      <th>day</th>\n",
       "      <th>publishing_lag</th>\n",
       "      <th>elapsed_time</th>\n",
       "    </tr>\n",
       "  </thead>\n",
       "  <tbody>\n",
       "    <tr>\n",
       "      <th>0</th>\n",
       "      <td>2010</td>\n",
       "      <td>February</td>\n",
       "      <td>Wednesday</td>\n",
       "      <td>-124</td>\n",
       "      <td>-2962</td>\n",
       "    </tr>\n",
       "    <tr>\n",
       "      <th>1</th>\n",
       "      <td>2015</td>\n",
       "      <td>March</td>\n",
       "      <td>Tuesday</td>\n",
       "      <td>-34</td>\n",
       "      <td>-4823</td>\n",
       "    </tr>\n",
       "    <tr>\n",
       "      <th>2</th>\n",
       "      <td>2013</td>\n",
       "      <td>March</td>\n",
       "      <td>Friday</td>\n",
       "      <td>-143</td>\n",
       "      <td>-4098</td>\n",
       "    </tr>\n",
       "    <tr>\n",
       "      <th>3</th>\n",
       "      <td>2014</td>\n",
       "      <td>January</td>\n",
       "      <td>Wednesday</td>\n",
       "      <td>-169</td>\n",
       "      <td>-4397</td>\n",
       "    </tr>\n",
       "    <tr>\n",
       "      <th>4</th>\n",
       "      <td>2001</td>\n",
       "      <td>May</td>\n",
       "      <td>Wednesday</td>\n",
       "      <td>-1000</td>\n",
       "      <td>230</td>\n",
       "    </tr>\n",
       "  </tbody>\n",
       "</table>\n",
       "</div>"
      ],
      "text/plain": [
       "   year     month        day  publishing_lag  elapsed_time\n",
       "0  2010  February  Wednesday            -124         -2962\n",
       "1  2015     March    Tuesday             -34         -4823\n",
       "2  2013     March     Friday            -143         -4098\n",
       "3  2014   January  Wednesday            -169         -4397\n",
       "4  2001       May  Wednesday           -1000           230"
      ]
     },
     "execution_count": 317,
     "metadata": {},
     "output_type": "execute_result"
    }
   ],
   "source": [
    "train_feats_pd['date_feats'].head()"
   ]
  },
  {
   "cell_type": "code",
   "execution_count": 318,
   "metadata": {},
   "outputs": [],
   "source": [
    "date_quant_columns = ['year', 'publishing_lag', 'elapsed_time']"
   ]
  },
  {
   "cell_type": "code",
   "execution_count": 319,
   "metadata": {},
   "outputs": [],
   "source": [
    "X_train_quant = pd.concat([X_train_quant,\n",
    "                            train_feats_pd['date_feats'][date_quant_columns]],\n",
    "                          axis=1)\n",
    "X_test_quant = pd.concat([X_test_quant,\n",
    "                            test_feats_pd['date_feats'][date_quant_columns]],\n",
    "                          axis=1)"
   ]
  },
  {
   "cell_type": "code",
   "execution_count": 320,
   "metadata": {},
   "outputs": [],
   "source": [
    "X_train_quant = pd.concat([X_train_quant,\n",
    "                            train_feats_pd['ratings_sum']],\n",
    "                          axis=1)\n",
    "X_test_quant = pd.concat([X_test_quant,\n",
    "                            test_feats_pd['ratings_sum']],\n",
    "                          axis=1)"
   ]
  },
  {
   "cell_type": "code",
   "execution_count": 321,
   "metadata": {},
   "outputs": [],
   "source": [
    "X_train_quant = pd.concat([X_train_quant,\n",
    "                            train_feats_pd['related_talks_avg_views']],\n",
    "                          axis=1)\n",
    "X_test_quant = pd.concat([X_test_quant,\n",
    "                            test_feats_pd['related_talks_avg_views']],\n",
    "                          axis=1)"
   ]
  },
  {
   "cell_type": "markdown",
   "metadata": {},
   "source": [
    "### OhE "
   ]
  },
  {
   "cell_type": "code",
   "execution_count": 322,
   "metadata": {},
   "outputs": [
    {
     "data": {
      "text/html": [
       "<div>\n",
       "<style scoped>\n",
       "    .dataframe tbody tr th:only-of-type {\n",
       "        vertical-align: middle;\n",
       "    }\n",
       "\n",
       "    .dataframe tbody tr th {\n",
       "        vertical-align: top;\n",
       "    }\n",
       "\n",
       "    .dataframe thead th {\n",
       "        text-align: right;\n",
       "    }\n",
       "</style>\n",
       "<table border=\"1\" class=\"dataframe\">\n",
       "  <thead>\n",
       "    <tr style=\"text-align: right;\">\n",
       "      <th></th>\n",
       "      <th>year</th>\n",
       "      <th>month</th>\n",
       "      <th>day</th>\n",
       "      <th>publishing_lag</th>\n",
       "      <th>elapsed_time</th>\n",
       "    </tr>\n",
       "  </thead>\n",
       "  <tbody>\n",
       "    <tr>\n",
       "      <th>0</th>\n",
       "      <td>2010</td>\n",
       "      <td>February</td>\n",
       "      <td>Wednesday</td>\n",
       "      <td>-124</td>\n",
       "      <td>-2962</td>\n",
       "    </tr>\n",
       "    <tr>\n",
       "      <th>1</th>\n",
       "      <td>2015</td>\n",
       "      <td>March</td>\n",
       "      <td>Tuesday</td>\n",
       "      <td>-34</td>\n",
       "      <td>-4823</td>\n",
       "    </tr>\n",
       "    <tr>\n",
       "      <th>2</th>\n",
       "      <td>2013</td>\n",
       "      <td>March</td>\n",
       "      <td>Friday</td>\n",
       "      <td>-143</td>\n",
       "      <td>-4098</td>\n",
       "    </tr>\n",
       "    <tr>\n",
       "      <th>3</th>\n",
       "      <td>2014</td>\n",
       "      <td>January</td>\n",
       "      <td>Wednesday</td>\n",
       "      <td>-169</td>\n",
       "      <td>-4397</td>\n",
       "    </tr>\n",
       "    <tr>\n",
       "      <th>4</th>\n",
       "      <td>2001</td>\n",
       "      <td>May</td>\n",
       "      <td>Wednesday</td>\n",
       "      <td>-1000</td>\n",
       "      <td>230</td>\n",
       "    </tr>\n",
       "  </tbody>\n",
       "</table>\n",
       "</div>"
      ],
      "text/plain": [
       "   year     month        day  publishing_lag  elapsed_time\n",
       "0  2010  February  Wednesday            -124         -2962\n",
       "1  2015     March    Tuesday             -34         -4823\n",
       "2  2013     March     Friday            -143         -4098\n",
       "3  2014   January  Wednesday            -169         -4397\n",
       "4  2001       May  Wednesday           -1000           230"
      ]
     },
     "execution_count": 322,
     "metadata": {},
     "output_type": "execute_result"
    }
   ],
   "source": [
    "train_feats_pd['date_feats'].head()"
   ]
  },
  {
   "cell_type": "code",
   "execution_count": 323,
   "metadata": {},
   "outputs": [],
   "source": [
    "day_lb = LabelBinarizer()\n",
    "day_ohe_train = day_lb.fit_transform(train_feats_pd['date_feats'].day)[:,:-1]\n",
    "day_ohe_test = day_lb.transform(test_feats_pd['date_feats'].day)[:,:-1]"
   ]
  },
  {
   "cell_type": "code",
   "execution_count": 324,
   "metadata": {},
   "outputs": [],
   "source": [
    "month_lb = LabelBinarizer()\n",
    "month_ohe_train = month_lb.fit_transform(train_feats_pd['date_feats'].month)[:,:-1]\n",
    "month_ohe_test = month_lb.transform(test_feats_pd['date_feats'].month)[:,:-1]"
   ]
  },
  {
   "cell_type": "code",
   "execution_count": 325,
   "metadata": {},
   "outputs": [],
   "source": [
    "X_train_ohe = pd.DataFrame(data=np.concatenate([day_ohe_train, month_ohe_train],axis=1))\n",
    "X_test_ohe = pd.DataFrame(data=np.concatenate([day_ohe_test, month_ohe_test],axis=1))"
   ]
  },
  {
   "cell_type": "code",
   "execution_count": 326,
   "metadata": {},
   "outputs": [
    {
     "data": {
      "text/plain": [
       "(2040, 17)"
      ]
     },
     "execution_count": 326,
     "metadata": {},
     "output_type": "execute_result"
    }
   ],
   "source": [
    "X_train_ohe.shape"
   ]
  },
  {
   "cell_type": "code",
   "execution_count": 327,
   "metadata": {},
   "outputs": [
    {
     "data": {
      "text/plain": [
       "(510, 17)"
      ]
     },
     "execution_count": 327,
     "metadata": {},
     "output_type": "execute_result"
    }
   ],
   "source": [
    "X_test_ohe.shape"
   ]
  },
  {
   "cell_type": "code",
   "execution_count": 328,
   "metadata": {},
   "outputs": [],
   "source": [
    "X_train_ohe = pd.concat([X_train_ohe, train_feats_pd['events_ohe']], axis=1)\n",
    "X_test_ohe = pd.concat([X_test_ohe, test_feats_pd['events_ohe']], axis=1)"
   ]
  },
  {
   "cell_type": "markdown",
   "metadata": {},
   "source": [
    "### Tags"
   ]
  },
  {
   "cell_type": "code",
   "execution_count": 329,
   "metadata": {},
   "outputs": [],
   "source": [
    "X_train_tags = pd.DataFrame(train_feats_pd['tags_gt10'])\n",
    "X_test_tags = pd.DataFrame(test_feats_pd['tags_gt10'])"
   ]
  },
  {
   "cell_type": "markdown",
   "metadata": {},
   "source": [
    "### Embeddings "
   ]
  },
  {
   "cell_type": "code",
   "execution_count": 330,
   "metadata": {},
   "outputs": [],
   "source": [
    "X_train_emb = pd.DataFrame(np.concatenate([train_feats_np['description_wiki_emb'],\n",
    "                                          train_feats_np['tags_wiki_emb'],\n",
    "                                          train_feats_np['speaker_occupation_wiki_emb'],], axis=1))\n",
    "X_test_emb = pd.DataFrame(np.concatenate([test_feats_np['description_wiki_emb'],\n",
    "                                          test_feats_np['tags_wiki_emb'],\n",
    "                                          test_feats_np['speaker_occupation_wiki_emb'],], axis=1))"
   ]
  },
  {
   "cell_type": "markdown",
   "metadata": {},
   "source": [
    "### LSA"
   ]
  },
  {
   "cell_type": "code",
   "execution_count": 336,
   "metadata": {},
   "outputs": [],
   "source": [
    "X_train['url'] = X_train['url'].replace(r'\\s+|\\\\n', '', regex=True)\n",
    "X_test['url'] = X_test['url'].replace(r'\\s+|\\\\n', '', regex=True)\n",
    "lsa_samples_train = X_train.url.isin(train_feats_pd['lsa_ch50'].url.values)\n",
    "lsa_samples_test = X_test.url.isin(test_feats_pd['lsa_ch50'].url.values)"
   ]
  },
  {
   "cell_type": "code",
   "execution_count": 369,
   "metadata": {},
   "outputs": [],
   "source": [
    "X_train_lsa = pd.DataFrame(np.concatenate([train_feats_pd['lsa_ch50'].iloc[:,:-1],\n",
    "                                    train_feats_pd['lsa_w50'].iloc[:,:-1]], axis=1))\n",
    "X_test_lsa = pd.DataFrame(np.concatenate([test_feats_pd['lsa_ch50'].iloc[:,:-1],\n",
    "                                    test_feats_pd['lsa_w50'].iloc[:,:-1]], axis=1))"
   ]
  },
  {
   "cell_type": "markdown",
   "metadata": {},
   "source": [
    "## Concatenate All "
   ]
  },
  {
   "cell_type": "code",
   "execution_count": 333,
   "metadata": {},
   "outputs": [],
   "source": [
    "sc = StandardScaler()"
   ]
  },
  {
   "cell_type": "code",
   "execution_count": 340,
   "metadata": {},
   "outputs": [
    {
     "name": "stderr",
     "output_type": "stream",
     "text": [
      "C:\\Users\\Simeon\\Anaconda3\\envs\\First\\lib\\site-packages\\sklearn\\preprocessing\\data.py:617: DataConversionWarning: Data with input dtype int64, float64 were all converted to float64 by StandardScaler.\n",
      "  return self.partial_fit(X, y)\n",
      "C:\\Users\\Simeon\\Anaconda3\\envs\\First\\lib\\site-packages\\sklearn\\base.py:462: DataConversionWarning: Data with input dtype int64, float64 were all converted to float64 by StandardScaler.\n",
      "  return self.fit(X, **fit_params).transform(X)\n",
      "C:\\Users\\Simeon\\Anaconda3\\envs\\First\\lib\\site-packages\\ipykernel_launcher.py:2: DataConversionWarning: Data with input dtype int64, float64 were all converted to float64 by StandardScaler.\n",
      "  \n"
     ]
    }
   ],
   "source": [
    "X_train_quant_sd = pd.DataFrame(sc.fit_transform(X_train_quant))\n",
    "X_test_quant_sd = pd.DataFrame(sc.transform(X_test_quant))"
   ]
  },
  {
   "cell_type": "code",
   "execution_count": 370,
   "metadata": {},
   "outputs": [],
   "source": [
    "X_train_all = pd.concat([X_train_quant_sd, X_train_ohe, X_train_tags, X_train_emb], axis=1)\n",
    "X_test_all = pd.concat([X_test_quant_sd, X_test_ohe, X_test_tags, X_test_emb], axis=1)"
   ]
  },
  {
   "cell_type": "markdown",
   "metadata": {},
   "source": [
    "###  Leave only the samples that have  transcripts"
   ]
  },
  {
   "cell_type": "code",
   "execution_count": 371,
   "metadata": {},
   "outputs": [],
   "source": [
    "X_train_all = pd.concat([X_train_all[lsa_samples_train].reset_index(),\n",
    "                        X_train_lsa], axis=1)\n",
    "X_test_all = pd.concat([X_test_all[lsa_samples_test].reset_index(),\n",
    "                        X_test_lsa], axis=1)"
   ]
  },
  {
   "cell_type": "code",
   "execution_count": 372,
   "metadata": {},
   "outputs": [
    {
     "data": {
      "text/plain": [
       "(1964, 553)"
      ]
     },
     "execution_count": 372,
     "metadata": {},
     "output_type": "execute_result"
    }
   ],
   "source": [
    "X_train_all.shape"
   ]
  },
  {
   "cell_type": "code",
   "execution_count": 373,
   "metadata": {},
   "outputs": [
    {
     "data": {
      "text/plain": [
       "(500, 553)"
      ]
     },
     "execution_count": 373,
     "metadata": {},
     "output_type": "execute_result"
    }
   ],
   "source": [
    "X_test_all.shape"
   ]
  },
  {
   "cell_type": "code",
   "execution_count": 374,
   "metadata": {},
   "outputs": [],
   "source": [
    "y_train_lsa = y_train[lsa_samples_train].values\n",
    "y_test_lsa = y_test[lsa_samples_test].values"
   ]
  },
  {
   "cell_type": "code",
   "execution_count": 387,
   "metadata": {},
   "outputs": [
    {
     "name": "stdout",
     "output_type": "stream",
     "text": [
      "Train r2 score: 0.854646 +/- 0.016611\n",
      "Test  f2 score: 0.594032 +/- 0.161329\n"
     ]
    },
    {
     "name": "stderr",
     "output_type": "stream",
     "text": [
      "C:\\Users\\Simeon\\Anaconda3\\envs\\First\\lib\\site-packages\\sklearn\\utils\\deprecation.py:125: FutureWarning: You are accessing a training score ('train_score'), which will not be available by default any more in 0.21. If you need training scores, please set return_train_score=True\n",
      "  warnings.warn(*warn_args, **warn_kwargs)\n"
     ]
    }
   ],
   "source": [
    "cv = cross_validate(LinearRegression(),\n",
    "                    X_train_all,\n",
    "                    y_train_lsa, cv=5)\n",
    "print('Train r2 score: %f +/- %f'%(cv['train_score'].mean(), cv['train_score'].std()))\n",
    "print('Test  f2 score: %f +/- %f'%(cv['test_score'].mean(), cv['test_score'].std()))"
   ]
  },
  {
   "cell_type": "markdown",
   "metadata": {},
   "source": [
    "## Feats selection with Lasso"
   ]
  },
  {
   "cell_type": "code",
   "execution_count": 380,
   "metadata": {},
   "outputs": [
    {
     "name": "stderr",
     "output_type": "stream",
     "text": [
      "C:\\Users\\Simeon\\Anaconda3\\envs\\First\\lib\\site-packages\\sklearn\\linear_model\\coordinate_descent.py:1108: DataConversionWarning: A column-vector y was passed when a 1d array was expected. Please change the shape of y to (n_samples, ), for example using ravel().\n",
      "  y = column_or_1d(y, warn=True)\n"
     ]
    },
    {
     "data": {
      "text/plain": [
       "34"
      ]
     },
     "execution_count": 380,
     "metadata": {},
     "output_type": "execute_result"
    }
   ],
   "source": [
    "lassoCV = LassoCV(cv=5)\n",
    "sfm = SelectFromModel(lassoCV, threshold=0.05)\n",
    "sfm.fit(X_train_all, y_train_lsa)\n",
    "n_features = sfm.transform(X_train_all).shape[1]\n",
    "n_features"
   ]
  },
  {
   "cell_type": "code",
   "execution_count": 381,
   "metadata": {
    "scrolled": true
   },
   "outputs": [
    {
     "name": "stdout",
     "output_type": "stream",
     "text": [
      "Train r2 score: 0.785887 +/- 0.022640\n",
      "Test  f2 score: 0.728569 +/- 0.122812\n"
     ]
    },
    {
     "name": "stderr",
     "output_type": "stream",
     "text": [
      "C:\\Users\\Simeon\\Anaconda3\\envs\\First\\lib\\site-packages\\sklearn\\utils\\deprecation.py:125: FutureWarning: You are accessing a training score ('train_score'), which will not be available by default any more in 0.21. If you need training scores, please set return_train_score=True\n",
      "  warnings.warn(*warn_args, **warn_kwargs)\n"
     ]
    }
   ],
   "source": [
    "cv = cross_validate(LinearRegression(),\n",
    "                    sfm.transform(X_train_all),\n",
    "                    y_train_lsa, cv=5)\n",
    "print('Train r2 score: %f +/- %f'%(cv['train_score'].mean(), cv['train_score'].std()))\n",
    "print('Test  f2 score: %f +/- %f'%(cv['test_score'].mean(), cv['test_score'].std()))"
   ]
  },
  {
   "cell_type": "code",
   "execution_count": 382,
   "metadata": {},
   "outputs": [
    {
     "name": "stderr",
     "output_type": "stream",
     "text": [
      "C:\\Users\\Simeon\\Anaconda3\\envs\\First\\lib\\site-packages\\sklearn\\linear_model\\coordinate_descent.py:1108: DataConversionWarning: A column-vector y was passed when a 1d array was expected. Please change the shape of y to (n_samples, ), for example using ravel().\n",
      "  y = column_or_1d(y, warn=True)\n"
     ]
    },
    {
     "data": {
      "text/plain": [
       "20"
      ]
     },
     "execution_count": 382,
     "metadata": {},
     "output_type": "execute_result"
    }
   ],
   "source": [
    "lassoCV = LassoCV(cv=5)\n",
    "sfm = SelectFromModel(lassoCV, threshold='mean')\n",
    "sfm.fit(X_train_all, y_train_lsa)\n",
    "n_features = sfm.transform(X_train_all).shape[1]\n",
    "n_features"
   ]
  },
  {
   "cell_type": "code",
   "execution_count": 383,
   "metadata": {},
   "outputs": [
    {
     "name": "stdout",
     "output_type": "stream",
     "text": [
      "Train r2 score: 0.783930 +/- 0.022846\n",
      "Test  f2 score: 0.730714 +/- 0.122780\n"
     ]
    },
    {
     "name": "stderr",
     "output_type": "stream",
     "text": [
      "C:\\Users\\Simeon\\Anaconda3\\envs\\First\\lib\\site-packages\\sklearn\\utils\\deprecation.py:125: FutureWarning: You are accessing a training score ('train_score'), which will not be available by default any more in 0.21. If you need training scores, please set return_train_score=True\n",
      "  warnings.warn(*warn_args, **warn_kwargs)\n"
     ]
    }
   ],
   "source": [
    "cv = cross_validate(LinearRegression(),\n",
    "                    sfm.transform(X_train_all),\n",
    "                    y_train_lsa, cv=5)\n",
    "print('Train r2 score: %f +/- %f'%(cv['train_score'].mean(), cv['train_score'].std()))\n",
    "print('Test  f2 score: %f +/- %f'%(cv['test_score'].mean(), cv['test_score'].std()))"
   ]
  },
  {
   "cell_type": "code",
   "execution_count": 384,
   "metadata": {},
   "outputs": [
    {
     "name": "stderr",
     "output_type": "stream",
     "text": [
      "C:\\Users\\Simeon\\Anaconda3\\envs\\First\\lib\\site-packages\\sklearn\\feature_selection\\from_model.py:197: DataConversionWarning: A column-vector y was passed when a 1d array was expected. Please change the shape of y to (n_samples,), for example using ravel().\n",
      "  self.estimator_.fit(X, y, **fit_params)\n"
     ]
    },
    {
     "data": {
      "text/plain": [
       "16"
      ]
     },
     "execution_count": 384,
     "metadata": {},
     "output_type": "execute_result"
    }
   ],
   "source": [
    "sfm = SelectFromModel(RandomForestRegressor(max_depth=3,\n",
    "                                            n_estimators=1000,n_jobs=-1), threshold='mean')\n",
    "sfm.fit(X_train_all, y_train_lsa)\n",
    "n_features = sfm.transform(X_train_all).shape[1]\n",
    "n_features"
   ]
  },
  {
   "cell_type": "code",
   "execution_count": 385,
   "metadata": {
    "scrolled": true
   },
   "outputs": [
    {
     "name": "stdout",
     "output_type": "stream",
     "text": [
      "Train r2 score: 0.772486 +/- 0.022453\n",
      "Test  f2 score: 0.723166 +/- 0.120695\n"
     ]
    },
    {
     "name": "stderr",
     "output_type": "stream",
     "text": [
      "C:\\Users\\Simeon\\Anaconda3\\envs\\First\\lib\\site-packages\\sklearn\\utils\\deprecation.py:125: FutureWarning: You are accessing a training score ('train_score'), which will not be available by default any more in 0.21. If you need training scores, please set return_train_score=True\n",
      "  warnings.warn(*warn_args, **warn_kwargs)\n"
     ]
    }
   ],
   "source": [
    "cv = cross_validate(LinearRegression(),\n",
    "                    sfm.transform(X_train_all),\n",
    "                    y_train_lsa, cv=5)\n",
    "print('Train r2 score: %f +/- %f'%(cv['train_score'].mean(), cv['train_score'].std()))\n",
    "print('Test  f2 score: %f +/- %f'%(cv['test_score'].mean(), cv['test_score'].std()))"
   ]
  },
  {
   "cell_type": "code",
   "execution_count": 386,
   "metadata": {},
   "outputs": [
    {
     "name": "stderr",
     "output_type": "stream",
     "text": [
      "C:\\Users\\Simeon\\Anaconda3\\envs\\First\\lib\\site-packages\\sklearn\\feature_selection\\from_model.py:197: DataConversionWarning: A column-vector y was passed when a 1d array was expected. Please change the shape of y to (n_samples,), for example using ravel().\n",
      "  self.estimator_.fit(X, y, **fit_params)\n"
     ]
    },
    {
     "name": "stdout",
     "output_type": "stream",
     "text": [
      "1\n",
      "Train r2 score: 0.766004 +/- 0.022495\n",
      "Test  f2 score: 0.721430 +/- 0.117131\n"
     ]
    },
    {
     "name": "stderr",
     "output_type": "stream",
     "text": [
      "C:\\Users\\Simeon\\Anaconda3\\envs\\First\\lib\\site-packages\\sklearn\\utils\\deprecation.py:125: FutureWarning: You are accessing a training score ('train_score'), which will not be available by default any more in 0.21. If you need training scores, please set return_train_score=True\n",
      "  warnings.warn(*warn_args, **warn_kwargs)\n"
     ]
    }
   ],
   "source": [
    "sfm = SelectFromModel(RandomForestRegressor(max_depth=3,\n",
    "                                            n_estimators=1000,n_jobs=-1), threshold=0.05)\n",
    "sfm.fit(X_train_all, y_train_lsa)\n",
    "n_features = sfm.transform(X_train_all).shape[1]\n",
    "print(n_features)\n",
    "cv = cross_validate(LinearRegression(),\n",
    "                    sfm.transform(X_train_all),\n",
    "                    y_train_lsa, cv=5)\n",
    "print('Train r2 score: %f +/- %f'%(cv['train_score'].mean(), cv['train_score'].std()))\n",
    "print('Test  f2 score: %f +/- %f'%(cv['test_score'].mean(), cv['test_score'].std()))"
   ]
  },
  {
   "cell_type": "code",
   "execution_count": 393,
   "metadata": {},
   "outputs": [
    {
     "name": "stderr",
     "output_type": "stream",
     "text": [
      "C:\\Users\\Simeon\\Anaconda3\\envs\\First\\lib\\site-packages\\sklearn\\utils\\validation.py:752: DataConversionWarning: A column-vector y was passed when a 1d array was expected. Please change the shape of y to (n_samples, ), for example using ravel().\n",
      "  y = column_or_1d(y, warn=True)\n"
     ]
    }
   ],
   "source": [
    "estimator = LinearRegression()\n",
    "selector = RFE(estimator, 100, step=1)\n",
    "selector = selector.fit(X_train_all, y_train_lsa)"
   ]
  },
  {
   "cell_type": "code",
   "execution_count": null,
   "metadata": {},
   "outputs": [],
   "source": [
    "cv = cross_validate(LinearRegression(),\n",
    "                    selector.transform(X_train_all),\n",
    "                    y_train_lsa, cv=5)\n",
    "print('Train r2 score: %f +/- %f'%(cv['train_score'].mean(), cv['train_score'].std()))\n",
    "print('Test  f2 score: %f +/- %f'%(cv['test_score'].mean(), cv['test_score'].std()))"
   ]
  },
  {
   "cell_type": "code",
   "execution_count": null,
   "metadata": {},
   "outputs": [],
   "source": []
  }
 ],
 "metadata": {
  "kernelspec": {
   "display_name": "Python 3",
   "language": "python",
   "name": "python3"
  },
  "language_info": {
   "codemirror_mode": {
    "name": "ipython",
    "version": 3
   },
   "file_extension": ".py",
   "mimetype": "text/x-python",
   "name": "python",
   "nbconvert_exporter": "python",
   "pygments_lexer": "ipython3",
   "version": "3.6.6"
  }
 },
 "nbformat": 4,
 "nbformat_minor": 2
}
