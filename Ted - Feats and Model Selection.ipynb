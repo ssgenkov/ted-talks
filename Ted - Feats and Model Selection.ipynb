{
 "cells": [
  {
   "cell_type": "code",
   "execution_count": 588,
   "metadata": {},
   "outputs": [],
   "source": [
    "import pandas as pd\n",
    "import numpy as np\n",
    "import os\n",
    "from sklearn.preprocessing import StandardScaler\n",
    "from sklearn.linear_model import LinearRegression\n",
    "from sklearn.linear_model import Ridge\n",
    "from sklearn.linear_model import ElasticNet\n",
    "from sklearn.linear_model import Lasso\n",
    "from sklearn.model_selection import cross_validate\n",
    "from sklearn.preprocessing import LabelBinarizer\n",
    "from sklearn.ensemble import RandomForestRegressor\n",
    "from sklearn.tree import DecisionTreeRegressor\n",
    "from sklearn.feature_selection import SelectFromModel\n",
    "from sklearn.linear_model import LassoCV\n",
    "from sklearn.model_selection import GridSearchCV\n",
    "from keras.models import Sequential\n",
    "from keras import layers\n",
    "import ast\n",
    "from sklearn.feature_selection import RFE\n",
    "from sklearn.svm import SVR\n",
    "import lightgbm as lgb\n",
    "import warnings\n",
    "warnings.filterwarnings('ignore')"
   ]
  },
  {
   "cell_type": "code",
   "execution_count": 13,
   "metadata": {},
   "outputs": [],
   "source": [
    "def load_feats(feats_dir, folder, file_type, load_func):\n",
    "    dict_to_feed = {}\n",
    "    full_path = os.path.join(feats_dir, folder)\n",
    "    files = [f for f in os.listdir(full_path) \n",
    "             if os.path.isfile(os.path.join(full_path, f)) and f[-4:] =='.'+file_type]\n",
    "    \n",
    "    for f in files:\n",
    "        dict_to_feed[f[:-4]] = load_func(os.path.join(full_path, f))\n",
    "    return dict_to_feed"
   ]
  },
  {
   "cell_type": "code",
   "execution_count": 14,
   "metadata": {},
   "outputs": [],
   "source": [
    "def load_feats_csv(feats_dir, folder):\n",
    "    return load_feats(feats_dir, folder, 'csv', pd.read_csv)"
   ]
  },
  {
   "cell_type": "code",
   "execution_count": 15,
   "metadata": {},
   "outputs": [],
   "source": [
    "def load_feats_npy(feats_dir, folder):\n",
    "    return load_feats(feats_dir, folder, 'npy', np.load)"
   ]
  },
  {
   "cell_type": "code",
   "execution_count": 17,
   "metadata": {},
   "outputs": [],
   "source": [
    "base_dir = r'D:\\Machine Learning\\Datasets\\ted-talks\\feats'"
   ]
  },
  {
   "cell_type": "code",
   "execution_count": 301,
   "metadata": {},
   "outputs": [],
   "source": [
    "train_feats_pd = load_feats_csv(base_dir, 'train')\n",
    "test_feats_pd = load_feats_csv(base_dir, 'test')\n",
    "train_feats_np = load_feats_npy(base_dir, 'train')\n",
    "test_feats_np = load_feats_npy(base_dir, 'test')"
   ]
  },
  {
   "cell_type": "code",
   "execution_count": 302,
   "metadata": {},
   "outputs": [
    {
     "data": {
      "text/plain": [
       "['date_feats',\n",
       " 'events_ohe',\n",
       " 'lsa_ch25',\n",
       " 'lsa_ch50',\n",
       " 'lsa_w25',\n",
       " 'lsa_w50',\n",
       " 'ratings',\n",
       " 'ratings_sum',\n",
       " 'related_talks_avg_views',\n",
       " 'tags_gt10',\n",
       " 'tags_gt50']"
      ]
     },
     "execution_count": 302,
     "metadata": {},
     "output_type": "execute_result"
    }
   ],
   "source": [
    "list(train_feats_pd.keys())"
   ]
  },
  {
   "cell_type": "code",
   "execution_count": 20,
   "metadata": {},
   "outputs": [
    {
     "data": {
      "text/plain": [
       "['description_tw_emb',\n",
       " 'description_wiki_emb',\n",
       " 'speaker_occupation_tw_emb',\n",
       " 'speaker_occupation_wiki_emb',\n",
       " 'tags_tweet_emb',\n",
       " 'tags_wiki_emb',\n",
       " 'title_tw_emb',\n",
       " 'title_wiki_emb']"
      ]
     },
     "execution_count": 20,
     "metadata": {},
     "output_type": "execute_result"
    }
   ],
   "source": [
    "list(train_feats_np.keys())"
   ]
  },
  {
   "cell_type": "code",
   "execution_count": 21,
   "metadata": {},
   "outputs": [
    {
     "data": {
      "text/plain": [
       "array([[12.855329  ,  4.5100203 ,  2.7005692 , ..., -2.2964358 ,\n",
       "        -3.5763156 , -4.8642936 ],\n",
       "       [ 9.889155  ,  6.263903  , -2.4831548 , ...,  0.02368131,\n",
       "        -0.31124094, -3.4509144 ],\n",
       "       [21.641573  , 15.473295  , -2.8141096 , ..., -6.4330144 ,\n",
       "        -3.6041358 ,  3.9712694 ],\n",
       "       ...,\n",
       "       [18.981138  , 12.716001  , -2.0708969 , ...,  8.943259  ,\n",
       "        -0.08483845,  5.255693  ],\n",
       "       [12.534835  , 10.645477  , -0.9604598 , ...,  0.5883128 ,\n",
       "        -1.3418088 ,  3.6585114 ],\n",
       "       [ 9.509973  , 12.537871  , -6.684204  , ..., -1.0933027 ,\n",
       "         2.0165484 , 10.728305  ]], dtype=float32)"
      ]
     },
     "execution_count": 21,
     "metadata": {},
     "output_type": "execute_result"
    }
   ],
   "source": [
    "train_feats_np['description_wiki_emb']"
   ]
  },
  {
   "cell_type": "code",
   "execution_count": 22,
   "metadata": {},
   "outputs": [],
   "source": [
    "X_train = pd.read_csv(r'D:\\Machine Learning\\Datasets\\ted-talks\\X_train.csv')\n",
    "X_test = pd.read_csv(r'D:\\Machine Learning\\Datasets\\ted-talks\\X_test.csv')\n",
    "y_train = pd.read_csv(r'D:\\Machine Learning\\Datasets\\ted-talks\\y_train.csv', header=None)\n",
    "y_test = pd.read_csv(r'D:\\Machine Learning\\Datasets\\ted-talks\\y_test.csv', header=None)"
   ]
  },
  {
   "cell_type": "markdown",
   "metadata": {},
   "source": [
    "# Base model using comments count and rating sum "
   ]
  },
  {
   "cell_type": "code",
   "execution_count": 27,
   "metadata": {},
   "outputs": [],
   "source": [
    "x_train_base = pd.concat([X_train.comments, train_feats_pd['ratings_sum']], axis=1)"
   ]
  },
  {
   "cell_type": "code",
   "execution_count": 28,
   "metadata": {},
   "outputs": [
    {
     "name": "stderr",
     "output_type": "stream",
     "text": [
      "C:\\Users\\Simeon\\Anaconda3\\envs\\First\\lib\\site-packages\\sklearn\\preprocessing\\data.py:617: DataConversionWarning: Data with input dtype int64 were all converted to float64 by StandardScaler.\n",
      "  return self.partial_fit(X, y)\n",
      "C:\\Users\\Simeon\\Anaconda3\\envs\\First\\lib\\site-packages\\sklearn\\base.py:462: DataConversionWarning: Data with input dtype int64 were all converted to float64 by StandardScaler.\n",
      "  return self.fit(X, **fit_params).transform(X)\n"
     ]
    }
   ],
   "source": [
    "sc = StandardScaler()\n",
    "x_train_base_sd = sc.fit_transform(x_train_base)"
   ]
  },
  {
   "cell_type": "code",
   "execution_count": 32,
   "metadata": {},
   "outputs": [],
   "source": [
    "cv = cross_validate(LinearRegression(), x_train_base_sd, y_train, cv=5)"
   ]
  },
  {
   "cell_type": "code",
   "execution_count": 40,
   "metadata": {},
   "outputs": [
    {
     "name": "stdout",
     "output_type": "stream",
     "text": [
      "Train score: 0.752420 +/- 0.025718\n"
     ]
    }
   ],
   "source": [
    "print('Train score: %f +/- %f'%(cv['train_score'].mean(), cv['train_score'].std()))"
   ]
  },
  {
   "cell_type": "code",
   "execution_count": 41,
   "metadata": {},
   "outputs": [
    {
     "name": "stdout",
     "output_type": "stream",
     "text": [
      "Test score: 0.700262 +/- 0.153308\n"
     ]
    }
   ],
   "source": [
    "print('Test score: %f +/- %f'%(cv['test_score'].mean(), cv['test_score'].std()))"
   ]
  },
  {
   "cell_type": "code",
   "execution_count": 305,
   "metadata": {},
   "outputs": [
    {
     "name": "stdout",
     "output_type": "stream",
     "text": [
      "Train r2 score: 0.752827 +/- 0.026050\n",
      "Test  f2 score: 0.698179 +/- 0.155511\n"
     ]
    },
    {
     "name": "stderr",
     "output_type": "stream",
     "text": [
      "C:\\Users\\Simeon\\Anaconda3\\envs\\First\\lib\\site-packages\\sklearn\\preprocessing\\data.py:617: DataConversionWarning: Data with input dtype int64, float64 were all converted to float64 by StandardScaler.\n",
      "  return self.partial_fit(X, y)\n",
      "C:\\Users\\Simeon\\Anaconda3\\envs\\First\\lib\\site-packages\\sklearn\\base.py:462: DataConversionWarning: Data with input dtype int64, float64 were all converted to float64 by StandardScaler.\n",
      "  return self.fit(X, **fit_params).transform(X)\n",
      "C:\\Users\\Simeon\\Anaconda3\\envs\\First\\lib\\site-packages\\sklearn\\utils\\deprecation.py:125: FutureWarning: You are accessing a training score ('train_score'), which will not be available by default any more in 0.21. If you need training scores, please set return_train_score=True\n",
      "  warnings.warn(*warn_args, **warn_kwargs)\n"
     ]
    }
   ],
   "source": [
    "train_base_rl = pd.concat([x_train_base, train_feats_pd['related_talks_avg_views']], axis=1)\n",
    "train_base_rl_sd = StandardScaler().fit_transform(train_base_rl)\n",
    "cv = cross_validate(LinearRegression(), train_base_rl_sd, y_train, cv=5)\n",
    "print('Train r2 score: %f +/- %f'%(cv['train_score'].mean(), cv['train_score'].std()))\n",
    "print('Test  f2 score: %f +/- %f'%(cv['test_score'].mean(), cv['test_score'].std()))"
   ]
  },
  {
   "cell_type": "code",
   "execution_count": 64,
   "metadata": {
    "scrolled": true
   },
   "outputs": [
    {
     "name": "stdout",
     "output_type": "stream",
     "text": [
      "Train r2 score: 0.750884 +/- 0.025324\n",
      "Test  f2 score: 0.699794 +/- 0.150370\n"
     ]
    },
    {
     "name": "stderr",
     "output_type": "stream",
     "text": [
      "C:\\Users\\Simeon\\Anaconda3\\envs\\First\\lib\\site-packages\\sklearn\\utils\\deprecation.py:125: FutureWarning: You are accessing a training score ('train_score'), which will not be available by default any more in 0.21. If you need training scores, please set return_train_score=True\n",
      "  warnings.warn(*warn_args, **warn_kwargs)\n"
     ]
    }
   ],
   "source": [
    "cv = cross_validate(LinearRegression(), x_train_base['ratings_sum'].values.reshape(-1,1), y_train, cv=5)\n",
    "print('Train r2 score: %f +/- %f'%(cv['train_score'].mean(), cv['train_score'].std()))\n",
    "print('Test  f2 score: %f +/- %f'%(cv['test_score'].mean(), cv['test_score'].std()))"
   ]
  },
  {
   "cell_type": "code",
   "execution_count": 63,
   "metadata": {},
   "outputs": [
    {
     "name": "stdout",
     "output_type": "stream",
     "text": [
      "Train nmae score: -590235.197642 +/- 13929.964286\n",
      "Test  nmae score: -596622.073571 +/- 44055.548158\n"
     ]
    },
    {
     "name": "stderr",
     "output_type": "stream",
     "text": [
      "C:\\Users\\Simeon\\Anaconda3\\envs\\First\\lib\\site-packages\\sklearn\\utils\\deprecation.py:125: FutureWarning: You are accessing a training score ('train_score'), which will not be available by default any more in 0.21. If you need training scores, please set return_train_score=True\n",
      "  warnings.warn(*warn_args, **warn_kwargs)\n"
     ]
    }
   ],
   "source": [
    "cv = cross_validate(LinearRegression(), x_train_base, y_train, cv=5, scoring='neg_mean_absolute_error')\n",
    "print('Train nmae score: %f +/- %f'%(cv['train_score'].mean(), cv['train_score'].std()))\n",
    "print('Test  nmae score: %f +/- %f'%(cv['test_score'].mean(), cv['test_score'].std()))"
   ]
  },
  {
   "cell_type": "code",
   "execution_count": null,
   "metadata": {},
   "outputs": [],
   "source": [
    "rg = lightgbm.LGBMRegressor()"
   ]
  },
  {
   "cell_type": "code",
   "execution_count": null,
   "metadata": {},
   "outputs": [],
   "source": [
    "lgb_train_df = lgb.Dataset(data = x_train_base, label = y_train, feature_name = list(x_train_base))\n",
    "params = {'objective': 'regression'}\n",
    "cv_results = lgb.cv(\n",
    "        params,\n",
    "        lgb_train_df,\n",
    "        num_boost_round=100,\n",
    "        nfold=3,\n",
    "        metrics='mae',\n",
    "        early_stopping_rounds=10,\n",
    "        stratified=False\n",
    "        )"
   ]
  },
  {
   "cell_type": "code",
   "execution_count": 61,
   "metadata": {},
   "outputs": [
    {
     "name": "stdout",
     "output_type": "stream",
     "text": [
      "CV  mae score: 762191.869634 +/- 74082.586643\n"
     ]
    }
   ],
   "source": [
    "print('CV  mae score: %f +/- %f'%(np.mean(cv_results['l1-mean']), np.mean(cv_results['l1-stdv'])))"
   ]
  },
  {
   "cell_type": "markdown",
   "metadata": {},
   "source": [
    "# Experimenting with different feats and algos\n",
    "# This section is quite messy, but it gave me some inside of\n",
    "# how adding new features effect the score so I left it\n",
    "# Can be skipped to -  Feats Selection"
   ]
  },
  {
   "cell_type": "markdown",
   "metadata": {},
   "source": [
    "## Add Date feats"
   ]
  },
  {
   "cell_type": "code",
   "execution_count": 75,
   "metadata": {},
   "outputs": [],
   "source": [
    "date_feats = train_feats_pd['date_feats']"
   ]
  },
  {
   "cell_type": "code",
   "execution_count": 85,
   "metadata": {},
   "outputs": [],
   "source": [
    "month_lb = LabelBinarizer()"
   ]
  },
  {
   "cell_type": "code",
   "execution_count": 93,
   "metadata": {},
   "outputs": [],
   "source": [
    "month_ohe = month_lb.fit_transform(date_feats.month)[:,:-1]"
   ]
  },
  {
   "cell_type": "code",
   "execution_count": 94,
   "metadata": {},
   "outputs": [],
   "source": [
    "day_lb = LabelBinarizer()\n",
    "day_ohe = day_lb.fit_transform(date_feats.day)[:,:-1]"
   ]
  },
  {
   "cell_type": "code",
   "execution_count": 96,
   "metadata": {},
   "outputs": [],
   "source": [
    "date_feats = pd.concat([date_feats, pd.DataFrame(day_ohe),pd.DataFrame(month_ohe)], axis=1)"
   ]
  },
  {
   "cell_type": "code",
   "execution_count": 99,
   "metadata": {},
   "outputs": [],
   "source": [
    "date_feats = date_feats.drop(['month', 'day'], axis=1)"
   ]
  },
  {
   "cell_type": "code",
   "execution_count": 110,
   "metadata": {},
   "outputs": [],
   "source": [
    "date_sd = StandardScaler()"
   ]
  },
  {
   "cell_type": "code",
   "execution_count": 111,
   "metadata": {},
   "outputs": [
    {
     "name": "stderr",
     "output_type": "stream",
     "text": [
      "C:\\Users\\Simeon\\Anaconda3\\envs\\First\\lib\\site-packages\\sklearn\\preprocessing\\data.py:617: DataConversionWarning: Data with input dtype int64 were all converted to float64 by StandardScaler.\n",
      "  return self.partial_fit(X, y)\n",
      "C:\\Users\\Simeon\\Anaconda3\\envs\\First\\lib\\site-packages\\sklearn\\base.py:462: DataConversionWarning: Data with input dtype int64 were all converted to float64 by StandardScaler.\n",
      "  return self.fit(X, **fit_params).transform(X)\n"
     ]
    }
   ],
   "source": [
    "date_quant_sd = date_sd.fit_transform(date_feats[['year','publishing_lag','elapsed_time']])"
   ]
  },
  {
   "cell_type": "code",
   "execution_count": 119,
   "metadata": {},
   "outputs": [],
   "source": [
    "date_and_base = np.concatenate([date_quant_sd, x_train_base_sd,\n",
    "                                date_feats.iloc[:,3:].values], axis=1)"
   ]
  },
  {
   "cell_type": "code",
   "execution_count": 120,
   "metadata": {},
   "outputs": [
    {
     "name": "stdout",
     "output_type": "stream",
     "text": [
      "Train r2 score: 0.766093 +/- 0.025208\n",
      "Test  f2 score: 0.708208 +/- 0.154050\n"
     ]
    },
    {
     "name": "stderr",
     "output_type": "stream",
     "text": [
      "C:\\Users\\Simeon\\Anaconda3\\envs\\First\\lib\\site-packages\\sklearn\\utils\\deprecation.py:125: FutureWarning: You are accessing a training score ('train_score'), which will not be available by default any more in 0.21. If you need training scores, please set return_train_score=True\n",
      "  warnings.warn(*warn_args, **warn_kwargs)\n"
     ]
    }
   ],
   "source": [
    "cv = cross_validate(LinearRegression(), date_and_base, y_train, cv=5)\n",
    "print('Train r2 score: %f +/- %f'%(cv['train_score'].mean(), cv['train_score'].std()))\n",
    "print('Test  f2 score: %f +/- %f'%(cv['test_score'].mean(), cv['test_score'].std()))"
   ]
  },
  {
   "cell_type": "code",
   "execution_count": 122,
   "metadata": {
    "scrolled": true
   },
   "outputs": [
    {
     "name": "stderr",
     "output_type": "stream",
     "text": [
      "C:\\Users\\Simeon\\Anaconda3\\envs\\First\\lib\\site-packages\\sklearn\\ensemble\\forest.py:248: FutureWarning: The default value of n_estimators will change from 10 in version 0.20 to 100 in 0.22.\n",
      "  \"10 in version 0.20 to 100 in 0.22.\", FutureWarning)\n",
      "C:\\Users\\Simeon\\Anaconda3\\envs\\First\\lib\\site-packages\\sklearn\\model_selection\\_validation.py:528: DataConversionWarning: A column-vector y was passed when a 1d array was expected. Please change the shape of y to (n_samples,), for example using ravel().\n",
      "  estimator.fit(X_train, y_train, **fit_params)\n",
      "C:\\Users\\Simeon\\Anaconda3\\envs\\First\\lib\\site-packages\\sklearn\\ensemble\\forest.py:248: FutureWarning: The default value of n_estimators will change from 10 in version 0.20 to 100 in 0.22.\n",
      "  \"10 in version 0.20 to 100 in 0.22.\", FutureWarning)\n",
      "C:\\Users\\Simeon\\Anaconda3\\envs\\First\\lib\\site-packages\\sklearn\\model_selection\\_validation.py:528: DataConversionWarning: A column-vector y was passed when a 1d array was expected. Please change the shape of y to (n_samples,), for example using ravel().\n",
      "  estimator.fit(X_train, y_train, **fit_params)\n",
      "C:\\Users\\Simeon\\Anaconda3\\envs\\First\\lib\\site-packages\\sklearn\\ensemble\\forest.py:248: FutureWarning: The default value of n_estimators will change from 10 in version 0.20 to 100 in 0.22.\n",
      "  \"10 in version 0.20 to 100 in 0.22.\", FutureWarning)\n",
      "C:\\Users\\Simeon\\Anaconda3\\envs\\First\\lib\\site-packages\\sklearn\\model_selection\\_validation.py:528: DataConversionWarning: A column-vector y was passed when a 1d array was expected. Please change the shape of y to (n_samples,), for example using ravel().\n",
      "  estimator.fit(X_train, y_train, **fit_params)\n"
     ]
    },
    {
     "name": "stdout",
     "output_type": "stream",
     "text": [
      "Train r2 score: 0.934495 +/- 0.020886\n",
      "Test  f2 score: 0.616150 +/- 0.134729\n"
     ]
    },
    {
     "name": "stderr",
     "output_type": "stream",
     "text": [
      "C:\\Users\\Simeon\\Anaconda3\\envs\\First\\lib\\site-packages\\sklearn\\ensemble\\forest.py:248: FutureWarning: The default value of n_estimators will change from 10 in version 0.20 to 100 in 0.22.\n",
      "  \"10 in version 0.20 to 100 in 0.22.\", FutureWarning)\n",
      "C:\\Users\\Simeon\\Anaconda3\\envs\\First\\lib\\site-packages\\sklearn\\model_selection\\_validation.py:528: DataConversionWarning: A column-vector y was passed when a 1d array was expected. Please change the shape of y to (n_samples,), for example using ravel().\n",
      "  estimator.fit(X_train, y_train, **fit_params)\n",
      "C:\\Users\\Simeon\\Anaconda3\\envs\\First\\lib\\site-packages\\sklearn\\ensemble\\forest.py:248: FutureWarning: The default value of n_estimators will change from 10 in version 0.20 to 100 in 0.22.\n",
      "  \"10 in version 0.20 to 100 in 0.22.\", FutureWarning)\n",
      "C:\\Users\\Simeon\\Anaconda3\\envs\\First\\lib\\site-packages\\sklearn\\model_selection\\_validation.py:528: DataConversionWarning: A column-vector y was passed when a 1d array was expected. Please change the shape of y to (n_samples,), for example using ravel().\n",
      "  estimator.fit(X_train, y_train, **fit_params)\n",
      "C:\\Users\\Simeon\\Anaconda3\\envs\\First\\lib\\site-packages\\sklearn\\utils\\deprecation.py:125: FutureWarning: You are accessing a training score ('train_score'), which will not be available by default any more in 0.21. If you need training scores, please set return_train_score=True\n",
      "  warnings.warn(*warn_args, **warn_kwargs)\n"
     ]
    }
   ],
   "source": [
    "cv = cross_validate(RandomForestRegressor(), date_and_base, y_train, cv=5, scoring='r2')\n",
    "print('Train r2 score: %f +/- %f'%(cv['train_score'].mean(), cv['train_score'].std()))\n",
    "print('Test  f2 score: %f +/- %f'%(cv['test_score'].mean(), cv['test_score'].std()))"
   ]
  },
  {
   "cell_type": "code",
   "execution_count": 146,
   "metadata": {},
   "outputs": [],
   "source": [
    "date_and_base_tags50 = np.concatenate([date_and_base, train_feats_pd['tags_gt50'].values], axis=1)"
   ]
  },
  {
   "cell_type": "code",
   "execution_count": 143,
   "metadata": {
    "scrolled": true
   },
   "outputs": [
    {
     "name": "stdout",
     "output_type": "stream",
     "text": [
      "Train r2 score: 0.781257 +/- 0.023662\n",
      "Test  f2 score: 0.701642 +/- 0.154441\n"
     ]
    },
    {
     "name": "stderr",
     "output_type": "stream",
     "text": [
      "C:\\Users\\Simeon\\Anaconda3\\envs\\First\\lib\\site-packages\\sklearn\\utils\\deprecation.py:125: FutureWarning: You are accessing a training score ('train_score'), which will not be available by default any more in 0.21. If you need training scores, please set return_train_score=True\n",
      "  warnings.warn(*warn_args, **warn_kwargs)\n"
     ]
    }
   ],
   "source": [
    "cv = cross_validate(LinearRegression(), date_and_base_tags10, y_train, cv=5)\n",
    "print('Train r2 score: %f +/- %f'%(cv['train_score'].mean(), cv['train_score'].std()))\n",
    "print('Test  f2 score: %f +/- %f'%(cv['test_score'].mean(), cv['test_score'].std()))"
   ]
  },
  {
   "cell_type": "code",
   "execution_count": 156,
   "metadata": {},
   "outputs": [],
   "source": [
    "date_and_base_tags50_occupation = np.concatenate([date_and_base_tags50,\n",
    "                                                  train_feats_np['speaker_occupation_wiki_emb'],\n",
    "                                                 train_feats_np['description_wiki_emb']], axis=1)"
   ]
  },
  {
   "cell_type": "code",
   "execution_count": 157,
   "metadata": {},
   "outputs": [
    {
     "name": "stdout",
     "output_type": "stream",
     "text": [
      "Train r2 score: 0.800144 +/- 0.021282\n",
      "Test  f2 score: 0.692808 +/- 0.152318\n"
     ]
    },
    {
     "name": "stderr",
     "output_type": "stream",
     "text": [
      "C:\\Users\\Simeon\\Anaconda3\\envs\\First\\lib\\site-packages\\sklearn\\utils\\deprecation.py:125: FutureWarning: You are accessing a training score ('train_score'), which will not be available by default any more in 0.21. If you need training scores, please set return_train_score=True\n",
      "  warnings.warn(*warn_args, **warn_kwargs)\n"
     ]
    }
   ],
   "source": [
    "cv = cross_validate(LinearRegression(), date_and_base_tags50_occupation, y_train, cv=5)\n",
    "print('Train r2 score: %f +/- %f'%(cv['train_score'].mean(), cv['train_score'].std()))\n",
    "print('Test  f2 score: %f +/- %f'%(cv['test_score'].mean(), cv['test_score'].std()))"
   ]
  },
  {
   "cell_type": "code",
   "execution_count": 158,
   "metadata": {},
   "outputs": [],
   "source": [
    "date_and_base_tags50_occupation_events = np.concatenate([date_and_base_tags50_occupation,\n",
    "                                                        train_feats_pd['events_ohe'].values], axis=1)"
   ]
  },
  {
   "cell_type": "code",
   "execution_count": 160,
   "metadata": {},
   "outputs": [
    {
     "name": "stdout",
     "output_type": "stream",
     "text": [
      "Train r2 score: 0.802003 +/- 0.021146\n",
      "Test  f2 score: 0.695036 +/- 0.151090\n"
     ]
    },
    {
     "name": "stderr",
     "output_type": "stream",
     "text": [
      "C:\\Users\\Simeon\\Anaconda3\\envs\\First\\lib\\site-packages\\sklearn\\utils\\deprecation.py:125: FutureWarning: You are accessing a training score ('train_score'), which will not be available by default any more in 0.21. If you need training scores, please set return_train_score=True\n",
      "  warnings.warn(*warn_args, **warn_kwargs)\n"
     ]
    }
   ],
   "source": [
    "cv = cross_validate(LinearRegression(), date_and_base_tags50_occupation_events, y_train, cv=5)\n",
    "print('Train r2 score: %f +/- %f'%(cv['train_score'].mean(), cv['train_score'].std()))\n",
    "print('Test  f2 score: %f +/- %f'%(cv['test_score'].mean(), cv['test_score'].std()))"
   ]
  },
  {
   "cell_type": "markdown",
   "metadata": {},
   "source": [
    "## Preparing to use LSA feats"
   ]
  },
  {
   "cell_type": "code",
   "execution_count": 168,
   "metadata": {},
   "outputs": [],
   "source": [
    "X_train['url'] = X_train['url'].replace(r'\\s+|\\\\n', '', regex=True)\n",
    "X_test['url'] = X_test['url'].replace(r'\\s+|\\\\n', '', regex=True)"
   ]
  },
  {
   "cell_type": "code",
   "execution_count": 206,
   "metadata": {},
   "outputs": [],
   "source": [
    "lsa_samples = X_train.url.isin(train_feats_pd['lsa_ch25'].url.values)"
   ]
  },
  {
   "cell_type": "code",
   "execution_count": 207,
   "metadata": {},
   "outputs": [
    {
     "name": "stdout",
     "output_type": "stream",
     "text": [
      "Train r2 score: 0.025310 +/- 0.002182\n",
      "Test  f2 score: -0.055998 +/- 0.037492\n"
     ]
    },
    {
     "name": "stderr",
     "output_type": "stream",
     "text": [
      "C:\\Users\\Simeon\\Anaconda3\\envs\\First\\lib\\site-packages\\sklearn\\utils\\deprecation.py:125: FutureWarning: You are accessing a training score ('train_score'), which will not be available by default any more in 0.21. If you need training scores, please set return_train_score=True\n",
      "  warnings.warn(*warn_args, **warn_kwargs)\n"
     ]
    }
   ],
   "source": [
    "cv = cross_validate(LinearRegression(), train_feats_pd['lsa_ch50'].iloc[:,:-1], y_train[lsa_samples], cv=5)\n",
    "print('Train r2 score: %f +/- %f'%(cv['train_score'].mean(), cv['train_score'].std()))\n",
    "print('Test  f2 score: %f +/- %f'%(cv['test_score'].mean(), cv['test_score'].std()))"
   ]
  },
  {
   "cell_type": "code",
   "execution_count": 210,
   "metadata": {},
   "outputs": [],
   "source": [
    "date_and_base_tags50_occupation_events_ch50 = np.concatenate([date_and_base_tags50_occupation_events[lsa_samples],\n",
    "                                                        train_feats_pd['lsa_ch50'].iloc[:,:-1].values], axis=1)"
   ]
  },
  {
   "cell_type": "code",
   "execution_count": 211,
   "metadata": {},
   "outputs": [
    {
     "name": "stdout",
     "output_type": "stream",
     "text": [
      "Train r2 score: 0.819739 +/- 0.018678\n",
      "Test  f2 score: 0.697020 +/- 0.125493\n"
     ]
    },
    {
     "name": "stderr",
     "output_type": "stream",
     "text": [
      "C:\\Users\\Simeon\\Anaconda3\\envs\\First\\lib\\site-packages\\sklearn\\utils\\deprecation.py:125: FutureWarning: You are accessing a training score ('train_score'), which will not be available by default any more in 0.21. If you need training scores, please set return_train_score=True\n",
      "  warnings.warn(*warn_args, **warn_kwargs)\n"
     ]
    }
   ],
   "source": [
    "cv = cross_validate(LinearRegression(), date_and_base_tags50_occupation_events_ch50, y_train[lsa_samples], cv=5)\n",
    "print('Train r2 score: %f +/- %f'%(cv['train_score'].mean(), cv['train_score'].std()))\n",
    "print('Test  f2 score: %f +/- %f'%(cv['test_score'].mean(), cv['test_score'].std()))"
   ]
  },
  {
   "cell_type": "code",
   "execution_count": 212,
   "metadata": {},
   "outputs": [],
   "source": [
    "date_and_base_tags50_occupation_events_ch25_w25 = np.concatenate([date_and_base_tags50_occupation_events[lsa_samples],\n",
    "                                                        train_feats_pd['lsa_ch25'].iloc[:,:-1].values,\n",
    "                                                        train_feats_pd['lsa_w25'].iloc[:,:-1].values], axis=1)"
   ]
  },
  {
   "cell_type": "code",
   "execution_count": 213,
   "metadata": {},
   "outputs": [
    {
     "name": "stdout",
     "output_type": "stream",
     "text": [
      "Train r2 score: 0.819963 +/- 0.018717\n",
      "Test  f2 score: 0.699528 +/- 0.127246\n"
     ]
    },
    {
     "name": "stderr",
     "output_type": "stream",
     "text": [
      "C:\\Users\\Simeon\\Anaconda3\\envs\\First\\lib\\site-packages\\sklearn\\utils\\deprecation.py:125: FutureWarning: You are accessing a training score ('train_score'), which will not be available by default any more in 0.21. If you need training scores, please set return_train_score=True\n",
      "  warnings.warn(*warn_args, **warn_kwargs)\n"
     ]
    }
   ],
   "source": [
    "cv = cross_validate(LinearRegression(), date_and_base_tags50_occupation_events_ch25_w25, y_train[lsa_samples], cv=5)\n",
    "print('Train r2 score: %f +/- %f'%(cv['train_score'].mean(), cv['train_score'].std()))\n",
    "print('Test  f2 score: %f +/- %f'%(cv['test_score'].mean(), cv['test_score'].std()))"
   ]
  },
  {
   "cell_type": "code",
   "execution_count": 214,
   "metadata": {},
   "outputs": [],
   "source": [
    "date_and_base_tags50_occupation_events_ch50_w50 = np.concatenate([date_and_base_tags50_occupation_events[lsa_samples],\n",
    "                                                        train_feats_pd['lsa_ch50'].iloc[:,:-1].values,\n",
    "                                                        train_feats_pd['lsa_w50'].iloc[:,:-1].values], axis=1)"
   ]
  },
  {
   "cell_type": "code",
   "execution_count": 215,
   "metadata": {
    "scrolled": true
   },
   "outputs": [
    {
     "name": "stdout",
     "output_type": "stream",
     "text": [
      "Train r2 score: 0.825482 +/- 0.018735\n",
      "Test  f2 score: 0.682960 +/- 0.137494\n"
     ]
    },
    {
     "name": "stderr",
     "output_type": "stream",
     "text": [
      "C:\\Users\\Simeon\\Anaconda3\\envs\\First\\lib\\site-packages\\sklearn\\utils\\deprecation.py:125: FutureWarning: You are accessing a training score ('train_score'), which will not be available by default any more in 0.21. If you need training scores, please set return_train_score=True\n",
      "  warnings.warn(*warn_args, **warn_kwargs)\n"
     ]
    }
   ],
   "source": [
    "cv = cross_validate(LinearRegression(), date_and_base_tags50_occupation_events_ch50_w50, y_train[lsa_samples], cv=5)\n",
    "print('Train r2 score: %f +/- %f'%(cv['train_score'].mean(), cv['train_score'].std()))\n",
    "print('Test  f2 score: %f +/- %f'%(cv['test_score'].mean(), cv['test_score'].std()))"
   ]
  },
  {
   "cell_type": "code",
   "execution_count": 227,
   "metadata": {},
   "outputs": [
    {
     "name": "stdout",
     "output_type": "stream",
     "text": [
      "Train r2 score: 0.794779 +/- 0.021903\n",
      "Test  f2 score: 0.717925 +/- 0.116946\n"
     ]
    },
    {
     "name": "stderr",
     "output_type": "stream",
     "text": [
      "C:\\Users\\Simeon\\Anaconda3\\envs\\First\\lib\\site-packages\\sklearn\\utils\\deprecation.py:125: FutureWarning: You are accessing a training score ('train_score'), which will not be available by default any more in 0.21. If you need training scores, please set return_train_score=True\n",
      "  warnings.warn(*warn_args, **warn_kwargs)\n"
     ]
    }
   ],
   "source": [
    "cv = cross_validate(Ridge(alpha=150), date_and_base_tags50_occupation_events_ch25_w25, y_train[lsa_samples], cv=5)\n",
    "print('Train r2 score: %f +/- %f'%(cv['train_score'].mean(), cv['train_score'].std()))\n",
    "print('Test  f2 score: %f +/- %f'%(cv['test_score'].mean(), cv['test_score'].std()))"
   ]
  },
  {
   "cell_type": "code",
   "execution_count": 590,
   "metadata": {},
   "outputs": [
    {
     "name": "stdout",
     "output_type": "stream",
     "text": [
      "Train r2 score: 0.802390 +/- 0.020814\n",
      "Test  f2 score: 0.722679 +/- 0.116986\n"
     ]
    }
   ],
   "source": [
    "cv = cross_validate(Ridge(alpha=95), date_and_base_tags50_occupation_events_ch50_w50, y_train[lsa_samples], cv=5)\n",
    "print('Train r2 score: %f +/- %f'%(cv['train_score'].mean(), cv['train_score'].std()))\n",
    "print('Test  f2 score: %f +/- %f'%(cv['test_score'].mean(), cv['test_score'].std()))"
   ]
  },
  {
   "cell_type": "code",
   "execution_count": 250,
   "metadata": {
    "scrolled": true
   },
   "outputs": [
    {
     "name": "stdout",
     "output_type": "stream",
     "text": [
      "Train r2 score: 0.779285 +/- 0.022140\n",
      "Test  f2 score: 0.730100 +/- 0.121008\n"
     ]
    },
    {
     "name": "stderr",
     "output_type": "stream",
     "text": [
      "C:\\Users\\Simeon\\Anaconda3\\envs\\First\\lib\\site-packages\\sklearn\\utils\\deprecation.py:125: FutureWarning: You are accessing a training score ('train_score'), which will not be available by default any more in 0.21. If you need training scores, please set return_train_score=True\n",
      "  warnings.warn(*warn_args, **warn_kwargs)\n"
     ]
    }
   ],
   "source": [
    "cv = cross_validate(Lasso(alpha=70000), date_and_base_tags50_occupation_events_ch50_w50, y_train[lsa_samples], cv=5)\n",
    "print('Train r2 score: %f +/- %f'%(cv['train_score'].mean(), cv['train_score'].std()))\n",
    "print('Test  f2 score: %f +/- %f'%(cv['test_score'].mean(), cv['test_score'].std()))"
   ]
  },
  {
   "cell_type": "code",
   "execution_count": 289,
   "metadata": {},
   "outputs": [
    {
     "name": "stderr",
     "output_type": "stream",
     "text": [
      "C:\\Users\\Simeon\\Anaconda3\\envs\\First\\lib\\site-packages\\sklearn\\model_selection\\_validation.py:528: DataConversionWarning: A column-vector y was passed when a 1d array was expected. Please change the shape of y to (n_samples,), for example using ravel().\n",
      "  estimator.fit(X_train, y_train, **fit_params)\n",
      "C:\\Users\\Simeon\\Anaconda3\\envs\\First\\lib\\site-packages\\sklearn\\model_selection\\_validation.py:528: DataConversionWarning: A column-vector y was passed when a 1d array was expected. Please change the shape of y to (n_samples,), for example using ravel().\n",
      "  estimator.fit(X_train, y_train, **fit_params)\n",
      "C:\\Users\\Simeon\\Anaconda3\\envs\\First\\lib\\site-packages\\sklearn\\model_selection\\_validation.py:528: DataConversionWarning: A column-vector y was passed when a 1d array was expected. Please change the shape of y to (n_samples,), for example using ravel().\n",
      "  estimator.fit(X_train, y_train, **fit_params)\n",
      "C:\\Users\\Simeon\\Anaconda3\\envs\\First\\lib\\site-packages\\sklearn\\model_selection\\_validation.py:528: DataConversionWarning: A column-vector y was passed when a 1d array was expected. Please change the shape of y to (n_samples,), for example using ravel().\n",
      "  estimator.fit(X_train, y_train, **fit_params)\n",
      "C:\\Users\\Simeon\\Anaconda3\\envs\\First\\lib\\site-packages\\sklearn\\model_selection\\_validation.py:528: DataConversionWarning: A column-vector y was passed when a 1d array was expected. Please change the shape of y to (n_samples,), for example using ravel().\n",
      "  estimator.fit(X_train, y_train, **fit_params)\n"
     ]
    },
    {
     "name": "stdout",
     "output_type": "stream",
     "text": [
      "Train r2 score: 0.892416 +/- 0.008210\n",
      "Test  f2 score: 0.585172 +/- 0.070678\n"
     ]
    },
    {
     "name": "stderr",
     "output_type": "stream",
     "text": [
      "C:\\Users\\Simeon\\Anaconda3\\envs\\First\\lib\\site-packages\\sklearn\\utils\\deprecation.py:125: FutureWarning: You are accessing a training score ('train_score'), which will not be available by default any more in 0.21. If you need training scores, please set return_train_score=True\n",
      "  warnings.warn(*warn_args, **warn_kwargs)\n"
     ]
    }
   ],
   "source": [
    "cv = cross_validate(RandomForestRegressor(max_depth=5, n_estimators=1000, n_jobs=-1),\n",
    "                    date_and_base_tags50_occupation_events_ch50_w50,\n",
    "                    y_train[lsa_samples], cv=5, scoring='r2')\n",
    "print('Train r2 score: %f +/- %f'%(cv['train_score'].mean(), cv['train_score'].std()))\n",
    "print('Test  f2 score: %f +/- %f'%(cv['test_score'].mean(), cv['test_score'].std()))"
   ]
  },
  {
   "cell_type": "code",
   "execution_count": 290,
   "metadata": {},
   "outputs": [
    {
     "name": "stderr",
     "output_type": "stream",
     "text": [
      "C:\\Users\\Simeon\\Anaconda3\\envs\\First\\lib\\site-packages\\sklearn\\model_selection\\_validation.py:528: DataConversionWarning: A column-vector y was passed when a 1d array was expected. Please change the shape of y to (n_samples,), for example using ravel().\n",
      "  estimator.fit(X_train, y_train, **fit_params)\n",
      "C:\\Users\\Simeon\\Anaconda3\\envs\\First\\lib\\site-packages\\sklearn\\model_selection\\_validation.py:528: DataConversionWarning: A column-vector y was passed when a 1d array was expected. Please change the shape of y to (n_samples,), for example using ravel().\n",
      "  estimator.fit(X_train, y_train, **fit_params)\n",
      "C:\\Users\\Simeon\\Anaconda3\\envs\\First\\lib\\site-packages\\sklearn\\model_selection\\_validation.py:528: DataConversionWarning: A column-vector y was passed when a 1d array was expected. Please change the shape of y to (n_samples,), for example using ravel().\n",
      "  estimator.fit(X_train, y_train, **fit_params)\n",
      "C:\\Users\\Simeon\\Anaconda3\\envs\\First\\lib\\site-packages\\sklearn\\model_selection\\_validation.py:528: DataConversionWarning: A column-vector y was passed when a 1d array was expected. Please change the shape of y to (n_samples,), for example using ravel().\n",
      "  estimator.fit(X_train, y_train, **fit_params)\n",
      "C:\\Users\\Simeon\\Anaconda3\\envs\\First\\lib\\site-packages\\sklearn\\model_selection\\_validation.py:528: DataConversionWarning: A column-vector y was passed when a 1d array was expected. Please change the shape of y to (n_samples,), for example using ravel().\n",
      "  estimator.fit(X_train, y_train, **fit_params)\n"
     ]
    },
    {
     "name": "stdout",
     "output_type": "stream",
     "text": [
      "Train r2 score: 0.748497 +/- 0.016605\n",
      "Test  f2 score: 0.569811 +/- 0.059720\n"
     ]
    },
    {
     "name": "stderr",
     "output_type": "stream",
     "text": [
      "C:\\Users\\Simeon\\Anaconda3\\envs\\First\\lib\\site-packages\\sklearn\\utils\\deprecation.py:125: FutureWarning: You are accessing a training score ('train_score'), which will not be available by default any more in 0.21. If you need training scores, please set return_train_score=True\n",
      "  warnings.warn(*warn_args, **warn_kwargs)\n"
     ]
    }
   ],
   "source": [
    "cv = cross_validate(RandomForestRegressor(max_depth=2, n_estimators=1000, n_jobs=-1),\n",
    "                    date_and_base_tags50_occupation_events_ch50_w50,\n",
    "                    y_train[lsa_samples], cv=5, scoring='r2')\n",
    "print('Train r2 score: %f +/- %f'%(cv['train_score'].mean(), cv['train_score'].std()))\n",
    "print('Test  f2 score: %f +/- %f'%(cv['test_score'].mean(), cv['test_score'].std()))"
   ]
  },
  {
   "cell_type": "markdown",
   "metadata": {},
   "source": [
    "# Feats Selection"
   ]
  },
  {
   "cell_type": "markdown",
   "metadata": {},
   "source": [
    "## Feats concatenation"
   ]
  },
  {
   "cell_type": "code",
   "execution_count": 296,
   "metadata": {},
   "outputs": [
    {
     "data": {
      "text/html": [
       "<div>\n",
       "<style scoped>\n",
       "    .dataframe tbody tr th:only-of-type {\n",
       "        vertical-align: middle;\n",
       "    }\n",
       "\n",
       "    .dataframe tbody tr th {\n",
       "        vertical-align: top;\n",
       "    }\n",
       "\n",
       "    .dataframe thead th {\n",
       "        text-align: right;\n",
       "    }\n",
       "</style>\n",
       "<table border=\"1\" class=\"dataframe\">\n",
       "  <thead>\n",
       "    <tr style=\"text-align: right;\">\n",
       "      <th></th>\n",
       "      <th>comments</th>\n",
       "      <th>description</th>\n",
       "      <th>duration</th>\n",
       "      <th>event</th>\n",
       "      <th>film_date</th>\n",
       "      <th>languages</th>\n",
       "      <th>main_speaker</th>\n",
       "      <th>name</th>\n",
       "      <th>num_speaker</th>\n",
       "      <th>published_date</th>\n",
       "      <th>ratings</th>\n",
       "      <th>related_talks</th>\n",
       "      <th>speaker_occupation</th>\n",
       "      <th>tags</th>\n",
       "      <th>title</th>\n",
       "      <th>url</th>\n",
       "    </tr>\n",
       "  </thead>\n",
       "  <tbody>\n",
       "    <tr>\n",
       "      <th>0</th>\n",
       "      <td>837</td>\n",
       "      <td>Michael Shermer says the human tendency to bel...</td>\n",
       "      <td>1141</td>\n",
       "      <td>TED2010</td>\n",
       "      <td>1265760000</td>\n",
       "      <td>34</td>\n",
       "      <td>Michael Shermer</td>\n",
       "      <td>Michael Shermer: The pattern behind self-decep...</td>\n",
       "      <td>1</td>\n",
       "      <td>1276507380</td>\n",
       "      <td>[{'id': 7, 'name': 'Funny', 'count': 475}, {'i...</td>\n",
       "      <td>[{'id': 22, 'hero': 'https://pe.tedcdn.com/ima...</td>\n",
       "      <td>Skeptic</td>\n",
       "      <td>['God', 'faith', 'neuroscience', 'psychology',...</td>\n",
       "      <td>The pattern behind self-deception</td>\n",
       "      <td>https://www.ted.com/talks/michael_shermer_the_...</td>\n",
       "    </tr>\n",
       "    <tr>\n",
       "      <th>1</th>\n",
       "      <td>305</td>\n",
       "      <td>Collective compassion has meant an overall dec...</td>\n",
       "      <td>1328</td>\n",
       "      <td>TED2015</td>\n",
       "      <td>1426550400</td>\n",
       "      <td>30</td>\n",
       "      <td>Gary Haugen</td>\n",
       "      <td>Gary Haugen: The hidden reason for poverty the...</td>\n",
       "      <td>1</td>\n",
       "      <td>1429542970</td>\n",
       "      <td>[{'id': 1, 'name': 'Beautiful', 'count': 195},...</td>\n",
       "      <td>[{'id': 644, 'hero': 'https://pe.tedcdn.com/im...</td>\n",
       "      <td>Human rights attorney</td>\n",
       "      <td>['inequality', 'poverty', 'violence']</td>\n",
       "      <td>The hidden reason for poverty the world needs ...</td>\n",
       "      <td>https://www.ted.com/talks/gary_haugen_the_hidd...</td>\n",
       "    </tr>\n",
       "    <tr>\n",
       "      <th>2</th>\n",
       "      <td>289</td>\n",
       "      <td>Gayla Benefield was just doing her job -- unti...</td>\n",
       "      <td>878</td>\n",
       "      <td>TEDxDanubia</td>\n",
       "      <td>1363910400</td>\n",
       "      <td>30</td>\n",
       "      <td>Margaret Heffernan</td>\n",
       "      <td>Margaret Heffernan: The dangers of willful bli...</td>\n",
       "      <td>1</td>\n",
       "      <td>1376319512</td>\n",
       "      <td>[{'id': 3, 'name': 'Courageous', 'count': 413}...</td>\n",
       "      <td>[{'id': 1533, 'hero': 'https://pe.tedcdn.com/i...</td>\n",
       "      <td>Management thinker</td>\n",
       "      <td>['TEDx', 'corruption', 'culture', 'global issu...</td>\n",
       "      <td>The dangers of willful blindness</td>\n",
       "      <td>https://www.ted.com/talks/margaret_heffernan_t...</td>\n",
       "    </tr>\n",
       "    <tr>\n",
       "      <th>3</th>\n",
       "      <td>101</td>\n",
       "      <td>We often think of bias and prejudice as rooted...</td>\n",
       "      <td>983</td>\n",
       "      <td>TEDSalon NY2014</td>\n",
       "      <td>1389744000</td>\n",
       "      <td>26</td>\n",
       "      <td>Paul Bloom</td>\n",
       "      <td>Paul Bloom: Can prejudice ever be a good thing?</td>\n",
       "      <td>1</td>\n",
       "      <td>1404399605</td>\n",
       "      <td>[{'id': 11, 'name': 'Longwinded', 'count': 35}...</td>\n",
       "      <td>[{'id': 1198, 'hero': 'https://pe.tedcdn.com/i...</td>\n",
       "      <td>Psychologist</td>\n",
       "      <td>['behavioral economics', 'mind', 'psychology']</td>\n",
       "      <td>Can prejudice ever be a good thing?</td>\n",
       "      <td>https://www.ted.com/talks/paul_bloom_can_preju...</td>\n",
       "    </tr>\n",
       "    <tr>\n",
       "      <th>4</th>\n",
       "      <td>101</td>\n",
       "      <td>Blind river dolphins, reclusive lemurs, a parr...</td>\n",
       "      <td>5256</td>\n",
       "      <td>University of California</td>\n",
       "      <td>989971200</td>\n",
       "      <td>0</td>\n",
       "      <td>Douglas Adams</td>\n",
       "      <td>Douglas Adams: Parrots, the universe and every...</td>\n",
       "      <td>1</td>\n",
       "      <td>1268762040</td>\n",
       "      <td>[{'id': 22, 'name': 'Fascinating', 'count': 29...</td>\n",
       "      <td>[{'id': 635, 'hero': 'https://pe.tedcdn.com/im...</td>\n",
       "      <td>Author, satirist</td>\n",
       "      <td>['biodiversity', 'biology', 'comedy', 'humor',...</td>\n",
       "      <td>Parrots, the universe and everything</td>\n",
       "      <td>https://www.ted.com/talks/douglas_adams_parrot...</td>\n",
       "    </tr>\n",
       "  </tbody>\n",
       "</table>\n",
       "</div>"
      ],
      "text/plain": [
       "   comments                                        description  duration  \\\n",
       "0       837  Michael Shermer says the human tendency to bel...      1141   \n",
       "1       305  Collective compassion has meant an overall dec...      1328   \n",
       "2       289  Gayla Benefield was just doing her job -- unti...       878   \n",
       "3       101  We often think of bias and prejudice as rooted...       983   \n",
       "4       101  Blind river dolphins, reclusive lemurs, a parr...      5256   \n",
       "\n",
       "                      event   film_date  languages        main_speaker  \\\n",
       "0                   TED2010  1265760000         34     Michael Shermer   \n",
       "1                   TED2015  1426550400         30         Gary Haugen   \n",
       "2               TEDxDanubia  1363910400         30  Margaret Heffernan   \n",
       "3           TEDSalon NY2014  1389744000         26          Paul Bloom   \n",
       "4  University of California   989971200          0       Douglas Adams   \n",
       "\n",
       "                                                name  num_speaker  \\\n",
       "0  Michael Shermer: The pattern behind self-decep...            1   \n",
       "1  Gary Haugen: The hidden reason for poverty the...            1   \n",
       "2  Margaret Heffernan: The dangers of willful bli...            1   \n",
       "3    Paul Bloom: Can prejudice ever be a good thing?            1   \n",
       "4  Douglas Adams: Parrots, the universe and every...            1   \n",
       "\n",
       "   published_date                                            ratings  \\\n",
       "0      1276507380  [{'id': 7, 'name': 'Funny', 'count': 475}, {'i...   \n",
       "1      1429542970  [{'id': 1, 'name': 'Beautiful', 'count': 195},...   \n",
       "2      1376319512  [{'id': 3, 'name': 'Courageous', 'count': 413}...   \n",
       "3      1404399605  [{'id': 11, 'name': 'Longwinded', 'count': 35}...   \n",
       "4      1268762040  [{'id': 22, 'name': 'Fascinating', 'count': 29...   \n",
       "\n",
       "                                       related_talks     speaker_occupation  \\\n",
       "0  [{'id': 22, 'hero': 'https://pe.tedcdn.com/ima...                Skeptic   \n",
       "1  [{'id': 644, 'hero': 'https://pe.tedcdn.com/im...  Human rights attorney   \n",
       "2  [{'id': 1533, 'hero': 'https://pe.tedcdn.com/i...     Management thinker   \n",
       "3  [{'id': 1198, 'hero': 'https://pe.tedcdn.com/i...           Psychologist   \n",
       "4  [{'id': 635, 'hero': 'https://pe.tedcdn.com/im...       Author, satirist   \n",
       "\n",
       "                                                tags  \\\n",
       "0  ['God', 'faith', 'neuroscience', 'psychology',...   \n",
       "1              ['inequality', 'poverty', 'violence']   \n",
       "2  ['TEDx', 'corruption', 'culture', 'global issu...   \n",
       "3     ['behavioral economics', 'mind', 'psychology']   \n",
       "4  ['biodiversity', 'biology', 'comedy', 'humor',...   \n",
       "\n",
       "                                               title  \\\n",
       "0                  The pattern behind self-deception   \n",
       "1  The hidden reason for poverty the world needs ...   \n",
       "2                   The dangers of willful blindness   \n",
       "3                Can prejudice ever be a good thing?   \n",
       "4               Parrots, the universe and everything   \n",
       "\n",
       "                                                 url  \n",
       "0  https://www.ted.com/talks/michael_shermer_the_...  \n",
       "1  https://www.ted.com/talks/gary_haugen_the_hidd...  \n",
       "2  https://www.ted.com/talks/margaret_heffernan_t...  \n",
       "3  https://www.ted.com/talks/paul_bloom_can_preju...  \n",
       "4  https://www.ted.com/talks/douglas_adams_parrot...  "
      ]
     },
     "execution_count": 296,
     "metadata": {},
     "output_type": "execute_result"
    }
   ],
   "source": [
    "X_train.head()"
   ]
  },
  {
   "cell_type": "code",
   "execution_count": 303,
   "metadata": {},
   "outputs": [
    {
     "data": {
      "text/plain": [
       "['date_feats',\n",
       " 'events_ohe',\n",
       " 'lsa_ch25',\n",
       " 'lsa_ch50',\n",
       " 'lsa_w25',\n",
       " 'lsa_w50',\n",
       " 'ratings',\n",
       " 'ratings_sum',\n",
       " 'related_talks_avg_views',\n",
       " 'tags_gt10',\n",
       " 'tags_gt50']"
      ]
     },
     "execution_count": 303,
     "metadata": {},
     "output_type": "execute_result"
    }
   ],
   "source": [
    "list(train_feats_pd.keys())"
   ]
  },
  {
   "cell_type": "code",
   "execution_count": 294,
   "metadata": {
    "scrolled": true
   },
   "outputs": [
    {
     "data": {
      "text/plain": [
       "['description_tw_emb',\n",
       " 'description_wiki_emb',\n",
       " 'speaker_occupation_tw_emb',\n",
       " 'speaker_occupation_wiki_emb',\n",
       " 'tags_tweet_emb',\n",
       " 'tags_wiki_emb',\n",
       " 'title_tw_emb',\n",
       " 'title_wiki_emb']"
      ]
     },
     "execution_count": 294,
     "metadata": {},
     "output_type": "execute_result"
    }
   ],
   "source": [
    "list(train_feats_np.keys())"
   ]
  },
  {
   "cell_type": "markdown",
   "metadata": {},
   "source": [
    "### Quantitative feats"
   ]
  },
  {
   "cell_type": "code",
   "execution_count": 316,
   "metadata": {},
   "outputs": [],
   "source": [
    "X_train_quant = pd.DataFrame(X_train.comments)\n",
    "X_test_quant  = pd.DataFrame(X_test.comments)"
   ]
  },
  {
   "cell_type": "code",
   "execution_count": 317,
   "metadata": {
    "scrolled": true
   },
   "outputs": [
    {
     "data": {
      "text/html": [
       "<div>\n",
       "<style scoped>\n",
       "    .dataframe tbody tr th:only-of-type {\n",
       "        vertical-align: middle;\n",
       "    }\n",
       "\n",
       "    .dataframe tbody tr th {\n",
       "        vertical-align: top;\n",
       "    }\n",
       "\n",
       "    .dataframe thead th {\n",
       "        text-align: right;\n",
       "    }\n",
       "</style>\n",
       "<table border=\"1\" class=\"dataframe\">\n",
       "  <thead>\n",
       "    <tr style=\"text-align: right;\">\n",
       "      <th></th>\n",
       "      <th>year</th>\n",
       "      <th>month</th>\n",
       "      <th>day</th>\n",
       "      <th>publishing_lag</th>\n",
       "      <th>elapsed_time</th>\n",
       "    </tr>\n",
       "  </thead>\n",
       "  <tbody>\n",
       "    <tr>\n",
       "      <th>0</th>\n",
       "      <td>2010</td>\n",
       "      <td>February</td>\n",
       "      <td>Wednesday</td>\n",
       "      <td>-124</td>\n",
       "      <td>-2962</td>\n",
       "    </tr>\n",
       "    <tr>\n",
       "      <th>1</th>\n",
       "      <td>2015</td>\n",
       "      <td>March</td>\n",
       "      <td>Tuesday</td>\n",
       "      <td>-34</td>\n",
       "      <td>-4823</td>\n",
       "    </tr>\n",
       "    <tr>\n",
       "      <th>2</th>\n",
       "      <td>2013</td>\n",
       "      <td>March</td>\n",
       "      <td>Friday</td>\n",
       "      <td>-143</td>\n",
       "      <td>-4098</td>\n",
       "    </tr>\n",
       "    <tr>\n",
       "      <th>3</th>\n",
       "      <td>2014</td>\n",
       "      <td>January</td>\n",
       "      <td>Wednesday</td>\n",
       "      <td>-169</td>\n",
       "      <td>-4397</td>\n",
       "    </tr>\n",
       "    <tr>\n",
       "      <th>4</th>\n",
       "      <td>2001</td>\n",
       "      <td>May</td>\n",
       "      <td>Wednesday</td>\n",
       "      <td>-1000</td>\n",
       "      <td>230</td>\n",
       "    </tr>\n",
       "  </tbody>\n",
       "</table>\n",
       "</div>"
      ],
      "text/plain": [
       "   year     month        day  publishing_lag  elapsed_time\n",
       "0  2010  February  Wednesday            -124         -2962\n",
       "1  2015     March    Tuesday             -34         -4823\n",
       "2  2013     March     Friday            -143         -4098\n",
       "3  2014   January  Wednesday            -169         -4397\n",
       "4  2001       May  Wednesday           -1000           230"
      ]
     },
     "execution_count": 317,
     "metadata": {},
     "output_type": "execute_result"
    }
   ],
   "source": [
    "train_feats_pd['date_feats'].head()"
   ]
  },
  {
   "cell_type": "code",
   "execution_count": 318,
   "metadata": {},
   "outputs": [],
   "source": [
    "date_quant_columns = ['year', 'publishing_lag', 'elapsed_time']"
   ]
  },
  {
   "cell_type": "code",
   "execution_count": 319,
   "metadata": {},
   "outputs": [],
   "source": [
    "X_train_quant = pd.concat([X_train_quant,\n",
    "                            train_feats_pd['date_feats'][date_quant_columns]],\n",
    "                          axis=1)\n",
    "X_test_quant = pd.concat([X_test_quant,\n",
    "                            test_feats_pd['date_feats'][date_quant_columns]],\n",
    "                          axis=1)"
   ]
  },
  {
   "cell_type": "code",
   "execution_count": 320,
   "metadata": {},
   "outputs": [],
   "source": [
    "X_train_quant = pd.concat([X_train_quant,\n",
    "                            train_feats_pd['ratings_sum']],\n",
    "                          axis=1)\n",
    "X_test_quant = pd.concat([X_test_quant,\n",
    "                            test_feats_pd['ratings_sum']],\n",
    "                          axis=1)"
   ]
  },
  {
   "cell_type": "code",
   "execution_count": 321,
   "metadata": {},
   "outputs": [],
   "source": [
    "X_train_quant = pd.concat([X_train_quant,\n",
    "                            train_feats_pd['related_talks_avg_views']],\n",
    "                          axis=1)\n",
    "X_test_quant = pd.concat([X_test_quant,\n",
    "                            test_feats_pd['related_talks_avg_views']],\n",
    "                          axis=1)"
   ]
  },
  {
   "cell_type": "markdown",
   "metadata": {},
   "source": [
    "### OhE "
   ]
  },
  {
   "cell_type": "code",
   "execution_count": 322,
   "metadata": {},
   "outputs": [
    {
     "data": {
      "text/html": [
       "<div>\n",
       "<style scoped>\n",
       "    .dataframe tbody tr th:only-of-type {\n",
       "        vertical-align: middle;\n",
       "    }\n",
       "\n",
       "    .dataframe tbody tr th {\n",
       "        vertical-align: top;\n",
       "    }\n",
       "\n",
       "    .dataframe thead th {\n",
       "        text-align: right;\n",
       "    }\n",
       "</style>\n",
       "<table border=\"1\" class=\"dataframe\">\n",
       "  <thead>\n",
       "    <tr style=\"text-align: right;\">\n",
       "      <th></th>\n",
       "      <th>year</th>\n",
       "      <th>month</th>\n",
       "      <th>day</th>\n",
       "      <th>publishing_lag</th>\n",
       "      <th>elapsed_time</th>\n",
       "    </tr>\n",
       "  </thead>\n",
       "  <tbody>\n",
       "    <tr>\n",
       "      <th>0</th>\n",
       "      <td>2010</td>\n",
       "      <td>February</td>\n",
       "      <td>Wednesday</td>\n",
       "      <td>-124</td>\n",
       "      <td>-2962</td>\n",
       "    </tr>\n",
       "    <tr>\n",
       "      <th>1</th>\n",
       "      <td>2015</td>\n",
       "      <td>March</td>\n",
       "      <td>Tuesday</td>\n",
       "      <td>-34</td>\n",
       "      <td>-4823</td>\n",
       "    </tr>\n",
       "    <tr>\n",
       "      <th>2</th>\n",
       "      <td>2013</td>\n",
       "      <td>March</td>\n",
       "      <td>Friday</td>\n",
       "      <td>-143</td>\n",
       "      <td>-4098</td>\n",
       "    </tr>\n",
       "    <tr>\n",
       "      <th>3</th>\n",
       "      <td>2014</td>\n",
       "      <td>January</td>\n",
       "      <td>Wednesday</td>\n",
       "      <td>-169</td>\n",
       "      <td>-4397</td>\n",
       "    </tr>\n",
       "    <tr>\n",
       "      <th>4</th>\n",
       "      <td>2001</td>\n",
       "      <td>May</td>\n",
       "      <td>Wednesday</td>\n",
       "      <td>-1000</td>\n",
       "      <td>230</td>\n",
       "    </tr>\n",
       "  </tbody>\n",
       "</table>\n",
       "</div>"
      ],
      "text/plain": [
       "   year     month        day  publishing_lag  elapsed_time\n",
       "0  2010  February  Wednesday            -124         -2962\n",
       "1  2015     March    Tuesday             -34         -4823\n",
       "2  2013     March     Friday            -143         -4098\n",
       "3  2014   January  Wednesday            -169         -4397\n",
       "4  2001       May  Wednesday           -1000           230"
      ]
     },
     "execution_count": 322,
     "metadata": {},
     "output_type": "execute_result"
    }
   ],
   "source": [
    "train_feats_pd['date_feats'].head()"
   ]
  },
  {
   "cell_type": "code",
   "execution_count": 323,
   "metadata": {},
   "outputs": [],
   "source": [
    "day_lb = LabelBinarizer()\n",
    "day_ohe_train = day_lb.fit_transform(train_feats_pd['date_feats'].day)[:,:-1]\n",
    "day_ohe_test = day_lb.transform(test_feats_pd['date_feats'].day)[:,:-1]"
   ]
  },
  {
   "cell_type": "code",
   "execution_count": 324,
   "metadata": {},
   "outputs": [],
   "source": [
    "month_lb = LabelBinarizer()\n",
    "month_ohe_train = month_lb.fit_transform(train_feats_pd['date_feats'].month)[:,:-1]\n",
    "month_ohe_test = month_lb.transform(test_feats_pd['date_feats'].month)[:,:-1]"
   ]
  },
  {
   "cell_type": "code",
   "execution_count": 325,
   "metadata": {},
   "outputs": [],
   "source": [
    "X_train_ohe = pd.DataFrame(data=np.concatenate([day_ohe_train, month_ohe_train],axis=1))\n",
    "X_test_ohe = pd.DataFrame(data=np.concatenate([day_ohe_test, month_ohe_test],axis=1))"
   ]
  },
  {
   "cell_type": "code",
   "execution_count": 326,
   "metadata": {},
   "outputs": [
    {
     "data": {
      "text/plain": [
       "(2040, 17)"
      ]
     },
     "execution_count": 326,
     "metadata": {},
     "output_type": "execute_result"
    }
   ],
   "source": [
    "X_train_ohe.shape"
   ]
  },
  {
   "cell_type": "code",
   "execution_count": 327,
   "metadata": {},
   "outputs": [
    {
     "data": {
      "text/plain": [
       "(510, 17)"
      ]
     },
     "execution_count": 327,
     "metadata": {},
     "output_type": "execute_result"
    }
   ],
   "source": [
    "X_test_ohe.shape"
   ]
  },
  {
   "cell_type": "code",
   "execution_count": 328,
   "metadata": {},
   "outputs": [],
   "source": [
    "X_train_ohe = pd.concat([X_train_ohe, train_feats_pd['events_ohe']], axis=1)\n",
    "X_test_ohe = pd.concat([X_test_ohe, test_feats_pd['events_ohe']], axis=1)"
   ]
  },
  {
   "cell_type": "markdown",
   "metadata": {},
   "source": [
    "### Tags"
   ]
  },
  {
   "cell_type": "code",
   "execution_count": 329,
   "metadata": {},
   "outputs": [],
   "source": [
    "X_train_tags = pd.DataFrame(train_feats_pd['tags_gt10'])\n",
    "X_test_tags = pd.DataFrame(test_feats_pd['tags_gt10'])"
   ]
  },
  {
   "cell_type": "markdown",
   "metadata": {},
   "source": [
    "### Embeddings "
   ]
  },
  {
   "cell_type": "code",
   "execution_count": 330,
   "metadata": {},
   "outputs": [],
   "source": [
    "X_train_emb = pd.DataFrame(np.concatenate([train_feats_np['description_wiki_emb'],\n",
    "                                          train_feats_np['tags_wiki_emb'],\n",
    "                                          train_feats_np['speaker_occupation_wiki_emb'],], axis=1))\n",
    "X_test_emb = pd.DataFrame(np.concatenate([test_feats_np['description_wiki_emb'],\n",
    "                                          test_feats_np['tags_wiki_emb'],\n",
    "                                          test_feats_np['speaker_occupation_wiki_emb'],], axis=1))"
   ]
  },
  {
   "cell_type": "markdown",
   "metadata": {},
   "source": [
    "### LSA"
   ]
  },
  {
   "cell_type": "code",
   "execution_count": 336,
   "metadata": {},
   "outputs": [],
   "source": [
    "X_train['url'] = X_train['url'].replace(r'\\s+|\\\\n', '', regex=True)\n",
    "X_test['url'] = X_test['url'].replace(r'\\s+|\\\\n', '', regex=True)\n",
    "lsa_samples_train = X_train.url.isin(train_feats_pd['lsa_ch50'].url.values)\n",
    "lsa_samples_test = X_test.url.isin(test_feats_pd['lsa_ch50'].url.values)"
   ]
  },
  {
   "cell_type": "code",
   "execution_count": 369,
   "metadata": {},
   "outputs": [],
   "source": [
    "X_train_lsa = pd.DataFrame(np.concatenate([train_feats_pd['lsa_ch50'].iloc[:,:-1],\n",
    "                                    train_feats_pd['lsa_w50'].iloc[:,:-1]], axis=1))\n",
    "X_test_lsa = pd.DataFrame(np.concatenate([test_feats_pd['lsa_ch50'].iloc[:,:-1],\n",
    "                                    test_feats_pd['lsa_w50'].iloc[:,:-1]], axis=1))"
   ]
  },
  {
   "cell_type": "markdown",
   "metadata": {},
   "source": [
    "## Concatenate All "
   ]
  },
  {
   "cell_type": "code",
   "execution_count": 333,
   "metadata": {},
   "outputs": [],
   "source": [
    "sc = StandardScaler()"
   ]
  },
  {
   "cell_type": "code",
   "execution_count": 340,
   "metadata": {},
   "outputs": [
    {
     "name": "stderr",
     "output_type": "stream",
     "text": [
      "C:\\Users\\Simeon\\Anaconda3\\envs\\First\\lib\\site-packages\\sklearn\\preprocessing\\data.py:617: DataConversionWarning: Data with input dtype int64, float64 were all converted to float64 by StandardScaler.\n",
      "  return self.partial_fit(X, y)\n",
      "C:\\Users\\Simeon\\Anaconda3\\envs\\First\\lib\\site-packages\\sklearn\\base.py:462: DataConversionWarning: Data with input dtype int64, float64 were all converted to float64 by StandardScaler.\n",
      "  return self.fit(X, **fit_params).transform(X)\n",
      "C:\\Users\\Simeon\\Anaconda3\\envs\\First\\lib\\site-packages\\ipykernel_launcher.py:2: DataConversionWarning: Data with input dtype int64, float64 were all converted to float64 by StandardScaler.\n",
      "  \n"
     ]
    }
   ],
   "source": [
    "X_train_quant_sd = pd.DataFrame(sc.fit_transform(X_train_quant))\n",
    "X_test_quant_sd = pd.DataFrame(sc.transform(X_test_quant))"
   ]
  },
  {
   "cell_type": "code",
   "execution_count": 370,
   "metadata": {},
   "outputs": [],
   "source": [
    "X_train_all = pd.concat([X_train_quant_sd, X_train_ohe, X_train_tags, X_train_emb], axis=1)\n",
    "X_test_all = pd.concat([X_test_quant_sd, X_test_ohe, X_test_tags, X_test_emb], axis=1)"
   ]
  },
  {
   "cell_type": "markdown",
   "metadata": {},
   "source": [
    "###  Leave only the samples that have  transcripts"
   ]
  },
  {
   "cell_type": "code",
   "execution_count": 371,
   "metadata": {},
   "outputs": [],
   "source": [
    "X_train_all = pd.concat([X_train_all[lsa_samples_train].reset_index(),\n",
    "                        X_train_lsa], axis=1)\n",
    "X_test_all = pd.concat([X_test_all[lsa_samples_test].reset_index(),\n",
    "                        X_test_lsa], axis=1)"
   ]
  },
  {
   "cell_type": "code",
   "execution_count": 372,
   "metadata": {},
   "outputs": [
    {
     "data": {
      "text/plain": [
       "(1964, 553)"
      ]
     },
     "execution_count": 372,
     "metadata": {},
     "output_type": "execute_result"
    }
   ],
   "source": [
    "X_train_all.shape"
   ]
  },
  {
   "cell_type": "code",
   "execution_count": 373,
   "metadata": {},
   "outputs": [
    {
     "data": {
      "text/plain": [
       "(500, 553)"
      ]
     },
     "execution_count": 373,
     "metadata": {},
     "output_type": "execute_result"
    }
   ],
   "source": [
    "X_test_all.shape"
   ]
  },
  {
   "cell_type": "code",
   "execution_count": 374,
   "metadata": {},
   "outputs": [],
   "source": [
    "y_train_lsa = y_train[lsa_samples_train].values\n",
    "y_test_lsa = y_test[lsa_samples_test].values"
   ]
  },
  {
   "cell_type": "code",
   "execution_count": 387,
   "metadata": {},
   "outputs": [
    {
     "name": "stdout",
     "output_type": "stream",
     "text": [
      "Train r2 score: 0.854646 +/- 0.016611\n",
      "Test  f2 score: 0.594032 +/- 0.161329\n"
     ]
    },
    {
     "name": "stderr",
     "output_type": "stream",
     "text": [
      "C:\\Users\\Simeon\\Anaconda3\\envs\\First\\lib\\site-packages\\sklearn\\utils\\deprecation.py:125: FutureWarning: You are accessing a training score ('train_score'), which will not be available by default any more in 0.21. If you need training scores, please set return_train_score=True\n",
      "  warnings.warn(*warn_args, **warn_kwargs)\n"
     ]
    }
   ],
   "source": [
    "cv = cross_validate(LinearRegression(),\n",
    "                    X_train_all,\n",
    "                    y_train_lsa, cv=5)\n",
    "print('Train r2 score: %f +/- %f'%(cv['train_score'].mean(), cv['train_score'].std()))\n",
    "print('Test  f2 score: %f +/- %f'%(cv['test_score'].mean(), cv['test_score'].std()))"
   ]
  },
  {
   "cell_type": "markdown",
   "metadata": {},
   "source": [
    "## Feats selection with Lasso"
   ]
  },
  {
   "cell_type": "code",
   "execution_count": 426,
   "metadata": {},
   "outputs": [
    {
     "data": {
      "text/plain": [
       "12"
      ]
     },
     "execution_count": 426,
     "metadata": {},
     "output_type": "execute_result"
    }
   ],
   "source": [
    "dt_depth5 = DecisionTreeRegressor(max_depth=5, random_state=42)\n",
    "sfm_dt_mean_depth5 = SelectFromModel(dt_depth5, threshold='mean')\n",
    "sfm_dt_mean_depth5.fit(X_train_all, y_train_lsa)\n",
    "n_features = sfm_dt_mean_depth5.transform(X_train_all).shape[1]\n",
    "n_features"
   ]
  },
  {
   "cell_type": "code",
   "execution_count": 427,
   "metadata": {},
   "outputs": [
    {
     "name": "stdout",
     "output_type": "stream",
     "text": [
      "Train r2 score: 0.777190 +/- 0.022406\n",
      "Test  f2 score: 0.728202 +/- 0.120381\n"
     ]
    },
    {
     "name": "stderr",
     "output_type": "stream",
     "text": [
      "C:\\Users\\Simeon\\Anaconda3\\envs\\First\\lib\\site-packages\\sklearn\\utils\\deprecation.py:125: FutureWarning: You are accessing a training score ('train_score'), which will not be available by default any more in 0.21. If you need training scores, please set return_train_score=True\n",
      "  warnings.warn(*warn_args, **warn_kwargs)\n"
     ]
    }
   ],
   "source": [
    "cv = cross_validate(LinearRegression(),\n",
    "                    sfm_dt_mean_depth5.transform(X_train_all),\n",
    "                    y_train_lsa, cv=5)\n",
    "print('Train r2 score: %f +/- %f'%(cv['train_score'].mean(), cv['train_score'].std()))\n",
    "print('Test  f2 score: %f +/- %f'%(cv['test_score'].mean(), cv['test_score'].std()))"
   ]
  },
  {
   "cell_type": "code",
   "execution_count": 428,
   "metadata": {},
   "outputs": [
    {
     "data": {
      "text/plain": [
       "277"
      ]
     },
     "execution_count": 428,
     "metadata": {},
     "output_type": "execute_result"
    }
   ],
   "source": [
    "dt = DecisionTreeRegressor()\n",
    "sfm_dt_median = SelectFromModel(dt, threshold='median')\n",
    "sfm_dt_median.fit(X_train_all, y_train_lsa)\n",
    "n_features = sfm_dt_median.transform(X_train_all).shape[1]\n",
    "n_features"
   ]
  },
  {
   "cell_type": "code",
   "execution_count": 429,
   "metadata": {},
   "outputs": [
    {
     "name": "stdout",
     "output_type": "stream",
     "text": [
      "Train r2 score: 0.821397 +/- 0.019746\n",
      "Test  f2 score: 0.683900 +/- 0.136990\n"
     ]
    },
    {
     "name": "stderr",
     "output_type": "stream",
     "text": [
      "C:\\Users\\Simeon\\Anaconda3\\envs\\First\\lib\\site-packages\\sklearn\\utils\\deprecation.py:125: FutureWarning: You are accessing a training score ('train_score'), which will not be available by default any more in 0.21. If you need training scores, please set return_train_score=True\n",
      "  warnings.warn(*warn_args, **warn_kwargs)\n"
     ]
    }
   ],
   "source": [
    "cv = cross_validate(LinearRegression(),\n",
    "                    sfm_dt_median.transform(X_train_all),\n",
    "                    y_train_lsa, cv=5)\n",
    "print('Train r2 score: %f +/- %f'%(cv['train_score'].mean(), cv['train_score'].std()))\n",
    "print('Test  f2 score: %f +/- %f'%(cv['test_score'].mean(), cv['test_score'].std()))"
   ]
  },
  {
   "cell_type": "code",
   "execution_count": 431,
   "metadata": {},
   "outputs": [
    {
     "data": {
      "text/plain": [
       "23"
      ]
     },
     "execution_count": 431,
     "metadata": {},
     "output_type": "execute_result"
    }
   ],
   "source": [
    "dt = DecisionTreeRegressor()\n",
    "sfm_dt_mean = SelectFromModel(dt, threshold='mean')\n",
    "sfm_dt_mean.fit(X_train_all, y_train_lsa)\n",
    "n_features = sfm_dt_mean.transform(X_train_all).shape[1]\n",
    "n_features"
   ]
  },
  {
   "cell_type": "code",
   "execution_count": 432,
   "metadata": {
    "scrolled": true
   },
   "outputs": [
    {
     "name": "stdout",
     "output_type": "stream",
     "text": [
      "Train r2 score: 0.780662 +/- 0.023111\n",
      "Test  f2 score: 0.723325 +/- 0.127172\n"
     ]
    },
    {
     "name": "stderr",
     "output_type": "stream",
     "text": [
      "C:\\Users\\Simeon\\Anaconda3\\envs\\First\\lib\\site-packages\\sklearn\\utils\\deprecation.py:125: FutureWarning: You are accessing a training score ('train_score'), which will not be available by default any more in 0.21. If you need training scores, please set return_train_score=True\n",
      "  warnings.warn(*warn_args, **warn_kwargs)\n"
     ]
    }
   ],
   "source": [
    "cv = cross_validate(LinearRegression(),\n",
    "                    sfm_dt_mean.transform(X_train_all),\n",
    "                    y_train_lsa, cv=5)\n",
    "print('Train r2 score: %f +/- %f'%(cv['train_score'].mean(), cv['train_score'].std()))\n",
    "print('Test  f2 score: %f +/- %f'%(cv['test_score'].mean(), cv['test_score'].std()))"
   ]
  },
  {
   "cell_type": "code",
   "execution_count": 523,
   "metadata": {},
   "outputs": [
    {
     "name": "stderr",
     "output_type": "stream",
     "text": [
      "C:\\Users\\Simeon\\Anaconda3\\envs\\First\\lib\\site-packages\\sklearn\\utils\\validation.py:752: DataConversionWarning: A column-vector y was passed when a 1d array was expected. Please change the shape of y to (n_samples, ), for example using ravel().\n",
      "  y = column_or_1d(y, warn=True)\n"
     ]
    },
    {
     "data": {
      "text/plain": [
       "RFE(estimator=DecisionTreeRegressor(criterion='mse', max_depth=None, max_features=None,\n",
       "           max_leaf_nodes=None, min_impurity_decrease=0.0,\n",
       "           min_impurity_split=None, min_samples_leaf=1,\n",
       "           min_samples_split=2, min_weight_fraction_leaf=0.0,\n",
       "           presort=False, random_state=None, splitter='best'),\n",
       "  n_features_to_select=50, step=1, verbose=0)"
      ]
     },
     "execution_count": 523,
     "metadata": {},
     "output_type": "execute_result"
    }
   ],
   "source": [
    "estimator_dt = DecisionTreeRegressor(random_state=42)\n",
    "selector_dt_50 = RFE(estimator_dt, 50, step=1)\n",
    "selector_dt_50.fit(X_train_all, y_train_lsa)"
   ]
  },
  {
   "cell_type": "code",
   "execution_count": 524,
   "metadata": {},
   "outputs": [
    {
     "data": {
      "text/plain": [
       "(1964, 100)"
      ]
     },
     "execution_count": 524,
     "metadata": {},
     "output_type": "execute_result"
    }
   ],
   "source": [
    "selector_dt_100.transform(X_train_all).shape"
   ]
  },
  {
   "cell_type": "code",
   "execution_count": 525,
   "metadata": {},
   "outputs": [
    {
     "name": "stdout",
     "output_type": "stream",
     "text": [
      "Train r2 score: 0.785956 +/- 0.022528\n",
      "Test  f2 score: 0.720169 +/- 0.123685\n"
     ]
    },
    {
     "name": "stderr",
     "output_type": "stream",
     "text": [
      "C:\\Users\\Simeon\\Anaconda3\\envs\\First\\lib\\site-packages\\sklearn\\utils\\deprecation.py:125: FutureWarning: You are accessing a training score ('train_score'), which will not be available by default any more in 0.21. If you need training scores, please set return_train_score=True\n",
      "  warnings.warn(*warn_args, **warn_kwargs)\n"
     ]
    }
   ],
   "source": [
    "cv = cross_validate(LinearRegression(),\n",
    "                    selector_dt_50.transform(X_train_all),\n",
    "                    y_train_lsa, cv=5)\n",
    "print('Train r2 score: %f +/- %f'%(cv['train_score'].mean(), cv['train_score'].std()))\n",
    "print('Test  f2 score: %f +/- %f'%(cv['test_score'].mean(), cv['test_score'].std()))"
   ]
  },
  {
   "cell_type": "code",
   "execution_count": 526,
   "metadata": {},
   "outputs": [
    {
     "name": "stderr",
     "output_type": "stream",
     "text": [
      "C:\\Users\\Simeon\\Anaconda3\\envs\\First\\lib\\site-packages\\sklearn\\utils\\validation.py:752: DataConversionWarning: A column-vector y was passed when a 1d array was expected. Please change the shape of y to (n_samples, ), for example using ravel().\n",
      "  y = column_or_1d(y, warn=True)\n"
     ]
    },
    {
     "name": "stdout",
     "output_type": "stream",
     "text": [
      "Train r2 score: 0.790272 +/- 0.022032\n",
      "Test  f2 score: 0.709603 +/- 0.125932\n"
     ]
    },
    {
     "name": "stderr",
     "output_type": "stream",
     "text": [
      "C:\\Users\\Simeon\\Anaconda3\\envs\\First\\lib\\site-packages\\sklearn\\utils\\deprecation.py:125: FutureWarning: You are accessing a training score ('train_score'), which will not be available by default any more in 0.21. If you need training scores, please set return_train_score=True\n",
      "  warnings.warn(*warn_args, **warn_kwargs)\n"
     ]
    }
   ],
   "source": [
    "estimator_dt = DecisionTreeRegressor(random_state=42)\n",
    "selector_dt_100 = RFE(estimator_dt, 100, step=1)\n",
    "selector_dt_100.fit(X_train_all, y_train_lsa)\n",
    "cv = cross_validate(LinearRegression(),\n",
    "                    selector_dt_100.transform(X_train_all),\n",
    "                    y_train_lsa, cv=5)\n",
    "print('Train r2 score: %f +/- %f'%(cv['train_score'].mean(), cv['train_score'].std()))\n",
    "print('Test  f2 score: %f +/- %f'%(cv['test_score'].mean(), cv['test_score'].std()))"
   ]
  },
  {
   "cell_type": "code",
   "execution_count": 538,
   "metadata": {},
   "outputs": [
    {
     "name": "stderr",
     "output_type": "stream",
     "text": [
      "C:\\Users\\Simeon\\Anaconda3\\envs\\First\\lib\\site-packages\\sklearn\\preprocessing\\data.py:617: DataConversionWarning: Data with input dtype float32, int32, int64, float64 were all converted to float64 by StandardScaler.\n",
      "  return self.partial_fit(X, y)\n",
      "C:\\Users\\Simeon\\Anaconda3\\envs\\First\\lib\\site-packages\\sklearn\\base.py:462: DataConversionWarning: Data with input dtype float32, int32, int64, float64 were all converted to float64 by StandardScaler.\n",
      "  return self.fit(X, **fit_params).transform(X)\n"
     ]
    }
   ],
   "source": [
    "sc_dt_all = StandardScaler()\n",
    "x_train_all_sd = sc_dt_all.fit_transform(X_train_all)"
   ]
  },
  {
   "cell_type": "code",
   "execution_count": 541,
   "metadata": {
    "collapsed": true
   },
   "outputs": [
    {
     "name": "stderr",
     "output_type": "stream",
     "text": [
      "C:\\Users\\Simeon\\Anaconda3\\envs\\First\\lib\\site-packages\\sklearn\\linear_model\\coordinate_descent.py:1108: DataConversionWarning: A column-vector y was passed when a 1d array was expected. Please change the shape of y to (n_samples, ), for example using ravel().\n",
      "  y = column_or_1d(y, warn=True)\n",
      "C:\\Users\\Simeon\\Anaconda3\\envs\\First\\lib\\site-packages\\sklearn\\model_selection\\_split.py:1943: FutureWarning: You should specify a value for 'cv' instead of relying on the default value. The default value will change from 3 to 5 in version 0.22.\n",
      "  warnings.warn(CV_WARNING, FutureWarning)\n",
      "C:\\Users\\Simeon\\Anaconda3\\envs\\First\\lib\\site-packages\\sklearn\\linear_model\\coordinate_descent.py:491: ConvergenceWarning: Objective did not converge. You might want to increase the number of iterations. Fitting data with very small alpha may cause precision problems.\n",
      "  ConvergenceWarning)\n",
      "C:\\Users\\Simeon\\Anaconda3\\envs\\First\\lib\\site-packages\\sklearn\\linear_model\\coordinate_descent.py:491: ConvergenceWarning: Objective did not converge. You might want to increase the number of iterations. Fitting data with very small alpha may cause precision problems.\n",
      "  ConvergenceWarning)\n",
      "C:\\Users\\Simeon\\Anaconda3\\envs\\First\\lib\\site-packages\\sklearn\\linear_model\\coordinate_descent.py:491: ConvergenceWarning: Objective did not converge. You might want to increase the number of iterations. Fitting data with very small alpha may cause precision problems.\n",
      "  ConvergenceWarning)\n",
      "C:\\Users\\Simeon\\Anaconda3\\envs\\First\\lib\\site-packages\\sklearn\\linear_model\\coordinate_descent.py:491: ConvergenceWarning: Objective did not converge. You might want to increase the number of iterations. Fitting data with very small alpha may cause precision problems.\n",
      "  ConvergenceWarning)\n"
     ]
    },
    {
     "data": {
      "text/plain": [
       "28"
      ]
     },
     "execution_count": 541,
     "metadata": {},
     "output_type": "execute_result"
    }
   ],
   "source": [
    "lassoCV = LassoCV()\n",
    "sfm_lasso_mean = SelectFromModel(lassoCV, threshold='mean')\n",
    "sfm_lasso_mean.fit(x_train_all_sd, y_train_lsa)\n",
    "n_features = sfm_lasso_mean.transform(x_train_all_sd).shape[1]\n",
    "n_features"
   ]
  },
  {
   "cell_type": "code",
   "execution_count": 542,
   "metadata": {},
   "outputs": [
    {
     "name": "stdout",
     "output_type": "stream",
     "text": [
      "Train r2 score: 0.798086 +/- 0.022166\n",
      "Test  f2 score: 0.731671 +/- 0.124372\n"
     ]
    },
    {
     "name": "stderr",
     "output_type": "stream",
     "text": [
      "C:\\Users\\Simeon\\Anaconda3\\envs\\First\\lib\\site-packages\\sklearn\\utils\\deprecation.py:125: FutureWarning: You are accessing a training score ('train_score'), which will not be available by default any more in 0.21. If you need training scores, please set return_train_score=True\n",
      "  warnings.warn(*warn_args, **warn_kwargs)\n"
     ]
    }
   ],
   "source": [
    "cv = cross_validate(LinearRegression(),\n",
    "                    sfm_lasso_mean.transform(x_train_all_sd),\n",
    "                    y_train_lsa, cv=5)\n",
    "print('Train r2 score: %f +/- %f'%(cv['train_score'].mean(), cv['train_score'].std()))\n",
    "print('Test  f2 score: %f +/- %f'%(cv['test_score'].mean(), cv['test_score'].std()))"
   ]
  },
  {
   "cell_type": "code",
   "execution_count": 589,
   "metadata": {},
   "outputs": [
    {
     "data": {
      "text/plain": [
       "RFE(estimator=LassoCV(alphas=None, copy_X=True, cv='warn', eps=0.001, fit_intercept=True,\n",
       "    max_iter=1000, n_alphas=100, n_jobs=None, normalize=False,\n",
       "    positive=False, precompute='auto', random_state=None,\n",
       "    selection='cyclic', tol=0.0001, verbose=False),\n",
       "  n_features_to_select=50, step=1, verbose=0)"
      ]
     },
     "execution_count": 589,
     "metadata": {},
     "output_type": "execute_result"
    }
   ],
   "source": [
    "estimator_lasso = LassoCV()\n",
    "selector_lasso_50 = RFE(estimator_lasso, 50, step=1)\n",
    "selector_lasso_50.fit(x_train_all_sd, y_train_lsa)"
   ]
  },
  {
   "cell_type": "code",
   "execution_count": 546,
   "metadata": {},
   "outputs": [
    {
     "name": "stdout",
     "output_type": "stream",
     "text": [
      "Train r2 score: 0.807448 +/- 0.021163\n",
      "Test  f2 score: 0.730133 +/- 0.122835\n"
     ]
    },
    {
     "name": "stderr",
     "output_type": "stream",
     "text": [
      "C:\\Users\\Simeon\\Anaconda3\\envs\\First\\lib\\site-packages\\sklearn\\utils\\deprecation.py:125: FutureWarning: You are accessing a training score ('train_score'), which will not be available by default any more in 0.21. If you need training scores, please set return_train_score=True\n",
      "  warnings.warn(*warn_args, **warn_kwargs)\n"
     ]
    }
   ],
   "source": [
    "cv = cross_validate(LinearRegression(),\n",
    "                    selector_lasso_50.transform(x_train_all_sd),\n",
    "                    y_train_lsa, cv=5)\n",
    "print('Train r2 score: %f +/- %f'%(cv['train_score'].mean(), cv['train_score'].std()))\n",
    "print('Test  f2 score: %f +/- %f'%(cv['test_score'].mean(), cv['test_score'].std()))"
   ]
  },
  {
   "cell_type": "markdown",
   "metadata": {},
   "source": [
    "# Model selection"
   ]
  },
  {
   "cell_type": "code",
   "execution_count": 547,
   "metadata": {
    "scrolled": false
   },
   "outputs": [
    {
     "name": "stderr",
     "output_type": "stream",
     "text": [
      "C:\\Users\\Simeon\\Anaconda3\\envs\\First\\lib\\site-packages\\sklearn\\utils\\validation.py:752: DataConversionWarning: A column-vector y was passed when a 1d array was expected. Please change the shape of y to (n_samples, ), for example using ravel().\n",
      "  y = column_or_1d(y, warn=True)\n",
      "C:\\Users\\Simeon\\Anaconda3\\envs\\First\\lib\\site-packages\\sklearn\\utils\\validation.py:752: DataConversionWarning: A column-vector y was passed when a 1d array was expected. Please change the shape of y to (n_samples, ), for example using ravel().\n",
      "  y = column_or_1d(y, warn=True)\n",
      "C:\\Users\\Simeon\\Anaconda3\\envs\\First\\lib\\site-packages\\sklearn\\utils\\validation.py:752: DataConversionWarning: A column-vector y was passed when a 1d array was expected. Please change the shape of y to (n_samples, ), for example using ravel().\n",
      "  y = column_or_1d(y, warn=True)\n",
      "C:\\Users\\Simeon\\Anaconda3\\envs\\First\\lib\\site-packages\\sklearn\\utils\\validation.py:752: DataConversionWarning: A column-vector y was passed when a 1d array was expected. Please change the shape of y to (n_samples, ), for example using ravel().\n",
      "  y = column_or_1d(y, warn=True)\n"
     ]
    },
    {
     "name": "stdout",
     "output_type": "stream",
     "text": [
      "Train r2 score: -0.054052 +/- 0.003551\n",
      "Test  f2 score: -0.059934 +/- 0.024343\n"
     ]
    },
    {
     "name": "stderr",
     "output_type": "stream",
     "text": [
      "C:\\Users\\Simeon\\Anaconda3\\envs\\First\\lib\\site-packages\\sklearn\\utils\\validation.py:752: DataConversionWarning: A column-vector y was passed when a 1d array was expected. Please change the shape of y to (n_samples, ), for example using ravel().\n",
      "  y = column_or_1d(y, warn=True)\n",
      "C:\\Users\\Simeon\\Anaconda3\\envs\\First\\lib\\site-packages\\sklearn\\utils\\deprecation.py:125: FutureWarning: You are accessing a training score ('train_score'), which will not be available by default any more in 0.21. If you need training scores, please set return_train_score=True\n",
      "  warnings.warn(*warn_args, **warn_kwargs)\n"
     ]
    }
   ],
   "source": [
    "cv = cross_validate(SVR(kernel='linear'),\n",
    "                    sfm_lasso_mean.transform(x_train_all_sd),\n",
    "                    y_train_lsa, cv=5)\n",
    "print('Train r2 score: %f +/- %f'%(cv['train_score'].mean(), cv['train_score'].std()))\n",
    "print('Test  f2 score: %f +/- %f'%(cv['test_score'].mean(), cv['test_score'].std()))"
   ]
  },
  {
   "cell_type": "code",
   "execution_count": 548,
   "metadata": {},
   "outputs": [
    {
     "name": "stdout",
     "output_type": "stream",
     "text": [
      "Train r2 score: 0.789415 +/- 0.022280\n",
      "Test  f2 score: 0.663625 +/- 0.073702\n"
     ]
    },
    {
     "name": "stderr",
     "output_type": "stream",
     "text": [
      "C:\\Users\\Simeon\\Anaconda3\\envs\\First\\lib\\site-packages\\sklearn\\utils\\deprecation.py:125: FutureWarning: You are accessing a training score ('train_score'), which will not be available by default any more in 0.21. If you need training scores, please set return_train_score=True\n",
      "  warnings.warn(*warn_args, **warn_kwargs)\n"
     ]
    }
   ],
   "source": [
    "cv = cross_validate(DecisionTreeRegressor(max_depth=3),\n",
    "                    sfm_lasso_mean.transform(x_train_all_sd),\n",
    "                    y_train_lsa, cv=5)\n",
    "print('Train r2 score: %f +/- %f'%(cv['train_score'].mean(), cv['train_score'].std()))\n",
    "print('Test  f2 score: %f +/- %f'%(cv['test_score'].mean(), cv['test_score'].std()))"
   ]
  },
  {
   "cell_type": "code",
   "execution_count": 454,
   "metadata": {},
   "outputs": [
    {
     "name": "stdout",
     "output_type": "stream",
     "text": [
      "Train r2 score: 0.798676 +/- 0.028983\n",
      "Test  f2 score: 0.593689 +/- 0.168482\n"
     ]
    },
    {
     "name": "stderr",
     "output_type": "stream",
     "text": [
      "C:\\Users\\Simeon\\Anaconda3\\envs\\First\\lib\\site-packages\\sklearn\\utils\\deprecation.py:125: FutureWarning: You are accessing a training score ('train_score'), which will not be available by default any more in 0.21. If you need training scores, please set return_train_score=True\n",
      "  warnings.warn(*warn_args, **warn_kwargs)\n"
     ]
    }
   ],
   "source": [
    "cv = cross_validate(DecisionTreeRegressor(max_depth=3),\n",
    "                    sfm_dt_median.transform(X_train_all),\n",
    "                    y_train_lsa, cv=5)\n",
    "print('Train r2 score: %f +/- %f'%(cv['train_score'].mean(), cv['train_score'].std()))\n",
    "print('Test  f2 score: %f +/- %f'%(cv['test_score'].mean(), cv['test_score'].std()))"
   ]
  },
  {
   "cell_type": "code",
   "execution_count": 455,
   "metadata": {},
   "outputs": [
    {
     "name": "stdout",
     "output_type": "stream",
     "text": [
      "Train r2 score: 0.905107 +/- 0.012399\n",
      "Test  f2 score: 0.385787 +/- 0.220630\n"
     ]
    },
    {
     "name": "stderr",
     "output_type": "stream",
     "text": [
      "C:\\Users\\Simeon\\Anaconda3\\envs\\First\\lib\\site-packages\\sklearn\\utils\\deprecation.py:125: FutureWarning: You are accessing a training score ('train_score'), which will not be available by default any more in 0.21. If you need training scores, please set return_train_score=True\n",
      "  warnings.warn(*warn_args, **warn_kwargs)\n"
     ]
    }
   ],
   "source": [
    "cv = cross_validate(DecisionTreeRegressor(max_depth=5),\n",
    "                    sfm_dt_median.transform(X_train_all),\n",
    "                    y_train_lsa, cv=5)\n",
    "print('Train r2 score: %f +/- %f'%(cv['train_score'].mean(), cv['train_score'].std()))\n",
    "print('Test  f2 score: %f +/- %f'%(cv['test_score'].mean(), cv['test_score'].std()))"
   ]
  },
  {
   "cell_type": "code",
   "execution_count": 459,
   "metadata": {
    "scrolled": true
   },
   "outputs": [
    {
     "name": "stdout",
     "output_type": "stream",
     "text": [
      "Train r2 score: 0.805329 +/- 0.021113\n",
      "Test  f2 score: 0.716789 +/- 0.123992\n"
     ]
    },
    {
     "name": "stderr",
     "output_type": "stream",
     "text": [
      "C:\\Users\\Simeon\\Anaconda3\\envs\\First\\lib\\site-packages\\sklearn\\utils\\deprecation.py:125: FutureWarning: You are accessing a training score ('train_score'), which will not be available by default any more in 0.21. If you need training scores, please set return_train_score=True\n",
      "  warnings.warn(*warn_args, **warn_kwargs)\n"
     ]
    }
   ],
   "source": [
    "cv = cross_validate(Ridge(alpha=60),\n",
    "                    sfm_dt_median.transform(X_train_all),\n",
    "                    y_train_lsa, cv=5)\n",
    "print('Train r2 score: %f +/- %f'%(cv['train_score'].mean(), cv['train_score'].std()))\n",
    "print('Test  f2 score: %f +/- %f'%(cv['test_score'].mean(), cv['test_score'].std()))"
   ]
  },
  {
   "cell_type": "code",
   "execution_count": 528,
   "metadata": {},
   "outputs": [
    {
     "name": "stdout",
     "output_type": "stream",
     "text": [
      "Train r2 score: 0.786816 +/- 0.022553\n",
      "Test  f2 score: 0.719705 +/- 0.125174\n"
     ]
    },
    {
     "name": "stderr",
     "output_type": "stream",
     "text": [
      "C:\\Users\\Simeon\\Anaconda3\\envs\\First\\lib\\site-packages\\sklearn\\utils\\deprecation.py:125: FutureWarning: You are accessing a training score ('train_score'), which will not be available by default any more in 0.21. If you need training scores, please set return_train_score=True\n",
      "  warnings.warn(*warn_args, **warn_kwargs)\n"
     ]
    }
   ],
   "source": [
    "cv = cross_validate(Ridge(alpha=20),\n",
    "                    selector_dt_100.transform(X_train_all),\n",
    "                    y_train_lsa, cv=5)\n",
    "print('Train r2 score: %f +/- %f'%(cv['train_score'].mean(), cv['train_score'].std()))\n",
    "print('Test  f2 score: %f +/- %f'%(cv['test_score'].mean(), cv['test_score'].std()))"
   ]
  },
  {
   "cell_type": "code",
   "execution_count": 532,
   "metadata": {},
   "outputs": [
    {
     "name": "stdout",
     "output_type": "stream",
     "text": [
      "Train r2 score: 0.780929 +/- 0.023510\n",
      "Test  f2 score: 0.727683 +/- 0.129335\n"
     ]
    },
    {
     "name": "stderr",
     "output_type": "stream",
     "text": [
      "C:\\Users\\Simeon\\Anaconda3\\envs\\First\\lib\\site-packages\\sklearn\\utils\\deprecation.py:125: FutureWarning: You are accessing a training score ('train_score'), which will not be available by default any more in 0.21. If you need training scores, please set return_train_score=True\n",
      "  warnings.warn(*warn_args, **warn_kwargs)\n"
     ]
    }
   ],
   "source": [
    "cv = cross_validate(Ridge(alpha=90),\n",
    "                    selector_dt_50.transform(X_train_all),\n",
    "                    y_train_lsa, cv=5)\n",
    "print('Train r2 score: %f +/- %f'%(cv['train_score'].mean(), cv['train_score'].std()))\n",
    "print('Test  f2 score: %f +/- %f'%(cv['test_score'].mean(), cv['test_score'].std()))"
   ]
  },
  {
   "cell_type": "code",
   "execution_count": 466,
   "metadata": {},
   "outputs": [
    {
     "name": "stdout",
     "output_type": "stream",
     "text": [
      "Train r2 score: 0.779536 +/- 0.023144\n",
      "Test  f2 score: 0.726353 +/- 0.127733\n"
     ]
    },
    {
     "name": "stderr",
     "output_type": "stream",
     "text": [
      "C:\\Users\\Simeon\\Anaconda3\\envs\\First\\lib\\site-packages\\sklearn\\utils\\deprecation.py:125: FutureWarning: You are accessing a training score ('train_score'), which will not be available by default any more in 0.21. If you need training scores, please set return_train_score=True\n",
      "  warnings.warn(*warn_args, **warn_kwargs)\n"
     ]
    }
   ],
   "source": [
    "cv = cross_validate(Ridge(alpha=20),\n",
    "                    sfm_dt_mean.transform(X_train_all),\n",
    "                    y_train_lsa, cv=5)\n",
    "print('Train r2 score: %f +/- %f'%(cv['train_score'].mean(), cv['train_score'].std()))\n",
    "print('Test  f2 score: %f +/- %f'%(cv['test_score'].mean(), cv['test_score'].std()))"
   ]
  },
  {
   "cell_type": "code",
   "execution_count": 533,
   "metadata": {},
   "outputs": [
    {
     "name": "stdout",
     "output_type": "stream",
     "text": [
      "Train r2 score: 0.775467 +/- 0.022652\n",
      "Test  f2 score: 0.730903 +/- 0.123161\n"
     ]
    },
    {
     "name": "stderr",
     "output_type": "stream",
     "text": [
      "C:\\Users\\Simeon\\Anaconda3\\envs\\First\\lib\\site-packages\\sklearn\\utils\\deprecation.py:125: FutureWarning: You are accessing a training score ('train_score'), which will not be available by default any more in 0.21. If you need training scores, please set return_train_score=True\n",
      "  warnings.warn(*warn_args, **warn_kwargs)\n"
     ]
    }
   ],
   "source": [
    "cv = cross_validate(Ridge(alpha=60),\n",
    "                    sfm_dt_mean_depth5.transform(X_train_all),\n",
    "                    y_train_lsa, cv=5)\n",
    "print('Train r2 score: %f +/- %f'%(cv['train_score'].mean(), cv['train_score'].std()))\n",
    "print('Test  f2 score: %f +/- %f'%(cv['test_score'].mean(), cv['test_score'].std()))"
   ]
  },
  {
   "cell_type": "code",
   "execution_count": 534,
   "metadata": {},
   "outputs": [
    {
     "name": "stdout",
     "output_type": "stream",
     "text": [
      "Train r2 score: 0.785934 +/- 0.022530\n",
      "Test  f2 score: 0.720819 +/- 0.123618\n"
     ]
    },
    {
     "name": "stderr",
     "output_type": "stream",
     "text": [
      "C:\\Users\\Simeon\\Anaconda3\\envs\\First\\lib\\site-packages\\sklearn\\utils\\deprecation.py:125: FutureWarning: You are accessing a training score ('train_score'), which will not be available by default any more in 0.21. If you need training scores, please set return_train_score=True\n",
      "  warnings.warn(*warn_args, **warn_kwargs)\n"
     ]
    }
   ],
   "source": [
    "cv = cross_validate(Lasso(alpha=100),\n",
    "                    selector_dt_50.transform(X_train_all),\n",
    "                    y_train_lsa, cv=5)\n",
    "print('Train r2 score: %f +/- %f'%(cv['train_score'].mean(), cv['train_score'].std()))\n",
    "print('Test  f2 score: %f +/- %f'%(cv['test_score'].mean(), cv['test_score'].std()))"
   ]
  },
  {
   "cell_type": "code",
   "execution_count": 535,
   "metadata": {},
   "outputs": [],
   "source": [
    "sc_dt50 = StandardScaler()\n",
    "x_train_all_dt50_sd = sc_dt50.fit_transform(selector_dt_50.transform(X_train_all))"
   ]
  },
  {
   "cell_type": "code",
   "execution_count": 555,
   "metadata": {},
   "outputs": [
    {
     "name": "stdout",
     "output_type": "stream",
     "text": [
      "Train r2 score: 0.782168 +/- 0.023452\n",
      "Test  f2 score: 0.722547 +/- 0.129681\n"
     ]
    },
    {
     "name": "stderr",
     "output_type": "stream",
     "text": [
      "C:\\Users\\Simeon\\Anaconda3\\envs\\First\\lib\\site-packages\\sklearn\\utils\\deprecation.py:125: FutureWarning: You are accessing a training score ('train_score'), which will not be available by default any more in 0.21. If you need training scores, please set return_train_score=True\n",
      "  warnings.warn(*warn_args, **warn_kwargs)\n"
     ]
    }
   ],
   "source": [
    "cv = cross_validate(Ridge(alpha=100),\n",
    "                    x_train_all_dt50_sd,\n",
    "                    y_train_lsa, cv=5)\n",
    "print('Train r2 score: %f +/- %f'%(cv['train_score'].mean(), cv['train_score'].std()))\n",
    "print('Test  f2 score: %f +/- %f'%(cv['test_score'].mean(), cv['test_score'].std()))"
   ]
  },
  {
   "cell_type": "code",
   "execution_count": 570,
   "metadata": {},
   "outputs": [
    {
     "name": "stdout",
     "output_type": "stream",
     "text": [
      "Train r2 score: 0.796789 +/- 0.022508\n",
      "Test  f2 score: 0.734212 +/- 0.127380\n"
     ]
    },
    {
     "name": "stderr",
     "output_type": "stream",
     "text": [
      "C:\\Users\\Simeon\\Anaconda3\\envs\\First\\lib\\site-packages\\sklearn\\utils\\deprecation.py:125: FutureWarning: You are accessing a training score ('train_score'), which will not be available by default any more in 0.21. If you need training scores, please set return_train_score=True\n",
      "  warnings.warn(*warn_args, **warn_kwargs)\n"
     ]
    }
   ],
   "source": [
    "cv = cross_validate(Ridge(alpha=60),\n",
    "                    sfm_lasso_mean.transform(x_train_all_sd),\n",
    "                    y_train_lsa, cv=5)\n",
    "print('Train r2 score: %f +/- %f'%(cv['train_score'].mean(), cv['train_score'].std()))\n",
    "print('Test  f2 score: %f +/- %f'%(cv['test_score'].mean(), cv['test_score'].std()))"
   ]
  },
  {
   "cell_type": "code",
   "execution_count": 567,
   "metadata": {},
   "outputs": [
    {
     "name": "stdout",
     "output_type": "stream",
     "text": [
      "Train r2 score: 0.806741 +/- 0.021336\n",
      "Test  f2 score: 0.732694 +/- 0.124802\n"
     ]
    },
    {
     "name": "stderr",
     "output_type": "stream",
     "text": [
      "C:\\Users\\Simeon\\Anaconda3\\envs\\First\\lib\\site-packages\\sklearn\\utils\\deprecation.py:125: FutureWarning: You are accessing a training score ('train_score'), which will not be available by default any more in 0.21. If you need training scores, please set return_train_score=True\n",
      "  warnings.warn(*warn_args, **warn_kwargs)\n"
     ]
    }
   ],
   "source": [
    "cv = cross_validate(Ridge(alpha=40),\n",
    "                    selector_lasso_50.transform(x_train_all_sd),\n",
    "                    y_train_lsa, cv=5)\n",
    "print('Train r2 score: %f +/- %f'%(cv['train_score'].mean(), cv['train_score'].std()))\n",
    "print('Test  f2 score: %f +/- %f'%(cv['test_score'].mean(), cv['test_score'].std()))"
   ]
  },
  {
   "cell_type": "code",
   "execution_count": 549,
   "metadata": {},
   "outputs": [],
   "source": [
    "model = Sequential()\n",
    "model.add(layers.Dense(10, activation='relu'))\n",
    "model.add(layers.Dense(1))\n",
    "\n",
    "model.compile(optimizer='rmsprop',\n",
    "             loss='mean_squared_error',\n",
    "             metrics=['mae'])"
   ]
  },
  {
   "cell_type": "code",
   "execution_count": 550,
   "metadata": {},
   "outputs": [],
   "source": [
    "x_train_all_lasso_sd = sfm_lasso_mean.transform(x_train_all_sd)"
   ]
  },
  {
   "cell_type": "code",
   "execution_count": 552,
   "metadata": {
    "scrolled": true
   },
   "outputs": [
    {
     "name": "stdout",
     "output_type": "stream",
     "text": [
      "Train on 1571 samples, validate on 393 samples\n",
      "Epoch 1/30\n",
      "1571/1571 [==============================] - 0s 318us/step - loss: 8022975330485.2051 - mean_absolute_error: 1705809.2924 - val_loss: 15281455408834.1172 - val_mean_absolute_error: 1876982.8941\n",
      "Epoch 2/30\n",
      "1571/1571 [==============================] - 0s 301us/step - loss: 8022965268393.9609 - mean_absolute_error: 1705807.1511 - val_loss: 15281443524305.7500 - val_mean_absolute_error: 1876980.6953\n",
      "Epoch 3/30\n",
      "1571/1571 [==============================] - 0s 297us/step - loss: 8022954841203.3711 - mean_absolute_error: 1705804.8234 - val_loss: 15281430337061.7812 - val_mean_absolute_error: 1876978.2239\n",
      "Epoch 4/30\n",
      "1571/1571 [==============================] - 0s 293us/step - loss: 8022943346247.3740 - mean_absolute_error: 1705802.1921 - val_loss: 15281415764723.6230 - val_mean_absolute_error: 1876975.5184\n",
      "Epoch 5/30\n",
      "1571/1571 [==============================] - 0s 267us/step - loss: 8022929807327.4102 - mean_absolute_error: 1705799.1979 - val_loss: 15281400703116.7031 - val_mean_absolute_error: 1876972.5668\n",
      "Epoch 6/30\n",
      "1571/1571 [==============================] - 0s 299us/step - loss: 8022916574937.3809 - mean_absolute_error: 1705796.1069 - val_loss: 15281383665424.2852 - val_mean_absolute_error: 1876969.2083\n",
      "Epoch 7/30\n",
      "1571/1571 [==============================] - 0s 295us/step - loss: 8022900049358.1357 - mean_absolute_error: 1705792.4052 - val_loss: 15281365328351.4297 - val_mean_absolute_error: 1876965.4761\n",
      "Epoch 8/30\n",
      "1571/1571 [==============================] - 1s 329us/step - loss: 8022883851323.3154 - mean_absolute_error: 1705788.3616 - val_loss: 15281344390516.5996 - val_mean_absolute_error: 1876961.1428\n",
      "Epoch 9/30\n",
      "1571/1571 [==============================] - 0s 280us/step - loss: 8022863019218.5352 - mean_absolute_error: 1705783.4908 - val_loss: 15281321863808.9766 - val_mean_absolute_error: 1876956.2074\n",
      "Epoch 10/30\n",
      "1571/1571 [==============================] - 0s 286us/step - loss: 8022841592638.4111 - mean_absolute_error: 1705778.1741 - val_loss: 15281296559242.0977 - val_mean_absolute_error: 1876950.8979\n",
      "Epoch 11/30\n",
      "1571/1571 [==============================] - 0s 286us/step - loss: 8022817035222.9355 - mean_absolute_error: 1705772.2441 - val_loss: 15281269332619.4004 - val_mean_absolute_error: 1876944.8766\n",
      "Epoch 12/30\n",
      "1571/1571 [==============================] - 0s 299us/step - loss: 8022792320099.7275 - mean_absolute_error: 1705765.8632 - val_loss: 15281240308009.0391 - val_mean_absolute_error: 1876938.2681\n",
      "Epoch 13/30\n",
      "1571/1571 [==============================] - 0s 286us/step - loss: 8022760785394.6377 - mean_absolute_error: 1705758.3509 - val_loss: 15281208971128.5098 - val_mean_absolute_error: 1876931.0767\n",
      "Epoch 14/30\n",
      "1571/1571 [==============================] - 0s 279us/step - loss: 8022729655168.8955 - mean_absolute_error: 1705750.4858 - val_loss: 15281174931763.4609 - val_mean_absolute_error: 1876923.1495\n",
      "Epoch 15/30\n",
      "1571/1571 [==============================] - 1s 329us/step - loss: 8022695301539.7686 - mean_absolute_error: 1705741.8552 - val_loss: 15281138296305.6699 - val_mean_absolute_error: 1876914.6590\n",
      "Epoch 16/30\n",
      "1571/1571 [==============================] - 1s 368us/step - loss: 8022659446986.0625 - mean_absolute_error: 1705732.6667 - val_loss: 15281101449064.8750 - val_mean_absolute_error: 1876905.8330\n",
      "Epoch 17/30\n",
      "1571/1571 [==============================] - 0s 291us/step - loss: 8022621465161.3291 - mean_absolute_error: 1705723.0164 - val_loss: 15281061045870.7383 - val_mean_absolute_error: 1876896.1492\n",
      "Epoch 18/30\n",
      "1571/1571 [==============================] - 0s 293us/step - loss: 8022581406020.6035 - mean_absolute_error: 1705712.5928 - val_loss: 15281018660254.2910 - val_mean_absolute_error: 1876885.7751\n",
      "Epoch 19/30\n",
      "1571/1571 [==============================] - 1s 377us/step - loss: 8022537232211.9209 - mean_absolute_error: 1705701.4224 - val_loss: 15280971681781.5781 - val_mean_absolute_error: 1876874.7284\n",
      "Epoch 20/30\n",
      "1571/1571 [==============================] - 1s 402us/step - loss: 8022488385198.3604 - mean_absolute_error: 1705689.3686 - val_loss: 15280924287747.2578 - val_mean_absolute_error: 1876863.3031\n",
      "Epoch 21/30\n",
      "1571/1571 [==============================] - 0s 273us/step - loss: 8022438934886.4971 - mean_absolute_error: 1705676.9018 - val_loss: 15280872817140.2754 - val_mean_absolute_error: 1876851.1174\n",
      "Epoch 22/30\n",
      "1571/1571 [==============================] - 0s 301us/step - loss: 8022386396790.3037 - mean_absolute_error: 1705663.6890 - val_loss: 15280822559866.4629 - val_mean_absolute_error: 1876838.2729\n",
      "Epoch 23/30\n",
      "1571/1571 [==============================] - 0s 280us/step - loss: 8022336197215.4912 - mean_absolute_error: 1705650.4843 - val_loss: 15280772665458.6465 - val_mean_absolute_error: 1876825.5423\n",
      "Epoch 24/30\n",
      "1571/1571 [==============================] - 0s 291us/step - loss: 8022278985914.4189 - mean_absolute_error: 1705636.1385 - val_loss: 15280713619356.9863 - val_mean_absolute_error: 1876811.5302\n",
      "Epoch 25/30\n",
      "1571/1571 [==============================] - 0s 267us/step - loss: 8022214393782.9961 - mean_absolute_error: 1705620.5825 - val_loss: 15280655056520.7930 - val_mean_absolute_error: 1876797.0312\n",
      "Epoch 26/30\n",
      "1571/1571 [==============================] - 0s 259us/step - loss: 8022154935902.8389 - mean_absolute_error: 1705605.2630 - val_loss: 15280595276015.7148 - val_mean_absolute_error: 1876782.0741\n",
      "Epoch 27/30\n",
      "1571/1571 [==============================] - 0s 294us/step - loss: 8022087630597.7031 - mean_absolute_error: 1705588.6893 - val_loss: 15280529727008.5703 - val_mean_absolute_error: 1876766.1409\n",
      "Epoch 28/30\n",
      "1571/1571 [==============================] - 0s 292us/step - loss: 8022025023985.9863 - mean_absolute_error: 1705572.2916 - val_loss: 15280463078730.9102 - val_mean_absolute_error: 1876749.8588\n",
      "Epoch 29/30\n",
      "1571/1571 [==============================] - 0s 291us/step - loss: 8021956035436.0381 - mean_absolute_error: 1705554.8269 - val_loss: 15280395473594.3008 - val_mean_absolute_error: 1876733.0254\n",
      "Epoch 30/30\n",
      "1571/1571 [==============================] - 0s 253us/step - loss: 8021880036870.1924 - mean_absolute_error: 1705536.3484 - val_loss: 15280325005218.1992 - val_mean_absolute_error: 1876715.5528\n"
     ]
    }
   ],
   "source": [
    "history = model.fit(x_train_all_lasso_sd, y_train_lsa,\n",
    "                    epochs=30,\n",
    "                    batch_size=10,\n",
    "                    validation_split=0.2)"
   ]
  },
  {
   "cell_type": "markdown",
   "metadata": {},
   "source": [
    "# Hyper parameters tuning for Ridge "
   ]
  },
  {
   "cell_type": "code",
   "execution_count": 572,
   "metadata": {},
   "outputs": [],
   "source": [
    "x_train_all__las_m = sfm_lasso_mean.transform(x_train_all_sd)"
   ]
  },
  {
   "cell_type": "code",
   "execution_count": 577,
   "metadata": {},
   "outputs": [
    {
     "data": {
      "text/plain": [
       "(1964, 28)"
      ]
     },
     "execution_count": 577,
     "metadata": {},
     "output_type": "execute_result"
    }
   ],
   "source": [
    "x_train_all__las_m.shape"
   ]
  },
  {
   "cell_type": "code",
   "execution_count": 515,
   "metadata": {},
   "outputs": [],
   "source": [
    "param_grid = {'alpha': [10, 30, 60, 90, 120, 150],\n",
    " 'solver': ['svd', 'cholesky', 'lsqr', 'sparse_cg', 'sag', 'saga'],\n",
    "}"
   ]
  },
  {
   "cell_type": "code",
   "execution_count": 578,
   "metadata": {},
   "outputs": [
    {
     "data": {
      "text/plain": [
       "GridSearchCV(cv=5, error_score='raise-deprecating',\n",
       "       estimator=Ridge(alpha=1.0, copy_X=True, fit_intercept=True, max_iter=None,\n",
       "   normalize=False, random_state=None, solver='auto', tol=0.001),\n",
       "       fit_params=None, iid='warn', n_jobs=None,\n",
       "       param_grid={'alpha': [10, 30, 60, 90, 120, 150], 'solver': ['svd', 'cholesky', 'lsqr', 'sparse_cg', 'sag', 'saga']},\n",
       "       pre_dispatch='2*n_jobs', refit=True, return_train_score='warn',\n",
       "       scoring='neg_mean_squared_error', verbose=0)"
      ]
     },
     "execution_count": 578,
     "metadata": {},
     "output_type": "execute_result"
    }
   ],
   "source": [
    "ridge = Ridge()\n",
    "grid_search = GridSearchCV(ridge, param_grid, cv=5,\n",
    "scoring='neg_mean_squared_error')\n",
    "grid_search.fit(x_train_all__las_m, y_train_lsa)"
   ]
  },
  {
   "cell_type": "code",
   "execution_count": 581,
   "metadata": {},
   "outputs": [
    {
     "data": {
      "text/plain": [
       "{'alpha': 60, 'solver': 'saga'}"
      ]
     },
     "execution_count": 581,
     "metadata": {},
     "output_type": "execute_result"
    }
   ],
   "source": [
    "grid_search.best_params_"
   ]
  },
  {
   "cell_type": "code",
   "execution_count": 582,
   "metadata": {},
   "outputs": [
    {
     "name": "stdout",
     "output_type": "stream",
     "text": [
      "Train r2 score: 0.796771 +/- 0.022505\n",
      "Test  f2 score: 0.734239 +/- 0.127347\n"
     ]
    },
    {
     "name": "stderr",
     "output_type": "stream",
     "text": [
      "C:\\Users\\Simeon\\Anaconda3\\envs\\First\\lib\\site-packages\\sklearn\\utils\\deprecation.py:125: FutureWarning: You are accessing a training score ('train_score'), which will not be available by default any more in 0.21. If you need training scores, please set return_train_score=True\n",
      "  warnings.warn(*warn_args, **warn_kwargs)\n"
     ]
    }
   ],
   "source": [
    "cv = cross_validate(Ridge(alpha=60, solver='saga'),\n",
    "                    x_train_all__las_m,\n",
    "                    y_train_lsa, cv=5)\n",
    "print('Train r2 score: %f +/- %f'%(cv['train_score'].mean(), cv['train_score'].std()))\n",
    "print('Test  f2 score: %f +/- %f'%(cv['test_score'].mean(), cv['test_score'].std()))"
   ]
  },
  {
   "cell_type": "code",
   "execution_count": 584,
   "metadata": {},
   "outputs": [],
   "source": [
    "final_ridge = Ridge(alpha=60, solver='saga').fit(x_train_all__las_m, y_train_lsa)"
   ]
  },
  {
   "cell_type": "code",
   "execution_count": 585,
   "metadata": {},
   "outputs": [
    {
     "name": "stderr",
     "output_type": "stream",
     "text": [
      "C:\\Users\\Simeon\\Anaconda3\\envs\\First\\lib\\site-packages\\ipykernel_launcher.py:1: DataConversionWarning: Data with input dtype float32, int32, int64, float64 were all converted to float64 by StandardScaler.\n",
      "  \"\"\"Entry point for launching an IPython kernel.\n"
     ]
    }
   ],
   "source": [
    "X_test_all_sd = sc_dt_all.transform(X_test_all)"
   ]
  },
  {
   "cell_type": "code",
   "execution_count": 586,
   "metadata": {},
   "outputs": [],
   "source": [
    "x_test_all__las_m = sfm_lasso_mean.transform(X_test_all_sd)"
   ]
  },
  {
   "cell_type": "code",
   "execution_count": 587,
   "metadata": {},
   "outputs": [
    {
     "data": {
      "text/plain": [
       "0.7582614716540691"
      ]
     },
     "execution_count": 587,
     "metadata": {},
     "output_type": "execute_result"
    }
   ],
   "source": [
    "final_ridge.score(X=x_test_all__las_m,y=y_test_lsa)"
   ]
  },
  {
   "cell_type": "markdown",
   "metadata": {},
   "source": [
    "## Final r2 score on the test set : 0.758"
   ]
  }
 ],
 "metadata": {
  "kernelspec": {
   "display_name": "Python 3",
   "language": "python",
   "name": "python3"
  },
  "language_info": {
   "codemirror_mode": {
    "name": "ipython",
    "version": 3
   },
   "file_extension": ".py",
   "mimetype": "text/x-python",
   "name": "python",
   "nbconvert_exporter": "python",
   "pygments_lexer": "ipython3",
   "version": "3.6.6"
  }
 },
 "nbformat": 4,
 "nbformat_minor": 2
}
